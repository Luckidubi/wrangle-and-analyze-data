{
 "cells": [
  {
   "cell_type": "markdown",
   "metadata": {
    "extensions": {
     "jupyter_dashboards": {
      "version": 1,
      "views": {
       "grid_default": {
        "col": 0,
        "height": 4,
        "hidden": false,
        "row": 0,
        "width": 4
       },
       "report_default": {
        "hidden": false
       }
      }
     }
    }
   },
   "source": [
    "# Project: Wrangling and Analyze Data"
   ]
  },
  {
   "cell_type": "markdown",
   "metadata": {},
   "source": [
    "## Data Gathering"
   ]
  },
  {
   "cell_type": "code",
   "execution_count": 152,
   "metadata": {
    "extensions": {
     "jupyter_dashboards": {
      "version": 1,
      "views": {
       "grid_default": {
        "hidden": true
       },
       "report_default": {
        "hidden": true
       }
      }
     }
    }
   },
   "outputs": [],
   "source": [
    "import pandas as pd\n",
    "import numpy as np\n",
    "import requests\n",
    "import tweepy\n",
    "from tweepy import OAuthHandler\n",
    "from timeit import default_timer as timer\n",
    "from IPython.display import Image\n",
    "import os\n",
    "import json\n",
    "import re\n",
    "import plotly.express as px"
   ]
  },
  {
   "cell_type": "code",
   "execution_count": 2,
   "metadata": {},
   "outputs": [],
   "source": [
    "# Loading the twitter dataset in a dataframe\n",
    "df_tweet = pd.read_csv('twitter-archive-enhanced.csv')"
   ]
  },
  {
   "cell_type": "code",
   "execution_count": 3,
   "metadata": {},
   "outputs": [],
   "source": [
    "# Create a new folder if no folder exists\n",
    "folder_name = 'my_project'\n",
    "if not os.path.exists(folder_name):\n",
    "    os.mkdir(folder_name)"
   ]
  },
  {
   "cell_type": "markdown",
   "metadata": {},
   "source": [
    "### Downloading the image predictions file from the internet using request library"
   ]
  },
  {
   "cell_type": "code",
   "execution_count": 4,
   "metadata": {},
   "outputs": [],
   "source": [
    "url = 'https://d17h27t6h515a5.cloudfront.net/topher/2017/August/599fd2ad_image-predictions/image-predictions.tsv'\n",
    "response = requests.get(url)\n",
    "with open(os.path.join(folder_name, url.split('/')[-1]), mode='wb') as file:\n",
    "    file.write(response.content)"
   ]
  },
  {
   "cell_type": "markdown",
   "metadata": {},
   "source": [
    "### Loading the downloaded image file into a dataframe"
   ]
  },
  {
   "cell_type": "code",
   "execution_count": 5,
   "metadata": {},
   "outputs": [],
   "source": [
    "df_image_prediction = pd.read_csv('my_project/image-predictions.tsv', sep='\\t')"
   ]
  },
  {
   "cell_type": "markdown",
   "metadata": {},
   "source": [
    "## Accessing Data from twitter Api"
   ]
  },
  {
   "cell_type": "code",
   "execution_count": 6,
   "metadata": {},
   "outputs": [],
   "source": [
    "consumer_key =  'HIDDEN' #Api_key\n",
    "consumer_secret = 'HIDDEN' #Api_key_secret\n",
    "access_token = 'HIDDEN' \n",
    "access_secret = 'HIDDEN'"
   ]
  },
  {
   "cell_type": "raw",
   "metadata": {},
   "source": [
    "# Connecting to the Twitter api\n",
    "auth = OAuthHandler(consumer_key, consumer_secret)\n",
    "\n",
    "auth.set_access_token(access_token, access_secret)\n",
    "\n",
    "api = tweepy.API(auth, wait_on_rate_limit=True)"
   ]
  },
  {
   "cell_type": "raw",
   "metadata": {},
   "source": [
    "count = 0\n",
    "fails_dict = {}\n",
    "start = timer()\n",
    "### Save each tweet's returned JSON as a new line in a .txt file\n",
    "with open('tweet_json.txt', 'w') as outfile:\n",
    "    # This loop will likely take 20-30 minutes to run because of Twitter's rate limit\n",
    "    for tweet_id in tweet_ids:\n",
    "        count += 1\n",
    "        print(str(count) + \": \" + str(tweet_id))\n",
    "        try:\n",
    "            tweet = api.get_status(tweet_id, tweet_mode='extended')\n",
    "            print(\"Success\")\n",
    "            json.dump(tweet._json, outfile)\n",
    "            outfile.write('\\n')\n",
    "        except tweepy.errors.TweepyException as e:\n",
    "            print(\"Fail\")\n",
    "            fails_dict[tweet_id] = e\n",
    "            pass\n",
    "end = timer()\n",
    "print(end - start)\n",
    "print(fails_dict)"
   ]
  },
  {
   "cell_type": "markdown",
   "metadata": {},
   "source": [
    "### Reading the tweet_json file retrieved from twitter api into an empty list"
   ]
  },
  {
   "cell_type": "code",
   "execution_count": 7,
   "metadata": {},
   "outputs": [],
   "source": [
    "df_tweet_list = []\n",
    "\n",
    "with open('tweet_json.txt', 'r') as file:\n",
    "    for line in file:\n",
    "        data = json.loads(line)\n",
    "        tweet_id = data['id']\n",
    "        retweet_count = data['retweet_count']\n",
    "        favorite_count = data['favorite_count']\n",
    "        df_tweet_list.append({\n",
    "        \"tweet_id\" : tweet_id,\n",
    "        \"retweet_count\" : retweet_count,\n",
    "        \"favorite_count\" : favorite_count\n",
    "          })\n",
    "              "
   ]
  },
  {
   "cell_type": "markdown",
   "metadata": {},
   "source": [
    "### Loading the tweet list into a dataframe"
   ]
  },
  {
   "cell_type": "code",
   "execution_count": 8,
   "metadata": {},
   "outputs": [],
   "source": [
    "df_tweet_api = pd.DataFrame(df_tweet_list, columns=['tweet_id', 'retweet_count', 'favorite_count'])"
   ]
  },
  {
   "cell_type": "markdown",
   "metadata": {
    "extensions": {
     "jupyter_dashboards": {
      "version": 1,
      "views": {
       "grid_default": {
        "col": 4,
        "height": 4,
        "hidden": false,
        "row": 28,
        "width": 4
       },
       "report_default": {
        "hidden": false
       }
      }
     }
    }
   },
   "source": [
    "## Assessing Data"
   ]
  },
  {
   "cell_type": "code",
   "execution_count": 9,
   "metadata": {
    "scrolled": false
   },
   "outputs": [
    {
     "data": {
      "text/html": [
       "<div>\n",
       "<style scoped>\n",
       "    .dataframe tbody tr th:only-of-type {\n",
       "        vertical-align: middle;\n",
       "    }\n",
       "\n",
       "    .dataframe tbody tr th {\n",
       "        vertical-align: top;\n",
       "    }\n",
       "\n",
       "    .dataframe thead th {\n",
       "        text-align: right;\n",
       "    }\n",
       "</style>\n",
       "<table border=\"1\" class=\"dataframe\">\n",
       "  <thead>\n",
       "    <tr style=\"text-align: right;\">\n",
       "      <th></th>\n",
       "      <th>tweet_id</th>\n",
       "      <th>in_reply_to_status_id</th>\n",
       "      <th>in_reply_to_user_id</th>\n",
       "      <th>timestamp</th>\n",
       "      <th>source</th>\n",
       "      <th>text</th>\n",
       "      <th>retweeted_status_id</th>\n",
       "      <th>retweeted_status_user_id</th>\n",
       "      <th>retweeted_status_timestamp</th>\n",
       "      <th>expanded_urls</th>\n",
       "      <th>rating_numerator</th>\n",
       "      <th>rating_denominator</th>\n",
       "      <th>name</th>\n",
       "      <th>doggo</th>\n",
       "      <th>floofer</th>\n",
       "      <th>pupper</th>\n",
       "      <th>puppo</th>\n",
       "    </tr>\n",
       "  </thead>\n",
       "  <tbody>\n",
       "    <tr>\n",
       "      <th>0</th>\n",
       "      <td>892420643555336193</td>\n",
       "      <td>NaN</td>\n",
       "      <td>NaN</td>\n",
       "      <td>2017-08-01 16:23:56 +0000</td>\n",
       "      <td>&lt;a href=\"http://twitter.com/download/iphone\" r...</td>\n",
       "      <td>This is Phineas. He's a mystical boy. Only eve...</td>\n",
       "      <td>NaN</td>\n",
       "      <td>NaN</td>\n",
       "      <td>NaN</td>\n",
       "      <td>https://twitter.com/dog_rates/status/892420643...</td>\n",
       "      <td>13</td>\n",
       "      <td>10</td>\n",
       "      <td>Phineas</td>\n",
       "      <td>None</td>\n",
       "      <td>None</td>\n",
       "      <td>None</td>\n",
       "      <td>None</td>\n",
       "    </tr>\n",
       "    <tr>\n",
       "      <th>1</th>\n",
       "      <td>892177421306343426</td>\n",
       "      <td>NaN</td>\n",
       "      <td>NaN</td>\n",
       "      <td>2017-08-01 00:17:27 +0000</td>\n",
       "      <td>&lt;a href=\"http://twitter.com/download/iphone\" r...</td>\n",
       "      <td>This is Tilly. She's just checking pup on you....</td>\n",
       "      <td>NaN</td>\n",
       "      <td>NaN</td>\n",
       "      <td>NaN</td>\n",
       "      <td>https://twitter.com/dog_rates/status/892177421...</td>\n",
       "      <td>13</td>\n",
       "      <td>10</td>\n",
       "      <td>Tilly</td>\n",
       "      <td>None</td>\n",
       "      <td>None</td>\n",
       "      <td>None</td>\n",
       "      <td>None</td>\n",
       "    </tr>\n",
       "    <tr>\n",
       "      <th>2</th>\n",
       "      <td>891815181378084864</td>\n",
       "      <td>NaN</td>\n",
       "      <td>NaN</td>\n",
       "      <td>2017-07-31 00:18:03 +0000</td>\n",
       "      <td>&lt;a href=\"http://twitter.com/download/iphone\" r...</td>\n",
       "      <td>This is Archie. He is a rare Norwegian Pouncin...</td>\n",
       "      <td>NaN</td>\n",
       "      <td>NaN</td>\n",
       "      <td>NaN</td>\n",
       "      <td>https://twitter.com/dog_rates/status/891815181...</td>\n",
       "      <td>12</td>\n",
       "      <td>10</td>\n",
       "      <td>Archie</td>\n",
       "      <td>None</td>\n",
       "      <td>None</td>\n",
       "      <td>None</td>\n",
       "      <td>None</td>\n",
       "    </tr>\n",
       "    <tr>\n",
       "      <th>3</th>\n",
       "      <td>891689557279858688</td>\n",
       "      <td>NaN</td>\n",
       "      <td>NaN</td>\n",
       "      <td>2017-07-30 15:58:51 +0000</td>\n",
       "      <td>&lt;a href=\"http://twitter.com/download/iphone\" r...</td>\n",
       "      <td>This is Darla. She commenced a snooze mid meal...</td>\n",
       "      <td>NaN</td>\n",
       "      <td>NaN</td>\n",
       "      <td>NaN</td>\n",
       "      <td>https://twitter.com/dog_rates/status/891689557...</td>\n",
       "      <td>13</td>\n",
       "      <td>10</td>\n",
       "      <td>Darla</td>\n",
       "      <td>None</td>\n",
       "      <td>None</td>\n",
       "      <td>None</td>\n",
       "      <td>None</td>\n",
       "    </tr>\n",
       "    <tr>\n",
       "      <th>4</th>\n",
       "      <td>891327558926688256</td>\n",
       "      <td>NaN</td>\n",
       "      <td>NaN</td>\n",
       "      <td>2017-07-29 16:00:24 +0000</td>\n",
       "      <td>&lt;a href=\"http://twitter.com/download/iphone\" r...</td>\n",
       "      <td>This is Franklin. He would like you to stop ca...</td>\n",
       "      <td>NaN</td>\n",
       "      <td>NaN</td>\n",
       "      <td>NaN</td>\n",
       "      <td>https://twitter.com/dog_rates/status/891327558...</td>\n",
       "      <td>12</td>\n",
       "      <td>10</td>\n",
       "      <td>Franklin</td>\n",
       "      <td>None</td>\n",
       "      <td>None</td>\n",
       "      <td>None</td>\n",
       "      <td>None</td>\n",
       "    </tr>\n",
       "    <tr>\n",
       "      <th>...</th>\n",
       "      <td>...</td>\n",
       "      <td>...</td>\n",
       "      <td>...</td>\n",
       "      <td>...</td>\n",
       "      <td>...</td>\n",
       "      <td>...</td>\n",
       "      <td>...</td>\n",
       "      <td>...</td>\n",
       "      <td>...</td>\n",
       "      <td>...</td>\n",
       "      <td>...</td>\n",
       "      <td>...</td>\n",
       "      <td>...</td>\n",
       "      <td>...</td>\n",
       "      <td>...</td>\n",
       "      <td>...</td>\n",
       "      <td>...</td>\n",
       "    </tr>\n",
       "    <tr>\n",
       "      <th>2351</th>\n",
       "      <td>666049248165822465</td>\n",
       "      <td>NaN</td>\n",
       "      <td>NaN</td>\n",
       "      <td>2015-11-16 00:24:50 +0000</td>\n",
       "      <td>&lt;a href=\"http://twitter.com/download/iphone\" r...</td>\n",
       "      <td>Here we have a 1949 1st generation vulpix. Enj...</td>\n",
       "      <td>NaN</td>\n",
       "      <td>NaN</td>\n",
       "      <td>NaN</td>\n",
       "      <td>https://twitter.com/dog_rates/status/666049248...</td>\n",
       "      <td>5</td>\n",
       "      <td>10</td>\n",
       "      <td>None</td>\n",
       "      <td>None</td>\n",
       "      <td>None</td>\n",
       "      <td>None</td>\n",
       "      <td>None</td>\n",
       "    </tr>\n",
       "    <tr>\n",
       "      <th>2352</th>\n",
       "      <td>666044226329800704</td>\n",
       "      <td>NaN</td>\n",
       "      <td>NaN</td>\n",
       "      <td>2015-11-16 00:04:52 +0000</td>\n",
       "      <td>&lt;a href=\"http://twitter.com/download/iphone\" r...</td>\n",
       "      <td>This is a purebred Piers Morgan. Loves to Netf...</td>\n",
       "      <td>NaN</td>\n",
       "      <td>NaN</td>\n",
       "      <td>NaN</td>\n",
       "      <td>https://twitter.com/dog_rates/status/666044226...</td>\n",
       "      <td>6</td>\n",
       "      <td>10</td>\n",
       "      <td>a</td>\n",
       "      <td>None</td>\n",
       "      <td>None</td>\n",
       "      <td>None</td>\n",
       "      <td>None</td>\n",
       "    </tr>\n",
       "    <tr>\n",
       "      <th>2353</th>\n",
       "      <td>666033412701032449</td>\n",
       "      <td>NaN</td>\n",
       "      <td>NaN</td>\n",
       "      <td>2015-11-15 23:21:54 +0000</td>\n",
       "      <td>&lt;a href=\"http://twitter.com/download/iphone\" r...</td>\n",
       "      <td>Here is a very happy pup. Big fan of well-main...</td>\n",
       "      <td>NaN</td>\n",
       "      <td>NaN</td>\n",
       "      <td>NaN</td>\n",
       "      <td>https://twitter.com/dog_rates/status/666033412...</td>\n",
       "      <td>9</td>\n",
       "      <td>10</td>\n",
       "      <td>a</td>\n",
       "      <td>None</td>\n",
       "      <td>None</td>\n",
       "      <td>None</td>\n",
       "      <td>None</td>\n",
       "    </tr>\n",
       "    <tr>\n",
       "      <th>2354</th>\n",
       "      <td>666029285002620928</td>\n",
       "      <td>NaN</td>\n",
       "      <td>NaN</td>\n",
       "      <td>2015-11-15 23:05:30 +0000</td>\n",
       "      <td>&lt;a href=\"http://twitter.com/download/iphone\" r...</td>\n",
       "      <td>This is a western brown Mitsubishi terrier. Up...</td>\n",
       "      <td>NaN</td>\n",
       "      <td>NaN</td>\n",
       "      <td>NaN</td>\n",
       "      <td>https://twitter.com/dog_rates/status/666029285...</td>\n",
       "      <td>7</td>\n",
       "      <td>10</td>\n",
       "      <td>a</td>\n",
       "      <td>None</td>\n",
       "      <td>None</td>\n",
       "      <td>None</td>\n",
       "      <td>None</td>\n",
       "    </tr>\n",
       "    <tr>\n",
       "      <th>2355</th>\n",
       "      <td>666020888022790149</td>\n",
       "      <td>NaN</td>\n",
       "      <td>NaN</td>\n",
       "      <td>2015-11-15 22:32:08 +0000</td>\n",
       "      <td>&lt;a href=\"http://twitter.com/download/iphone\" r...</td>\n",
       "      <td>Here we have a Japanese Irish Setter. Lost eye...</td>\n",
       "      <td>NaN</td>\n",
       "      <td>NaN</td>\n",
       "      <td>NaN</td>\n",
       "      <td>https://twitter.com/dog_rates/status/666020888...</td>\n",
       "      <td>8</td>\n",
       "      <td>10</td>\n",
       "      <td>None</td>\n",
       "      <td>None</td>\n",
       "      <td>None</td>\n",
       "      <td>None</td>\n",
       "      <td>None</td>\n",
       "    </tr>\n",
       "  </tbody>\n",
       "</table>\n",
       "<p>2356 rows × 17 columns</p>\n",
       "</div>"
      ],
      "text/plain": [
       "                tweet_id  in_reply_to_status_id  in_reply_to_user_id  \\\n",
       "0     892420643555336193                    NaN                  NaN   \n",
       "1     892177421306343426                    NaN                  NaN   \n",
       "2     891815181378084864                    NaN                  NaN   \n",
       "3     891689557279858688                    NaN                  NaN   \n",
       "4     891327558926688256                    NaN                  NaN   \n",
       "...                  ...                    ...                  ...   \n",
       "2351  666049248165822465                    NaN                  NaN   \n",
       "2352  666044226329800704                    NaN                  NaN   \n",
       "2353  666033412701032449                    NaN                  NaN   \n",
       "2354  666029285002620928                    NaN                  NaN   \n",
       "2355  666020888022790149                    NaN                  NaN   \n",
       "\n",
       "                      timestamp  \\\n",
       "0     2017-08-01 16:23:56 +0000   \n",
       "1     2017-08-01 00:17:27 +0000   \n",
       "2     2017-07-31 00:18:03 +0000   \n",
       "3     2017-07-30 15:58:51 +0000   \n",
       "4     2017-07-29 16:00:24 +0000   \n",
       "...                         ...   \n",
       "2351  2015-11-16 00:24:50 +0000   \n",
       "2352  2015-11-16 00:04:52 +0000   \n",
       "2353  2015-11-15 23:21:54 +0000   \n",
       "2354  2015-11-15 23:05:30 +0000   \n",
       "2355  2015-11-15 22:32:08 +0000   \n",
       "\n",
       "                                                 source  \\\n",
       "0     <a href=\"http://twitter.com/download/iphone\" r...   \n",
       "1     <a href=\"http://twitter.com/download/iphone\" r...   \n",
       "2     <a href=\"http://twitter.com/download/iphone\" r...   \n",
       "3     <a href=\"http://twitter.com/download/iphone\" r...   \n",
       "4     <a href=\"http://twitter.com/download/iphone\" r...   \n",
       "...                                                 ...   \n",
       "2351  <a href=\"http://twitter.com/download/iphone\" r...   \n",
       "2352  <a href=\"http://twitter.com/download/iphone\" r...   \n",
       "2353  <a href=\"http://twitter.com/download/iphone\" r...   \n",
       "2354  <a href=\"http://twitter.com/download/iphone\" r...   \n",
       "2355  <a href=\"http://twitter.com/download/iphone\" r...   \n",
       "\n",
       "                                                   text  retweeted_status_id  \\\n",
       "0     This is Phineas. He's a mystical boy. Only eve...                  NaN   \n",
       "1     This is Tilly. She's just checking pup on you....                  NaN   \n",
       "2     This is Archie. He is a rare Norwegian Pouncin...                  NaN   \n",
       "3     This is Darla. She commenced a snooze mid meal...                  NaN   \n",
       "4     This is Franklin. He would like you to stop ca...                  NaN   \n",
       "...                                                 ...                  ...   \n",
       "2351  Here we have a 1949 1st generation vulpix. Enj...                  NaN   \n",
       "2352  This is a purebred Piers Morgan. Loves to Netf...                  NaN   \n",
       "2353  Here is a very happy pup. Big fan of well-main...                  NaN   \n",
       "2354  This is a western brown Mitsubishi terrier. Up...                  NaN   \n",
       "2355  Here we have a Japanese Irish Setter. Lost eye...                  NaN   \n",
       "\n",
       "      retweeted_status_user_id retweeted_status_timestamp  \\\n",
       "0                          NaN                        NaN   \n",
       "1                          NaN                        NaN   \n",
       "2                          NaN                        NaN   \n",
       "3                          NaN                        NaN   \n",
       "4                          NaN                        NaN   \n",
       "...                        ...                        ...   \n",
       "2351                       NaN                        NaN   \n",
       "2352                       NaN                        NaN   \n",
       "2353                       NaN                        NaN   \n",
       "2354                       NaN                        NaN   \n",
       "2355                       NaN                        NaN   \n",
       "\n",
       "                                          expanded_urls  rating_numerator  \\\n",
       "0     https://twitter.com/dog_rates/status/892420643...                13   \n",
       "1     https://twitter.com/dog_rates/status/892177421...                13   \n",
       "2     https://twitter.com/dog_rates/status/891815181...                12   \n",
       "3     https://twitter.com/dog_rates/status/891689557...                13   \n",
       "4     https://twitter.com/dog_rates/status/891327558...                12   \n",
       "...                                                 ...               ...   \n",
       "2351  https://twitter.com/dog_rates/status/666049248...                 5   \n",
       "2352  https://twitter.com/dog_rates/status/666044226...                 6   \n",
       "2353  https://twitter.com/dog_rates/status/666033412...                 9   \n",
       "2354  https://twitter.com/dog_rates/status/666029285...                 7   \n",
       "2355  https://twitter.com/dog_rates/status/666020888...                 8   \n",
       "\n",
       "      rating_denominator      name doggo floofer pupper puppo  \n",
       "0                     10   Phineas  None    None   None  None  \n",
       "1                     10     Tilly  None    None   None  None  \n",
       "2                     10    Archie  None    None   None  None  \n",
       "3                     10     Darla  None    None   None  None  \n",
       "4                     10  Franklin  None    None   None  None  \n",
       "...                  ...       ...   ...     ...    ...   ...  \n",
       "2351                  10      None  None    None   None  None  \n",
       "2352                  10         a  None    None   None  None  \n",
       "2353                  10         a  None    None   None  None  \n",
       "2354                  10         a  None    None   None  None  \n",
       "2355                  10      None  None    None   None  None  \n",
       "\n",
       "[2356 rows x 17 columns]"
      ]
     },
     "execution_count": 9,
     "metadata": {},
     "output_type": "execute_result"
    }
   ],
   "source": [
    "df_tweet"
   ]
  },
  {
   "cell_type": "code",
   "execution_count": 10,
   "metadata": {},
   "outputs": [
    {
     "data": {
      "text/html": [
       "<div>\n",
       "<style scoped>\n",
       "    .dataframe tbody tr th:only-of-type {\n",
       "        vertical-align: middle;\n",
       "    }\n",
       "\n",
       "    .dataframe tbody tr th {\n",
       "        vertical-align: top;\n",
       "    }\n",
       "\n",
       "    .dataframe thead th {\n",
       "        text-align: right;\n",
       "    }\n",
       "</style>\n",
       "<table border=\"1\" class=\"dataframe\">\n",
       "  <thead>\n",
       "    <tr style=\"text-align: right;\">\n",
       "      <th></th>\n",
       "      <th>tweet_id</th>\n",
       "      <th>jpg_url</th>\n",
       "      <th>img_num</th>\n",
       "      <th>p1</th>\n",
       "      <th>p1_conf</th>\n",
       "      <th>p1_dog</th>\n",
       "      <th>p2</th>\n",
       "      <th>p2_conf</th>\n",
       "      <th>p2_dog</th>\n",
       "      <th>p3</th>\n",
       "      <th>p3_conf</th>\n",
       "      <th>p3_dog</th>\n",
       "    </tr>\n",
       "  </thead>\n",
       "  <tbody>\n",
       "    <tr>\n",
       "      <th>0</th>\n",
       "      <td>666020888022790149</td>\n",
       "      <td>https://pbs.twimg.com/media/CT4udn0WwAA0aMy.jpg</td>\n",
       "      <td>1</td>\n",
       "      <td>Welsh_springer_spaniel</td>\n",
       "      <td>0.465074</td>\n",
       "      <td>True</td>\n",
       "      <td>collie</td>\n",
       "      <td>0.156665</td>\n",
       "      <td>True</td>\n",
       "      <td>Shetland_sheepdog</td>\n",
       "      <td>0.061428</td>\n",
       "      <td>True</td>\n",
       "    </tr>\n",
       "    <tr>\n",
       "      <th>1</th>\n",
       "      <td>666029285002620928</td>\n",
       "      <td>https://pbs.twimg.com/media/CT42GRgUYAA5iDo.jpg</td>\n",
       "      <td>1</td>\n",
       "      <td>redbone</td>\n",
       "      <td>0.506826</td>\n",
       "      <td>True</td>\n",
       "      <td>miniature_pinscher</td>\n",
       "      <td>0.074192</td>\n",
       "      <td>True</td>\n",
       "      <td>Rhodesian_ridgeback</td>\n",
       "      <td>0.072010</td>\n",
       "      <td>True</td>\n",
       "    </tr>\n",
       "    <tr>\n",
       "      <th>2</th>\n",
       "      <td>666033412701032449</td>\n",
       "      <td>https://pbs.twimg.com/media/CT4521TWwAEvMyu.jpg</td>\n",
       "      <td>1</td>\n",
       "      <td>German_shepherd</td>\n",
       "      <td>0.596461</td>\n",
       "      <td>True</td>\n",
       "      <td>malinois</td>\n",
       "      <td>0.138584</td>\n",
       "      <td>True</td>\n",
       "      <td>bloodhound</td>\n",
       "      <td>0.116197</td>\n",
       "      <td>True</td>\n",
       "    </tr>\n",
       "    <tr>\n",
       "      <th>3</th>\n",
       "      <td>666044226329800704</td>\n",
       "      <td>https://pbs.twimg.com/media/CT5Dr8HUEAA-lEu.jpg</td>\n",
       "      <td>1</td>\n",
       "      <td>Rhodesian_ridgeback</td>\n",
       "      <td>0.408143</td>\n",
       "      <td>True</td>\n",
       "      <td>redbone</td>\n",
       "      <td>0.360687</td>\n",
       "      <td>True</td>\n",
       "      <td>miniature_pinscher</td>\n",
       "      <td>0.222752</td>\n",
       "      <td>True</td>\n",
       "    </tr>\n",
       "    <tr>\n",
       "      <th>4</th>\n",
       "      <td>666049248165822465</td>\n",
       "      <td>https://pbs.twimg.com/media/CT5IQmsXIAAKY4A.jpg</td>\n",
       "      <td>1</td>\n",
       "      <td>miniature_pinscher</td>\n",
       "      <td>0.560311</td>\n",
       "      <td>True</td>\n",
       "      <td>Rottweiler</td>\n",
       "      <td>0.243682</td>\n",
       "      <td>True</td>\n",
       "      <td>Doberman</td>\n",
       "      <td>0.154629</td>\n",
       "      <td>True</td>\n",
       "    </tr>\n",
       "    <tr>\n",
       "      <th>...</th>\n",
       "      <td>...</td>\n",
       "      <td>...</td>\n",
       "      <td>...</td>\n",
       "      <td>...</td>\n",
       "      <td>...</td>\n",
       "      <td>...</td>\n",
       "      <td>...</td>\n",
       "      <td>...</td>\n",
       "      <td>...</td>\n",
       "      <td>...</td>\n",
       "      <td>...</td>\n",
       "      <td>...</td>\n",
       "    </tr>\n",
       "    <tr>\n",
       "      <th>2070</th>\n",
       "      <td>891327558926688256</td>\n",
       "      <td>https://pbs.twimg.com/media/DF6hr6BUMAAzZgT.jpg</td>\n",
       "      <td>2</td>\n",
       "      <td>basset</td>\n",
       "      <td>0.555712</td>\n",
       "      <td>True</td>\n",
       "      <td>English_springer</td>\n",
       "      <td>0.225770</td>\n",
       "      <td>True</td>\n",
       "      <td>German_short-haired_pointer</td>\n",
       "      <td>0.175219</td>\n",
       "      <td>True</td>\n",
       "    </tr>\n",
       "    <tr>\n",
       "      <th>2071</th>\n",
       "      <td>891689557279858688</td>\n",
       "      <td>https://pbs.twimg.com/media/DF_q7IAWsAEuuN8.jpg</td>\n",
       "      <td>1</td>\n",
       "      <td>paper_towel</td>\n",
       "      <td>0.170278</td>\n",
       "      <td>False</td>\n",
       "      <td>Labrador_retriever</td>\n",
       "      <td>0.168086</td>\n",
       "      <td>True</td>\n",
       "      <td>spatula</td>\n",
       "      <td>0.040836</td>\n",
       "      <td>False</td>\n",
       "    </tr>\n",
       "    <tr>\n",
       "      <th>2072</th>\n",
       "      <td>891815181378084864</td>\n",
       "      <td>https://pbs.twimg.com/media/DGBdLU1WsAANxJ9.jpg</td>\n",
       "      <td>1</td>\n",
       "      <td>Chihuahua</td>\n",
       "      <td>0.716012</td>\n",
       "      <td>True</td>\n",
       "      <td>malamute</td>\n",
       "      <td>0.078253</td>\n",
       "      <td>True</td>\n",
       "      <td>kelpie</td>\n",
       "      <td>0.031379</td>\n",
       "      <td>True</td>\n",
       "    </tr>\n",
       "    <tr>\n",
       "      <th>2073</th>\n",
       "      <td>892177421306343426</td>\n",
       "      <td>https://pbs.twimg.com/media/DGGmoV4XsAAUL6n.jpg</td>\n",
       "      <td>1</td>\n",
       "      <td>Chihuahua</td>\n",
       "      <td>0.323581</td>\n",
       "      <td>True</td>\n",
       "      <td>Pekinese</td>\n",
       "      <td>0.090647</td>\n",
       "      <td>True</td>\n",
       "      <td>papillon</td>\n",
       "      <td>0.068957</td>\n",
       "      <td>True</td>\n",
       "    </tr>\n",
       "    <tr>\n",
       "      <th>2074</th>\n",
       "      <td>892420643555336193</td>\n",
       "      <td>https://pbs.twimg.com/media/DGKD1-bXoAAIAUK.jpg</td>\n",
       "      <td>1</td>\n",
       "      <td>orange</td>\n",
       "      <td>0.097049</td>\n",
       "      <td>False</td>\n",
       "      <td>bagel</td>\n",
       "      <td>0.085851</td>\n",
       "      <td>False</td>\n",
       "      <td>banana</td>\n",
       "      <td>0.076110</td>\n",
       "      <td>False</td>\n",
       "    </tr>\n",
       "  </tbody>\n",
       "</table>\n",
       "<p>2075 rows × 12 columns</p>\n",
       "</div>"
      ],
      "text/plain": [
       "                tweet_id                                          jpg_url  \\\n",
       "0     666020888022790149  https://pbs.twimg.com/media/CT4udn0WwAA0aMy.jpg   \n",
       "1     666029285002620928  https://pbs.twimg.com/media/CT42GRgUYAA5iDo.jpg   \n",
       "2     666033412701032449  https://pbs.twimg.com/media/CT4521TWwAEvMyu.jpg   \n",
       "3     666044226329800704  https://pbs.twimg.com/media/CT5Dr8HUEAA-lEu.jpg   \n",
       "4     666049248165822465  https://pbs.twimg.com/media/CT5IQmsXIAAKY4A.jpg   \n",
       "...                  ...                                              ...   \n",
       "2070  891327558926688256  https://pbs.twimg.com/media/DF6hr6BUMAAzZgT.jpg   \n",
       "2071  891689557279858688  https://pbs.twimg.com/media/DF_q7IAWsAEuuN8.jpg   \n",
       "2072  891815181378084864  https://pbs.twimg.com/media/DGBdLU1WsAANxJ9.jpg   \n",
       "2073  892177421306343426  https://pbs.twimg.com/media/DGGmoV4XsAAUL6n.jpg   \n",
       "2074  892420643555336193  https://pbs.twimg.com/media/DGKD1-bXoAAIAUK.jpg   \n",
       "\n",
       "      img_num                      p1   p1_conf  p1_dog                  p2  \\\n",
       "0           1  Welsh_springer_spaniel  0.465074    True              collie   \n",
       "1           1                 redbone  0.506826    True  miniature_pinscher   \n",
       "2           1         German_shepherd  0.596461    True            malinois   \n",
       "3           1     Rhodesian_ridgeback  0.408143    True             redbone   \n",
       "4           1      miniature_pinscher  0.560311    True          Rottweiler   \n",
       "...       ...                     ...       ...     ...                 ...   \n",
       "2070        2                  basset  0.555712    True    English_springer   \n",
       "2071        1             paper_towel  0.170278   False  Labrador_retriever   \n",
       "2072        1               Chihuahua  0.716012    True            malamute   \n",
       "2073        1               Chihuahua  0.323581    True            Pekinese   \n",
       "2074        1                  orange  0.097049   False               bagel   \n",
       "\n",
       "       p2_conf  p2_dog                           p3   p3_conf  p3_dog  \n",
       "0     0.156665    True            Shetland_sheepdog  0.061428    True  \n",
       "1     0.074192    True          Rhodesian_ridgeback  0.072010    True  \n",
       "2     0.138584    True                   bloodhound  0.116197    True  \n",
       "3     0.360687    True           miniature_pinscher  0.222752    True  \n",
       "4     0.243682    True                     Doberman  0.154629    True  \n",
       "...        ...     ...                          ...       ...     ...  \n",
       "2070  0.225770    True  German_short-haired_pointer  0.175219    True  \n",
       "2071  0.168086    True                      spatula  0.040836   False  \n",
       "2072  0.078253    True                       kelpie  0.031379    True  \n",
       "2073  0.090647    True                     papillon  0.068957    True  \n",
       "2074  0.085851   False                       banana  0.076110   False  \n",
       "\n",
       "[2075 rows x 12 columns]"
      ]
     },
     "execution_count": 10,
     "metadata": {},
     "output_type": "execute_result"
    }
   ],
   "source": [
    "df_image_prediction"
   ]
  },
  {
   "cell_type": "code",
   "execution_count": 11,
   "metadata": {},
   "outputs": [
    {
     "data": {
      "text/html": [
       "<div>\n",
       "<style scoped>\n",
       "    .dataframe tbody tr th:only-of-type {\n",
       "        vertical-align: middle;\n",
       "    }\n",
       "\n",
       "    .dataframe tbody tr th {\n",
       "        vertical-align: top;\n",
       "    }\n",
       "\n",
       "    .dataframe thead th {\n",
       "        text-align: right;\n",
       "    }\n",
       "</style>\n",
       "<table border=\"1\" class=\"dataframe\">\n",
       "  <thead>\n",
       "    <tr style=\"text-align: right;\">\n",
       "      <th></th>\n",
       "      <th>tweet_id</th>\n",
       "      <th>retweet_count</th>\n",
       "      <th>favorite_count</th>\n",
       "    </tr>\n",
       "  </thead>\n",
       "  <tbody>\n",
       "    <tr>\n",
       "      <th>0</th>\n",
       "      <td>892420643555336193</td>\n",
       "      <td>7018</td>\n",
       "      <td>33838</td>\n",
       "    </tr>\n",
       "    <tr>\n",
       "      <th>1</th>\n",
       "      <td>892177421306343426</td>\n",
       "      <td>5303</td>\n",
       "      <td>29356</td>\n",
       "    </tr>\n",
       "    <tr>\n",
       "      <th>2</th>\n",
       "      <td>891815181378084864</td>\n",
       "      <td>3486</td>\n",
       "      <td>22067</td>\n",
       "    </tr>\n",
       "    <tr>\n",
       "      <th>3</th>\n",
       "      <td>891689557279858688</td>\n",
       "      <td>7232</td>\n",
       "      <td>36969</td>\n",
       "    </tr>\n",
       "    <tr>\n",
       "      <th>4</th>\n",
       "      <td>891327558926688256</td>\n",
       "      <td>7771</td>\n",
       "      <td>35343</td>\n",
       "    </tr>\n",
       "    <tr>\n",
       "      <th>...</th>\n",
       "      <td>...</td>\n",
       "      <td>...</td>\n",
       "      <td>...</td>\n",
       "    </tr>\n",
       "    <tr>\n",
       "      <th>2322</th>\n",
       "      <td>666049248165822465</td>\n",
       "      <td>37</td>\n",
       "      <td>89</td>\n",
       "    </tr>\n",
       "    <tr>\n",
       "      <th>2323</th>\n",
       "      <td>666044226329800704</td>\n",
       "      <td>115</td>\n",
       "      <td>246</td>\n",
       "    </tr>\n",
       "    <tr>\n",
       "      <th>2324</th>\n",
       "      <td>666033412701032449</td>\n",
       "      <td>36</td>\n",
       "      <td>99</td>\n",
       "    </tr>\n",
       "    <tr>\n",
       "      <th>2325</th>\n",
       "      <td>666029285002620928</td>\n",
       "      <td>39</td>\n",
       "      <td>112</td>\n",
       "    </tr>\n",
       "    <tr>\n",
       "      <th>2326</th>\n",
       "      <td>666020888022790149</td>\n",
       "      <td>423</td>\n",
       "      <td>2293</td>\n",
       "    </tr>\n",
       "  </tbody>\n",
       "</table>\n",
       "<p>2327 rows × 3 columns</p>\n",
       "</div>"
      ],
      "text/plain": [
       "                tweet_id  retweet_count  favorite_count\n",
       "0     892420643555336193           7018           33838\n",
       "1     892177421306343426           5303           29356\n",
       "2     891815181378084864           3486           22067\n",
       "3     891689557279858688           7232           36969\n",
       "4     891327558926688256           7771           35343\n",
       "...                  ...            ...             ...\n",
       "2322  666049248165822465             37              89\n",
       "2323  666044226329800704            115             246\n",
       "2324  666033412701032449             36              99\n",
       "2325  666029285002620928             39             112\n",
       "2326  666020888022790149            423            2293\n",
       "\n",
       "[2327 rows x 3 columns]"
      ]
     },
     "execution_count": 11,
     "metadata": {},
     "output_type": "execute_result"
    }
   ],
   "source": [
    "df_tweet_api"
   ]
  },
  {
   "cell_type": "code",
   "execution_count": 12,
   "metadata": {},
   "outputs": [
    {
     "name": "stdout",
     "output_type": "stream",
     "text": [
      "<class 'pandas.core.frame.DataFrame'>\n",
      "RangeIndex: 2356 entries, 0 to 2355\n",
      "Data columns (total 17 columns):\n",
      " #   Column                      Non-Null Count  Dtype  \n",
      "---  ------                      --------------  -----  \n",
      " 0   tweet_id                    2356 non-null   int64  \n",
      " 1   in_reply_to_status_id       78 non-null     float64\n",
      " 2   in_reply_to_user_id         78 non-null     float64\n",
      " 3   timestamp                   2356 non-null   object \n",
      " 4   source                      2356 non-null   object \n",
      " 5   text                        2356 non-null   object \n",
      " 6   retweeted_status_id         181 non-null    float64\n",
      " 7   retweeted_status_user_id    181 non-null    float64\n",
      " 8   retweeted_status_timestamp  181 non-null    object \n",
      " 9   expanded_urls               2297 non-null   object \n",
      " 10  rating_numerator            2356 non-null   int64  \n",
      " 11  rating_denominator          2356 non-null   int64  \n",
      " 12  name                        2356 non-null   object \n",
      " 13  doggo                       2356 non-null   object \n",
      " 14  floofer                     2356 non-null   object \n",
      " 15  pupper                      2356 non-null   object \n",
      " 16  puppo                       2356 non-null   object \n",
      "dtypes: float64(4), int64(3), object(10)\n",
      "memory usage: 313.0+ KB\n"
     ]
    }
   ],
   "source": [
    "df_tweet.info()"
   ]
  },
  {
   "cell_type": "code",
   "execution_count": 13,
   "metadata": {},
   "outputs": [
    {
     "name": "stdout",
     "output_type": "stream",
     "text": [
      "<class 'pandas.core.frame.DataFrame'>\n",
      "RangeIndex: 2075 entries, 0 to 2074\n",
      "Data columns (total 12 columns):\n",
      " #   Column    Non-Null Count  Dtype  \n",
      "---  ------    --------------  -----  \n",
      " 0   tweet_id  2075 non-null   int64  \n",
      " 1   jpg_url   2075 non-null   object \n",
      " 2   img_num   2075 non-null   int64  \n",
      " 3   p1        2075 non-null   object \n",
      " 4   p1_conf   2075 non-null   float64\n",
      " 5   p1_dog    2075 non-null   bool   \n",
      " 6   p2        2075 non-null   object \n",
      " 7   p2_conf   2075 non-null   float64\n",
      " 8   p2_dog    2075 non-null   bool   \n",
      " 9   p3        2075 non-null   object \n",
      " 10  p3_conf   2075 non-null   float64\n",
      " 11  p3_dog    2075 non-null   bool   \n",
      "dtypes: bool(3), float64(3), int64(2), object(4)\n",
      "memory usage: 152.1+ KB\n"
     ]
    }
   ],
   "source": [
    "df_image_prediction.info()"
   ]
  },
  {
   "cell_type": "code",
   "execution_count": 14,
   "metadata": {},
   "outputs": [
    {
     "name": "stdout",
     "output_type": "stream",
     "text": [
      "<class 'pandas.core.frame.DataFrame'>\n",
      "RangeIndex: 2327 entries, 0 to 2326\n",
      "Data columns (total 3 columns):\n",
      " #   Column          Non-Null Count  Dtype\n",
      "---  ------          --------------  -----\n",
      " 0   tweet_id        2327 non-null   int64\n",
      " 1   retweet_count   2327 non-null   int64\n",
      " 2   favorite_count  2327 non-null   int64\n",
      "dtypes: int64(3)\n",
      "memory usage: 54.7 KB\n"
     ]
    }
   ],
   "source": [
    "df_tweet_api.info()"
   ]
  },
  {
   "cell_type": "code",
   "execution_count": 15,
   "metadata": {},
   "outputs": [
    {
     "data": {
      "text/html": [
       "<div>\n",
       "<style scoped>\n",
       "    .dataframe tbody tr th:only-of-type {\n",
       "        vertical-align: middle;\n",
       "    }\n",
       "\n",
       "    .dataframe tbody tr th {\n",
       "        vertical-align: top;\n",
       "    }\n",
       "\n",
       "    .dataframe thead th {\n",
       "        text-align: right;\n",
       "    }\n",
       "</style>\n",
       "<table border=\"1\" class=\"dataframe\">\n",
       "  <thead>\n",
       "    <tr style=\"text-align: right;\">\n",
       "      <th></th>\n",
       "      <th>tweet_id</th>\n",
       "      <th>in_reply_to_status_id</th>\n",
       "      <th>in_reply_to_user_id</th>\n",
       "      <th>retweeted_status_id</th>\n",
       "      <th>retweeted_status_user_id</th>\n",
       "      <th>rating_numerator</th>\n",
       "      <th>rating_denominator</th>\n",
       "    </tr>\n",
       "  </thead>\n",
       "  <tbody>\n",
       "    <tr>\n",
       "      <th>count</th>\n",
       "      <td>2.356000e+03</td>\n",
       "      <td>7.800000e+01</td>\n",
       "      <td>7.800000e+01</td>\n",
       "      <td>1.810000e+02</td>\n",
       "      <td>1.810000e+02</td>\n",
       "      <td>2356.000000</td>\n",
       "      <td>2356.000000</td>\n",
       "    </tr>\n",
       "    <tr>\n",
       "      <th>mean</th>\n",
       "      <td>7.427716e+17</td>\n",
       "      <td>7.455079e+17</td>\n",
       "      <td>2.014171e+16</td>\n",
       "      <td>7.720400e+17</td>\n",
       "      <td>1.241698e+16</td>\n",
       "      <td>13.126486</td>\n",
       "      <td>10.455433</td>\n",
       "    </tr>\n",
       "    <tr>\n",
       "      <th>std</th>\n",
       "      <td>6.856705e+16</td>\n",
       "      <td>7.582492e+16</td>\n",
       "      <td>1.252797e+17</td>\n",
       "      <td>6.236928e+16</td>\n",
       "      <td>9.599254e+16</td>\n",
       "      <td>45.876648</td>\n",
       "      <td>6.745237</td>\n",
       "    </tr>\n",
       "    <tr>\n",
       "      <th>min</th>\n",
       "      <td>6.660209e+17</td>\n",
       "      <td>6.658147e+17</td>\n",
       "      <td>1.185634e+07</td>\n",
       "      <td>6.661041e+17</td>\n",
       "      <td>7.832140e+05</td>\n",
       "      <td>0.000000</td>\n",
       "      <td>0.000000</td>\n",
       "    </tr>\n",
       "    <tr>\n",
       "      <th>25%</th>\n",
       "      <td>6.783989e+17</td>\n",
       "      <td>6.757419e+17</td>\n",
       "      <td>3.086374e+08</td>\n",
       "      <td>7.186315e+17</td>\n",
       "      <td>4.196984e+09</td>\n",
       "      <td>10.000000</td>\n",
       "      <td>10.000000</td>\n",
       "    </tr>\n",
       "    <tr>\n",
       "      <th>50%</th>\n",
       "      <td>7.196279e+17</td>\n",
       "      <td>7.038708e+17</td>\n",
       "      <td>4.196984e+09</td>\n",
       "      <td>7.804657e+17</td>\n",
       "      <td>4.196984e+09</td>\n",
       "      <td>11.000000</td>\n",
       "      <td>10.000000</td>\n",
       "    </tr>\n",
       "    <tr>\n",
       "      <th>75%</th>\n",
       "      <td>7.993373e+17</td>\n",
       "      <td>8.257804e+17</td>\n",
       "      <td>4.196984e+09</td>\n",
       "      <td>8.203146e+17</td>\n",
       "      <td>4.196984e+09</td>\n",
       "      <td>12.000000</td>\n",
       "      <td>10.000000</td>\n",
       "    </tr>\n",
       "    <tr>\n",
       "      <th>max</th>\n",
       "      <td>8.924206e+17</td>\n",
       "      <td>8.862664e+17</td>\n",
       "      <td>8.405479e+17</td>\n",
       "      <td>8.874740e+17</td>\n",
       "      <td>7.874618e+17</td>\n",
       "      <td>1776.000000</td>\n",
       "      <td>170.000000</td>\n",
       "    </tr>\n",
       "  </tbody>\n",
       "</table>\n",
       "</div>"
      ],
      "text/plain": [
       "           tweet_id  in_reply_to_status_id  in_reply_to_user_id  \\\n",
       "count  2.356000e+03           7.800000e+01         7.800000e+01   \n",
       "mean   7.427716e+17           7.455079e+17         2.014171e+16   \n",
       "std    6.856705e+16           7.582492e+16         1.252797e+17   \n",
       "min    6.660209e+17           6.658147e+17         1.185634e+07   \n",
       "25%    6.783989e+17           6.757419e+17         3.086374e+08   \n",
       "50%    7.196279e+17           7.038708e+17         4.196984e+09   \n",
       "75%    7.993373e+17           8.257804e+17         4.196984e+09   \n",
       "max    8.924206e+17           8.862664e+17         8.405479e+17   \n",
       "\n",
       "       retweeted_status_id  retweeted_status_user_id  rating_numerator  \\\n",
       "count         1.810000e+02              1.810000e+02       2356.000000   \n",
       "mean          7.720400e+17              1.241698e+16         13.126486   \n",
       "std           6.236928e+16              9.599254e+16         45.876648   \n",
       "min           6.661041e+17              7.832140e+05          0.000000   \n",
       "25%           7.186315e+17              4.196984e+09         10.000000   \n",
       "50%           7.804657e+17              4.196984e+09         11.000000   \n",
       "75%           8.203146e+17              4.196984e+09         12.000000   \n",
       "max           8.874740e+17              7.874618e+17       1776.000000   \n",
       "\n",
       "       rating_denominator  \n",
       "count         2356.000000  \n",
       "mean            10.455433  \n",
       "std              6.745237  \n",
       "min              0.000000  \n",
       "25%             10.000000  \n",
       "50%             10.000000  \n",
       "75%             10.000000  \n",
       "max            170.000000  "
      ]
     },
     "execution_count": 15,
     "metadata": {},
     "output_type": "execute_result"
    }
   ],
   "source": [
    "df_tweet.describe()"
   ]
  },
  {
   "cell_type": "code",
   "execution_count": 16,
   "metadata": {},
   "outputs": [
    {
     "data": {
      "text/html": [
       "<div>\n",
       "<style scoped>\n",
       "    .dataframe tbody tr th:only-of-type {\n",
       "        vertical-align: middle;\n",
       "    }\n",
       "\n",
       "    .dataframe tbody tr th {\n",
       "        vertical-align: top;\n",
       "    }\n",
       "\n",
       "    .dataframe thead th {\n",
       "        text-align: right;\n",
       "    }\n",
       "</style>\n",
       "<table border=\"1\" class=\"dataframe\">\n",
       "  <thead>\n",
       "    <tr style=\"text-align: right;\">\n",
       "      <th></th>\n",
       "      <th>tweet_id</th>\n",
       "      <th>img_num</th>\n",
       "      <th>p1_conf</th>\n",
       "      <th>p2_conf</th>\n",
       "      <th>p3_conf</th>\n",
       "    </tr>\n",
       "  </thead>\n",
       "  <tbody>\n",
       "    <tr>\n",
       "      <th>count</th>\n",
       "      <td>2.075000e+03</td>\n",
       "      <td>2075.000000</td>\n",
       "      <td>2075.000000</td>\n",
       "      <td>2.075000e+03</td>\n",
       "      <td>2.075000e+03</td>\n",
       "    </tr>\n",
       "    <tr>\n",
       "      <th>mean</th>\n",
       "      <td>7.384514e+17</td>\n",
       "      <td>1.203855</td>\n",
       "      <td>0.594548</td>\n",
       "      <td>1.345886e-01</td>\n",
       "      <td>6.032417e-02</td>\n",
       "    </tr>\n",
       "    <tr>\n",
       "      <th>std</th>\n",
       "      <td>6.785203e+16</td>\n",
       "      <td>0.561875</td>\n",
       "      <td>0.271174</td>\n",
       "      <td>1.006657e-01</td>\n",
       "      <td>5.090593e-02</td>\n",
       "    </tr>\n",
       "    <tr>\n",
       "      <th>min</th>\n",
       "      <td>6.660209e+17</td>\n",
       "      <td>1.000000</td>\n",
       "      <td>0.044333</td>\n",
       "      <td>1.011300e-08</td>\n",
       "      <td>1.740170e-10</td>\n",
       "    </tr>\n",
       "    <tr>\n",
       "      <th>25%</th>\n",
       "      <td>6.764835e+17</td>\n",
       "      <td>1.000000</td>\n",
       "      <td>0.364412</td>\n",
       "      <td>5.388625e-02</td>\n",
       "      <td>1.622240e-02</td>\n",
       "    </tr>\n",
       "    <tr>\n",
       "      <th>50%</th>\n",
       "      <td>7.119988e+17</td>\n",
       "      <td>1.000000</td>\n",
       "      <td>0.588230</td>\n",
       "      <td>1.181810e-01</td>\n",
       "      <td>4.944380e-02</td>\n",
       "    </tr>\n",
       "    <tr>\n",
       "      <th>75%</th>\n",
       "      <td>7.932034e+17</td>\n",
       "      <td>1.000000</td>\n",
       "      <td>0.843855</td>\n",
       "      <td>1.955655e-01</td>\n",
       "      <td>9.180755e-02</td>\n",
       "    </tr>\n",
       "    <tr>\n",
       "      <th>max</th>\n",
       "      <td>8.924206e+17</td>\n",
       "      <td>4.000000</td>\n",
       "      <td>1.000000</td>\n",
       "      <td>4.880140e-01</td>\n",
       "      <td>2.734190e-01</td>\n",
       "    </tr>\n",
       "  </tbody>\n",
       "</table>\n",
       "</div>"
      ],
      "text/plain": [
       "           tweet_id      img_num      p1_conf       p2_conf       p3_conf\n",
       "count  2.075000e+03  2075.000000  2075.000000  2.075000e+03  2.075000e+03\n",
       "mean   7.384514e+17     1.203855     0.594548  1.345886e-01  6.032417e-02\n",
       "std    6.785203e+16     0.561875     0.271174  1.006657e-01  5.090593e-02\n",
       "min    6.660209e+17     1.000000     0.044333  1.011300e-08  1.740170e-10\n",
       "25%    6.764835e+17     1.000000     0.364412  5.388625e-02  1.622240e-02\n",
       "50%    7.119988e+17     1.000000     0.588230  1.181810e-01  4.944380e-02\n",
       "75%    7.932034e+17     1.000000     0.843855  1.955655e-01  9.180755e-02\n",
       "max    8.924206e+17     4.000000     1.000000  4.880140e-01  2.734190e-01"
      ]
     },
     "execution_count": 16,
     "metadata": {},
     "output_type": "execute_result"
    }
   ],
   "source": [
    "df_image_prediction.describe()"
   ]
  },
  {
   "cell_type": "code",
   "execution_count": 17,
   "metadata": {},
   "outputs": [
    {
     "data": {
      "text/html": [
       "<div>\n",
       "<style scoped>\n",
       "    .dataframe tbody tr th:only-of-type {\n",
       "        vertical-align: middle;\n",
       "    }\n",
       "\n",
       "    .dataframe tbody tr th {\n",
       "        vertical-align: top;\n",
       "    }\n",
       "\n",
       "    .dataframe thead th {\n",
       "        text-align: right;\n",
       "    }\n",
       "</style>\n",
       "<table border=\"1\" class=\"dataframe\">\n",
       "  <thead>\n",
       "    <tr style=\"text-align: right;\">\n",
       "      <th></th>\n",
       "      <th>tweet_id</th>\n",
       "      <th>retweet_count</th>\n",
       "      <th>favorite_count</th>\n",
       "    </tr>\n",
       "  </thead>\n",
       "  <tbody>\n",
       "    <tr>\n",
       "      <th>count</th>\n",
       "      <td>2.327000e+03</td>\n",
       "      <td>2327.000000</td>\n",
       "      <td>2327.000000</td>\n",
       "    </tr>\n",
       "    <tr>\n",
       "      <th>mean</th>\n",
       "      <td>7.417930e+17</td>\n",
       "      <td>2473.704770</td>\n",
       "      <td>7060.311130</td>\n",
       "    </tr>\n",
       "    <tr>\n",
       "      <th>std</th>\n",
       "      <td>6.820795e+16</td>\n",
       "      <td>4189.414789</td>\n",
       "      <td>10971.723882</td>\n",
       "    </tr>\n",
       "    <tr>\n",
       "      <th>min</th>\n",
       "      <td>6.660209e+17</td>\n",
       "      <td>1.000000</td>\n",
       "      <td>0.000000</td>\n",
       "    </tr>\n",
       "    <tr>\n",
       "      <th>25%</th>\n",
       "      <td>6.781394e+17</td>\n",
       "      <td>495.000000</td>\n",
       "      <td>1225.500000</td>\n",
       "    </tr>\n",
       "    <tr>\n",
       "      <th>50%</th>\n",
       "      <td>7.178418e+17</td>\n",
       "      <td>1149.000000</td>\n",
       "      <td>3053.000000</td>\n",
       "    </tr>\n",
       "    <tr>\n",
       "      <th>75%</th>\n",
       "      <td>7.986547e+17</td>\n",
       "      <td>2864.500000</td>\n",
       "      <td>8611.500000</td>\n",
       "    </tr>\n",
       "    <tr>\n",
       "      <th>max</th>\n",
       "      <td>8.924206e+17</td>\n",
       "      <td>70826.000000</td>\n",
       "      <td>145016.000000</td>\n",
       "    </tr>\n",
       "  </tbody>\n",
       "</table>\n",
       "</div>"
      ],
      "text/plain": [
       "           tweet_id  retweet_count  favorite_count\n",
       "count  2.327000e+03    2327.000000     2327.000000\n",
       "mean   7.417930e+17    2473.704770     7060.311130\n",
       "std    6.820795e+16    4189.414789    10971.723882\n",
       "min    6.660209e+17       1.000000        0.000000\n",
       "25%    6.781394e+17     495.000000     1225.500000\n",
       "50%    7.178418e+17    1149.000000     3053.000000\n",
       "75%    7.986547e+17    2864.500000     8611.500000\n",
       "max    8.924206e+17   70826.000000   145016.000000"
      ]
     },
     "execution_count": 17,
     "metadata": {},
     "output_type": "execute_result"
    }
   ],
   "source": [
    "df_tweet_api.describe()"
   ]
  },
  {
   "cell_type": "markdown",
   "metadata": {},
   "source": [
    "### Checking for missing data"
   ]
  },
  {
   "cell_type": "code",
   "execution_count": 18,
   "metadata": {},
   "outputs": [
    {
     "data": {
      "text/plain": [
       "tweet_id                         0\n",
       "in_reply_to_status_id         2278\n",
       "in_reply_to_user_id           2278\n",
       "timestamp                        0\n",
       "source                           0\n",
       "text                             0\n",
       "retweeted_status_id           2175\n",
       "retweeted_status_user_id      2175\n",
       "retweeted_status_timestamp    2175\n",
       "expanded_urls                   59\n",
       "rating_numerator                 0\n",
       "rating_denominator               0\n",
       "name                             0\n",
       "doggo                            0\n",
       "floofer                          0\n",
       "pupper                           0\n",
       "puppo                            0\n",
       "dtype: int64"
      ]
     },
     "execution_count": 18,
     "metadata": {},
     "output_type": "execute_result"
    }
   ],
   "source": [
    "df_tweet.isna().sum()"
   ]
  },
  {
   "cell_type": "code",
   "execution_count": 19,
   "metadata": {},
   "outputs": [
    {
     "data": {
      "text/plain": [
       "tweet_id                      0.000000\n",
       "in_reply_to_status_id         0.966893\n",
       "in_reply_to_user_id           0.966893\n",
       "timestamp                     0.000000\n",
       "source                        0.000000\n",
       "text                          0.000000\n",
       "retweeted_status_id           0.923175\n",
       "retweeted_status_user_id      0.923175\n",
       "retweeted_status_timestamp    0.923175\n",
       "expanded_urls                 0.025042\n",
       "rating_numerator              0.000000\n",
       "rating_denominator            0.000000\n",
       "name                          0.000000\n",
       "doggo                         0.000000\n",
       "floofer                       0.000000\n",
       "pupper                        0.000000\n",
       "puppo                         0.000000\n",
       "dtype: float64"
      ]
     },
     "execution_count": 19,
     "metadata": {},
     "output_type": "execute_result"
    }
   ],
   "source": [
    "df_tweet.isna().mean()"
   ]
  },
  {
   "cell_type": "markdown",
   "metadata": {},
   "source": [
    "### Using the library missingno to visualize the columns with most missing rows in df_tweet"
   ]
  },
  {
   "cell_type": "code",
   "execution_count": 20,
   "metadata": {},
   "outputs": [
    {
     "data": {
      "text/plain": [
       "<AxesSubplot:>"
      ]
     },
     "execution_count": 20,
     "metadata": {},
     "output_type": "execute_result"
    },
    {
     "data": {
      "image/png": "[encoded data removed]",
      "text/plain": [
       "<Figure size 1800x720 with 2 Axes>"
      ]
     },
     "metadata": {
      "needs_background": "light"
     },
     "output_type": "display_data"
    }
   ],
   "source": [
    "import missingno as msno\n",
    "msno.matrix(df_tweet.iloc[:, :17])"
   ]
  },
  {
   "cell_type": "markdown",
   "metadata": {},
   "source": [
    "The white spaces in the above plot shows there are too many missing rows across the columns **in_reply_to_status_id, in_reply_to_user_id, retweeted_status_id, retweeted_status_user_id, retweeted_status_timestamp**. While the column **expanded_url** has fewer rows missing."
   ]
  },
  {
   "cell_type": "code",
   "execution_count": 21,
   "metadata": {},
   "outputs": [
    {
     "data": {
      "text/plain": [
       "tweet_id    0\n",
       "jpg_url     0\n",
       "img_num     0\n",
       "p1          0\n",
       "p1_conf     0\n",
       "p1_dog      0\n",
       "p2          0\n",
       "p2_conf     0\n",
       "p2_dog      0\n",
       "p3          0\n",
       "p3_conf     0\n",
       "p3_dog      0\n",
       "dtype: int64"
      ]
     },
     "execution_count": 21,
     "metadata": {},
     "output_type": "execute_result"
    }
   ],
   "source": [
    "df_image_prediction.isna().sum()"
   ]
  },
  {
   "cell_type": "code",
   "execution_count": 22,
   "metadata": {},
   "outputs": [
    {
     "data": {
      "text/plain": [
       "tweet_id          0\n",
       "retweet_count     0\n",
       "favorite_count    0\n",
       "dtype: int64"
      ]
     },
     "execution_count": 22,
     "metadata": {},
     "output_type": "execute_result"
    }
   ],
   "source": [
    "df_tweet_api.isna().sum()"
   ]
  },
  {
   "cell_type": "markdown",
   "metadata": {},
   "source": [
    "### Checking for duplicates"
   ]
  },
  {
   "cell_type": "code",
   "execution_count": 23,
   "metadata": {},
   "outputs": [
    {
     "data": {
      "text/plain": [
       "False"
      ]
     },
     "execution_count": 23,
     "metadata": {},
     "output_type": "execute_result"
    }
   ],
   "source": [
    "df_tweet.duplicated().any()"
   ]
  },
  {
   "cell_type": "code",
   "execution_count": 24,
   "metadata": {},
   "outputs": [
    {
     "data": {
      "text/plain": [
       "False"
      ]
     },
     "execution_count": 24,
     "metadata": {},
     "output_type": "execute_result"
    }
   ],
   "source": [
    "df_image_prediction.duplicated().any()"
   ]
  },
  {
   "cell_type": "code",
   "execution_count": 25,
   "metadata": {},
   "outputs": [
    {
     "data": {
      "text/plain": [
       "False"
      ]
     },
     "execution_count": 25,
     "metadata": {},
     "output_type": "execute_result"
    }
   ],
   "source": [
    "df_tweet_api.duplicated().any()"
   ]
  },
  {
   "cell_type": "code",
   "execution_count": 26,
   "metadata": {},
   "outputs": [
    {
     "data": {
      "text/plain": [
       "2352"
      ]
     },
     "execution_count": 26,
     "metadata": {},
     "output_type": "execute_result"
    }
   ],
   "source": [
    "sum(df_tweet['source'].duplicated())"
   ]
  },
  {
   "cell_type": "code",
   "execution_count": 27,
   "metadata": {},
   "outputs": [
    {
     "data": {
      "text/plain": [
       "<a href=\"http://twitter.com/download/iphone\" rel=\"nofollow\">Twitter for iPhone</a>     2221\n",
       "<a href=\"http://vine.co\" rel=\"nofollow\">Vine - Make a Scene</a>                          91\n",
       "<a href=\"http://twitter.com\" rel=\"nofollow\">Twitter Web Client</a>                       33\n",
       "<a href=\"https://about.twitter.com/products/tweetdeck\" rel=\"nofollow\">TweetDeck</a>      11\n",
       "Name: source, dtype: int64"
      ]
     },
     "execution_count": 27,
     "metadata": {},
     "output_type": "execute_result"
    }
   ],
   "source": [
    "df_tweet.source.value_counts()"
   ]
  },
  {
   "cell_type": "markdown",
   "metadata": {},
   "source": [
    "From the result above it shows a lot of tweets came from Iphone users alone"
   ]
  },
  {
   "cell_type": "code",
   "execution_count": 28,
   "metadata": {},
   "outputs": [
    {
     "data": {
      "text/plain": [
       "137"
      ]
     },
     "execution_count": 28,
     "metadata": {},
     "output_type": "execute_result"
    }
   ],
   "source": [
    "sum(df_tweet['expanded_urls'].duplicated())"
   ]
  },
  {
   "cell_type": "markdown",
   "metadata": {},
   "source": [
    "There 137 duplicated urls in the expanded_urls column"
   ]
  },
  {
   "cell_type": "code",
   "execution_count": 29,
   "metadata": {},
   "outputs": [
    {
     "data": {
      "text/plain": [
       "https://twitter.com/dog_rates/status/739238157791694849/video/1                                                                                                                                    2\n",
       "https://twitter.com/dog_rates/status/782305867769217024/photo/1,https://twitter.com/dog_rates/status/782305867769217024/photo/1,https://twitter.com/dog_rates/status/782305867769217024/photo/1    2\n",
       "https://twitter.com/dog_rates/status/810254108431155201/photo/1                                                                                                                                    2\n",
       "https://twitter.com/dog_rates/status/839549326359670784/photo/1                                                                                                                                    2\n",
       "https://twitter.com/dog_rates/status/809220051211603969/photo/1,https://twitter.com/dog_rates/status/809220051211603969/photo/1                                                                    2\n",
       "                                                                                                                                                                                                  ..\n",
       "https://vine.co/v/igW2OEwu9vg                                                                                                                                                                      1\n",
       "https://twitter.com/dog_rates/status/706166467411222528/photo/1                                                                                                                                    1\n",
       "https://twitter.com/dog_rates/status/789628658055020548/photo/1                                                                                                                                    1\n",
       "https://twitter.com/dog_rates/status/729463711119904772/photo/1                                                                                                                                    1\n",
       "https://twitter.com/dog_rates/status/750056684286914561/photo/1                                                                                                                                    1\n",
       "Name: expanded_urls, Length: 2218, dtype: int64"
      ]
     },
     "execution_count": 29,
     "metadata": {},
     "output_type": "execute_result"
    }
   ],
   "source": [
    "df_tweet['expanded_urls'].value_counts()"
   ]
  },
  {
   "cell_type": "markdown",
   "metadata": {},
   "source": [
    "There are rows in the expanded_urls column with duplicated urls separated by comma `,`"
   ]
  },
  {
   "cell_type": "code",
   "execution_count": 30,
   "metadata": {},
   "outputs": [
    {
     "data": {
      "text/plain": [
       "66"
      ]
     },
     "execution_count": 30,
     "metadata": {},
     "output_type": "execute_result"
    }
   ],
   "source": [
    "sum(df_image_prediction['jpg_url'].duplicated())"
   ]
  },
  {
   "cell_type": "code",
   "execution_count": 31,
   "metadata": {},
   "outputs": [
    {
     "data": {
      "text/plain": [
       "https://pbs.twimg.com/media/C2kzTGxWEAEOpPL.jpg    2\n",
       "https://pbs.twimg.com/media/Cq9guJ5WgAADfpF.jpg    2\n",
       "https://pbs.twimg.com/media/Cwx99rpW8AMk_Ie.jpg    2\n",
       "https://pbs.twimg.com/media/CVuQ2LeUsAAIe3s.jpg    2\n",
       "https://pbs.twimg.com/media/Ck2d7tJWUAEPTL3.jpg    2\n",
       "                                                  ..\n",
       "https://pbs.twimg.com/media/CXqcOHCUQAAugTB.jpg    1\n",
       "https://pbs.twimg.com/media/CWUZpydWcAAeipD.jpg    1\n",
       "https://pbs.twimg.com/media/CZNj8N-WQAMXASZ.jpg    1\n",
       "https://pbs.twimg.com/media/CewgnHAXEAAdbld.jpg    1\n",
       "https://pbs.twimg.com/media/CrMmVqyWcAIDCHI.jpg    1\n",
       "Name: jpg_url, Length: 2009, dtype: int64"
      ]
     },
     "execution_count": 31,
     "metadata": {},
     "output_type": "execute_result"
    }
   ],
   "source": [
    "df_image_prediction['jpg_url'].value_counts()"
   ]
  },
  {
   "cell_type": "markdown",
   "metadata": {},
   "source": [
    "There are about 66 duplicated urls in jpg_url"
   ]
  },
  {
   "cell_type": "code",
   "execution_count": 32,
   "metadata": {},
   "outputs": [
    {
     "data": {
      "text/html": [
       "<div>\n",
       "<style scoped>\n",
       "    .dataframe tbody tr th:only-of-type {\n",
       "        vertical-align: middle;\n",
       "    }\n",
       "\n",
       "    .dataframe tbody tr th {\n",
       "        vertical-align: top;\n",
       "    }\n",
       "\n",
       "    .dataframe thead th {\n",
       "        text-align: right;\n",
       "    }\n",
       "</style>\n",
       "<table border=\"1\" class=\"dataframe\">\n",
       "  <thead>\n",
       "    <tr style=\"text-align: right;\">\n",
       "      <th></th>\n",
       "      <th>tweet_id</th>\n",
       "      <th>jpg_url</th>\n",
       "      <th>img_num</th>\n",
       "      <th>p1</th>\n",
       "      <th>p1_conf</th>\n",
       "      <th>p1_dog</th>\n",
       "      <th>p2</th>\n",
       "      <th>p2_conf</th>\n",
       "      <th>p2_dog</th>\n",
       "      <th>p3</th>\n",
       "      <th>p3_conf</th>\n",
       "      <th>p3_dog</th>\n",
       "    </tr>\n",
       "  </thead>\n",
       "  <tbody>\n",
       "    <tr>\n",
       "      <th>471</th>\n",
       "      <td>675135153782571009</td>\n",
       "      <td>https://pbs.twimg.com/media/CV6P1lnWIAAUQHk.jpg</td>\n",
       "      <td>1</td>\n",
       "      <td>stove</td>\n",
       "      <td>0.587507</td>\n",
       "      <td>False</td>\n",
       "      <td>rotisserie</td>\n",
       "      <td>0.051713</td>\n",
       "      <td>False</td>\n",
       "      <td>microwave</td>\n",
       "      <td>0.020725</td>\n",
       "      <td>False</td>\n",
       "    </tr>\n",
       "    <tr>\n",
       "      <th>1142</th>\n",
       "      <td>729854734790754305</td>\n",
       "      <td>https://pbs.twimg.com/media/CiD3AfkXEAA3S_r.jpg</td>\n",
       "      <td>1</td>\n",
       "      <td>doormat</td>\n",
       "      <td>0.359586</td>\n",
       "      <td>False</td>\n",
       "      <td>china_cabinet</td>\n",
       "      <td>0.053901</td>\n",
       "      <td>False</td>\n",
       "      <td>passenger_car</td>\n",
       "      <td>0.052665</td>\n",
       "      <td>False</td>\n",
       "    </tr>\n",
       "    <tr>\n",
       "      <th>56</th>\n",
       "      <td>667065535570550784</td>\n",
       "      <td>https://pbs.twimg.com/media/CUHkkJpXIAA2w3n.jpg</td>\n",
       "      <td>1</td>\n",
       "      <td>jigsaw_puzzle</td>\n",
       "      <td>0.560001</td>\n",
       "      <td>False</td>\n",
       "      <td>doormat</td>\n",
       "      <td>0.103259</td>\n",
       "      <td>False</td>\n",
       "      <td>space_heater</td>\n",
       "      <td>0.042568</td>\n",
       "      <td>False</td>\n",
       "    </tr>\n",
       "    <tr>\n",
       "      <th>761</th>\n",
       "      <td>688894073864884227</td>\n",
       "      <td>https://pbs.twimg.com/media/CY9xf1dUAAE4XLc.jpg</td>\n",
       "      <td>1</td>\n",
       "      <td>hog</td>\n",
       "      <td>0.669996</td>\n",
       "      <td>False</td>\n",
       "      <td>guinea_pig</td>\n",
       "      <td>0.077347</td>\n",
       "      <td>False</td>\n",
       "      <td>hamster</td>\n",
       "      <td>0.062398</td>\n",
       "      <td>False</td>\n",
       "    </tr>\n",
       "    <tr>\n",
       "      <th>948</th>\n",
       "      <td>704819833553219584</td>\n",
       "      <td>https://pbs.twimg.com/media/CcgF5ovW8AACrEU.jpg</td>\n",
       "      <td>1</td>\n",
       "      <td>guinea_pig</td>\n",
       "      <td>0.994776</td>\n",
       "      <td>False</td>\n",
       "      <td>hamster</td>\n",
       "      <td>0.004069</td>\n",
       "      <td>False</td>\n",
       "      <td>wood_rabbit</td>\n",
       "      <td>0.000206</td>\n",
       "      <td>False</td>\n",
       "    </tr>\n",
       "    <tr>\n",
       "      <th>1851</th>\n",
       "      <td>840370681858686976</td>\n",
       "      <td>https://pbs.twimg.com/media/C6mYrK0UwAANhep.jpg</td>\n",
       "      <td>1</td>\n",
       "      <td>teapot</td>\n",
       "      <td>0.981819</td>\n",
       "      <td>False</td>\n",
       "      <td>cup</td>\n",
       "      <td>0.014026</td>\n",
       "      <td>False</td>\n",
       "      <td>coffeepot</td>\n",
       "      <td>0.002421</td>\n",
       "      <td>False</td>\n",
       "    </tr>\n",
       "    <tr>\n",
       "      <th>195</th>\n",
       "      <td>669583744538451968</td>\n",
       "      <td>https://pbs.twimg.com/media/CUrW3DWXIAAiRqk.jpg</td>\n",
       "      <td>1</td>\n",
       "      <td>candle</td>\n",
       "      <td>0.174315</td>\n",
       "      <td>False</td>\n",
       "      <td>lampshade</td>\n",
       "      <td>0.120407</td>\n",
       "      <td>False</td>\n",
       "      <td>plunger</td>\n",
       "      <td>0.072099</td>\n",
       "      <td>False</td>\n",
       "    </tr>\n",
       "    <tr>\n",
       "      <th>615</th>\n",
       "      <td>680176173301628928</td>\n",
       "      <td>https://pbs.twimg.com/media/CXB4nWnWEAAhLTX.jpg</td>\n",
       "      <td>1</td>\n",
       "      <td>Christmas_stocking</td>\n",
       "      <td>0.207547</td>\n",
       "      <td>False</td>\n",
       "      <td>mask</td>\n",
       "      <td>0.193880</td>\n",
       "      <td>False</td>\n",
       "      <td>feather_boa</td>\n",
       "      <td>0.152738</td>\n",
       "      <td>False</td>\n",
       "    </tr>\n",
       "    <tr>\n",
       "      <th>424</th>\n",
       "      <td>674063288070742018</td>\n",
       "      <td>https://pbs.twimg.com/media/CVrA-rIWEAANxwQ.jpg</td>\n",
       "      <td>1</td>\n",
       "      <td>ostrich</td>\n",
       "      <td>0.661176</td>\n",
       "      <td>False</td>\n",
       "      <td>bearskin</td>\n",
       "      <td>0.214879</td>\n",
       "      <td>False</td>\n",
       "      <td>swab</td>\n",
       "      <td>0.064456</td>\n",
       "      <td>False</td>\n",
       "    </tr>\n",
       "    <tr>\n",
       "      <th>733</th>\n",
       "      <td>686749460672679938</td>\n",
       "      <td>https://pbs.twimg.com/media/CYfS75fWAAAllde.jpg</td>\n",
       "      <td>1</td>\n",
       "      <td>cheeseburger</td>\n",
       "      <td>0.643808</td>\n",
       "      <td>False</td>\n",
       "      <td>hotdog</td>\n",
       "      <td>0.201378</td>\n",
       "      <td>False</td>\n",
       "      <td>bagel</td>\n",
       "      <td>0.063880</td>\n",
       "      <td>False</td>\n",
       "    </tr>\n",
       "    <tr>\n",
       "      <th>118</th>\n",
       "      <td>668154635664932864</td>\n",
       "      <td>https://pbs.twimg.com/media/CUXDGR2WcAAUQKz.jpg</td>\n",
       "      <td>1</td>\n",
       "      <td>Arctic_fox</td>\n",
       "      <td>0.473584</td>\n",
       "      <td>False</td>\n",
       "      <td>wallaby</td>\n",
       "      <td>0.261411</td>\n",
       "      <td>False</td>\n",
       "      <td>white_wolf</td>\n",
       "      <td>0.080948</td>\n",
       "      <td>False</td>\n",
       "    </tr>\n",
       "    <tr>\n",
       "      <th>409</th>\n",
       "      <td>673715861853720576</td>\n",
       "      <td>https://pbs.twimg.com/media/CVmE_fAWIAAlDhU.jpg</td>\n",
       "      <td>1</td>\n",
       "      <td>suit</td>\n",
       "      <td>0.404115</td>\n",
       "      <td>False</td>\n",
       "      <td>bow_tie</td>\n",
       "      <td>0.294683</td>\n",
       "      <td>False</td>\n",
       "      <td>Windsor_tie</td>\n",
       "      <td>0.132701</td>\n",
       "      <td>False</td>\n",
       "    </tr>\n",
       "    <tr>\n",
       "      <th>806</th>\n",
       "      <td>691820333922455552</td>\n",
       "      <td>https://pbs.twimg.com/media/CZnW7JGW0AA83mn.jpg</td>\n",
       "      <td>1</td>\n",
       "      <td>minivan</td>\n",
       "      <td>0.332756</td>\n",
       "      <td>False</td>\n",
       "      <td>sports_car</td>\n",
       "      <td>0.129452</td>\n",
       "      <td>False</td>\n",
       "      <td>limousine</td>\n",
       "      <td>0.073936</td>\n",
       "      <td>False</td>\n",
       "    </tr>\n",
       "    <tr>\n",
       "      <th>301</th>\n",
       "      <td>671497587707535361</td>\n",
       "      <td>https://pbs.twimg.com/media/CVGjflNWoAEwgrQ.jpg</td>\n",
       "      <td>1</td>\n",
       "      <td>swing</td>\n",
       "      <td>0.089165</td>\n",
       "      <td>False</td>\n",
       "      <td>paddle</td>\n",
       "      <td>0.080747</td>\n",
       "      <td>False</td>\n",
       "      <td>bathing_cap</td>\n",
       "      <td>0.065694</td>\n",
       "      <td>False</td>\n",
       "    </tr>\n",
       "    <tr>\n",
       "      <th>794</th>\n",
       "      <td>690932576555528194</td>\n",
       "      <td>https://pbs.twimg.com/media/CZavgf4WkAARpFM.jpg</td>\n",
       "      <td>1</td>\n",
       "      <td>snorkel</td>\n",
       "      <td>0.526536</td>\n",
       "      <td>False</td>\n",
       "      <td>muzzle</td>\n",
       "      <td>0.048089</td>\n",
       "      <td>False</td>\n",
       "      <td>scuba_diver</td>\n",
       "      <td>0.034226</td>\n",
       "      <td>False</td>\n",
       "    </tr>\n",
       "    <tr>\n",
       "      <th>1835</th>\n",
       "      <td>837012587749474308</td>\n",
       "      <td>https://pbs.twimg.com/media/C52pYJXWgAA2BEf.jpg</td>\n",
       "      <td>1</td>\n",
       "      <td>toilet_tissue</td>\n",
       "      <td>0.186387</td>\n",
       "      <td>False</td>\n",
       "      <td>cowboy_hat</td>\n",
       "      <td>0.158555</td>\n",
       "      <td>False</td>\n",
       "      <td>sombrero</td>\n",
       "      <td>0.149470</td>\n",
       "      <td>False</td>\n",
       "    </tr>\n",
       "    <tr>\n",
       "      <th>484</th>\n",
       "      <td>675483430902214656</td>\n",
       "      <td>https://pbs.twimg.com/media/CV_MmGZU8AAggM6.jpg</td>\n",
       "      <td>1</td>\n",
       "      <td>box_turtle</td>\n",
       "      <td>0.543706</td>\n",
       "      <td>False</td>\n",
       "      <td>terrapin</td>\n",
       "      <td>0.202600</td>\n",
       "      <td>False</td>\n",
       "      <td>loggerhead</td>\n",
       "      <td>0.071122</td>\n",
       "      <td>False</td>\n",
       "    </tr>\n",
       "    <tr>\n",
       "      <th>1082</th>\n",
       "      <td>718454725339934721</td>\n",
       "      <td>https://pbs.twimg.com/media/Cfh2w6HWIAIIYAF.jpg</td>\n",
       "      <td>1</td>\n",
       "      <td>hammer</td>\n",
       "      <td>0.169865</td>\n",
       "      <td>False</td>\n",
       "      <td>hatchet</td>\n",
       "      <td>0.115744</td>\n",
       "      <td>False</td>\n",
       "      <td>chime</td>\n",
       "      <td>0.068092</td>\n",
       "      <td>False</td>\n",
       "    </tr>\n",
       "    <tr>\n",
       "      <th>1931</th>\n",
       "      <td>859074603037188101</td>\n",
       "      <td>https://pbs.twimg.com/media/C-wLyufW0AA546I.jpg</td>\n",
       "      <td>1</td>\n",
       "      <td>revolver</td>\n",
       "      <td>0.190292</td>\n",
       "      <td>False</td>\n",
       "      <td>projectile</td>\n",
       "      <td>0.149064</td>\n",
       "      <td>False</td>\n",
       "      <td>fountain</td>\n",
       "      <td>0.066047</td>\n",
       "      <td>False</td>\n",
       "    </tr>\n",
       "    <tr>\n",
       "      <th>754</th>\n",
       "      <td>688211956440801280</td>\n",
       "      <td>https://pbs.twimg.com/ext_tw_video_thumb/68821...</td>\n",
       "      <td>1</td>\n",
       "      <td>bannister</td>\n",
       "      <td>0.369449</td>\n",
       "      <td>False</td>\n",
       "      <td>four-poster</td>\n",
       "      <td>0.105307</td>\n",
       "      <td>False</td>\n",
       "      <td>shoji</td>\n",
       "      <td>0.098767</td>\n",
       "      <td>False</td>\n",
       "    </tr>\n",
       "  </tbody>\n",
       "</table>\n",
       "</div>"
      ],
      "text/plain": [
       "                tweet_id                                            jpg_url  \\\n",
       "471   675135153782571009    https://pbs.twimg.com/media/CV6P1lnWIAAUQHk.jpg   \n",
       "1142  729854734790754305    https://pbs.twimg.com/media/CiD3AfkXEAA3S_r.jpg   \n",
       "56    667065535570550784    https://pbs.twimg.com/media/CUHkkJpXIAA2w3n.jpg   \n",
       "761   688894073864884227    https://pbs.twimg.com/media/CY9xf1dUAAE4XLc.jpg   \n",
       "948   704819833553219584    https://pbs.twimg.com/media/CcgF5ovW8AACrEU.jpg   \n",
       "1851  840370681858686976    https://pbs.twimg.com/media/C6mYrK0UwAANhep.jpg   \n",
       "195   669583744538451968    https://pbs.twimg.com/media/CUrW3DWXIAAiRqk.jpg   \n",
       "615   680176173301628928    https://pbs.twimg.com/media/CXB4nWnWEAAhLTX.jpg   \n",
       "424   674063288070742018    https://pbs.twimg.com/media/CVrA-rIWEAANxwQ.jpg   \n",
       "733   686749460672679938    https://pbs.twimg.com/media/CYfS75fWAAAllde.jpg   \n",
       "118   668154635664932864    https://pbs.twimg.com/media/CUXDGR2WcAAUQKz.jpg   \n",
       "409   673715861853720576    https://pbs.twimg.com/media/CVmE_fAWIAAlDhU.jpg   \n",
       "806   691820333922455552    https://pbs.twimg.com/media/CZnW7JGW0AA83mn.jpg   \n",
       "301   671497587707535361    https://pbs.twimg.com/media/CVGjflNWoAEwgrQ.jpg   \n",
       "794   690932576555528194    https://pbs.twimg.com/media/CZavgf4WkAARpFM.jpg   \n",
       "1835  837012587749474308    https://pbs.twimg.com/media/C52pYJXWgAA2BEf.jpg   \n",
       "484   675483430902214656    https://pbs.twimg.com/media/CV_MmGZU8AAggM6.jpg   \n",
       "1082  718454725339934721    https://pbs.twimg.com/media/Cfh2w6HWIAIIYAF.jpg   \n",
       "1931  859074603037188101    https://pbs.twimg.com/media/C-wLyufW0AA546I.jpg   \n",
       "754   688211956440801280  https://pbs.twimg.com/ext_tw_video_thumb/68821...   \n",
       "\n",
       "      img_num                  p1   p1_conf  p1_dog             p2   p2_conf  \\\n",
       "471         1               stove  0.587507   False     rotisserie  0.051713   \n",
       "1142        1             doormat  0.359586   False  china_cabinet  0.053901   \n",
       "56          1       jigsaw_puzzle  0.560001   False        doormat  0.103259   \n",
       "761         1                 hog  0.669996   False     guinea_pig  0.077347   \n",
       "948         1          guinea_pig  0.994776   False        hamster  0.004069   \n",
       "1851        1              teapot  0.981819   False            cup  0.014026   \n",
       "195         1              candle  0.174315   False      lampshade  0.120407   \n",
       "615         1  Christmas_stocking  0.207547   False           mask  0.193880   \n",
       "424         1             ostrich  0.661176   False       bearskin  0.214879   \n",
       "733         1        cheeseburger  0.643808   False         hotdog  0.201378   \n",
       "118         1          Arctic_fox  0.473584   False        wallaby  0.261411   \n",
       "409         1                suit  0.404115   False        bow_tie  0.294683   \n",
       "806         1             minivan  0.332756   False     sports_car  0.129452   \n",
       "301         1               swing  0.089165   False         paddle  0.080747   \n",
       "794         1             snorkel  0.526536   False         muzzle  0.048089   \n",
       "1835        1       toilet_tissue  0.186387   False     cowboy_hat  0.158555   \n",
       "484         1          box_turtle  0.543706   False       terrapin  0.202600   \n",
       "1082        1              hammer  0.169865   False        hatchet  0.115744   \n",
       "1931        1            revolver  0.190292   False     projectile  0.149064   \n",
       "754         1           bannister  0.369449   False    four-poster  0.105307   \n",
       "\n",
       "      p2_dog             p3   p3_conf  p3_dog  \n",
       "471    False      microwave  0.020725   False  \n",
       "1142   False  passenger_car  0.052665   False  \n",
       "56     False   space_heater  0.042568   False  \n",
       "761    False        hamster  0.062398   False  \n",
       "948    False    wood_rabbit  0.000206   False  \n",
       "1851   False      coffeepot  0.002421   False  \n",
       "195    False        plunger  0.072099   False  \n",
       "615    False    feather_boa  0.152738   False  \n",
       "424    False           swab  0.064456   False  \n",
       "733    False          bagel  0.063880   False  \n",
       "118    False     white_wolf  0.080948   False  \n",
       "409    False    Windsor_tie  0.132701   False  \n",
       "806    False      limousine  0.073936   False  \n",
       "301    False    bathing_cap  0.065694   False  \n",
       "794    False    scuba_diver  0.034226   False  \n",
       "1835   False       sombrero  0.149470   False  \n",
       "484    False     loggerhead  0.071122   False  \n",
       "1082   False          chime  0.068092   False  \n",
       "1931   False       fountain  0.066047   False  \n",
       "754    False          shoji  0.098767   False  "
      ]
     },
     "execution_count": 32,
     "metadata": {},
     "output_type": "execute_result"
    }
   ],
   "source": [
    "df_image_false = df_image_prediction[(df_image_prediction.p1_dog == False) &\n",
    "                                     (df_image_prediction.p2_dog == False) & \n",
    "                                     (df_image_prediction.p3_dog == False)] \n",
    "df_image_false.sample(20)"
   ]
  },
  {
   "cell_type": "code",
   "execution_count": 33,
   "metadata": {},
   "outputs": [
    {
     "data": {
      "text/plain": [
       "(324, 12)"
      ]
     },
     "execution_count": 33,
     "metadata": {},
     "output_type": "execute_result"
    }
   ],
   "source": [
    "df_image_false.shape"
   ]
  },
  {
   "cell_type": "markdown",
   "metadata": {},
   "source": [
    "There are 324 entries in the image prediction dataset with `p1_dog`, `p2_dog`, `p3_dog` values as False"
   ]
  },
  {
   "cell_type": "code",
   "execution_count": 34,
   "metadata": {},
   "outputs": [
    {
     "data": {
      "text/plain": [
       "12      558\n",
       "11      464\n",
       "10      461\n",
       "13      351\n",
       "9       158\n",
       "8       102\n",
       "7        55\n",
       "14       54\n",
       "5        37\n",
       "6        32\n",
       "3        19\n",
       "4        17\n",
       "1         9\n",
       "2         9\n",
       "420       2\n",
       "0         2\n",
       "15        2\n",
       "75        2\n",
       "80        1\n",
       "20        1\n",
       "24        1\n",
       "26        1\n",
       "44        1\n",
       "50        1\n",
       "60        1\n",
       "165       1\n",
       "84        1\n",
       "88        1\n",
       "144       1\n",
       "182       1\n",
       "143       1\n",
       "666       1\n",
       "960       1\n",
       "1776      1\n",
       "17        1\n",
       "27        1\n",
       "45        1\n",
       "99        1\n",
       "121       1\n",
       "204       1\n",
       "Name: rating_numerator, dtype: int64"
      ]
     },
     "execution_count": 34,
     "metadata": {},
     "output_type": "execute_result"
    }
   ],
   "source": [
    "df_tweet['rating_numerator'].value_counts()"
   ]
  },
  {
   "cell_type": "code",
   "execution_count": 35,
   "metadata": {},
   "outputs": [
    {
     "data": {
      "text/plain": [
       "10     2333\n",
       "11        3\n",
       "50        3\n",
       "80        2\n",
       "20        2\n",
       "2         1\n",
       "16        1\n",
       "40        1\n",
       "70        1\n",
       "15        1\n",
       "90        1\n",
       "110       1\n",
       "120       1\n",
       "130       1\n",
       "150       1\n",
       "170       1\n",
       "7         1\n",
       "0         1\n",
       "Name: rating_denominator, dtype: int64"
      ]
     },
     "execution_count": 35,
     "metadata": {},
     "output_type": "execute_result"
    }
   ],
   "source": [
    "df_tweet['rating_denominator'].value_counts()"
   ]
  },
  {
   "cell_type": "markdown",
   "metadata": {},
   "source": [
    "There are a lot of outliers in the `rating_numerator` and `rating_denominator`. This could be as a result of the unique rating system"
   ]
  },
  {
   "cell_type": "code",
   "execution_count": 36,
   "metadata": {},
   "outputs": [
    {
     "data": {
      "text/plain": [
       "(78, 17)"
      ]
     },
     "execution_count": 36,
     "metadata": {},
     "output_type": "execute_result"
    }
   ],
   "source": [
    "df_replies = df_tweet[df_tweet['in_reply_to_status_id'].isna() == False]\n",
    "df_replies.shape"
   ]
  },
  {
   "cell_type": "code",
   "execution_count": 37,
   "metadata": {},
   "outputs": [
    {
     "data": {
      "text/plain": [
       "(181, 17)"
      ]
     },
     "execution_count": 37,
     "metadata": {},
     "output_type": "execute_result"
    }
   ],
   "source": [
    "df_retweets = df_tweet[df_tweet['retweeted_status_id'].isna() == False]\n",
    "df_retweets.shape"
   ]
  },
  {
   "cell_type": "markdown",
   "metadata": {},
   "source": [
    "There are 78 reply tweets and 181 tweets that are retweets in the dataset. "
   ]
  },
  {
   "cell_type": "code",
   "execution_count": 38,
   "metadata": {},
   "outputs": [
    {
     "data": {
      "text/plain": [
       "None       745\n",
       "a           55\n",
       "Charlie     12\n",
       "Cooper      11\n",
       "Lucy        11\n",
       "          ... \n",
       "Swagger      1\n",
       "Glenn        1\n",
       "Jersey       1\n",
       "my           1\n",
       "Andy         1\n",
       "Name: name, Length: 957, dtype: int64"
      ]
     },
     "execution_count": 38,
     "metadata": {},
     "output_type": "execute_result"
    }
   ],
   "source": [
    "df_tweet.name.value_counts()"
   ]
  },
  {
   "cell_type": "markdown",
   "metadata": {},
   "source": [
    "There are letters used as names in the `name` column"
   ]
  },
  {
   "cell_type": "markdown",
   "metadata": {},
   "source": [
    "### Quality issues\n",
    "\n",
    "```df_tweet ``` table\n",
    "\n",
    "1. Erroneous datatypes (`timestamp` column)\n",
    "\n",
    "2. There are rows in the `expanded_urls` column with missing data and rows with duplicated urls separated by comma `,`\n",
    "\n",
    "3. Irrelevant columns with missing data ( `in_reply_to_status_id, in_reply_to_user_id, retweeted_status_id, retweeted_status_user_id, retweeted_status_timestamp`) since our analysis does not involve retweets and replies, only original tweets. These columns will be dropped \n",
    "\n",
    "4. Inaccurate values ( name column ) names witten as `None`, `a`, `by`, `very`. After visual assessment I observed that real Dog names are in uppercase.\n",
    "\n",
    "`df_image_prediction` table\n",
    "\n",
    "5. Inconsistent values in `p1`, `p2`, `p3` columns (some values are in Uppercase while some are in lowercase)\n",
    "\n",
    "6. There are rows where `p1_dog`, `p2_dog`, `p3_dog` are False. This indicates that the image is not that of a dog\n",
    "\n",
    "7. There are duplicated urls in the `jpg_url` column\n",
    "\n",
    "8. The `img_num` column is irrelevant as it does not improve our analysis\n"
   ]
  },
  {
   "cell_type": "markdown",
   "metadata": {
    "extensions": {
     "jupyter_dashboards": {
      "version": 1,
      "views": {
       "grid_default": {
        "col": 0,
        "height": 7,
        "hidden": false,
        "row": 40,
        "width": 12
       },
       "report_default": {
        "hidden": false
       }
      }
     }
    }
   },
   "source": [
    "### Tidiness issues\n",
    "1. One variable in two columns `rating_numerator` and `rating_denominator` (ratings)\n",
    "\n",
    "2. `df_tweet`, `df_tweet_api` and `df_image_prediction` should be joined as one table to form a single observational unit\n",
    "\n",
    "3. One variable in four columns `doggo`, `floofer`, `pupper`, `puppo`  (dog_stages)"
   ]
  },
  {
   "cell_type": "markdown",
   "metadata": {
    "extensions": {
     "jupyter_dashboards": {
      "version": 1,
      "views": {
       "grid_default": {
        "col": 4,
        "height": 4,
        "hidden": false,
        "row": 32,
        "width": 4
       },
       "report_default": {
        "hidden": false
       }
      }
     }
    }
   },
   "source": [
    "## Cleaning Data\n",
    "In this section, clean **all** of the issues you documented while assessing. \n",
    "\n",
    "**Note:** Make a copy of the original data before cleaning. Cleaning includes merging individual pieces of data according to the rules of [tidy data](https://cran.r-project.org/web/packages/tidyr/vignettes/tidy-data.html). The result should be a high-quality and tidy master pandas DataFrame (or DataFrames, if appropriate)."
   ]
  },
  {
   "cell_type": "code",
   "execution_count": 39,
   "metadata": {},
   "outputs": [],
   "source": [
    "# Make copies of original pieces of data\n",
    "tweet_clean = df_tweet.copy()\n",
    "tweet_api_clean = df_tweet_api.copy()\n",
    "image_clean = df_image_prediction.copy()"
   ]
  },
  {
   "cell_type": "markdown",
   "metadata": {},
   "source": [
    "### Missing Data:\n",
    "\n",
    "**`df_tweet`**: There are rows in the `expanded_urls` column with missing data and rows with duplicated urls separated by comma ,"
   ]
  },
  {
   "cell_type": "markdown",
   "metadata": {},
   "source": [
    "#### Define: Remove rows with null values, duplicates and split the rows with two urls separated by comma"
   ]
  },
  {
   "cell_type": "markdown",
   "metadata": {},
   "source": [
    "#### Code"
   ]
  },
  {
   "cell_type": "code",
   "execution_count": 40,
   "metadata": {},
   "outputs": [],
   "source": [
    "# Removing rows with null values\n",
    "tweet_clean = tweet_clean[tweet_clean['expanded_urls'].isna() == False ]"
   ]
  },
  {
   "cell_type": "code",
   "execution_count": 41,
   "metadata": {},
   "outputs": [],
   "source": [
    "# Splitting the urls separated with comma and picking the first index\n",
    "tweet_clean['expanded_urls'] = tweet_clean['expanded_urls'].str.split(',').str[0]\n"
   ]
  },
  {
   "cell_type": "code",
   "execution_count": 42,
   "metadata": {},
   "outputs": [],
   "source": [
    "# Dropping duplicated expanded_urls\n",
    "tweet_clean.drop_duplicates(subset=['expanded_urls'], inplace=True)"
   ]
  },
  {
   "cell_type": "markdown",
   "metadata": {},
   "source": [
    "#### Test"
   ]
  },
  {
   "cell_type": "code",
   "execution_count": 43,
   "metadata": {},
   "outputs": [
    {
     "name": "stdout",
     "output_type": "stream",
     "text": [
      "<class 'pandas.core.frame.DataFrame'>\n",
      "Int64Index: 2140 entries, 0 to 2355\n",
      "Data columns (total 17 columns):\n",
      " #   Column                      Non-Null Count  Dtype  \n",
      "---  ------                      --------------  -----  \n",
      " 0   tweet_id                    2140 non-null   int64  \n",
      " 1   in_reply_to_status_id       23 non-null     float64\n",
      " 2   in_reply_to_user_id         23 non-null     float64\n",
      " 3   timestamp                   2140 non-null   object \n",
      " 4   source                      2140 non-null   object \n",
      " 5   text                        2140 non-null   object \n",
      " 6   retweeted_status_id         180 non-null    float64\n",
      " 7   retweeted_status_user_id    180 non-null    float64\n",
      " 8   retweeted_status_timestamp  180 non-null    object \n",
      " 9   expanded_urls               2140 non-null   object \n",
      " 10  rating_numerator            2140 non-null   int64  \n",
      " 11  rating_denominator          2140 non-null   int64  \n",
      " 12  name                        2140 non-null   object \n",
      " 13  doggo                       2140 non-null   object \n",
      " 14  floofer                     2140 non-null   object \n",
      " 15  pupper                      2140 non-null   object \n",
      " 16  puppo                       2140 non-null   object \n",
      "dtypes: float64(4), int64(3), object(10)\n",
      "memory usage: 300.9+ KB\n"
     ]
    }
   ],
   "source": [
    "tweet_clean.info()"
   ]
  },
  {
   "cell_type": "code",
   "execution_count": 44,
   "metadata": {},
   "outputs": [
    {
     "data": {
      "text/plain": [
       "https://twitter.com/dog_rates/status/670792680469889025/photo/1    1\n",
       "https://twitter.com/dog_rates/status/734912297295085568/photo/1    1\n",
       "https://twitter.com/dog_rates/status/674767892831932416/photo/1    1\n",
       "https://twitter.com/dog_rates/status/695816827381944320/photo/1    1\n",
       "https://twitter.com/dog_rates/status/731156023742988288/photo/1    1\n",
       "                                                                  ..\n",
       "https://twitter.com/dog_rates/status/870063196459192321/photo/1    1\n",
       "https://twitter.com/dog_rates/status/757741869644341248/photo/1    1\n",
       "https://twitter.com/dog_rates/status/690735892932222976/photo/1    1\n",
       "https://twitter.com/dog_rates/status/667177989038297088/photo/1    1\n",
       "https://twitter.com/dog_rates/status/739238157791694849/video/1    1\n",
       "Name: expanded_urls, Length: 2140, dtype: int64"
      ]
     },
     "execution_count": 44,
     "metadata": {},
     "output_type": "execute_result"
    }
   ],
   "source": [
    "tweet_clean.expanded_urls.value_counts()"
   ]
  },
  {
   "cell_type": "code",
   "execution_count": 45,
   "metadata": {},
   "outputs": [
    {
     "data": {
      "text/plain": [
       "0"
      ]
     },
     "execution_count": 45,
     "metadata": {},
     "output_type": "execute_result"
    }
   ],
   "source": [
    "sum(tweet_clean.expanded_urls.duplicated())"
   ]
  },
  {
   "cell_type": "code",
   "execution_count": 46,
   "metadata": {},
   "outputs": [
    {
     "data": {
      "text/plain": [
       "(2140, 17)"
      ]
     },
     "execution_count": 46,
     "metadata": {},
     "output_type": "execute_result"
    }
   ],
   "source": [
    "tweet_clean.shape"
   ]
  },
  {
   "cell_type": "markdown",
   "metadata": {},
   "source": [
    "### Irrelevant data: \n",
    "\n",
    "`df_tweet`: Irrelevant columns with missing data (**in_reply_to_status_id, in_reply_to_user_id, retweeted_status_id, retweeted_status_user_id, retweeted_status_timestamp**) since our analysis does not involve retweets and replies, only original tweets. These columns will be dropped"
   ]
  },
  {
   "cell_type": "markdown",
   "metadata": {
    "collapsed": true,
    "extensions": {
     "jupyter_dashboards": {
      "version": 1,
      "views": {
       "grid_default": {
        "hidden": true
       },
       "report_default": {
        "hidden": true
       }
      }
     }
    }
   },
   "source": [
    "#### Define\n",
    "- Join tweet_clean and tweet_api_clean dataframes together\n",
    "- Drop irrelevant columns and missing data (**in_reply_to_status_id, in_reply_to_user_id, retweeted_status_id, retweeted_status_user_id, retweeted_status_timestamp**) so we are left with original tweets"
   ]
  },
  {
   "cell_type": "markdown",
   "metadata": {},
   "source": [
    "#### Code"
   ]
  },
  {
   "cell_type": "code",
   "execution_count": 47,
   "metadata": {},
   "outputs": [],
   "source": [
    "# Merging tweet_clean and tweet_api_clean dataframes together\n",
    "df_combined_tweet = pd.merge(tweet_clean, tweet_api_clean, on=\"tweet_id\", how=\"left\")"
   ]
  },
  {
   "cell_type": "code",
   "execution_count": 48,
   "metadata": {},
   "outputs": [],
   "source": [
    "# Filter the original tweets\n",
    "df_original_tweet = df_combined_tweet[(df_combined_tweet['retweeted_status_id'].isnull()) &\n",
    "                                     (df_combined_tweet['in_reply_to_status_id'].isnull())]"
   ]
  },
  {
   "cell_type": "code",
   "execution_count": 49,
   "metadata": {},
   "outputs": [],
   "source": [
    "# drop the irrelevant columns\n",
    "df_original_tweet = df_original_tweet.drop(['in_reply_to_status_id', 'in_reply_to_user_id', 'retweeted_status_id',\n",
    "                                            'retweeted_status_user_id', 'retweeted_status_timestamp'], axis=1)"
   ]
  },
  {
   "cell_type": "markdown",
   "metadata": {},
   "source": [
    "#### Test"
   ]
  },
  {
   "cell_type": "code",
   "execution_count": 50,
   "metadata": {},
   "outputs": [
    {
     "name": "stdout",
     "output_type": "stream",
     "text": [
      "<class 'pandas.core.frame.DataFrame'>\n",
      "Int64Index: 2140 entries, 0 to 2139\n",
      "Data columns (total 19 columns):\n",
      " #   Column                      Non-Null Count  Dtype  \n",
      "---  ------                      --------------  -----  \n",
      " 0   tweet_id                    2140 non-null   int64  \n",
      " 1   in_reply_to_status_id       23 non-null     float64\n",
      " 2   in_reply_to_user_id         23 non-null     float64\n",
      " 3   timestamp                   2140 non-null   object \n",
      " 4   source                      2140 non-null   object \n",
      " 5   text                        2140 non-null   object \n",
      " 6   retweeted_status_id         180 non-null    float64\n",
      " 7   retweeted_status_user_id    180 non-null    float64\n",
      " 8   retweeted_status_timestamp  180 non-null    object \n",
      " 9   expanded_urls               2140 non-null   object \n",
      " 10  rating_numerator            2140 non-null   int64  \n",
      " 11  rating_denominator          2140 non-null   int64  \n",
      " 12  name                        2140 non-null   object \n",
      " 13  doggo                       2140 non-null   object \n",
      " 14  floofer                     2140 non-null   object \n",
      " 15  pupper                      2140 non-null   object \n",
      " 16  puppo                       2140 non-null   object \n",
      " 17  retweet_count               2116 non-null   float64\n",
      " 18  favorite_count              2116 non-null   float64\n",
      "dtypes: float64(6), int64(3), object(10)\n",
      "memory usage: 334.4+ KB\n"
     ]
    }
   ],
   "source": [
    "df_combined_tweet.info() "
   ]
  },
  {
   "cell_type": "code",
   "execution_count": 51,
   "metadata": {},
   "outputs": [
    {
     "name": "stdout",
     "output_type": "stream",
     "text": [
      "<class 'pandas.core.frame.DataFrame'>\n",
      "Int64Index: 1937 entries, 0 to 2139\n",
      "Data columns (total 14 columns):\n",
      " #   Column              Non-Null Count  Dtype  \n",
      "---  ------              --------------  -----  \n",
      " 0   tweet_id            1937 non-null   int64  \n",
      " 1   timestamp           1937 non-null   object \n",
      " 2   source              1937 non-null   object \n",
      " 3   text                1937 non-null   object \n",
      " 4   expanded_urls       1937 non-null   object \n",
      " 5   rating_numerator    1937 non-null   int64  \n",
      " 6   rating_denominator  1937 non-null   int64  \n",
      " 7   name                1937 non-null   object \n",
      " 8   doggo               1937 non-null   object \n",
      " 9   floofer             1937 non-null   object \n",
      " 10  pupper              1937 non-null   object \n",
      " 11  puppo               1937 non-null   object \n",
      " 12  retweet_count       1933 non-null   float64\n",
      " 13  favorite_count      1933 non-null   float64\n",
      "dtypes: float64(2), int64(3), object(9)\n",
      "memory usage: 227.0+ KB\n"
     ]
    }
   ],
   "source": [
    "df_original_tweet.info()"
   ]
  },
  {
   "cell_type": "markdown",
   "metadata": {},
   "source": [
    "It appears that the retweet_count and favorite_count still have null values "
   ]
  },
  {
   "cell_type": "code",
   "execution_count": 52,
   "metadata": {},
   "outputs": [
    {
     "data": {
      "text/plain": [
       "0"
      ]
     },
     "execution_count": 52,
     "metadata": {},
     "output_type": "execute_result"
    }
   ],
   "source": [
    "sum(df_original_tweet.expanded_urls.duplicated())"
   ]
  },
  {
   "cell_type": "code",
   "execution_count": 53,
   "metadata": {},
   "outputs": [
    {
     "data": {
      "text/plain": [
       "tweet_id              False\n",
       "timestamp             False\n",
       "source                False\n",
       "text                  False\n",
       "expanded_urls         False\n",
       "rating_numerator      False\n",
       "rating_denominator    False\n",
       "name                  False\n",
       "doggo                 False\n",
       "floofer               False\n",
       "pupper                False\n",
       "puppo                 False\n",
       "retweet_count          True\n",
       "favorite_count         True\n",
       "dtype: bool"
      ]
     },
     "execution_count": 53,
     "metadata": {},
     "output_type": "execute_result"
    }
   ],
   "source": [
    "df_original_tweet.isna().any()"
   ]
  },
  {
   "cell_type": "markdown",
   "metadata": {},
   "source": [
    "#### null values in the retweet_count and favorite_count"
   ]
  },
  {
   "cell_type": "markdown",
   "metadata": {},
   "source": [
    "#### Define \n",
    "- Drop null values in retweet_count and favorite_count"
   ]
  },
  {
   "cell_type": "markdown",
   "metadata": {},
   "source": [
    "#### Code"
   ]
  },
  {
   "cell_type": "code",
   "execution_count": 54,
   "metadata": {},
   "outputs": [],
   "source": [
    "# Dropping null values in retweet_count and favorite_count\n",
    "df_original_tweet.dropna(subset=['retweet_count', 'favorite_count'], inplace=True)"
   ]
  },
  {
   "cell_type": "markdown",
   "metadata": {},
   "source": [
    "#### Test"
   ]
  },
  {
   "cell_type": "code",
   "execution_count": 55,
   "metadata": {},
   "outputs": [
    {
     "name": "stdout",
     "output_type": "stream",
     "text": [
      "<class 'pandas.core.frame.DataFrame'>\n",
      "Int64Index: 1933 entries, 0 to 2139\n",
      "Data columns (total 14 columns):\n",
      " #   Column              Non-Null Count  Dtype  \n",
      "---  ------              --------------  -----  \n",
      " 0   tweet_id            1933 non-null   int64  \n",
      " 1   timestamp           1933 non-null   object \n",
      " 2   source              1933 non-null   object \n",
      " 3   text                1933 non-null   object \n",
      " 4   expanded_urls       1933 non-null   object \n",
      " 5   rating_numerator    1933 non-null   int64  \n",
      " 6   rating_denominator  1933 non-null   int64  \n",
      " 7   name                1933 non-null   object \n",
      " 8   doggo               1933 non-null   object \n",
      " 9   floofer             1933 non-null   object \n",
      " 10  pupper              1933 non-null   object \n",
      " 11  puppo               1933 non-null   object \n",
      " 12  retweet_count       1933 non-null   float64\n",
      " 13  favorite_count      1933 non-null   float64\n",
      "dtypes: float64(2), int64(3), object(9)\n",
      "memory usage: 226.5+ KB\n"
     ]
    }
   ],
   "source": [
    "df_original_tweet.info()"
   ]
  },
  {
   "cell_type": "markdown",
   "metadata": {},
   "source": [
    "### `df_tweet`: Erroneous datatypes (timestamp column)"
   ]
  },
  {
   "cell_type": "markdown",
   "metadata": {},
   "source": [
    "#### Define\n",
    "- Change the datatype of the timestamp column to datetime"
   ]
  },
  {
   "cell_type": "markdown",
   "metadata": {},
   "source": [
    "#### Code"
   ]
  },
  {
   "cell_type": "code",
   "execution_count": 56,
   "metadata": {},
   "outputs": [],
   "source": [
    "# converting timestamp to datetime\n",
    "df_original_tweet['timestamp'] = pd.to_datetime(df_original_tweet['timestamp'])"
   ]
  },
  {
   "cell_type": "markdown",
   "metadata": {},
   "source": [
    "#### Test"
   ]
  },
  {
   "cell_type": "code",
   "execution_count": 57,
   "metadata": {},
   "outputs": [
    {
     "name": "stdout",
     "output_type": "stream",
     "text": [
      "<class 'pandas.core.frame.DataFrame'>\n",
      "Int64Index: 1933 entries, 0 to 2139\n",
      "Data columns (total 14 columns):\n",
      " #   Column              Non-Null Count  Dtype              \n",
      "---  ------              --------------  -----              \n",
      " 0   tweet_id            1933 non-null   int64              \n",
      " 1   timestamp           1933 non-null   datetime64[ns, UTC]\n",
      " 2   source              1933 non-null   object             \n",
      " 3   text                1933 non-null   object             \n",
      " 4   expanded_urls       1933 non-null   object             \n",
      " 5   rating_numerator    1933 non-null   int64              \n",
      " 6   rating_denominator  1933 non-null   int64              \n",
      " 7   name                1933 non-null   object             \n",
      " 8   doggo               1933 non-null   object             \n",
      " 9   floofer             1933 non-null   object             \n",
      " 10  pupper              1933 non-null   object             \n",
      " 11  puppo               1933 non-null   object             \n",
      " 12  retweet_count       1933 non-null   float64            \n",
      " 13  favorite_count      1933 non-null   float64            \n",
      "dtypes: datetime64[ns, UTC](1), float64(2), int64(3), object(8)\n",
      "memory usage: 226.5+ KB\n"
     ]
    }
   ],
   "source": [
    "df_original_tweet.info()"
   ]
  },
  {
   "cell_type": "markdown",
   "metadata": {},
   "source": [
    "###  `df_tweet` : Inaccurate data \n",
    "\n",
    "Inaccurate values ( name column ) names witten as `None`, `a`, `by`, `very`, `not`, `the`, `my`, `his`, `one`. After visual assessment I observed that real Dog names are in uppercase.\n"
   ]
  },
  {
   "cell_type": "markdown",
   "metadata": {},
   "source": [
    "#### Define\n",
    "- Replace the inaccurate values with null"
   ]
  },
  {
   "cell_type": "markdown",
   "metadata": {},
   "source": [
    "#### Code"
   ]
  },
  {
   "cell_type": "code",
   "execution_count": 58,
   "metadata": {},
   "outputs": [],
   "source": [
    "list_to_replace = ['None', 'a', 'by', 'very', 'not', 'the', 'my', 'his','one', 'an']\n",
    "# replacing the inaccurate names with null\n",
    "df_original_tweet['name'] = df_original_tweet['name'].replace(list_to_replace, np.NaN)"
   ]
  },
  {
   "cell_type": "markdown",
   "metadata": {},
   "source": [
    "#### Test"
   ]
  },
  {
   "cell_type": "code",
   "execution_count": 59,
   "metadata": {},
   "outputs": [
    {
     "data": {
      "text/plain": [
       "Lucy       10\n",
       "Oliver      9\n",
       "Cooper      9\n",
       "Charlie     9\n",
       "Sadie       8\n",
       "           ..\n",
       "Tedrick     1\n",
       "Sid         1\n",
       "Nida        1\n",
       "BeBe        1\n",
       "Andy        1\n",
       "Name: name, Length: 888, dtype: int64"
      ]
     },
     "execution_count": 59,
     "metadata": {},
     "output_type": "execute_result"
    }
   ],
   "source": [
    "df_original_tweet.name.value_counts()"
   ]
  },
  {
   "cell_type": "code",
   "execution_count": 60,
   "metadata": {},
   "outputs": [
    {
     "name": "stdout",
     "output_type": "stream",
     "text": [
      "<class 'pandas.core.frame.DataFrame'>\n",
      "Int64Index: 1933 entries, 0 to 2139\n",
      "Data columns (total 14 columns):\n",
      " #   Column              Non-Null Count  Dtype              \n",
      "---  ------              --------------  -----              \n",
      " 0   tweet_id            1933 non-null   int64              \n",
      " 1   timestamp           1933 non-null   datetime64[ns, UTC]\n",
      " 2   source              1933 non-null   object             \n",
      " 3   text                1933 non-null   object             \n",
      " 4   expanded_urls       1933 non-null   object             \n",
      " 5   rating_numerator    1933 non-null   int64              \n",
      " 6   rating_denominator  1933 non-null   int64              \n",
      " 7   name                1295 non-null   object             \n",
      " 8   doggo               1933 non-null   object             \n",
      " 9   floofer             1933 non-null   object             \n",
      " 10  pupper              1933 non-null   object             \n",
      " 11  puppo               1933 non-null   object             \n",
      " 12  retweet_count       1933 non-null   float64            \n",
      " 13  favorite_count      1933 non-null   float64            \n",
      "dtypes: datetime64[ns, UTC](1), float64(2), int64(3), object(8)\n",
      "memory usage: 226.5+ KB\n"
     ]
    }
   ],
   "source": [
    "\n",
    "df_original_tweet.info()"
   ]
  },
  {
   "cell_type": "markdown",
   "metadata": {},
   "source": [
    "##  Inconsistent values\n",
    "\n",
    "**`df_image_prediction`**: Inconsistent values in `p1`, `p2`, `p3` columns (some values are in Uppercase while some are in lowercase)"
   ]
  },
  {
   "cell_type": "markdown",
   "metadata": {},
   "source": [
    "### Define\n",
    "- convert all the data in `p1`, `p2`, `p3` columns into lowercase letters"
   ]
  },
  {
   "cell_type": "markdown",
   "metadata": {},
   "source": [
    "#### Code"
   ]
  },
  {
   "cell_type": "code",
   "execution_count": 61,
   "metadata": {},
   "outputs": [],
   "source": [
    "# Converting to lowercase letters\n",
    "image_clean['p1'] = image_clean['p1'].str.lower()\n",
    "image_clean['p2'] = image_clean['p2'].str.lower()\n",
    "image_clean['p3'] = image_clean['p3'].str.lower()"
   ]
  },
  {
   "cell_type": "markdown",
   "metadata": {},
   "source": [
    "#### Test"
   ]
  },
  {
   "cell_type": "code",
   "execution_count": 62,
   "metadata": {},
   "outputs": [
    {
     "data": {
      "text/html": [
       "<div>\n",
       "<style scoped>\n",
       "    .dataframe tbody tr th:only-of-type {\n",
       "        vertical-align: middle;\n",
       "    }\n",
       "\n",
       "    .dataframe tbody tr th {\n",
       "        vertical-align: top;\n",
       "    }\n",
       "\n",
       "    .dataframe thead th {\n",
       "        text-align: right;\n",
       "    }\n",
       "</style>\n",
       "<table border=\"1\" class=\"dataframe\">\n",
       "  <thead>\n",
       "    <tr style=\"text-align: right;\">\n",
       "      <th></th>\n",
       "      <th>p1</th>\n",
       "      <th>p2</th>\n",
       "      <th>p3</th>\n",
       "    </tr>\n",
       "  </thead>\n",
       "  <tbody>\n",
       "    <tr>\n",
       "      <th>0</th>\n",
       "      <td>welsh_springer_spaniel</td>\n",
       "      <td>collie</td>\n",
       "      <td>shetland_sheepdog</td>\n",
       "    </tr>\n",
       "    <tr>\n",
       "      <th>1</th>\n",
       "      <td>redbone</td>\n",
       "      <td>miniature_pinscher</td>\n",
       "      <td>rhodesian_ridgeback</td>\n",
       "    </tr>\n",
       "    <tr>\n",
       "      <th>2</th>\n",
       "      <td>german_shepherd</td>\n",
       "      <td>malinois</td>\n",
       "      <td>bloodhound</td>\n",
       "    </tr>\n",
       "    <tr>\n",
       "      <th>3</th>\n",
       "      <td>rhodesian_ridgeback</td>\n",
       "      <td>redbone</td>\n",
       "      <td>miniature_pinscher</td>\n",
       "    </tr>\n",
       "    <tr>\n",
       "      <th>4</th>\n",
       "      <td>miniature_pinscher</td>\n",
       "      <td>rottweiler</td>\n",
       "      <td>doberman</td>\n",
       "    </tr>\n",
       "    <tr>\n",
       "      <th>...</th>\n",
       "      <td>...</td>\n",
       "      <td>...</td>\n",
       "      <td>...</td>\n",
       "    </tr>\n",
       "    <tr>\n",
       "      <th>2070</th>\n",
       "      <td>basset</td>\n",
       "      <td>english_springer</td>\n",
       "      <td>german_short-haired_pointer</td>\n",
       "    </tr>\n",
       "    <tr>\n",
       "      <th>2071</th>\n",
       "      <td>paper_towel</td>\n",
       "      <td>labrador_retriever</td>\n",
       "      <td>spatula</td>\n",
       "    </tr>\n",
       "    <tr>\n",
       "      <th>2072</th>\n",
       "      <td>chihuahua</td>\n",
       "      <td>malamute</td>\n",
       "      <td>kelpie</td>\n",
       "    </tr>\n",
       "    <tr>\n",
       "      <th>2073</th>\n",
       "      <td>chihuahua</td>\n",
       "      <td>pekinese</td>\n",
       "      <td>papillon</td>\n",
       "    </tr>\n",
       "    <tr>\n",
       "      <th>2074</th>\n",
       "      <td>orange</td>\n",
       "      <td>bagel</td>\n",
       "      <td>banana</td>\n",
       "    </tr>\n",
       "  </tbody>\n",
       "</table>\n",
       "<p>2075 rows × 3 columns</p>\n",
       "</div>"
      ],
      "text/plain": [
       "                          p1                  p2                           p3\n",
       "0     welsh_springer_spaniel              collie            shetland_sheepdog\n",
       "1                    redbone  miniature_pinscher          rhodesian_ridgeback\n",
       "2            german_shepherd            malinois                   bloodhound\n",
       "3        rhodesian_ridgeback             redbone           miniature_pinscher\n",
       "4         miniature_pinscher          rottweiler                     doberman\n",
       "...                      ...                 ...                          ...\n",
       "2070                  basset    english_springer  german_short-haired_pointer\n",
       "2071             paper_towel  labrador_retriever                      spatula\n",
       "2072               chihuahua            malamute                       kelpie\n",
       "2073               chihuahua            pekinese                     papillon\n",
       "2074                  orange               bagel                       banana\n",
       "\n",
       "[2075 rows x 3 columns]"
      ]
     },
     "execution_count": 62,
     "metadata": {},
     "output_type": "execute_result"
    }
   ],
   "source": [
    "image_clean.loc[:,['p1','p2','p3']]"
   ]
  },
  {
   "cell_type": "markdown",
   "metadata": {},
   "source": [
    "Now all the values are in lower case which makes our dataset look more consistent"
   ]
  },
  {
   "cell_type": "markdown",
   "metadata": {},
   "source": [
    "## Invalid data\n",
    "\n",
    "**`df_image_prediction`**: There are rows where p1_dog, p2_dog, p3_dog are False. This according to the prediction algorithm indicates that the image is not that of a dog"
   ]
  },
  {
   "cell_type": "markdown",
   "metadata": {},
   "source": [
    "### Define\n",
    "- Remove the rows where `p1_dog`, `p2_dog`, `p3_dog` are all false"
   ]
  },
  {
   "cell_type": "markdown",
   "metadata": {},
   "source": [
    "#### Code"
   ]
  },
  {
   "cell_type": "code",
   "execution_count": 63,
   "metadata": {},
   "outputs": [],
   "source": [
    "# Filter the rows with p1_dog, p2_dog, p3_dog as false\n",
    "df_image_false = image_clean[(image_clean.p1_dog == False) &\n",
    "                                     (image_clean.p2_dog == False) & \n",
    "                                     (image_clean.p3_dog == False)] "
   ]
  },
  {
   "cell_type": "markdown",
   "metadata": {},
   "source": [
    "#### Test"
   ]
  },
  {
   "cell_type": "code",
   "execution_count": 64,
   "metadata": {},
   "outputs": [
    {
     "data": {
      "text/html": [
       "<div>\n",
       "<style scoped>\n",
       "    .dataframe tbody tr th:only-of-type {\n",
       "        vertical-align: middle;\n",
       "    }\n",
       "\n",
       "    .dataframe tbody tr th {\n",
       "        vertical-align: top;\n",
       "    }\n",
       "\n",
       "    .dataframe thead th {\n",
       "        text-align: right;\n",
       "    }\n",
       "</style>\n",
       "<table border=\"1\" class=\"dataframe\">\n",
       "  <thead>\n",
       "    <tr style=\"text-align: right;\">\n",
       "      <th></th>\n",
       "      <th>tweet_id</th>\n",
       "      <th>jpg_url</th>\n",
       "      <th>img_num</th>\n",
       "      <th>p1</th>\n",
       "      <th>p1_conf</th>\n",
       "      <th>p1_dog</th>\n",
       "      <th>p2</th>\n",
       "      <th>p2_conf</th>\n",
       "      <th>p2_dog</th>\n",
       "      <th>p3</th>\n",
       "      <th>p3_conf</th>\n",
       "      <th>p3_dog</th>\n",
       "    </tr>\n",
       "  </thead>\n",
       "  <tbody>\n",
       "    <tr>\n",
       "      <th>69</th>\n",
       "      <td>667188689915760640</td>\n",
       "      <td>https://pbs.twimg.com/media/CUJUk2iWUAAVtOv.jpg</td>\n",
       "      <td>1</td>\n",
       "      <td>vacuum</td>\n",
       "      <td>0.335830</td>\n",
       "      <td>False</td>\n",
       "      <td>swab</td>\n",
       "      <td>0.265278</td>\n",
       "      <td>False</td>\n",
       "      <td>toilet_tissue</td>\n",
       "      <td>0.140703</td>\n",
       "      <td>False</td>\n",
       "    </tr>\n",
       "    <tr>\n",
       "      <th>201</th>\n",
       "      <td>669682095984410625</td>\n",
       "      <td>https://pbs.twimg.com/media/CUswUBRUAAAahAo.jpg</td>\n",
       "      <td>1</td>\n",
       "      <td>christmas_stocking</td>\n",
       "      <td>0.188397</td>\n",
       "      <td>False</td>\n",
       "      <td>studio_couch</td>\n",
       "      <td>0.086887</td>\n",
       "      <td>False</td>\n",
       "      <td>bookcase</td>\n",
       "      <td>0.082599</td>\n",
       "      <td>False</td>\n",
       "    </tr>\n",
       "    <tr>\n",
       "      <th>296</th>\n",
       "      <td>671362598324076544</td>\n",
       "      <td>https://pbs.twimg.com/media/CVEouDRXAAEe8mt.jpg</td>\n",
       "      <td>1</td>\n",
       "      <td>tub</td>\n",
       "      <td>0.393616</td>\n",
       "      <td>False</td>\n",
       "      <td>bathtub</td>\n",
       "      <td>0.383522</td>\n",
       "      <td>False</td>\n",
       "      <td>swimming_trunks</td>\n",
       "      <td>0.077301</td>\n",
       "      <td>False</td>\n",
       "    </tr>\n",
       "    <tr>\n",
       "      <th>1905</th>\n",
       "      <td>852226086759018497</td>\n",
       "      <td>https://pbs.twimg.com/ext_tw_video_thumb/85222...</td>\n",
       "      <td>1</td>\n",
       "      <td>prison</td>\n",
       "      <td>0.352793</td>\n",
       "      <td>False</td>\n",
       "      <td>dishwasher</td>\n",
       "      <td>0.110723</td>\n",
       "      <td>False</td>\n",
       "      <td>file</td>\n",
       "      <td>0.094112</td>\n",
       "      <td>False</td>\n",
       "    </tr>\n",
       "    <tr>\n",
       "      <th>53</th>\n",
       "      <td>667012601033924608</td>\n",
       "      <td>https://pbs.twimg.com/media/CUG0bC0U8AAw2su.jpg</td>\n",
       "      <td>1</td>\n",
       "      <td>hyena</td>\n",
       "      <td>0.987230</td>\n",
       "      <td>False</td>\n",
       "      <td>african_hunting_dog</td>\n",
       "      <td>0.012601</td>\n",
       "      <td>False</td>\n",
       "      <td>coyote</td>\n",
       "      <td>0.000057</td>\n",
       "      <td>False</td>\n",
       "    </tr>\n",
       "    <tr>\n",
       "      <th>277</th>\n",
       "      <td>670842764863651840</td>\n",
       "      <td>https://pbs.twimg.com/media/CU9P717W4AAOlKx.jpg</td>\n",
       "      <td>1</td>\n",
       "      <td>microphone</td>\n",
       "      <td>0.096063</td>\n",
       "      <td>False</td>\n",
       "      <td>accordion</td>\n",
       "      <td>0.094075</td>\n",
       "      <td>False</td>\n",
       "      <td>drumstick</td>\n",
       "      <td>0.061113</td>\n",
       "      <td>False</td>\n",
       "    </tr>\n",
       "    <tr>\n",
       "      <th>1210</th>\n",
       "      <td>742465774154047488</td>\n",
       "      <td>https://pbs.twimg.com/media/Ck3EribXEAAPhZn.jpg</td>\n",
       "      <td>1</td>\n",
       "      <td>web_site</td>\n",
       "      <td>0.997154</td>\n",
       "      <td>False</td>\n",
       "      <td>comic_book</td>\n",
       "      <td>0.000439</td>\n",
       "      <td>False</td>\n",
       "      <td>desktop_computer</td>\n",
       "      <td>0.000268</td>\n",
       "      <td>False</td>\n",
       "    </tr>\n",
       "    <tr>\n",
       "      <th>391</th>\n",
       "      <td>673576835670777856</td>\n",
       "      <td>https://pbs.twimg.com/media/CVkGjsxU8AA5OYX.jpg</td>\n",
       "      <td>1</td>\n",
       "      <td>teddy</td>\n",
       "      <td>0.255210</td>\n",
       "      <td>False</td>\n",
       "      <td>christmas_stocking</td>\n",
       "      <td>0.098285</td>\n",
       "      <td>False</td>\n",
       "      <td>pajama</td>\n",
       "      <td>0.072735</td>\n",
       "      <td>False</td>\n",
       "    </tr>\n",
       "    <tr>\n",
       "      <th>275</th>\n",
       "      <td>670838202509447168</td>\n",
       "      <td>https://pbs.twimg.com/media/CU9LyIMWIAA6OOu.jpg</td>\n",
       "      <td>1</td>\n",
       "      <td>flamingo</td>\n",
       "      <td>0.992710</td>\n",
       "      <td>False</td>\n",
       "      <td>coral_fungus</td>\n",
       "      <td>0.003491</td>\n",
       "      <td>False</td>\n",
       "      <td>stinkhorn</td>\n",
       "      <td>0.001859</td>\n",
       "      <td>False</td>\n",
       "    </tr>\n",
       "    <tr>\n",
       "      <th>177</th>\n",
       "      <td>669214165781868544</td>\n",
       "      <td>https://pbs.twimg.com/media/CUmGu7-UcAA0r3O.jpg</td>\n",
       "      <td>1</td>\n",
       "      <td>minivan</td>\n",
       "      <td>0.435396</td>\n",
       "      <td>False</td>\n",
       "      <td>police_van</td>\n",
       "      <td>0.310143</td>\n",
       "      <td>False</td>\n",
       "      <td>minibus</td>\n",
       "      <td>0.068201</td>\n",
       "      <td>False</td>\n",
       "    </tr>\n",
       "  </tbody>\n",
       "</table>\n",
       "</div>"
      ],
      "text/plain": [
       "                tweet_id                                            jpg_url  \\\n",
       "69    667188689915760640    https://pbs.twimg.com/media/CUJUk2iWUAAVtOv.jpg   \n",
       "201   669682095984410625    https://pbs.twimg.com/media/CUswUBRUAAAahAo.jpg   \n",
       "296   671362598324076544    https://pbs.twimg.com/media/CVEouDRXAAEe8mt.jpg   \n",
       "1905  852226086759018497  https://pbs.twimg.com/ext_tw_video_thumb/85222...   \n",
       "53    667012601033924608    https://pbs.twimg.com/media/CUG0bC0U8AAw2su.jpg   \n",
       "277   670842764863651840    https://pbs.twimg.com/media/CU9P717W4AAOlKx.jpg   \n",
       "1210  742465774154047488    https://pbs.twimg.com/media/Ck3EribXEAAPhZn.jpg   \n",
       "391   673576835670777856    https://pbs.twimg.com/media/CVkGjsxU8AA5OYX.jpg   \n",
       "275   670838202509447168    https://pbs.twimg.com/media/CU9LyIMWIAA6OOu.jpg   \n",
       "177   669214165781868544    https://pbs.twimg.com/media/CUmGu7-UcAA0r3O.jpg   \n",
       "\n",
       "      img_num                  p1   p1_conf  p1_dog                   p2  \\\n",
       "69          1              vacuum  0.335830   False                 swab   \n",
       "201         1  christmas_stocking  0.188397   False         studio_couch   \n",
       "296         1                 tub  0.393616   False              bathtub   \n",
       "1905        1              prison  0.352793   False           dishwasher   \n",
       "53          1               hyena  0.987230   False  african_hunting_dog   \n",
       "277         1          microphone  0.096063   False            accordion   \n",
       "1210        1            web_site  0.997154   False           comic_book   \n",
       "391         1               teddy  0.255210   False   christmas_stocking   \n",
       "275         1            flamingo  0.992710   False         coral_fungus   \n",
       "177         1             minivan  0.435396   False           police_van   \n",
       "\n",
       "       p2_conf  p2_dog                p3   p3_conf  p3_dog  \n",
       "69    0.265278   False     toilet_tissue  0.140703   False  \n",
       "201   0.086887   False          bookcase  0.082599   False  \n",
       "296   0.383522   False   swimming_trunks  0.077301   False  \n",
       "1905  0.110723   False              file  0.094112   False  \n",
       "53    0.012601   False            coyote  0.000057   False  \n",
       "277   0.094075   False         drumstick  0.061113   False  \n",
       "1210  0.000439   False  desktop_computer  0.000268   False  \n",
       "391   0.098285   False            pajama  0.072735   False  \n",
       "275   0.003491   False         stinkhorn  0.001859   False  \n",
       "177   0.310143   False           minibus  0.068201   False  "
      ]
     },
     "execution_count": 64,
     "metadata": {},
     "output_type": "execute_result"
    }
   ],
   "source": [
    "df_image_false.sample(10)"
   ]
  },
  {
   "cell_type": "markdown",
   "metadata": {},
   "source": [
    "#### Code"
   ]
  },
  {
   "cell_type": "code",
   "execution_count": 65,
   "metadata": {},
   "outputs": [],
   "source": [
    "# Selecting index of rows with p1_dog, p2_dog, p3_dog as false\n",
    "row = image_clean.loc[df_image_false.index]"
   ]
  },
  {
   "cell_type": "code",
   "execution_count": 66,
   "metadata": {},
   "outputs": [],
   "source": [
    "# Adding the indexes to a list\n",
    "index_list = row.tweet_id.to_list()"
   ]
  },
  {
   "cell_type": "code",
   "execution_count": 67,
   "metadata": {},
   "outputs": [],
   "source": [
    "# Using masking to remove rows with p1_dog, p2_dog, p3_dog as false\n",
    "image_clean = image_clean[~image_clean.tweet_id.isin(index_list)]"
   ]
  },
  {
   "cell_type": "markdown",
   "metadata": {},
   "source": [
    "#### Test"
   ]
  },
  {
   "cell_type": "code",
   "execution_count": 68,
   "metadata": {
    "scrolled": true
   },
   "outputs": [
    {
     "data": {
      "text/plain": [
       "(1751, 12)"
      ]
     },
     "execution_count": 68,
     "metadata": {},
     "output_type": "execute_result"
    }
   ],
   "source": [
    "image_clean.shape"
   ]
  },
  {
   "cell_type": "code",
   "execution_count": 69,
   "metadata": {
    "scrolled": true
   },
   "outputs": [
    {
     "data": {
      "text/html": [
       "<div>\n",
       "<style scoped>\n",
       "    .dataframe tbody tr th:only-of-type {\n",
       "        vertical-align: middle;\n",
       "    }\n",
       "\n",
       "    .dataframe tbody tr th {\n",
       "        vertical-align: top;\n",
       "    }\n",
       "\n",
       "    .dataframe thead th {\n",
       "        text-align: right;\n",
       "    }\n",
       "</style>\n",
       "<table border=\"1\" class=\"dataframe\">\n",
       "  <thead>\n",
       "    <tr style=\"text-align: right;\">\n",
       "      <th></th>\n",
       "      <th>tweet_id</th>\n",
       "      <th>jpg_url</th>\n",
       "      <th>img_num</th>\n",
       "      <th>p1</th>\n",
       "      <th>p1_conf</th>\n",
       "      <th>p1_dog</th>\n",
       "      <th>p2</th>\n",
       "      <th>p2_conf</th>\n",
       "      <th>p2_dog</th>\n",
       "      <th>p3</th>\n",
       "      <th>p3_conf</th>\n",
       "      <th>p3_dog</th>\n",
       "    </tr>\n",
       "  </thead>\n",
       "  <tbody>\n",
       "    <tr>\n",
       "      <th>237</th>\n",
       "      <td>670433248821026816</td>\n",
       "      <td>https://pbs.twimg.com/media/CU3be0SWEAEqb7I.jpg</td>\n",
       "      <td>1</td>\n",
       "      <td>window_shade</td>\n",
       "      <td>0.583427</td>\n",
       "      <td>False</td>\n",
       "      <td>giant_schnauzer</td>\n",
       "      <td>0.062215</td>\n",
       "      <td>True</td>\n",
       "      <td>window_screen</td>\n",
       "      <td>0.039941</td>\n",
       "      <td>False</td>\n",
       "    </tr>\n",
       "    <tr>\n",
       "      <th>1490</th>\n",
       "      <td>782722598790725632</td>\n",
       "      <td>https://pbs.twimg.com/media/CtzKC7zXEAALfSo.jpg</td>\n",
       "      <td>1</td>\n",
       "      <td>irish_setter</td>\n",
       "      <td>0.574557</td>\n",
       "      <td>True</td>\n",
       "      <td>golden_retriever</td>\n",
       "      <td>0.339251</td>\n",
       "      <td>True</td>\n",
       "      <td>seat_belt</td>\n",
       "      <td>0.046108</td>\n",
       "      <td>False</td>\n",
       "    </tr>\n",
       "    <tr>\n",
       "      <th>1384</th>\n",
       "      <td>765719909049503744</td>\n",
       "      <td>https://pbs.twimg.com/media/CqBiMAgWAAEJKgI.jpg</td>\n",
       "      <td>1</td>\n",
       "      <td>golden_retriever</td>\n",
       "      <td>0.969518</td>\n",
       "      <td>True</td>\n",
       "      <td>labrador_retriever</td>\n",
       "      <td>0.021696</td>\n",
       "      <td>True</td>\n",
       "      <td>border_terrier</td>\n",
       "      <td>0.002075</td>\n",
       "      <td>True</td>\n",
       "    </tr>\n",
       "    <tr>\n",
       "      <th>1576</th>\n",
       "      <td>796080075804475393</td>\n",
       "      <td>https://pbs.twimg.com/media/Cww-msrXcAAxm3K.jpg</td>\n",
       "      <td>1</td>\n",
       "      <td>chow</td>\n",
       "      <td>0.973846</td>\n",
       "      <td>True</td>\n",
       "      <td>tibetan_mastiff</td>\n",
       "      <td>0.014110</td>\n",
       "      <td>True</td>\n",
       "      <td>gibbon</td>\n",
       "      <td>0.002358</td>\n",
       "      <td>False</td>\n",
       "    </tr>\n",
       "    <tr>\n",
       "      <th>838</th>\n",
       "      <td>694352839993344000</td>\n",
       "      <td>https://pbs.twimg.com/media/CaLWOPfWkAAo2Dt.jpg</td>\n",
       "      <td>2</td>\n",
       "      <td>australian_terrier</td>\n",
       "      <td>0.407886</td>\n",
       "      <td>True</td>\n",
       "      <td>yorkshire_terrier</td>\n",
       "      <td>0.328173</td>\n",
       "      <td>True</td>\n",
       "      <td>silky_terrier</td>\n",
       "      <td>0.108404</td>\n",
       "      <td>True</td>\n",
       "    </tr>\n",
       "    <tr>\n",
       "      <th>867</th>\n",
       "      <td>697575480820686848</td>\n",
       "      <td>https://pbs.twimg.com/media/Ca5JMvMUsAAGMll.jpg</td>\n",
       "      <td>1</td>\n",
       "      <td>siamese_cat</td>\n",
       "      <td>0.256698</td>\n",
       "      <td>False</td>\n",
       "      <td>whippet</td>\n",
       "      <td>0.119805</td>\n",
       "      <td>True</td>\n",
       "      <td>bull_mastiff</td>\n",
       "      <td>0.102595</td>\n",
       "      <td>True</td>\n",
       "    </tr>\n",
       "    <tr>\n",
       "      <th>904</th>\n",
       "      <td>700143752053182464</td>\n",
       "      <td>https://pbs.twimg.com/media/CbdpBmLUYAY9SgQ.jpg</td>\n",
       "      <td>1</td>\n",
       "      <td>golden_retriever</td>\n",
       "      <td>0.532460</td>\n",
       "      <td>True</td>\n",
       "      <td>crossword_puzzle</td>\n",
       "      <td>0.103796</td>\n",
       "      <td>False</td>\n",
       "      <td>binder</td>\n",
       "      <td>0.100371</td>\n",
       "      <td>False</td>\n",
       "    </tr>\n",
       "    <tr>\n",
       "      <th>573</th>\n",
       "      <td>678424312106393600</td>\n",
       "      <td>https://pbs.twimg.com/media/CWo_T8gW4AAgJNo.jpg</td>\n",
       "      <td>1</td>\n",
       "      <td>maltese_dog</td>\n",
       "      <td>0.759945</td>\n",
       "      <td>True</td>\n",
       "      <td>toy_poodle</td>\n",
       "      <td>0.101194</td>\n",
       "      <td>True</td>\n",
       "      <td>shih-tzu</td>\n",
       "      <td>0.056037</td>\n",
       "      <td>True</td>\n",
       "    </tr>\n",
       "    <tr>\n",
       "      <th>862</th>\n",
       "      <td>697255105972801536</td>\n",
       "      <td>https://pbs.twimg.com/media/Ca0lzzmWwAA5u56.jpg</td>\n",
       "      <td>1</td>\n",
       "      <td>great_dane</td>\n",
       "      <td>0.173989</td>\n",
       "      <td>True</td>\n",
       "      <td>malinois</td>\n",
       "      <td>0.165888</td>\n",
       "      <td>True</td>\n",
       "      <td>doberman</td>\n",
       "      <td>0.119890</td>\n",
       "      <td>True</td>\n",
       "    </tr>\n",
       "    <tr>\n",
       "      <th>2061</th>\n",
       "      <td>889638837579907072</td>\n",
       "      <td>https://pbs.twimg.com/media/DFihzFfXsAYGDPR.jpg</td>\n",
       "      <td>1</td>\n",
       "      <td>french_bulldog</td>\n",
       "      <td>0.991650</td>\n",
       "      <td>True</td>\n",
       "      <td>boxer</td>\n",
       "      <td>0.002129</td>\n",
       "      <td>True</td>\n",
       "      <td>staffordshire_bullterrier</td>\n",
       "      <td>0.001498</td>\n",
       "      <td>True</td>\n",
       "    </tr>\n",
       "  </tbody>\n",
       "</table>\n",
       "</div>"
      ],
      "text/plain": [
       "                tweet_id                                          jpg_url  \\\n",
       "237   670433248821026816  https://pbs.twimg.com/media/CU3be0SWEAEqb7I.jpg   \n",
       "1490  782722598790725632  https://pbs.twimg.com/media/CtzKC7zXEAALfSo.jpg   \n",
       "1384  765719909049503744  https://pbs.twimg.com/media/CqBiMAgWAAEJKgI.jpg   \n",
       "1576  796080075804475393  https://pbs.twimg.com/media/Cww-msrXcAAxm3K.jpg   \n",
       "838   694352839993344000  https://pbs.twimg.com/media/CaLWOPfWkAAo2Dt.jpg   \n",
       "867   697575480820686848  https://pbs.twimg.com/media/Ca5JMvMUsAAGMll.jpg   \n",
       "904   700143752053182464  https://pbs.twimg.com/media/CbdpBmLUYAY9SgQ.jpg   \n",
       "573   678424312106393600  https://pbs.twimg.com/media/CWo_T8gW4AAgJNo.jpg   \n",
       "862   697255105972801536  https://pbs.twimg.com/media/Ca0lzzmWwAA5u56.jpg   \n",
       "2061  889638837579907072  https://pbs.twimg.com/media/DFihzFfXsAYGDPR.jpg   \n",
       "\n",
       "      img_num                  p1   p1_conf  p1_dog                  p2  \\\n",
       "237         1        window_shade  0.583427   False     giant_schnauzer   \n",
       "1490        1        irish_setter  0.574557    True    golden_retriever   \n",
       "1384        1    golden_retriever  0.969518    True  labrador_retriever   \n",
       "1576        1                chow  0.973846    True     tibetan_mastiff   \n",
       "838         2  australian_terrier  0.407886    True   yorkshire_terrier   \n",
       "867         1         siamese_cat  0.256698   False             whippet   \n",
       "904         1    golden_retriever  0.532460    True    crossword_puzzle   \n",
       "573         1         maltese_dog  0.759945    True          toy_poodle   \n",
       "862         1          great_dane  0.173989    True            malinois   \n",
       "2061        1      french_bulldog  0.991650    True               boxer   \n",
       "\n",
       "       p2_conf  p2_dog                         p3   p3_conf  p3_dog  \n",
       "237   0.062215    True              window_screen  0.039941   False  \n",
       "1490  0.339251    True                  seat_belt  0.046108   False  \n",
       "1384  0.021696    True             border_terrier  0.002075    True  \n",
       "1576  0.014110    True                     gibbon  0.002358   False  \n",
       "838   0.328173    True              silky_terrier  0.108404    True  \n",
       "867   0.119805    True               bull_mastiff  0.102595    True  \n",
       "904   0.103796   False                     binder  0.100371   False  \n",
       "573   0.101194    True                   shih-tzu  0.056037    True  \n",
       "862   0.165888    True                   doberman  0.119890    True  \n",
       "2061  0.002129    True  staffordshire_bullterrier  0.001498    True  "
      ]
     },
     "execution_count": 69,
     "metadata": {},
     "output_type": "execute_result"
    }
   ],
   "source": [
    "image_clean.sample(10)"
   ]
  },
  {
   "cell_type": "markdown",
   "metadata": {},
   "source": [
    "##   Duplicate data\n",
    "**`df_image_prediction`** : There are duplicated urls in the `jpg_url` column"
   ]
  },
  {
   "cell_type": "markdown",
   "metadata": {},
   "source": [
    "### Define\n",
    "- Remove duplicated urls from the `jpg_url` column"
   ]
  },
  {
   "cell_type": "markdown",
   "metadata": {},
   "source": [
    "#### Code"
   ]
  },
  {
   "cell_type": "code",
   "execution_count": 70,
   "metadata": {},
   "outputs": [],
   "source": [
    "# Removing duplicated urls from the jpg_url column\n",
    "image_clean.drop_duplicates(subset=['jpg_url'], inplace=True)"
   ]
  },
  {
   "cell_type": "markdown",
   "metadata": {},
   "source": [
    "#### Test"
   ]
  },
  {
   "cell_type": "code",
   "execution_count": 71,
   "metadata": {},
   "outputs": [
    {
     "data": {
      "text/plain": [
       "0"
      ]
     },
     "execution_count": 71,
     "metadata": {},
     "output_type": "execute_result"
    }
   ],
   "source": [
    "sum(image_clean.jpg_url.duplicated())"
   ]
  },
  {
   "cell_type": "code",
   "execution_count": 72,
   "metadata": {},
   "outputs": [
    {
     "name": "stdout",
     "output_type": "stream",
     "text": [
      "<class 'pandas.core.frame.DataFrame'>\n",
      "Int64Index: 1691 entries, 0 to 2073\n",
      "Data columns (total 12 columns):\n",
      " #   Column    Non-Null Count  Dtype  \n",
      "---  ------    --------------  -----  \n",
      " 0   tweet_id  1691 non-null   int64  \n",
      " 1   jpg_url   1691 non-null   object \n",
      " 2   img_num   1691 non-null   int64  \n",
      " 3   p1        1691 non-null   object \n",
      " 4   p1_conf   1691 non-null   float64\n",
      " 5   p1_dog    1691 non-null   bool   \n",
      " 6   p2        1691 non-null   object \n",
      " 7   p2_conf   1691 non-null   float64\n",
      " 8   p2_dog    1691 non-null   bool   \n",
      " 9   p3        1691 non-null   object \n",
      " 10  p3_conf   1691 non-null   float64\n",
      " 11  p3_dog    1691 non-null   bool   \n",
      "dtypes: bool(3), float64(3), int64(2), object(4)\n",
      "memory usage: 137.1+ KB\n"
     ]
    }
   ],
   "source": [
    "image_clean.info()"
   ]
  },
  {
   "cell_type": "markdown",
   "metadata": {},
   "source": [
    "## Irrelevant variable\n",
    "\n",
    "**`df_image_prediction`**: The `img_num` column is irrelevant as it does not improve our analysis"
   ]
  },
  {
   "cell_type": "markdown",
   "metadata": {},
   "source": [
    "### Define\n",
    "- Drop the `img_num` column"
   ]
  },
  {
   "cell_type": "markdown",
   "metadata": {},
   "source": [
    "#### Code"
   ]
  },
  {
   "cell_type": "code",
   "execution_count": 73,
   "metadata": {},
   "outputs": [],
   "source": [
    "image_clean = image_clean.drop(columns=['img_num'])"
   ]
  },
  {
   "cell_type": "markdown",
   "metadata": {},
   "source": [
    "#### Test"
   ]
  },
  {
   "cell_type": "code",
   "execution_count": 74,
   "metadata": {},
   "outputs": [
    {
     "name": "stdout",
     "output_type": "stream",
     "text": [
      "<class 'pandas.core.frame.DataFrame'>\n",
      "Int64Index: 1691 entries, 0 to 2073\n",
      "Data columns (total 11 columns):\n",
      " #   Column    Non-Null Count  Dtype  \n",
      "---  ------    --------------  -----  \n",
      " 0   tweet_id  1691 non-null   int64  \n",
      " 1   jpg_url   1691 non-null   object \n",
      " 2   p1        1691 non-null   object \n",
      " 3   p1_conf   1691 non-null   float64\n",
      " 4   p1_dog    1691 non-null   bool   \n",
      " 5   p2        1691 non-null   object \n",
      " 6   p2_conf   1691 non-null   float64\n",
      " 7   p2_dog    1691 non-null   bool   \n",
      " 8   p3        1691 non-null   object \n",
      " 9   p3_conf   1691 non-null   float64\n",
      " 10  p3_dog    1691 non-null   bool   \n",
      "dtypes: bool(3), float64(3), int64(1), object(4)\n",
      "memory usage: 123.9+ KB\n"
     ]
    }
   ],
   "source": [
    "image_clean.info()"
   ]
  },
  {
   "cell_type": "markdown",
   "metadata": {},
   "source": [
    "# Tidiness \n",
    "\n",
    "**`df_tweet`**: One variable in two columns `rating_numerator` and `rating_denominator` (ratings). Combining the variables into one will help measure ratings properly"
   ]
  },
  {
   "cell_type": "markdown",
   "metadata": {},
   "source": [
    "### Define\n",
    "- Join the two variables into one variable "
   ]
  },
  {
   "cell_type": "markdown",
   "metadata": {},
   "source": [
    "#### Code"
   ]
  },
  {
   "cell_type": "code",
   "execution_count": 75,
   "metadata": {},
   "outputs": [],
   "source": [
    "# Joining the two variables into one variable ratings\n",
    "df_original_tweet['ratings'] = df_original_tweet['rating_numerator'] / df_original_tweet['rating_denominator']"
   ]
  },
  {
   "cell_type": "code",
   "execution_count": 76,
   "metadata": {},
   "outputs": [],
   "source": [
    "# Dropping the rating_numerator, rating_denominator columns\n",
    "df_original_tweet = df_original_tweet.drop(columns =['rating_numerator', 'rating_denominator'], axis=1)"
   ]
  },
  {
   "cell_type": "markdown",
   "metadata": {},
   "source": [
    "#### Test"
   ]
  },
  {
   "cell_type": "code",
   "execution_count": 77,
   "metadata": {},
   "outputs": [
    {
     "data": {
      "text/html": [
       "<div>\n",
       "<style scoped>\n",
       "    .dataframe tbody tr th:only-of-type {\n",
       "        vertical-align: middle;\n",
       "    }\n",
       "\n",
       "    .dataframe tbody tr th {\n",
       "        vertical-align: top;\n",
       "    }\n",
       "\n",
       "    .dataframe thead th {\n",
       "        text-align: right;\n",
       "    }\n",
       "</style>\n",
       "<table border=\"1\" class=\"dataframe\">\n",
       "  <thead>\n",
       "    <tr style=\"text-align: right;\">\n",
       "      <th></th>\n",
       "      <th>tweet_id</th>\n",
       "      <th>timestamp</th>\n",
       "      <th>source</th>\n",
       "      <th>text</th>\n",
       "      <th>expanded_urls</th>\n",
       "      <th>name</th>\n",
       "      <th>doggo</th>\n",
       "      <th>floofer</th>\n",
       "      <th>pupper</th>\n",
       "      <th>puppo</th>\n",
       "      <th>retweet_count</th>\n",
       "      <th>favorite_count</th>\n",
       "      <th>ratings</th>\n",
       "    </tr>\n",
       "  </thead>\n",
       "  <tbody>\n",
       "    <tr>\n",
       "      <th>1106</th>\n",
       "      <td>710296729921429505</td>\n",
       "      <td>2016-03-17 02:48:31+00:00</td>\n",
       "      <td>&lt;a href=\"http://vine.co\" rel=\"nofollow\"&gt;Vine -...</td>\n",
       "      <td>This is Oshie. 12/10 please enjoy (vid by @cat...</td>\n",
       "      <td>https://vine.co/v/iw9hUFAMerV</td>\n",
       "      <td>Oshie</td>\n",
       "      <td>None</td>\n",
       "      <td>None</td>\n",
       "      <td>None</td>\n",
       "      <td>None</td>\n",
       "      <td>672.0</td>\n",
       "      <td>2210.0</td>\n",
       "      <td>1.2</td>\n",
       "    </tr>\n",
       "    <tr>\n",
       "      <th>632</th>\n",
       "      <td>781655249211752448</td>\n",
       "      <td>2016-09-30 00:41:48+00:00</td>\n",
       "      <td>&lt;a href=\"http://vine.co\" rel=\"nofollow\"&gt;Vine -...</td>\n",
       "      <td>This is Combo. The daily struggles of being a ...</td>\n",
       "      <td>https://vine.co/v/5rt6T3qm7hL</td>\n",
       "      <td>Combo</td>\n",
       "      <td>doggo</td>\n",
       "      <td>None</td>\n",
       "      <td>None</td>\n",
       "      <td>None</td>\n",
       "      <td>1056.0</td>\n",
       "      <td>3792.0</td>\n",
       "      <td>1.1</td>\n",
       "    </tr>\n",
       "    <tr>\n",
       "      <th>1012</th>\n",
       "      <td>724004602748780546</td>\n",
       "      <td>2016-04-23 22:38:43+00:00</td>\n",
       "      <td>&lt;a href=\"http://twitter.com/download/iphone\" r...</td>\n",
       "      <td>This is Luther. He saw a ghost. Spooked af. 11...</td>\n",
       "      <td>https://twitter.com/dog_rates/status/724004602...</td>\n",
       "      <td>Luther</td>\n",
       "      <td>None</td>\n",
       "      <td>None</td>\n",
       "      <td>pupper</td>\n",
       "      <td>None</td>\n",
       "      <td>1396.0</td>\n",
       "      <td>3842.0</td>\n",
       "      <td>1.1</td>\n",
       "    </tr>\n",
       "    <tr>\n",
       "      <th>1171</th>\n",
       "      <td>706166467411222528</td>\n",
       "      <td>2016-03-05 17:16:20+00:00</td>\n",
       "      <td>&lt;a href=\"http://twitter.com/download/iphone\" r...</td>\n",
       "      <td>This is Dexter. He's a shy pup. Doesn't bark m...</td>\n",
       "      <td>https://twitter.com/dog_rates/status/706166467...</td>\n",
       "      <td>Dexter</td>\n",
       "      <td>None</td>\n",
       "      <td>None</td>\n",
       "      <td>None</td>\n",
       "      <td>None</td>\n",
       "      <td>1460.0</td>\n",
       "      <td>4751.0</td>\n",
       "      <td>0.7</td>\n",
       "    </tr>\n",
       "    <tr>\n",
       "      <th>1838</th>\n",
       "      <td>671542985629241344</td>\n",
       "      <td>2015-12-01 04:14:59+00:00</td>\n",
       "      <td>&lt;a href=\"http://twitter.com/download/iphone\" r...</td>\n",
       "      <td>This is JD (stands for \"just dog\"). He's like ...</td>\n",
       "      <td>https://twitter.com/dog_rates/status/671542985...</td>\n",
       "      <td>JD</td>\n",
       "      <td>None</td>\n",
       "      <td>None</td>\n",
       "      <td>None</td>\n",
       "      <td>None</td>\n",
       "      <td>487.0</td>\n",
       "      <td>966.0</td>\n",
       "      <td>1.0</td>\n",
       "    </tr>\n",
       "  </tbody>\n",
       "</table>\n",
       "</div>"
      ],
      "text/plain": [
       "                tweet_id                 timestamp  \\\n",
       "1106  710296729921429505 2016-03-17 02:48:31+00:00   \n",
       "632   781655249211752448 2016-09-30 00:41:48+00:00   \n",
       "1012  724004602748780546 2016-04-23 22:38:43+00:00   \n",
       "1171  706166467411222528 2016-03-05 17:16:20+00:00   \n",
       "1838  671542985629241344 2015-12-01 04:14:59+00:00   \n",
       "\n",
       "                                                 source  \\\n",
       "1106  <a href=\"http://vine.co\" rel=\"nofollow\">Vine -...   \n",
       "632   <a href=\"http://vine.co\" rel=\"nofollow\">Vine -...   \n",
       "1012  <a href=\"http://twitter.com/download/iphone\" r...   \n",
       "1171  <a href=\"http://twitter.com/download/iphone\" r...   \n",
       "1838  <a href=\"http://twitter.com/download/iphone\" r...   \n",
       "\n",
       "                                                   text  \\\n",
       "1106  This is Oshie. 12/10 please enjoy (vid by @cat...   \n",
       "632   This is Combo. The daily struggles of being a ...   \n",
       "1012  This is Luther. He saw a ghost. Spooked af. 11...   \n",
       "1171  This is Dexter. He's a shy pup. Doesn't bark m...   \n",
       "1838  This is JD (stands for \"just dog\"). He's like ...   \n",
       "\n",
       "                                          expanded_urls    name  doggo  \\\n",
       "1106                      https://vine.co/v/iw9hUFAMerV   Oshie   None   \n",
       "632                       https://vine.co/v/5rt6T3qm7hL   Combo  doggo   \n",
       "1012  https://twitter.com/dog_rates/status/724004602...  Luther   None   \n",
       "1171  https://twitter.com/dog_rates/status/706166467...  Dexter   None   \n",
       "1838  https://twitter.com/dog_rates/status/671542985...      JD   None   \n",
       "\n",
       "     floofer  pupper puppo  retweet_count  favorite_count  ratings  \n",
       "1106    None    None  None          672.0          2210.0      1.2  \n",
       "632     None    None  None         1056.0          3792.0      1.1  \n",
       "1012    None  pupper  None         1396.0          3842.0      1.1  \n",
       "1171    None    None  None         1460.0          4751.0      0.7  \n",
       "1838    None    None  None          487.0           966.0      1.0  "
      ]
     },
     "execution_count": 77,
     "metadata": {},
     "output_type": "execute_result"
    }
   ],
   "source": [
    "df_original_tweet.sample(5)"
   ]
  },
  {
   "cell_type": "code",
   "execution_count": 78,
   "metadata": {},
   "outputs": [
    {
     "name": "stdout",
     "output_type": "stream",
     "text": [
      "<class 'pandas.core.frame.DataFrame'>\n",
      "Int64Index: 1933 entries, 0 to 2139\n",
      "Data columns (total 13 columns):\n",
      " #   Column          Non-Null Count  Dtype              \n",
      "---  ------          --------------  -----              \n",
      " 0   tweet_id        1933 non-null   int64              \n",
      " 1   timestamp       1933 non-null   datetime64[ns, UTC]\n",
      " 2   source          1933 non-null   object             \n",
      " 3   text            1933 non-null   object             \n",
      " 4   expanded_urls   1933 non-null   object             \n",
      " 5   name            1295 non-null   object             \n",
      " 6   doggo           1933 non-null   object             \n",
      " 7   floofer         1933 non-null   object             \n",
      " 8   pupper          1933 non-null   object             \n",
      " 9   puppo           1933 non-null   object             \n",
      " 10  retweet_count   1933 non-null   float64            \n",
      " 11  favorite_count  1933 non-null   float64            \n",
      " 12  ratings         1933 non-null   float64            \n",
      "dtypes: datetime64[ns, UTC](1), float64(3), int64(1), object(8)\n",
      "memory usage: 211.4+ KB\n"
     ]
    }
   ],
   "source": [
    "df_original_tweet.info()"
   ]
  },
  {
   "cell_type": "markdown",
   "metadata": {},
   "source": [
    "#### `df_tweet` : One variable in four columns doggo, floofer, pupper, puppo (dog_stages)"
   ]
  },
  {
   "cell_type": "markdown",
   "metadata": {},
   "source": [
    "### Define\n",
    "- Join the four variables into one variable called `dog_stages`\n",
    "- Drop the columns `doggo`, `floofer`, `pupper`, `puppo` "
   ]
  },
  {
   "cell_type": "markdown",
   "metadata": {},
   "source": [
    "#### Code"
   ]
  },
  {
   "cell_type": "code",
   "execution_count": 79,
   "metadata": {},
   "outputs": [],
   "source": [
    "# Extracting the values from the four variables into single variable dog_stage\n",
    "df_original_tweet['dog_stage'] = df_original_tweet['text'].str.extract(r'(doggo|pupper|puppo|floofer)')"
   ]
  },
  {
   "cell_type": "code",
   "execution_count": 80,
   "metadata": {},
   "outputs": [],
   "source": [
    "# Dropping the four columns 'doggo', 'pupper', 'puppo', 'floofer'\n",
    "df_original_tweet = df_original_tweet.drop(columns=['doggo', 'pupper', 'puppo', 'floofer'], axis=1)"
   ]
  },
  {
   "cell_type": "markdown",
   "metadata": {},
   "source": [
    "#### Test"
   ]
  },
  {
   "cell_type": "code",
   "execution_count": 81,
   "metadata": {},
   "outputs": [
    {
     "name": "stdout",
     "output_type": "stream",
     "text": [
      "<class 'pandas.core.frame.DataFrame'>\n",
      "Int64Index: 1933 entries, 0 to 2139\n",
      "Data columns (total 10 columns):\n",
      " #   Column          Non-Null Count  Dtype              \n",
      "---  ------          --------------  -----              \n",
      " 0   tweet_id        1933 non-null   int64              \n",
      " 1   timestamp       1933 non-null   datetime64[ns, UTC]\n",
      " 2   source          1933 non-null   object             \n",
      " 3   text            1933 non-null   object             \n",
      " 4   expanded_urls   1933 non-null   object             \n",
      " 5   name            1295 non-null   object             \n",
      " 6   retweet_count   1933 non-null   float64            \n",
      " 7   favorite_count  1933 non-null   float64            \n",
      " 8   ratings         1933 non-null   float64            \n",
      " 9   dog_stage       320 non-null    object             \n",
      "dtypes: datetime64[ns, UTC](1), float64(3), int64(1), object(5)\n",
      "memory usage: 166.1+ KB\n"
     ]
    }
   ],
   "source": [
    "df_original_tweet.info()"
   ]
  },
  {
   "cell_type": "code",
   "execution_count": 82,
   "metadata": {},
   "outputs": [
    {
     "data": {
      "text/html": [
       "<div>\n",
       "<style scoped>\n",
       "    .dataframe tbody tr th:only-of-type {\n",
       "        vertical-align: middle;\n",
       "    }\n",
       "\n",
       "    .dataframe tbody tr th {\n",
       "        vertical-align: top;\n",
       "    }\n",
       "\n",
       "    .dataframe thead th {\n",
       "        text-align: right;\n",
       "    }\n",
       "</style>\n",
       "<table border=\"1\" class=\"dataframe\">\n",
       "  <thead>\n",
       "    <tr style=\"text-align: right;\">\n",
       "      <th></th>\n",
       "      <th>tweet_id</th>\n",
       "      <th>timestamp</th>\n",
       "      <th>source</th>\n",
       "      <th>text</th>\n",
       "      <th>expanded_urls</th>\n",
       "      <th>name</th>\n",
       "      <th>retweet_count</th>\n",
       "      <th>favorite_count</th>\n",
       "      <th>ratings</th>\n",
       "      <th>dog_stage</th>\n",
       "    </tr>\n",
       "  </thead>\n",
       "  <tbody>\n",
       "    <tr>\n",
       "      <th>114</th>\n",
       "      <td>869227993411051520</td>\n",
       "      <td>2017-05-29 16:24:37+00:00</td>\n",
       "      <td>&lt;a href=\"http://twitter.com/download/iphone\" r...</td>\n",
       "      <td>This is Gizmo. His favorite thing is standing ...</td>\n",
       "      <td>https://twitter.com/dog_rates/status/869227993...</td>\n",
       "      <td>Gizmo</td>\n",
       "      <td>3202.0</td>\n",
       "      <td>18155.0</td>\n",
       "      <td>1.3</td>\n",
       "      <td>NaN</td>\n",
       "    </tr>\n",
       "    <tr>\n",
       "      <th>1081</th>\n",
       "      <td>713411074226274305</td>\n",
       "      <td>2016-03-25 17:03:49+00:00</td>\n",
       "      <td>&lt;a href=\"http://twitter.com/download/iphone\" r...</td>\n",
       "      <td>Here we see an extremely rare Bearded Floofmal...</td>\n",
       "      <td>https://twitter.com/dog_rates/status/713411074...</td>\n",
       "      <td>NaN</td>\n",
       "      <td>1191.0</td>\n",
       "      <td>4105.0</td>\n",
       "      <td>1.1</td>\n",
       "      <td>NaN</td>\n",
       "    </tr>\n",
       "    <tr>\n",
       "      <th>776</th>\n",
       "      <td>758467244762497024</td>\n",
       "      <td>2016-07-28 01:00:57+00:00</td>\n",
       "      <td>&lt;a href=\"http://twitter.com/download/iphone\" r...</td>\n",
       "      <td>Why does this never happen at my front door......</td>\n",
       "      <td>https://twitter.com/dog_rates/status/758467244...</td>\n",
       "      <td>NaN</td>\n",
       "      <td>2032.0</td>\n",
       "      <td>4483.0</td>\n",
       "      <td>1.1</td>\n",
       "      <td>NaN</td>\n",
       "    </tr>\n",
       "    <tr>\n",
       "      <th>1278</th>\n",
       "      <td>696894894812565505</td>\n",
       "      <td>2016-02-09 03:14:25+00:00</td>\n",
       "      <td>&lt;a href=\"http://twitter.com/download/iphone\" r...</td>\n",
       "      <td>These two pirates crashed their ship and don't...</td>\n",
       "      <td>https://twitter.com/dog_rates/status/696894894...</td>\n",
       "      <td>NaN</td>\n",
       "      <td>621.0</td>\n",
       "      <td>2178.0</td>\n",
       "      <td>0.9</td>\n",
       "      <td>NaN</td>\n",
       "    </tr>\n",
       "    <tr>\n",
       "      <th>842</th>\n",
       "      <td>750026558547456000</td>\n",
       "      <td>2016-07-04 18:00:41+00:00</td>\n",
       "      <td>&lt;a href=\"https://about.twitter.com/products/tw...</td>\n",
       "      <td>Meet Jax &amp;amp; Jil. Jil is yelling the pledge ...</td>\n",
       "      <td>https://twitter.com/dog_rates/status/750026558...</td>\n",
       "      <td>Jax</td>\n",
       "      <td>721.0</td>\n",
       "      <td>2536.0</td>\n",
       "      <td>1.0</td>\n",
       "      <td>NaN</td>\n",
       "    </tr>\n",
       "  </tbody>\n",
       "</table>\n",
       "</div>"
      ],
      "text/plain": [
       "                tweet_id                 timestamp  \\\n",
       "114   869227993411051520 2017-05-29 16:24:37+00:00   \n",
       "1081  713411074226274305 2016-03-25 17:03:49+00:00   \n",
       "776   758467244762497024 2016-07-28 01:00:57+00:00   \n",
       "1278  696894894812565505 2016-02-09 03:14:25+00:00   \n",
       "842   750026558547456000 2016-07-04 18:00:41+00:00   \n",
       "\n",
       "                                                 source  \\\n",
       "114   <a href=\"http://twitter.com/download/iphone\" r...   \n",
       "1081  <a href=\"http://twitter.com/download/iphone\" r...   \n",
       "776   <a href=\"http://twitter.com/download/iphone\" r...   \n",
       "1278  <a href=\"http://twitter.com/download/iphone\" r...   \n",
       "842   <a href=\"https://about.twitter.com/products/tw...   \n",
       "\n",
       "                                                   text  \\\n",
       "114   This is Gizmo. His favorite thing is standing ...   \n",
       "1081  Here we see an extremely rare Bearded Floofmal...   \n",
       "776   Why does this never happen at my front door......   \n",
       "1278  These two pirates crashed their ship and don't...   \n",
       "842   Meet Jax &amp; Jil. Jil is yelling the pledge ...   \n",
       "\n",
       "                                          expanded_urls   name  retweet_count  \\\n",
       "114   https://twitter.com/dog_rates/status/869227993...  Gizmo         3202.0   \n",
       "1081  https://twitter.com/dog_rates/status/713411074...    NaN         1191.0   \n",
       "776   https://twitter.com/dog_rates/status/758467244...    NaN         2032.0   \n",
       "1278  https://twitter.com/dog_rates/status/696894894...    NaN          621.0   \n",
       "842   https://twitter.com/dog_rates/status/750026558...    Jax          721.0   \n",
       "\n",
       "      favorite_count  ratings dog_stage  \n",
       "114          18155.0      1.3       NaN  \n",
       "1081          4105.0      1.1       NaN  \n",
       "776           4483.0      1.1       NaN  \n",
       "1278          2178.0      0.9       NaN  \n",
       "842           2536.0      1.0       NaN  "
      ]
     },
     "execution_count": 82,
     "metadata": {},
     "output_type": "execute_result"
    }
   ],
   "source": [
    "df_original_tweet.sample(5)"
   ]
  },
  {
   "cell_type": "markdown",
   "metadata": {},
   "source": [
    "### `df_tweet`, `df_tweet_api` and `df_image_prediction` should be joined as one table to form a single observational unit"
   ]
  },
  {
   "cell_type": "markdown",
   "metadata": {},
   "source": [
    "### Define\n",
    "- Merge df_original_tweet with image_clean"
   ]
  },
  {
   "cell_type": "markdown",
   "metadata": {},
   "source": [
    "#### Code"
   ]
  },
  {
   "cell_type": "code",
   "execution_count": 83,
   "metadata": {},
   "outputs": [],
   "source": [
    "# Merging the original tweet dataframe with image prediction dataframe\n",
    "df_complete_tweet = df_original_tweet.merge(image_clean, on='tweet_id', how=\"left\")"
   ]
  },
  {
   "cell_type": "code",
   "execution_count": null,
   "metadata": {},
   "outputs": [],
   "source": []
  },
  {
   "cell_type": "markdown",
   "metadata": {},
   "source": [
    "#### Test"
   ]
  },
  {
   "cell_type": "code",
   "execution_count": 84,
   "metadata": {},
   "outputs": [
    {
     "name": "stdout",
     "output_type": "stream",
     "text": [
      "<class 'pandas.core.frame.DataFrame'>\n",
      "Int64Index: 1933 entries, 0 to 1932\n",
      "Data columns (total 20 columns):\n",
      " #   Column          Non-Null Count  Dtype              \n",
      "---  ------          --------------  -----              \n",
      " 0   tweet_id        1933 non-null   int64              \n",
      " 1   timestamp       1933 non-null   datetime64[ns, UTC]\n",
      " 2   source          1933 non-null   object             \n",
      " 3   text            1933 non-null   object             \n",
      " 4   expanded_urls   1933 non-null   object             \n",
      " 5   name            1295 non-null   object             \n",
      " 6   retweet_count   1933 non-null   float64            \n",
      " 7   favorite_count  1933 non-null   float64            \n",
      " 8   ratings         1933 non-null   float64            \n",
      " 9   dog_stage       320 non-null    object             \n",
      " 10  jpg_url         1534 non-null   object             \n",
      " 11  p1              1534 non-null   object             \n",
      " 12  p1_conf         1534 non-null   float64            \n",
      " 13  p1_dog          1534 non-null   object             \n",
      " 14  p2              1534 non-null   object             \n",
      " 15  p2_conf         1534 non-null   float64            \n",
      " 16  p2_dog          1534 non-null   object             \n",
      " 17  p3              1534 non-null   object             \n",
      " 18  p3_conf         1534 non-null   float64            \n",
      " 19  p3_dog          1534 non-null   object             \n",
      "dtypes: datetime64[ns, UTC](1), float64(6), int64(1), object(12)\n",
      "memory usage: 317.1+ KB\n"
     ]
    }
   ],
   "source": [
    "df_complete_tweet.info()"
   ]
  },
  {
   "cell_type": "code",
   "execution_count": 85,
   "metadata": {},
   "outputs": [
    {
     "data": {
      "text/html": [
       "<div>\n",
       "<style scoped>\n",
       "    .dataframe tbody tr th:only-of-type {\n",
       "        vertical-align: middle;\n",
       "    }\n",
       "\n",
       "    .dataframe tbody tr th {\n",
       "        vertical-align: top;\n",
       "    }\n",
       "\n",
       "    .dataframe thead th {\n",
       "        text-align: right;\n",
       "    }\n",
       "</style>\n",
       "<table border=\"1\" class=\"dataframe\">\n",
       "  <thead>\n",
       "    <tr style=\"text-align: right;\">\n",
       "      <th></th>\n",
       "      <th>tweet_id</th>\n",
       "      <th>timestamp</th>\n",
       "      <th>source</th>\n",
       "      <th>text</th>\n",
       "      <th>expanded_urls</th>\n",
       "      <th>name</th>\n",
       "      <th>retweet_count</th>\n",
       "      <th>favorite_count</th>\n",
       "      <th>ratings</th>\n",
       "      <th>dog_stage</th>\n",
       "      <th>jpg_url</th>\n",
       "      <th>p1</th>\n",
       "      <th>p1_conf</th>\n",
       "      <th>p1_dog</th>\n",
       "      <th>p2</th>\n",
       "      <th>p2_conf</th>\n",
       "      <th>p2_dog</th>\n",
       "      <th>p3</th>\n",
       "      <th>p3_conf</th>\n",
       "      <th>p3_dog</th>\n",
       "    </tr>\n",
       "  </thead>\n",
       "  <tbody>\n",
       "    <tr>\n",
       "      <th>656</th>\n",
       "      <td>750086836815486976</td>\n",
       "      <td>2016-07-04 22:00:12+00:00</td>\n",
       "      <td>&lt;a href=\"https://about.twitter.com/products/tw...</td>\n",
       "      <td>This is Spanky. He was a member of the 2002 US...</td>\n",
       "      <td>https://twitter.com/dog_rates/status/750086836...</td>\n",
       "      <td>Spanky</td>\n",
       "      <td>493.0</td>\n",
       "      <td>2028.0</td>\n",
       "      <td>1.2</td>\n",
       "      <td>NaN</td>\n",
       "      <td>https://pbs.twimg.com/media/Cmf5WLGWYAAcmRw.jpg</td>\n",
       "      <td>pug</td>\n",
       "      <td>0.978277</td>\n",
       "      <td>True</td>\n",
       "      <td>teddy</td>\n",
       "      <td>0.003134</td>\n",
       "      <td>False</td>\n",
       "      <td>brabancon_griffon</td>\n",
       "      <td>0.003061</td>\n",
       "      <td>True</td>\n",
       "    </tr>\n",
       "    <tr>\n",
       "      <th>932</th>\n",
       "      <td>709225125749587968</td>\n",
       "      <td>2016-03-14 03:50:21+00:00</td>\n",
       "      <td>&lt;a href=\"http://twitter.com/download/iphone\" r...</td>\n",
       "      <td>This is Walker. He's a Butternut Khalifa. Appe...</td>\n",
       "      <td>https://twitter.com/dog_rates/status/709225125...</td>\n",
       "      <td>Walker</td>\n",
       "      <td>523.0</td>\n",
       "      <td>2217.0</td>\n",
       "      <td>1.1</td>\n",
       "      <td>NaN</td>\n",
       "      <td>https://pbs.twimg.com/media/Cdese-zWEAArIqE.jpg</td>\n",
       "      <td>labrador_retriever</td>\n",
       "      <td>0.271109</td>\n",
       "      <td>True</td>\n",
       "      <td>pomeranian</td>\n",
       "      <td>0.150487</td>\n",
       "      <td>True</td>\n",
       "      <td>golden_retriever</td>\n",
       "      <td>0.145578</td>\n",
       "      <td>True</td>\n",
       "    </tr>\n",
       "    <tr>\n",
       "      <th>644</th>\n",
       "      <td>751538714308972544</td>\n",
       "      <td>2016-07-08 22:09:27+00:00</td>\n",
       "      <td>&lt;a href=\"http://twitter.com/download/iphone\" r...</td>\n",
       "      <td>This is Max. She has one ear that's always sli...</td>\n",
       "      <td>https://twitter.com/dog_rates/status/751538714...</td>\n",
       "      <td>Max</td>\n",
       "      <td>1149.0</td>\n",
       "      <td>4732.0</td>\n",
       "      <td>1.0</td>\n",
       "      <td>NaN</td>\n",
       "      <td>https://pbs.twimg.com/media/Cm4AeG8XEAAulD2.jpg</td>\n",
       "      <td>labrador_retriever</td>\n",
       "      <td>0.516257</td>\n",
       "      <td>True</td>\n",
       "      <td>golden_retriever</td>\n",
       "      <td>0.210839</td>\n",
       "      <td>True</td>\n",
       "      <td>dingo</td>\n",
       "      <td>0.162022</td>\n",
       "      <td>False</td>\n",
       "    </tr>\n",
       "    <tr>\n",
       "      <th>1931</th>\n",
       "      <td>666029285002620928</td>\n",
       "      <td>2015-11-15 23:05:30+00:00</td>\n",
       "      <td>&lt;a href=\"http://twitter.com/download/iphone\" r...</td>\n",
       "      <td>This is a western brown Mitsubishi terrier. Up...</td>\n",
       "      <td>https://twitter.com/dog_rates/status/666029285...</td>\n",
       "      <td>NaN</td>\n",
       "      <td>39.0</td>\n",
       "      <td>112.0</td>\n",
       "      <td>0.7</td>\n",
       "      <td>NaN</td>\n",
       "      <td>https://pbs.twimg.com/media/CT42GRgUYAA5iDo.jpg</td>\n",
       "      <td>redbone</td>\n",
       "      <td>0.506826</td>\n",
       "      <td>True</td>\n",
       "      <td>miniature_pinscher</td>\n",
       "      <td>0.074192</td>\n",
       "      <td>True</td>\n",
       "      <td>rhodesian_ridgeback</td>\n",
       "      <td>0.072010</td>\n",
       "      <td>True</td>\n",
       "    </tr>\n",
       "    <tr>\n",
       "      <th>1691</th>\n",
       "      <td>670727704916926465</td>\n",
       "      <td>2015-11-28 22:15:21+00:00</td>\n",
       "      <td>&lt;a href=\"http://twitter.com/download/iphone\" r...</td>\n",
       "      <td>This is Jeffrie. He's a handheld pup. Excellen...</td>\n",
       "      <td>https://twitter.com/dog_rates/status/670727704...</td>\n",
       "      <td>Jeffrie</td>\n",
       "      <td>314.0</td>\n",
       "      <td>738.0</td>\n",
       "      <td>1.0</td>\n",
       "      <td>NaN</td>\n",
       "      <td>NaN</td>\n",
       "      <td>NaN</td>\n",
       "      <td>NaN</td>\n",
       "      <td>NaN</td>\n",
       "      <td>NaN</td>\n",
       "      <td>NaN</td>\n",
       "      <td>NaN</td>\n",
       "      <td>NaN</td>\n",
       "      <td>NaN</td>\n",
       "      <td>NaN</td>\n",
       "    </tr>\n",
       "  </tbody>\n",
       "</table>\n",
       "</div>"
      ],
      "text/plain": [
       "                tweet_id                 timestamp  \\\n",
       "656   750086836815486976 2016-07-04 22:00:12+00:00   \n",
       "932   709225125749587968 2016-03-14 03:50:21+00:00   \n",
       "644   751538714308972544 2016-07-08 22:09:27+00:00   \n",
       "1931  666029285002620928 2015-11-15 23:05:30+00:00   \n",
       "1691  670727704916926465 2015-11-28 22:15:21+00:00   \n",
       "\n",
       "                                                 source  \\\n",
       "656   <a href=\"https://about.twitter.com/products/tw...   \n",
       "932   <a href=\"http://twitter.com/download/iphone\" r...   \n",
       "644   <a href=\"http://twitter.com/download/iphone\" r...   \n",
       "1931  <a href=\"http://twitter.com/download/iphone\" r...   \n",
       "1691  <a href=\"http://twitter.com/download/iphone\" r...   \n",
       "\n",
       "                                                   text  \\\n",
       "656   This is Spanky. He was a member of the 2002 US...   \n",
       "932   This is Walker. He's a Butternut Khalifa. Appe...   \n",
       "644   This is Max. She has one ear that's always sli...   \n",
       "1931  This is a western brown Mitsubishi terrier. Up...   \n",
       "1691  This is Jeffrie. He's a handheld pup. Excellen...   \n",
       "\n",
       "                                          expanded_urls     name  \\\n",
       "656   https://twitter.com/dog_rates/status/750086836...   Spanky   \n",
       "932   https://twitter.com/dog_rates/status/709225125...   Walker   \n",
       "644   https://twitter.com/dog_rates/status/751538714...      Max   \n",
       "1931  https://twitter.com/dog_rates/status/666029285...      NaN   \n",
       "1691  https://twitter.com/dog_rates/status/670727704...  Jeffrie   \n",
       "\n",
       "      retweet_count  favorite_count  ratings dog_stage  \\\n",
       "656           493.0          2028.0      1.2       NaN   \n",
       "932           523.0          2217.0      1.1       NaN   \n",
       "644          1149.0          4732.0      1.0       NaN   \n",
       "1931           39.0           112.0      0.7       NaN   \n",
       "1691          314.0           738.0      1.0       NaN   \n",
       "\n",
       "                                              jpg_url                  p1  \\\n",
       "656   https://pbs.twimg.com/media/Cmf5WLGWYAAcmRw.jpg                 pug   \n",
       "932   https://pbs.twimg.com/media/Cdese-zWEAArIqE.jpg  labrador_retriever   \n",
       "644   https://pbs.twimg.com/media/Cm4AeG8XEAAulD2.jpg  labrador_retriever   \n",
       "1931  https://pbs.twimg.com/media/CT42GRgUYAA5iDo.jpg             redbone   \n",
       "1691                                              NaN                 NaN   \n",
       "\n",
       "       p1_conf p1_dog                  p2   p2_conf p2_dog  \\\n",
       "656   0.978277   True               teddy  0.003134  False   \n",
       "932   0.271109   True          pomeranian  0.150487   True   \n",
       "644   0.516257   True    golden_retriever  0.210839   True   \n",
       "1931  0.506826   True  miniature_pinscher  0.074192   True   \n",
       "1691       NaN    NaN                 NaN       NaN    NaN   \n",
       "\n",
       "                       p3   p3_conf p3_dog  \n",
       "656     brabancon_griffon  0.003061   True  \n",
       "932      golden_retriever  0.145578   True  \n",
       "644                 dingo  0.162022  False  \n",
       "1931  rhodesian_ridgeback  0.072010   True  \n",
       "1691                  NaN       NaN    NaN  "
      ]
     },
     "execution_count": 85,
     "metadata": {},
     "output_type": "execute_result"
    }
   ],
   "source": [
    "df_complete_tweet.sample(5)"
   ]
  },
  {
   "cell_type": "markdown",
   "metadata": {},
   "source": [
    "#### Code"
   ]
  },
  {
   "cell_type": "code",
   "execution_count": 86,
   "metadata": {},
   "outputs": [],
   "source": [
    "df_complete_tweet = df_complete_tweet.dropna(subset=['jpg_url', 'p1', 'p1_conf', 'p1_dog', 'p2', 'p2_conf', \n",
    "                                                     'p2_dog', 'p3', 'p3_conf', 'p3_dog'])"
   ]
  },
  {
   "cell_type": "markdown",
   "metadata": {},
   "source": [
    "#### Test"
   ]
  },
  {
   "cell_type": "code",
   "execution_count": 87,
   "metadata": {},
   "outputs": [
    {
     "name": "stdout",
     "output_type": "stream",
     "text": [
      "<class 'pandas.core.frame.DataFrame'>\n",
      "Int64Index: 1534 entries, 1 to 1932\n",
      "Data columns (total 20 columns):\n",
      " #   Column          Non-Null Count  Dtype              \n",
      "---  ------          --------------  -----              \n",
      " 0   tweet_id        1534 non-null   int64              \n",
      " 1   timestamp       1534 non-null   datetime64[ns, UTC]\n",
      " 2   source          1534 non-null   object             \n",
      " 3   text            1534 non-null   object             \n",
      " 4   expanded_urls   1534 non-null   object             \n",
      " 5   name            1100 non-null   object             \n",
      " 6   retweet_count   1534 non-null   float64            \n",
      " 7   favorite_count  1534 non-null   float64            \n",
      " 8   ratings         1534 non-null   float64            \n",
      " 9   dog_stage       246 non-null    object             \n",
      " 10  jpg_url         1534 non-null   object             \n",
      " 11  p1              1534 non-null   object             \n",
      " 12  p1_conf         1534 non-null   float64            \n",
      " 13  p1_dog          1534 non-null   object             \n",
      " 14  p2              1534 non-null   object             \n",
      " 15  p2_conf         1534 non-null   float64            \n",
      " 16  p2_dog          1534 non-null   object             \n",
      " 17  p3              1534 non-null   object             \n",
      " 18  p3_conf         1534 non-null   float64            \n",
      " 19  p3_dog          1534 non-null   object             \n",
      "dtypes: datetime64[ns, UTC](1), float64(6), int64(1), object(12)\n",
      "memory usage: 251.7+ KB\n"
     ]
    }
   ],
   "source": [
    "df_complete_tweet.info()"
   ]
  },
  {
   "cell_type": "code",
   "execution_count": 88,
   "metadata": {},
   "outputs": [
    {
     "data": {
      "text/html": [
       "<div>\n",
       "<style scoped>\n",
       "    .dataframe tbody tr th:only-of-type {\n",
       "        vertical-align: middle;\n",
       "    }\n",
       "\n",
       "    .dataframe tbody tr th {\n",
       "        vertical-align: top;\n",
       "    }\n",
       "\n",
       "    .dataframe thead th {\n",
       "        text-align: right;\n",
       "    }\n",
       "</style>\n",
       "<table border=\"1\" class=\"dataframe\">\n",
       "  <thead>\n",
       "    <tr style=\"text-align: right;\">\n",
       "      <th></th>\n",
       "      <th>tweet_id</th>\n",
       "      <th>timestamp</th>\n",
       "      <th>source</th>\n",
       "      <th>text</th>\n",
       "      <th>expanded_urls</th>\n",
       "      <th>name</th>\n",
       "      <th>retweet_count</th>\n",
       "      <th>favorite_count</th>\n",
       "      <th>ratings</th>\n",
       "      <th>dog_stage</th>\n",
       "      <th>jpg_url</th>\n",
       "      <th>p1</th>\n",
       "      <th>p1_conf</th>\n",
       "      <th>p1_dog</th>\n",
       "      <th>p2</th>\n",
       "      <th>p2_conf</th>\n",
       "      <th>p2_dog</th>\n",
       "      <th>p3</th>\n",
       "      <th>p3_conf</th>\n",
       "      <th>p3_dog</th>\n",
       "    </tr>\n",
       "  </thead>\n",
       "  <tbody>\n",
       "    <tr>\n",
       "      <th>1454</th>\n",
       "      <td>675853064436391936</td>\n",
       "      <td>2015-12-13 01:41:41+00:00</td>\n",
       "      <td>&lt;a href=\"http://twitter.com/download/iphone\" r...</td>\n",
       "      <td>Here we have an entire platoon of puppers. Tot...</td>\n",
       "      <td>https://twitter.com/dog_rates/status/675853064...</td>\n",
       "      <td>NaN</td>\n",
       "      <td>1137.0</td>\n",
       "      <td>2432.0</td>\n",
       "      <td>1.1</td>\n",
       "      <td>pupper</td>\n",
       "      <td>https://pbs.twimg.com/media/CWEcxqWVEAAHyGH.jpg</td>\n",
       "      <td>labrador_retriever</td>\n",
       "      <td>0.868367</td>\n",
       "      <td>True</td>\n",
       "      <td>golden_retriever</td>\n",
       "      <td>0.043305</td>\n",
       "      <td>True</td>\n",
       "      <td>vizsla</td>\n",
       "      <td>0.028207</td>\n",
       "      <td>True</td>\n",
       "    </tr>\n",
       "    <tr>\n",
       "      <th>861</th>\n",
       "      <td>716802964044845056</td>\n",
       "      <td>2016-04-04 01:41:58+00:00</td>\n",
       "      <td>&lt;a href=\"http://twitter.com/download/iphone\" r...</td>\n",
       "      <td>This is Link. He struggles with couches. 10/10...</td>\n",
       "      <td>https://twitter.com/dog_rates/status/716802964...</td>\n",
       "      <td>Link</td>\n",
       "      <td>1053.0</td>\n",
       "      <td>3976.0</td>\n",
       "      <td>1.0</td>\n",
       "      <td>NaN</td>\n",
       "      <td>https://pbs.twimg.com/media/CfKYfeBXIAAopp2.jpg</td>\n",
       "      <td>malinois</td>\n",
       "      <td>0.619577</td>\n",
       "      <td>True</td>\n",
       "      <td>leonberg</td>\n",
       "      <td>0.118089</td>\n",
       "      <td>True</td>\n",
       "      <td>bull_mastiff</td>\n",
       "      <td>0.066508</td>\n",
       "      <td>True</td>\n",
       "    </tr>\n",
       "    <tr>\n",
       "      <th>835</th>\n",
       "      <td>720415127506415616</td>\n",
       "      <td>2016-04-14 00:55:25+00:00</td>\n",
       "      <td>&lt;a href=\"http://twitter.com/download/iphone\" r...</td>\n",
       "      <td>Garden's coming in nice this year. 10/10 https...</td>\n",
       "      <td>https://twitter.com/dog_rates/status/720415127...</td>\n",
       "      <td>NaN</td>\n",
       "      <td>1369.0</td>\n",
       "      <td>3812.0</td>\n",
       "      <td>1.0</td>\n",
       "      <td>NaN</td>\n",
       "      <td>https://pbs.twimg.com/media/Cf9tuHUWsAAHSrV.jpg</td>\n",
       "      <td>rottweiler</td>\n",
       "      <td>0.990312</td>\n",
       "      <td>True</td>\n",
       "      <td>black-and-tan_coonhound</td>\n",
       "      <td>0.002495</td>\n",
       "      <td>True</td>\n",
       "      <td>american_black_bear</td>\n",
       "      <td>0.001733</td>\n",
       "      <td>False</td>\n",
       "    </tr>\n",
       "    <tr>\n",
       "      <th>912</th>\n",
       "      <td>710844581445812225</td>\n",
       "      <td>2016-03-18 15:05:29+00:00</td>\n",
       "      <td>&lt;a href=\"http://twitter.com/download/iphone\" r...</td>\n",
       "      <td>This is Staniel. His selfie game is strong af....</td>\n",
       "      <td>https://twitter.com/dog_rates/status/710844581...</td>\n",
       "      <td>Staniel</td>\n",
       "      <td>615.0</td>\n",
       "      <td>2358.0</td>\n",
       "      <td>1.0</td>\n",
       "      <td>NaN</td>\n",
       "      <td>https://pbs.twimg.com/media/Cd1tYGmXIAAoW5b.jpg</td>\n",
       "      <td>dingo</td>\n",
       "      <td>0.536593</td>\n",
       "      <td>False</td>\n",
       "      <td>pembroke</td>\n",
       "      <td>0.200407</td>\n",
       "      <td>True</td>\n",
       "      <td>basenji</td>\n",
       "      <td>0.060734</td>\n",
       "      <td>True</td>\n",
       "    </tr>\n",
       "    <tr>\n",
       "      <th>1701</th>\n",
       "      <td>670452855871037440</td>\n",
       "      <td>2015-11-28 04:03:11+00:00</td>\n",
       "      <td>&lt;a href=\"http://twitter.com/download/iphone\" r...</td>\n",
       "      <td>This dog can't see its haters. 11/10 https://t...</td>\n",
       "      <td>https://twitter.com/dog_rates/status/670452855...</td>\n",
       "      <td>NaN</td>\n",
       "      <td>174.0</td>\n",
       "      <td>489.0</td>\n",
       "      <td>1.1</td>\n",
       "      <td>NaN</td>\n",
       "      <td>https://pbs.twimg.com/media/CU3tUC4WEAAoZby.jpg</td>\n",
       "      <td>arctic_fox</td>\n",
       "      <td>0.188174</td>\n",
       "      <td>False</td>\n",
       "      <td>indri</td>\n",
       "      <td>0.123584</td>\n",
       "      <td>False</td>\n",
       "      <td>malamute</td>\n",
       "      <td>0.080379</td>\n",
       "      <td>True</td>\n",
       "    </tr>\n",
       "    <tr>\n",
       "      <th>1157</th>\n",
       "      <td>690690673629138944</td>\n",
       "      <td>2016-01-23 00:21:03+00:00</td>\n",
       "      <td>&lt;a href=\"http://twitter.com/download/iphone\" r...</td>\n",
       "      <td>This is Cedrick. He's a spookster. Did me a di...</td>\n",
       "      <td>https://twitter.com/dog_rates/status/690690673...</td>\n",
       "      <td>Cedrick</td>\n",
       "      <td>752.0</td>\n",
       "      <td>2157.0</td>\n",
       "      <td>1.0</td>\n",
       "      <td>NaN</td>\n",
       "      <td>https://pbs.twimg.com/media/CZXTgKkWwAA5UZJ.jpg</td>\n",
       "      <td>bath_towel</td>\n",
       "      <td>0.194532</td>\n",
       "      <td>False</td>\n",
       "      <td>radiator</td>\n",
       "      <td>0.127776</td>\n",
       "      <td>False</td>\n",
       "      <td>maltese_dog</td>\n",
       "      <td>0.089625</td>\n",
       "      <td>True</td>\n",
       "    </tr>\n",
       "    <tr>\n",
       "      <th>1259</th>\n",
       "      <td>684481074559381504</td>\n",
       "      <td>2016-01-05 21:06:19+00:00</td>\n",
       "      <td>&lt;a href=\"http://twitter.com/download/iphone\" r...</td>\n",
       "      <td>Meet Pippa. She's an Elfin High Feta. Compact ...</td>\n",
       "      <td>https://twitter.com/dog_rates/status/684481074...</td>\n",
       "      <td>Pippa</td>\n",
       "      <td>1073.0</td>\n",
       "      <td>3575.0</td>\n",
       "      <td>1.0</td>\n",
       "      <td>NaN</td>\n",
       "      <td>https://pbs.twimg.com/media/CX_D6AJWwAAnBIw.jpg</td>\n",
       "      <td>chihuahua</td>\n",
       "      <td>0.937810</td>\n",
       "      <td>True</td>\n",
       "      <td>pomeranian</td>\n",
       "      <td>0.020307</td>\n",
       "      <td>True</td>\n",
       "      <td>polecat</td>\n",
       "      <td>0.017357</td>\n",
       "      <td>False</td>\n",
       "    </tr>\n",
       "    <tr>\n",
       "      <th>603</th>\n",
       "      <td>758355060040593408</td>\n",
       "      <td>2016-07-27 17:35:10+00:00</td>\n",
       "      <td>&lt;a href=\"http://twitter.com/download/iphone\" r...</td>\n",
       "      <td>This is Corey. He's a Portobello Corgicool. Tr...</td>\n",
       "      <td>https://twitter.com/dog_rates/status/758355060...</td>\n",
       "      <td>Corey</td>\n",
       "      <td>968.0</td>\n",
       "      <td>3164.0</td>\n",
       "      <td>1.1</td>\n",
       "      <td>NaN</td>\n",
       "      <td>https://pbs.twimg.com/media/CoY324eWYAEiDOG.jpg</td>\n",
       "      <td>pembroke</td>\n",
       "      <td>0.987643</td>\n",
       "      <td>True</td>\n",
       "      <td>cardigan</td>\n",
       "      <td>0.012112</td>\n",
       "      <td>True</td>\n",
       "      <td>siamese_cat</td>\n",
       "      <td>0.000117</td>\n",
       "      <td>False</td>\n",
       "    </tr>\n",
       "    <tr>\n",
       "      <th>1130</th>\n",
       "      <td>692901601640583168</td>\n",
       "      <td>2016-01-29 02:46:29+00:00</td>\n",
       "      <td>&lt;a href=\"http://twitter.com/download/iphone\" r...</td>\n",
       "      <td>\"Fuck the system\" 10/10 https://t.co/N0OADmCnVV</td>\n",
       "      <td>https://twitter.com/dog_rates/status/692901601...</td>\n",
       "      <td>NaN</td>\n",
       "      <td>541.0</td>\n",
       "      <td>1623.0</td>\n",
       "      <td>1.0</td>\n",
       "      <td>NaN</td>\n",
       "      <td>https://pbs.twimg.com/media/CZ2uU37UcAANzmK.jpg</td>\n",
       "      <td>soft-coated_wheaten_terrier</td>\n",
       "      <td>0.403496</td>\n",
       "      <td>True</td>\n",
       "      <td>cocker_spaniel</td>\n",
       "      <td>0.135164</td>\n",
       "      <td>True</td>\n",
       "      <td>golden_retriever</td>\n",
       "      <td>0.088719</td>\n",
       "      <td>True</td>\n",
       "    </tr>\n",
       "    <tr>\n",
       "      <th>1104</th>\n",
       "      <td>695051054296211456</td>\n",
       "      <td>2016-02-04 01:07:39+00:00</td>\n",
       "      <td>&lt;a href=\"http://twitter.com/download/iphone\" r...</td>\n",
       "      <td>Meet Brian (pronounced \"Kirk\"). He's not amuse...</td>\n",
       "      <td>https://twitter.com/dog_rates/status/695051054...</td>\n",
       "      <td>Brian</td>\n",
       "      <td>719.0</td>\n",
       "      <td>2444.0</td>\n",
       "      <td>0.6</td>\n",
       "      <td>NaN</td>\n",
       "      <td>https://pbs.twimg.com/media/CaVRP4GWwAERC0v.jpg</td>\n",
       "      <td>boston_bull</td>\n",
       "      <td>0.761454</td>\n",
       "      <td>True</td>\n",
       "      <td>pug</td>\n",
       "      <td>0.075395</td>\n",
       "      <td>True</td>\n",
       "      <td>chihuahua</td>\n",
       "      <td>0.041598</td>\n",
       "      <td>True</td>\n",
       "    </tr>\n",
       "  </tbody>\n",
       "</table>\n",
       "</div>"
      ],
      "text/plain": [
       "                tweet_id                 timestamp  \\\n",
       "1454  675853064436391936 2015-12-13 01:41:41+00:00   \n",
       "861   716802964044845056 2016-04-04 01:41:58+00:00   \n",
       "835   720415127506415616 2016-04-14 00:55:25+00:00   \n",
       "912   710844581445812225 2016-03-18 15:05:29+00:00   \n",
       "1701  670452855871037440 2015-11-28 04:03:11+00:00   \n",
       "1157  690690673629138944 2016-01-23 00:21:03+00:00   \n",
       "1259  684481074559381504 2016-01-05 21:06:19+00:00   \n",
       "603   758355060040593408 2016-07-27 17:35:10+00:00   \n",
       "1130  692901601640583168 2016-01-29 02:46:29+00:00   \n",
       "1104  695051054296211456 2016-02-04 01:07:39+00:00   \n",
       "\n",
       "                                                 source  \\\n",
       "1454  <a href=\"http://twitter.com/download/iphone\" r...   \n",
       "861   <a href=\"http://twitter.com/download/iphone\" r...   \n",
       "835   <a href=\"http://twitter.com/download/iphone\" r...   \n",
       "912   <a href=\"http://twitter.com/download/iphone\" r...   \n",
       "1701  <a href=\"http://twitter.com/download/iphone\" r...   \n",
       "1157  <a href=\"http://twitter.com/download/iphone\" r...   \n",
       "1259  <a href=\"http://twitter.com/download/iphone\" r...   \n",
       "603   <a href=\"http://twitter.com/download/iphone\" r...   \n",
       "1130  <a href=\"http://twitter.com/download/iphone\" r...   \n",
       "1104  <a href=\"http://twitter.com/download/iphone\" r...   \n",
       "\n",
       "                                                   text  \\\n",
       "1454  Here we have an entire platoon of puppers. Tot...   \n",
       "861   This is Link. He struggles with couches. 10/10...   \n",
       "835   Garden's coming in nice this year. 10/10 https...   \n",
       "912   This is Staniel. His selfie game is strong af....   \n",
       "1701  This dog can't see its haters. 11/10 https://t...   \n",
       "1157  This is Cedrick. He's a spookster. Did me a di...   \n",
       "1259  Meet Pippa. She's an Elfin High Feta. Compact ...   \n",
       "603   This is Corey. He's a Portobello Corgicool. Tr...   \n",
       "1130    \"Fuck the system\" 10/10 https://t.co/N0OADmCnVV   \n",
       "1104  Meet Brian (pronounced \"Kirk\"). He's not amuse...   \n",
       "\n",
       "                                          expanded_urls     name  \\\n",
       "1454  https://twitter.com/dog_rates/status/675853064...      NaN   \n",
       "861   https://twitter.com/dog_rates/status/716802964...     Link   \n",
       "835   https://twitter.com/dog_rates/status/720415127...      NaN   \n",
       "912   https://twitter.com/dog_rates/status/710844581...  Staniel   \n",
       "1701  https://twitter.com/dog_rates/status/670452855...      NaN   \n",
       "1157  https://twitter.com/dog_rates/status/690690673...  Cedrick   \n",
       "1259  https://twitter.com/dog_rates/status/684481074...    Pippa   \n",
       "603   https://twitter.com/dog_rates/status/758355060...    Corey   \n",
       "1130  https://twitter.com/dog_rates/status/692901601...      NaN   \n",
       "1104  https://twitter.com/dog_rates/status/695051054...    Brian   \n",
       "\n",
       "      retweet_count  favorite_count  ratings dog_stage  \\\n",
       "1454         1137.0          2432.0      1.1    pupper   \n",
       "861          1053.0          3976.0      1.0       NaN   \n",
       "835          1369.0          3812.0      1.0       NaN   \n",
       "912           615.0          2358.0      1.0       NaN   \n",
       "1701          174.0           489.0      1.1       NaN   \n",
       "1157          752.0          2157.0      1.0       NaN   \n",
       "1259         1073.0          3575.0      1.0       NaN   \n",
       "603           968.0          3164.0      1.1       NaN   \n",
       "1130          541.0          1623.0      1.0       NaN   \n",
       "1104          719.0          2444.0      0.6       NaN   \n",
       "\n",
       "                                              jpg_url  \\\n",
       "1454  https://pbs.twimg.com/media/CWEcxqWVEAAHyGH.jpg   \n",
       "861   https://pbs.twimg.com/media/CfKYfeBXIAAopp2.jpg   \n",
       "835   https://pbs.twimg.com/media/Cf9tuHUWsAAHSrV.jpg   \n",
       "912   https://pbs.twimg.com/media/Cd1tYGmXIAAoW5b.jpg   \n",
       "1701  https://pbs.twimg.com/media/CU3tUC4WEAAoZby.jpg   \n",
       "1157  https://pbs.twimg.com/media/CZXTgKkWwAA5UZJ.jpg   \n",
       "1259  https://pbs.twimg.com/media/CX_D6AJWwAAnBIw.jpg   \n",
       "603   https://pbs.twimg.com/media/CoY324eWYAEiDOG.jpg   \n",
       "1130  https://pbs.twimg.com/media/CZ2uU37UcAANzmK.jpg   \n",
       "1104  https://pbs.twimg.com/media/CaVRP4GWwAERC0v.jpg   \n",
       "\n",
       "                               p1   p1_conf p1_dog                       p2  \\\n",
       "1454           labrador_retriever  0.868367   True         golden_retriever   \n",
       "861                      malinois  0.619577   True                 leonberg   \n",
       "835                    rottweiler  0.990312   True  black-and-tan_coonhound   \n",
       "912                         dingo  0.536593  False                 pembroke   \n",
       "1701                   arctic_fox  0.188174  False                    indri   \n",
       "1157                   bath_towel  0.194532  False                 radiator   \n",
       "1259                    chihuahua  0.937810   True               pomeranian   \n",
       "603                      pembroke  0.987643   True                 cardigan   \n",
       "1130  soft-coated_wheaten_terrier  0.403496   True           cocker_spaniel   \n",
       "1104                  boston_bull  0.761454   True                      pug   \n",
       "\n",
       "       p2_conf p2_dog                   p3   p3_conf p3_dog  \n",
       "1454  0.043305   True               vizsla  0.028207   True  \n",
       "861   0.118089   True         bull_mastiff  0.066508   True  \n",
       "835   0.002495   True  american_black_bear  0.001733  False  \n",
       "912   0.200407   True              basenji  0.060734   True  \n",
       "1701  0.123584  False             malamute  0.080379   True  \n",
       "1157  0.127776  False          maltese_dog  0.089625   True  \n",
       "1259  0.020307   True              polecat  0.017357  False  \n",
       "603   0.012112   True          siamese_cat  0.000117  False  \n",
       "1130  0.135164   True     golden_retriever  0.088719   True  \n",
       "1104  0.075395   True            chihuahua  0.041598   True  "
      ]
     },
     "execution_count": 88,
     "metadata": {},
     "output_type": "execute_result"
    }
   ],
   "source": [
    "df_complete_tweet.sample(10)"
   ]
  },
  {
   "cell_type": "markdown",
   "metadata": {},
   "source": [
    "## Storing Data"
   ]
  },
  {
   "cell_type": "code",
   "execution_count": 89,
   "metadata": {},
   "outputs": [],
   "source": [
    "# Storing the cleaned dataset to a new csv file\n",
    "df_complete_tweet.to_csv('twitter_archive_master.csv', index=False)"
   ]
  },
  {
   "cell_type": "markdown",
   "metadata": {},
   "source": [
    "## Analyzing and Visualizing Data\n"
   ]
  },
  {
   "cell_type": "code",
   "execution_count": 90,
   "metadata": {},
   "outputs": [],
   "source": [
    "twitter_master = pd.read_csv('twitter_archive_master.csv')"
   ]
  },
  {
   "cell_type": "code",
   "execution_count": 91,
   "metadata": {},
   "outputs": [
    {
     "data": {
      "text/html": [
       "<div>\n",
       "<style scoped>\n",
       "    .dataframe tbody tr th:only-of-type {\n",
       "        vertical-align: middle;\n",
       "    }\n",
       "\n",
       "    .dataframe tbody tr th {\n",
       "        vertical-align: top;\n",
       "    }\n",
       "\n",
       "    .dataframe thead th {\n",
       "        text-align: right;\n",
       "    }\n",
       "</style>\n",
       "<table border=\"1\" class=\"dataframe\">\n",
       "  <thead>\n",
       "    <tr style=\"text-align: right;\">\n",
       "      <th></th>\n",
       "      <th>tweet_id</th>\n",
       "      <th>timestamp</th>\n",
       "      <th>source</th>\n",
       "      <th>text</th>\n",
       "      <th>expanded_urls</th>\n",
       "      <th>name</th>\n",
       "      <th>retweet_count</th>\n",
       "      <th>favorite_count</th>\n",
       "      <th>ratings</th>\n",
       "      <th>dog_stage</th>\n",
       "      <th>jpg_url</th>\n",
       "      <th>p1</th>\n",
       "      <th>p1_conf</th>\n",
       "      <th>p1_dog</th>\n",
       "      <th>p2</th>\n",
       "      <th>p2_conf</th>\n",
       "      <th>p2_dog</th>\n",
       "      <th>p3</th>\n",
       "      <th>p3_conf</th>\n",
       "      <th>p3_dog</th>\n",
       "    </tr>\n",
       "  </thead>\n",
       "  <tbody>\n",
       "    <tr>\n",
       "      <th>431</th>\n",
       "      <td>776477788987613185</td>\n",
       "      <td>2016-09-15 17:48:25+00:00</td>\n",
       "      <td>&lt;a href=\"http://twitter.com/download/iphone\" r...</td>\n",
       "      <td>This is Huck. He's addicted to caffeine. Hope ...</td>\n",
       "      <td>https://twitter.com/dog_rates/status/776477788...</td>\n",
       "      <td>Huck</td>\n",
       "      <td>2566.0</td>\n",
       "      <td>8260.0</td>\n",
       "      <td>1.1</td>\n",
       "      <td>pupper</td>\n",
       "      <td>https://pbs.twimg.com/media/CsaaaaxWgAEfzM7.jpg</td>\n",
       "      <td>labrador_retriever</td>\n",
       "      <td>0.884839</td>\n",
       "      <td>True</td>\n",
       "      <td>chesapeake_bay_retriever</td>\n",
       "      <td>0.057565</td>\n",
       "      <td>True</td>\n",
       "      <td>paintbrush</td>\n",
       "      <td>0.005766</td>\n",
       "      <td>False</td>\n",
       "    </tr>\n",
       "    <tr>\n",
       "      <th>1313</th>\n",
       "      <td>671504605491109889</td>\n",
       "      <td>2015-12-01 01:42:28+00:00</td>\n",
       "      <td>&lt;a href=\"http://twitter.com/download/iphone\" r...</td>\n",
       "      <td>This is Charlie. He was just informed that dog...</td>\n",
       "      <td>https://twitter.com/dog_rates/status/671504605...</td>\n",
       "      <td>Charlie</td>\n",
       "      <td>3134.0</td>\n",
       "      <td>6250.0</td>\n",
       "      <td>1.1</td>\n",
       "      <td>NaN</td>\n",
       "      <td>https://pbs.twimg.com/media/CVGp4LKWoAAoD03.jpg</td>\n",
       "      <td>toy_poodle</td>\n",
       "      <td>0.259115</td>\n",
       "      <td>True</td>\n",
       "      <td>bath_towel</td>\n",
       "      <td>0.177669</td>\n",
       "      <td>False</td>\n",
       "      <td>maltese_dog</td>\n",
       "      <td>0.071712</td>\n",
       "      <td>True</td>\n",
       "    </tr>\n",
       "    <tr>\n",
       "      <th>855</th>\n",
       "      <td>700002074055016451</td>\n",
       "      <td>2016-02-17 17:01:14+00:00</td>\n",
       "      <td>&lt;a href=\"http://twitter.com/download/iphone\" r...</td>\n",
       "      <td>This is Thumas. He covered himself in nanners ...</td>\n",
       "      <td>https://twitter.com/dog_rates/status/700002074...</td>\n",
       "      <td>Thumas</td>\n",
       "      <td>1207.0</td>\n",
       "      <td>3040.0</td>\n",
       "      <td>0.9</td>\n",
       "      <td>NaN</td>\n",
       "      <td>https://pbs.twimg.com/media/CbboKP4WIAAw8xq.jpg</td>\n",
       "      <td>chihuahua</td>\n",
       "      <td>0.369488</td>\n",
       "      <td>True</td>\n",
       "      <td>schipperke</td>\n",
       "      <td>0.243367</td>\n",
       "      <td>True</td>\n",
       "      <td>pug</td>\n",
       "      <td>0.161614</td>\n",
       "      <td>True</td>\n",
       "    </tr>\n",
       "    <tr>\n",
       "      <th>204</th>\n",
       "      <td>831670449226514432</td>\n",
       "      <td>2017-02-15 01:04:21+00:00</td>\n",
       "      <td>&lt;a href=\"http://twitter.com/download/iphone\" r...</td>\n",
       "      <td>This is Daisy. She has a heart on her butt. 13...</td>\n",
       "      <td>https://twitter.com/dog_rates/status/831670449...</td>\n",
       "      <td>Daisy</td>\n",
       "      <td>1691.0</td>\n",
       "      <td>9816.0</td>\n",
       "      <td>1.3</td>\n",
       "      <td>NaN</td>\n",
       "      <td>https://pbs.twimg.com/media/C4qv3JUW8AADirb.jpg</td>\n",
       "      <td>pembroke</td>\n",
       "      <td>0.624802</td>\n",
       "      <td>True</td>\n",
       "      <td>cardigan</td>\n",
       "      <td>0.362861</td>\n",
       "      <td>True</td>\n",
       "      <td>appenzeller</td>\n",
       "      <td>0.003926</td>\n",
       "      <td>True</td>\n",
       "    </tr>\n",
       "    <tr>\n",
       "      <th>879</th>\n",
       "      <td>698178924120031232</td>\n",
       "      <td>2016-02-12 16:16:41+00:00</td>\n",
       "      <td>&lt;a href=\"http://twitter.com/download/iphone\" r...</td>\n",
       "      <td>This is Lily. She accidentally dropped all her...</td>\n",
       "      <td>https://twitter.com/dog_rates/status/698178924...</td>\n",
       "      <td>Lily</td>\n",
       "      <td>678.0</td>\n",
       "      <td>2599.0</td>\n",
       "      <td>1.0</td>\n",
       "      <td>NaN</td>\n",
       "      <td>https://pbs.twimg.com/media/CbBuBhbWwAEGH29.jpg</td>\n",
       "      <td>chesapeake_bay_retriever</td>\n",
       "      <td>0.351868</td>\n",
       "      <td>True</td>\n",
       "      <td>malinois</td>\n",
       "      <td>0.207753</td>\n",
       "      <td>True</td>\n",
       "      <td>labrador_retriever</td>\n",
       "      <td>0.154606</td>\n",
       "      <td>True</td>\n",
       "    </tr>\n",
       "  </tbody>\n",
       "</table>\n",
       "</div>"
      ],
      "text/plain": [
       "                tweet_id                  timestamp  \\\n",
       "431   776477788987613185  2016-09-15 17:48:25+00:00   \n",
       "1313  671504605491109889  2015-12-01 01:42:28+00:00   \n",
       "855   700002074055016451  2016-02-17 17:01:14+00:00   \n",
       "204   831670449226514432  2017-02-15 01:04:21+00:00   \n",
       "879   698178924120031232  2016-02-12 16:16:41+00:00   \n",
       "\n",
       "                                                 source  \\\n",
       "431   <a href=\"http://twitter.com/download/iphone\" r...   \n",
       "1313  <a href=\"http://twitter.com/download/iphone\" r...   \n",
       "855   <a href=\"http://twitter.com/download/iphone\" r...   \n",
       "204   <a href=\"http://twitter.com/download/iphone\" r...   \n",
       "879   <a href=\"http://twitter.com/download/iphone\" r...   \n",
       "\n",
       "                                                   text  \\\n",
       "431   This is Huck. He's addicted to caffeine. Hope ...   \n",
       "1313  This is Charlie. He was just informed that dog...   \n",
       "855   This is Thumas. He covered himself in nanners ...   \n",
       "204   This is Daisy. She has a heart on her butt. 13...   \n",
       "879   This is Lily. She accidentally dropped all her...   \n",
       "\n",
       "                                          expanded_urls     name  \\\n",
       "431   https://twitter.com/dog_rates/status/776477788...     Huck   \n",
       "1313  https://twitter.com/dog_rates/status/671504605...  Charlie   \n",
       "855   https://twitter.com/dog_rates/status/700002074...   Thumas   \n",
       "204   https://twitter.com/dog_rates/status/831670449...    Daisy   \n",
       "879   https://twitter.com/dog_rates/status/698178924...     Lily   \n",
       "\n",
       "      retweet_count  favorite_count  ratings dog_stage  \\\n",
       "431          2566.0          8260.0      1.1    pupper   \n",
       "1313         3134.0          6250.0      1.1       NaN   \n",
       "855          1207.0          3040.0      0.9       NaN   \n",
       "204          1691.0          9816.0      1.3       NaN   \n",
       "879           678.0          2599.0      1.0       NaN   \n",
       "\n",
       "                                              jpg_url  \\\n",
       "431   https://pbs.twimg.com/media/CsaaaaxWgAEfzM7.jpg   \n",
       "1313  https://pbs.twimg.com/media/CVGp4LKWoAAoD03.jpg   \n",
       "855   https://pbs.twimg.com/media/CbboKP4WIAAw8xq.jpg   \n",
       "204   https://pbs.twimg.com/media/C4qv3JUW8AADirb.jpg   \n",
       "879   https://pbs.twimg.com/media/CbBuBhbWwAEGH29.jpg   \n",
       "\n",
       "                            p1   p1_conf  p1_dog                        p2  \\\n",
       "431         labrador_retriever  0.884839    True  chesapeake_bay_retriever   \n",
       "1313                toy_poodle  0.259115    True                bath_towel   \n",
       "855                  chihuahua  0.369488    True                schipperke   \n",
       "204                   pembroke  0.624802    True                  cardigan   \n",
       "879   chesapeake_bay_retriever  0.351868    True                  malinois   \n",
       "\n",
       "       p2_conf  p2_dog                  p3   p3_conf  p3_dog  \n",
       "431   0.057565    True          paintbrush  0.005766   False  \n",
       "1313  0.177669   False         maltese_dog  0.071712    True  \n",
       "855   0.243367    True                 pug  0.161614    True  \n",
       "204   0.362861    True         appenzeller  0.003926    True  \n",
       "879   0.207753    True  labrador_retriever  0.154606    True  "
      ]
     },
     "execution_count": 91,
     "metadata": {},
     "output_type": "execute_result"
    }
   ],
   "source": [
    "twitter_master.sample(5)"
   ]
  },
  {
   "cell_type": "markdown",
   "metadata": {},
   "source": [
    "## Insights:"
   ]
  },
  {
   "cell_type": "markdown",
   "metadata": {},
   "source": [
    "## Dogs breeds with high prediction confidence in p1_conf, p2_conf and p3_conf"
   ]
  },
  {
   "cell_type": "code",
   "execution_count": 92,
   "metadata": {
    "scrolled": false
   },
   "outputs": [],
   "source": [
    "# Filtering rows confirmed by the prediction model to be true dogs\n",
    "p_dog = twitter_master[(twitter_master['p1_dog'] == True) &\n",
    "                       (twitter_master['p2_dog'] == True) &\n",
    "                       (twitter_master['p3_dog'] == True)]"
   ]
  },
  {
   "cell_type": "code",
   "execution_count": 93,
   "metadata": {
    "scrolled": true
   },
   "outputs": [
    {
     "data": {
      "text/plain": [
       "p1\n",
       "clumber             0.946718\n",
       "brittany_spaniel    0.847191\n",
       "keeshond            0.844431\n",
       "pomeranian          0.830806\n",
       "bull_mastiff        0.815618\n",
       "Name: p1_conf, dtype: float64"
      ]
     },
     "execution_count": 93,
     "metadata": {},
     "output_type": "execute_result"
    }
   ],
   "source": [
    "# Finding the dog breeds with high prediction confidence in first prediction\n",
    "p_dog.groupby(['p1'])['p1_conf'].mean().nlargest()"
   ]
  },
  {
   "cell_type": "code",
   "execution_count": 94,
   "metadata": {},
   "outputs": [
    {
     "data": {
      "text/plain": [
       "p2\n",
       "giant_schnauzer          0.287955\n",
       "standard_schnauzer       0.285276\n",
       "cairn                    0.265784\n",
       "kerry_blue_terrier       0.250014\n",
       "flat-coated_retriever    0.221214\n",
       "Name: p2_conf, dtype: float64"
      ]
     },
     "execution_count": 94,
     "metadata": {},
     "output_type": "execute_result"
    }
   ],
   "source": [
    "# Finding the dog breeds with high prediction confidence in second prediction\n",
    "p_dog.groupby(['p2'])['p2_conf'].mean().nlargest()"
   ]
  },
  {
   "cell_type": "code",
   "execution_count": 95,
   "metadata": {},
   "outputs": [
    {
     "data": {
      "text/plain": [
       "p3\n",
       "briard                   0.193001\n",
       "sealyham_terrier         0.114437\n",
       "english_foxhound         0.100051\n",
       "standard_poodle          0.097548\n",
       "flat-coated_retriever    0.097543\n",
       "Name: p3_conf, dtype: float64"
      ]
     },
     "execution_count": 95,
     "metadata": {},
     "output_type": "execute_result"
    }
   ],
   "source": [
    "# Finding the dog breeds with high prediction confidence in third prediction\n",
    "p_dog.groupby(['p3'])['p3_conf'].mean().nlargest()"
   ]
  },
  {
   "cell_type": "markdown",
   "metadata": {},
   "source": [
    "**Insight 1**: \n",
    "- The dog breed with the highest prediction confidence in `p1_conf` is **clumber** and **brittany_spaniel** with 94% and 84% confidence respectively\n",
    "- The dog breed with the highest prediction confidence in `p2_conf` is **giant_schnauzer** and **standard_schnauzer** with 28% confidence\n",
    "- The dog breed with the highest prediction confidence in `p3_conf` is **briard** and **sealyham_terrier** with 19% and 11% confidence respectively"
   ]
  },
  {
   "cell_type": "markdown",
   "metadata": {},
   "source": [
    "## Top 10 Dogs with Most Favorite Count"
   ]
  },
  {
   "cell_type": "code",
   "execution_count": 150,
   "metadata": {},
   "outputs": [
    {
     "data": {
      "text/plain": [
       "jpg_url                                                                                  name   \n",
       "https://pbs.twimg.com/ext_tw_video_thumb/879415784908390401/pu/img/cX7XI1TnUsseGET5.jpg  Duddles    92956.0\n",
       "https://pbs.twimg.com/media/DBQwlFCXkAACSkI.jpg                                          Zoey       74007.0\n",
       "https://pbs.twimg.com/media/CWJqN9iWwAAg86R.jpg                                          Kenneth    71039.0\n",
       "https://pbs.twimg.com/media/DC5YqoQW0AArOLH.jpg                                          Aja        69384.0\n",
       "https://pbs.twimg.com/media/DEfjEaNXkAAtPlj.jpg                                          Earl       67354.0\n",
       "https://pbs.twimg.com/media/C4E99ygWcAAQpPs.jpg                                          Dexter     50347.0\n",
       "https://pbs.twimg.com/media/DDxPFwbWAAEbVVR.jpg                                          Gary       44593.0\n",
       "https://pbs.twimg.com/media/C79sB4xXwAEvwKY.jpg                                          Barney     41290.0\n",
       "https://pbs.twimg.com/media/DELC9dZXUAADqUk.jpg                                          Bella      40241.0\n",
       "https://pbs.twimg.com/media/DD5yKdPW0AArzX8.jpg                                          Alfy       39228.0\n",
       "Name: favorite_count, dtype: float64"
      ]
     },
     "execution_count": 150,
     "metadata": {},
     "output_type": "execute_result"
    }
   ],
   "source": [
    "# Selecting dogs and their image url, that have highest favorite count\n",
    "twitter_master.groupby(['jpg_url','name']).mean()['favorite_count'].sort_values(ascending=False)[:10]"
   ]
  },
  {
   "cell_type": "code",
   "execution_count": 147,
   "metadata": {},
   "outputs": [
    {
     "data": {
      "image/jpeg": "[encoded data removed]",
      "text/plain": [
       "<IPython.core.display.Image object>"
      ]
     },
     "execution_count": 147,
     "metadata": {
      "image/jpeg": {
       "height": 200,
       "width": 400
      }
     },
     "output_type": "execute_result"
    }
   ],
   "source": [
    "Image('https://pbs.twimg.com/ext_tw_video_thumb/879415784908390401/pu/img/cX7XI1TnUsseGET5.jpg', width = 400, height=200)"
   ]
  },
  {
   "cell_type": "markdown",
   "metadata": {},
   "source": [
    "### Duddles"
   ]
  },
  {
   "cell_type": "code",
   "execution_count": 148,
   "metadata": {},
   "outputs": [
    {
     "data": {
      "image/jpeg": "[encoded data removed]",
      "text/plain": [
       "<IPython.core.display.Image object>"
      ]
     },
     "execution_count": 148,
     "metadata": {
      "image/jpeg": {
       "height": 200,
       "width": 400
      }
     },
     "output_type": "execute_result"
    }
   ],
   "source": [
    "Image('https://pbs.twimg.com/media/DBQwlFCXkAACSkI.jpg', width = 400, height=200)"
   ]
  },
  {
   "cell_type": "markdown",
   "metadata": {},
   "source": [
    "### Zoey"
   ]
  },
  {
   "cell_type": "code",
   "execution_count": 151,
   "metadata": {},
   "outputs": [
    {
     "data": {
      "image/jpeg": "[encoded data removed]",
      "text/plain": [
       "<IPython.core.display.Image object>"
      ]
     },
     "execution_count": 151,
     "metadata": {
      "image/jpeg": {
       "height": 200,
       "width": 400
      }
     },
     "output_type": "execute_result"
    }
   ],
   "source": [
    "Image('https://pbs.twimg.com/media/CWJqN9iWwAAg86R.jpg', width = 400, height=200)"
   ]
  },
  {
   "cell_type": "markdown",
   "metadata": {},
   "source": [
    "### Kenneth"
   ]
  },
  {
   "cell_type": "markdown",
   "metadata": {},
   "source": [
    "**Insight 2**: The dog named Duddles appears to be the dog with the most favorite count, followed by the dog named Zoey, and Kenneth"
   ]
  },
  {
   "cell_type": "markdown",
   "metadata": {},
   "source": [
    "## Top 5 Dog breeds with highest favorite_count according to the first prediction (p1)"
   ]
  },
  {
   "cell_type": "code",
   "execution_count": 97,
   "metadata": {},
   "outputs": [],
   "source": [
    "# Filtering rows confirmed by the first prediction to be true dogs\n",
    "p1_dog = twitter_master[(twitter_master['p1_dog'] == True)]"
   ]
  },
  {
   "cell_type": "code",
   "execution_count": 113,
   "metadata": {},
   "outputs": [
    {
     "data": {
      "text/plain": [
       "p1\n",
       "saluki                     20821.250\n",
       "black-and-tan_coonhound    14683.500\n",
       "giant_schnauzer            14674.500\n",
       "flat-coated_retriever      14532.625\n",
       "english_springer           14386.000\n",
       "Name: favorite_count, dtype: float64"
      ]
     },
     "execution_count": 113,
     "metadata": {},
     "output_type": "execute_result"
    }
   ],
   "source": [
    "# Selecting dog breeds with the most favorite count\n",
    "df_top_favorite = p1_dog.groupby(['p1'])['favorite_count'].mean().nlargest()\n",
    "df_top_favorite"
   ]
  },
  {
   "cell_type": "markdown",
   "metadata": {},
   "source": [
    "**Insight 3**: The **Saluki** appears to be dog breed with the most favorite count followed by **black-and-tan_coonhound** and **giant_schnauzer**"
   ]
  },
  {
   "cell_type": "markdown",
   "metadata": {
    "collapsed": true
   },
   "source": [
    "### Visualization"
   ]
  },
  {
   "cell_type": "code",
   "execution_count": 114,
   "metadata": {
    "scrolled": false
   },
   "outputs": [
    {
     "data": {
      "application/vnd.plotly.v1+json": {
       "config": {
        "plotlyServerURL": "https://plot.ly"
       },
       "data": [
        {
         "alignmentgroup": "True",
         "hovertemplate": "favorite_count=%{x}<br>p1=%{y}<extra></extra>",
         "legendgroup": "",
         "marker": {
          "color": "#636efa",
          "pattern": {
           "shape": ""
          }
         },
         "name": "",
         "offsetgroup": "",
         "orientation": "h",
         "showlegend": false,
         "textposition": "auto",
         "type": "bar",
         "x": [
          20821.25,
          14683.5,
          14674.5,
          14532.625,
          14386
         ],
         "xaxis": "x",
         "y": [
          "saluki",
          "black-and-tan_coonhound",
          "giant_schnauzer",
          "flat-coated_retriever",
          "english_springer"
         ],
         "yaxis": "y"
        }
       ],
       "layout": {
        "barmode": "relative",
        "legend": {
         "tracegroupgap": 0
        },
        "template": {
         "data": {
          "bar": [
           {
            "error_x": {
             "color": "#2a3f5f"
            },
            "error_y": {
             "color": "#2a3f5f"
            },
            "marker": {
             "line": {
              "color": "#E5ECF6",
              "width": 0.5
             },
             "pattern": {
              "fillmode": "overlay",
              "size": 10,
              "solidity": 0.2
             }
            },
            "type": "bar"
           }
          ],
          "barpolar": [
           {
            "marker": {
             "line": {
              "color": "#E5ECF6",
              "width": 0.5
             },
             "pattern": {
              "fillmode": "overlay",
              "size": 10,
              "solidity": 0.2
             }
            },
            "type": "barpolar"
           }
          ],
          "carpet": [
           {
            "aaxis": {
             "endlinecolor": "#2a3f5f",
             "gridcolor": "white",
             "linecolor": "white",
             "minorgridcolor": "white",
             "startlinecolor": "#2a3f5f"
            },
            "baxis": {
             "endlinecolor": "#2a3f5f",
             "gridcolor": "white",
             "linecolor": "white",
             "minorgridcolor": "white",
             "startlinecolor": "#2a3f5f"
            },
            "type": "carpet"
           }
          ],
          "choropleth": [
           {
            "colorbar": {
             "outlinewidth": 0,
             "ticks": ""
            },
            "type": "choropleth"
           }
          ],
          "contour": [
           {
            "colorbar": {
             "outlinewidth": 0,
             "ticks": ""
            },
            "colorscale": [
             [
              0,
              "#0d0887"
             ],
             [
              0.1111111111111111,
              "#46039f"
             ],
             [
              0.2222222222222222,
              "#7201a8"
             ],
             [
              0.3333333333333333,
              "#9c179e"
             ],
             [
              0.4444444444444444,
              "#bd3786"
             ],
             [
              0.5555555555555556,
              "#d8576b"
             ],
             [
              0.6666666666666666,
              "#ed7953"
             ],
             [
              0.7777777777777778,
              "#fb9f3a"
             ],
             [
              0.8888888888888888,
              "#fdca26"
             ],
             [
              1,
              "#f0f921"
             ]
            ],
            "type": "contour"
           }
          ],
          "contourcarpet": [
           {
            "colorbar": {
             "outlinewidth": 0,
             "ticks": ""
            },
            "type": "contourcarpet"
           }
          ],
          "heatmap": [
           {
            "colorbar": {
             "outlinewidth": 0,
             "ticks": ""
            },
            "colorscale": [
             [
              0,
              "#0d0887"
             ],
             [
              0.1111111111111111,
              "#46039f"
             ],
             [
              0.2222222222222222,
              "#7201a8"
             ],
             [
              0.3333333333333333,
              "#9c179e"
             ],
             [
              0.4444444444444444,
              "#bd3786"
             ],
             [
              0.5555555555555556,
              "#d8576b"
             ],
             [
              0.6666666666666666,
              "#ed7953"
             ],
             [
              0.7777777777777778,
              "#fb9f3a"
             ],
             [
              0.8888888888888888,
              "#fdca26"
             ],
             [
              1,
              "#f0f921"
             ]
            ],
            "type": "heatmap"
           }
          ],
          "heatmapgl": [
           {
            "colorbar": {
             "outlinewidth": 0,
             "ticks": ""
            },
            "colorscale": [
             [
              0,
              "#0d0887"
             ],
             [
              0.1111111111111111,
              "#46039f"
             ],
             [
              0.2222222222222222,
              "#7201a8"
             ],
             [
              0.3333333333333333,
              "#9c179e"
             ],
             [
              0.4444444444444444,
              "#bd3786"
             ],
             [
              0.5555555555555556,
              "#d8576b"
             ],
             [
              0.6666666666666666,
              "#ed7953"
             ],
             [
              0.7777777777777778,
              "#fb9f3a"
             ],
             [
              0.8888888888888888,
              "#fdca26"
             ],
             [
              1,
              "#f0f921"
             ]
            ],
            "type": "heatmapgl"
           }
          ],
          "histogram": [
           {
            "marker": {
             "pattern": {
              "fillmode": "overlay",
              "size": 10,
              "solidity": 0.2
             }
            },
            "type": "histogram"
           }
          ],
          "histogram2d": [
           {
            "colorbar": {
             "outlinewidth": 0,
             "ticks": ""
            },
            "colorscale": [
             [
              0,
              "#0d0887"
             ],
             [
              0.1111111111111111,
              "#46039f"
             ],
             [
              0.2222222222222222,
              "#7201a8"
             ],
             [
              0.3333333333333333,
              "#9c179e"
             ],
             [
              0.4444444444444444,
              "#bd3786"
             ],
             [
              0.5555555555555556,
              "#d8576b"
             ],
             [
              0.6666666666666666,
              "#ed7953"
             ],
             [
              0.7777777777777778,
              "#fb9f3a"
             ],
             [
              0.8888888888888888,
              "#fdca26"
             ],
             [
              1,
              "#f0f921"
             ]
            ],
            "type": "histogram2d"
           }
          ],
          "histogram2dcontour": [
           {
            "colorbar": {
             "outlinewidth": 0,
             "ticks": ""
            },
            "colorscale": [
             [
              0,
              "#0d0887"
             ],
             [
              0.1111111111111111,
              "#46039f"
             ],
             [
              0.2222222222222222,
              "#7201a8"
             ],
             [
              0.3333333333333333,
              "#9c179e"
             ],
             [
              0.4444444444444444,
              "#bd3786"
             ],
             [
              0.5555555555555556,
              "#d8576b"
             ],
             [
              0.6666666666666666,
              "#ed7953"
             ],
             [
              0.7777777777777778,
              "#fb9f3a"
             ],
             [
              0.8888888888888888,
              "#fdca26"
             ],
             [
              1,
              "#f0f921"
             ]
            ],
            "type": "histogram2dcontour"
           }
          ],
          "mesh3d": [
           {
            "colorbar": {
             "outlinewidth": 0,
             "ticks": ""
            },
            "type": "mesh3d"
           }
          ],
          "parcoords": [
           {
            "line": {
             "colorbar": {
              "outlinewidth": 0,
              "ticks": ""
             }
            },
            "type": "parcoords"
           }
          ],
          "pie": [
           {
            "automargin": true,
            "type": "pie"
           }
          ],
          "scatter": [
           {
            "marker": {
             "colorbar": {
              "outlinewidth": 0,
              "ticks": ""
             }
            },
            "type": "scatter"
           }
          ],
          "scatter3d": [
           {
            "line": {
             "colorbar": {
              "outlinewidth": 0,
              "ticks": ""
             }
            },
            "marker": {
             "colorbar": {
              "outlinewidth": 0,
              "ticks": ""
             }
            },
            "type": "scatter3d"
           }
          ],
          "scattercarpet": [
           {
            "marker": {
             "colorbar": {
              "outlinewidth": 0,
              "ticks": ""
             }
            },
            "type": "scattercarpet"
           }
          ],
          "scattergeo": [
           {
            "marker": {
             "colorbar": {
              "outlinewidth": 0,
              "ticks": ""
             }
            },
            "type": "scattergeo"
           }
          ],
          "scattergl": [
           {
            "marker": {
             "colorbar": {
              "outlinewidth": 0,
              "ticks": ""
             }
            },
            "type": "scattergl"
           }
          ],
          "scattermapbox": [
           {
            "marker": {
             "colorbar": {
              "outlinewidth": 0,
              "ticks": ""
             }
            },
            "type": "scattermapbox"
           }
          ],
          "scatterpolar": [
           {
            "marker": {
             "colorbar": {
              "outlinewidth": 0,
              "ticks": ""
             }
            },
            "type": "scatterpolar"
           }
          ],
          "scatterpolargl": [
           {
            "marker": {
             "colorbar": {
              "outlinewidth": 0,
              "ticks": ""
             }
            },
            "type": "scatterpolargl"
           }
          ],
          "scatterternary": [
           {
            "marker": {
             "colorbar": {
              "outlinewidth": 0,
              "ticks": ""
             }
            },
            "type": "scatterternary"
           }
          ],
          "surface": [
           {
            "colorbar": {
             "outlinewidth": 0,
             "ticks": ""
            },
            "colorscale": [
             [
              0,
              "#0d0887"
             ],
             [
              0.1111111111111111,
              "#46039f"
             ],
             [
              0.2222222222222222,
              "#7201a8"
             ],
             [
              0.3333333333333333,
              "#9c179e"
             ],
             [
              0.4444444444444444,
              "#bd3786"
             ],
             [
              0.5555555555555556,
              "#d8576b"
             ],
             [
              0.6666666666666666,
              "#ed7953"
             ],
             [
              0.7777777777777778,
              "#fb9f3a"
             ],
             [
              0.8888888888888888,
              "#fdca26"
             ],
             [
              1,
              "#f0f921"
             ]
            ],
            "type": "surface"
           }
          ],
          "table": [
           {
            "cells": {
             "fill": {
              "color": "#EBF0F8"
             },
             "line": {
              "color": "white"
             }
            },
            "header": {
             "fill": {
              "color": "#C8D4E3"
             },
             "line": {
              "color": "white"
             }
            },
            "type": "table"
           }
          ]
         },
         "layout": {
          "annotationdefaults": {
           "arrowcolor": "#2a3f5f",
           "arrowhead": 0,
           "arrowwidth": 1
          },
          "autotypenumbers": "strict",
          "coloraxis": {
           "colorbar": {
            "outlinewidth": 0,
            "ticks": ""
           }
          },
          "colorscale": {
           "diverging": [
            [
             0,
             "#8e0152"
            ],
            [
             0.1,
             "#c51b7d"
            ],
            [
             0.2,
             "#de77ae"
            ],
            [
             0.3,
             "#f1b6da"
            ],
            [
             0.4,
             "#fde0ef"
            ],
            [
             0.5,
             "#f7f7f7"
            ],
            [
             0.6,
             "#e6f5d0"
            ],
            [
             0.7,
             "#b8e186"
            ],
            [
             0.8,
             "#7fbc41"
            ],
            [
             0.9,
             "#4d9221"
            ],
            [
             1,
             "#276419"
            ]
           ],
           "sequential": [
            [
             0,
             "#0d0887"
            ],
            [
             0.1111111111111111,
             "#46039f"
            ],
            [
             0.2222222222222222,
             "#7201a8"
            ],
            [
             0.3333333333333333,
             "#9c179e"
            ],
            [
             0.4444444444444444,
             "#bd3786"
            ],
            [
             0.5555555555555556,
             "#d8576b"
            ],
            [
             0.6666666666666666,
             "#ed7953"
            ],
            [
             0.7777777777777778,
             "#fb9f3a"
            ],
            [
             0.8888888888888888,
             "#fdca26"
            ],
            [
             1,
             "#f0f921"
            ]
           ],
           "sequentialminus": [
            [
             0,
             "#0d0887"
            ],
            [
             0.1111111111111111,
             "#46039f"
            ],
            [
             0.2222222222222222,
             "#7201a8"
            ],
            [
             0.3333333333333333,
             "#9c179e"
            ],
            [
             0.4444444444444444,
             "#bd3786"
            ],
            [
             0.5555555555555556,
             "#d8576b"
            ],
            [
             0.6666666666666666,
             "#ed7953"
            ],
            [
             0.7777777777777778,
             "#fb9f3a"
            ],
            [
             0.8888888888888888,
             "#fdca26"
            ],
            [
             1,
             "#f0f921"
            ]
           ]
          },
          "colorway": [
           "#636efa",
           "#EF553B",
           "#00cc96",
           "#ab63fa",
           "#FFA15A",
           "#19d3f3",
           "#FF6692",
           "#B6E880",
           "#FF97FF",
           "#FECB52"
          ],
          "font": {
           "color": "#2a3f5f"
          },
          "geo": {
           "bgcolor": "white",
           "lakecolor": "white",
           "landcolor": "#E5ECF6",
           "showlakes": true,
           "showland": true,
           "subunitcolor": "white"
          },
          "hoverlabel": {
           "align": "left"
          },
          "hovermode": "closest",
          "mapbox": {
           "style": "light"
          },
          "paper_bgcolor": "white",
          "plot_bgcolor": "#E5ECF6",
          "polar": {
           "angularaxis": {
            "gridcolor": "white",
            "linecolor": "white",
            "ticks": ""
           },
           "bgcolor": "#E5ECF6",
           "radialaxis": {
            "gridcolor": "white",
            "linecolor": "white",
            "ticks": ""
           }
          },
          "scene": {
           "xaxis": {
            "backgroundcolor": "#E5ECF6",
            "gridcolor": "white",
            "gridwidth": 2,
            "linecolor": "white",
            "showbackground": true,
            "ticks": "",
            "zerolinecolor": "white"
           },
           "yaxis": {
            "backgroundcolor": "#E5ECF6",
            "gridcolor": "white",
            "gridwidth": 2,
            "linecolor": "white",
            "showbackground": true,
            "ticks": "",
            "zerolinecolor": "white"
           },
           "zaxis": {
            "backgroundcolor": "#E5ECF6",
            "gridcolor": "white",
            "gridwidth": 2,
            "linecolor": "white",
            "showbackground": true,
            "ticks": "",
            "zerolinecolor": "white"
           }
          },
          "shapedefaults": {
           "line": {
            "color": "#2a3f5f"
           }
          },
          "ternary": {
           "aaxis": {
            "gridcolor": "white",
            "linecolor": "white",
            "ticks": ""
           },
           "baxis": {
            "gridcolor": "white",
            "linecolor": "white",
            "ticks": ""
           },
           "bgcolor": "#E5ECF6",
           "caxis": {
            "gridcolor": "white",
            "linecolor": "white",
            "ticks": ""
           }
          },
          "title": {
           "x": 0.05
          },
          "xaxis": {
           "automargin": true,
           "gridcolor": "white",
           "linecolor": "white",
           "ticks": "",
           "title": {
            "standoff": 15
           },
           "zerolinecolor": "white",
           "zerolinewidth": 2
          },
          "yaxis": {
           "automargin": true,
           "gridcolor": "white",
           "linecolor": "white",
           "ticks": "",
           "title": {
            "standoff": 15
           },
           "zerolinecolor": "white",
           "zerolinewidth": 2
          }
         }
        },
        "title": {
         "text": "Top 5 Dog breeds with Most Favorite Count"
        },
        "xaxis": {
         "anchor": "y",
         "domain": [
          0,
          1
         ],
         "title": {
          "text": "favorite_count"
         }
        },
        "yaxis": {
         "anchor": "x",
         "domain": [
          0,
          1
         ],
         "title": {
          "text": "p1"
         }
        }
       }
      },
      "text/html": [
       "<div>                            <div id=\"898525b0-e99e-4c46-be51-9633ed893e62\" class=\"plotly-graph-div\" style=\"height:525px; width:100%;\"></div>            <script type=\"text/javascript\">                require([\"plotly\"], function(Plotly) {                    window.PLOTLYENV=window.PLOTLYENV || {};                                    if (document.getElementById(\"898525b0-e99e-4c46-be51-9633ed893e62\")) {                    Plotly.newPlot(                        \"898525b0-e99e-4c46-be51-9633ed893e62\",                        [{\"alignmentgroup\":\"True\",\"hovertemplate\":\"favorite_count=%{x}<br>p1=%{y}<extra></extra>\",\"legendgroup\":\"\",\"marker\":{\"color\":\"#636efa\",\"pattern\":{\"shape\":\"\"}},\"name\":\"\",\"offsetgroup\":\"\",\"orientation\":\"h\",\"showlegend\":false,\"textposition\":\"auto\",\"x\":[20821.25,14683.5,14674.5,14532.625,14386.0],\"xaxis\":\"x\",\"y\":[\"saluki\",\"black-and-tan_coonhound\",\"giant_schnauzer\",\"flat-coated_retriever\",\"english_springer\"],\"yaxis\":\"y\",\"type\":\"bar\"}],                        {\"template\":{\"data\":{\"bar\":[{\"error_x\":{\"color\":\"#2a3f5f\"},\"error_y\":{\"color\":\"#2a3f5f\"},\"marker\":{\"line\":{\"color\":\"#E5ECF6\",\"width\":0.5},\"pattern\":{\"fillmode\":\"overlay\",\"size\":10,\"solidity\":0.2}},\"type\":\"bar\"}],\"barpolar\":[{\"marker\":{\"line\":{\"color\":\"#E5ECF6\",\"width\":0.5},\"pattern\":{\"fillmode\":\"overlay\",\"size\":10,\"solidity\":0.2}},\"type\":\"barpolar\"}],\"carpet\":[{\"aaxis\":{\"endlinecolor\":\"#2a3f5f\",\"gridcolor\":\"white\",\"linecolor\":\"white\",\"minorgridcolor\":\"white\",\"startlinecolor\":\"#2a3f5f\"},\"baxis\":{\"endlinecolor\":\"#2a3f5f\",\"gridcolor\":\"white\",\"linecolor\":\"white\",\"minorgridcolor\":\"white\",\"startlinecolor\":\"#2a3f5f\"},\"type\":\"carpet\"}],\"choropleth\":[{\"colorbar\":{\"outlinewidth\":0,\"ticks\":\"\"},\"type\":\"choropleth\"}],\"contour\":[{\"colorbar\":{\"outlinewidth\":0,\"ticks\":\"\"},\"colorscale\":[[0.0,\"#0d0887\"],[0.1111111111111111,\"#46039f\"],[0.2222222222222222,\"#7201a8\"],[0.3333333333333333,\"#9c179e\"],[0.4444444444444444,\"#bd3786\"],[0.5555555555555556,\"#d8576b\"],[0.6666666666666666,\"#ed7953\"],[0.7777777777777778,\"#fb9f3a\"],[0.8888888888888888,\"#fdca26\"],[1.0,\"#f0f921\"]],\"type\":\"contour\"}],\"contourcarpet\":[{\"colorbar\":{\"outlinewidth\":0,\"ticks\":\"\"},\"type\":\"contourcarpet\"}],\"heatmap\":[{\"colorbar\":{\"outlinewidth\":0,\"ticks\":\"\"},\"colorscale\":[[0.0,\"#0d0887\"],[0.1111111111111111,\"#46039f\"],[0.2222222222222222,\"#7201a8\"],[0.3333333333333333,\"#9c179e\"],[0.4444444444444444,\"#bd3786\"],[0.5555555555555556,\"#d8576b\"],[0.6666666666666666,\"#ed7953\"],[0.7777777777777778,\"#fb9f3a\"],[0.8888888888888888,\"#fdca26\"],[1.0,\"#f0f921\"]],\"type\":\"heatmap\"}],\"heatmapgl\":[{\"colorbar\":{\"outlinewidth\":0,\"ticks\":\"\"},\"colorscale\":[[0.0,\"#0d0887\"],[0.1111111111111111,\"#46039f\"],[0.2222222222222222,\"#7201a8\"],[0.3333333333333333,\"#9c179e\"],[0.4444444444444444,\"#bd3786\"],[0.5555555555555556,\"#d8576b\"],[0.6666666666666666,\"#ed7953\"],[0.7777777777777778,\"#fb9f3a\"],[0.8888888888888888,\"#fdca26\"],[1.0,\"#f0f921\"]],\"type\":\"heatmapgl\"}],\"histogram\":[{\"marker\":{\"pattern\":{\"fillmode\":\"overlay\",\"size\":10,\"solidity\":0.2}},\"type\":\"histogram\"}],\"histogram2d\":[{\"colorbar\":{\"outlinewidth\":0,\"ticks\":\"\"},\"colorscale\":[[0.0,\"#0d0887\"],[0.1111111111111111,\"#46039f\"],[0.2222222222222222,\"#7201a8\"],[0.3333333333333333,\"#9c179e\"],[0.4444444444444444,\"#bd3786\"],[0.5555555555555556,\"#d8576b\"],[0.6666666666666666,\"#ed7953\"],[0.7777777777777778,\"#fb9f3a\"],[0.8888888888888888,\"#fdca26\"],[1.0,\"#f0f921\"]],\"type\":\"histogram2d\"}],\"histogram2dcontour\":[{\"colorbar\":{\"outlinewidth\":0,\"ticks\":\"\"},\"colorscale\":[[0.0,\"#0d0887\"],[0.1111111111111111,\"#46039f\"],[0.2222222222222222,\"#7201a8\"],[0.3333333333333333,\"#9c179e\"],[0.4444444444444444,\"#bd3786\"],[0.5555555555555556,\"#d8576b\"],[0.6666666666666666,\"#ed7953\"],[0.7777777777777778,\"#fb9f3a\"],[0.8888888888888888,\"#fdca26\"],[1.0,\"#f0f921\"]],\"type\":\"histogram2dcontour\"}],\"mesh3d\":[{\"colorbar\":{\"outlinewidth\":0,\"ticks\":\"\"},\"type\":\"mesh3d\"}],\"parcoords\":[{\"line\":{\"colorbar\":{\"outlinewidth\":0,\"ticks\":\"\"}},\"type\":\"parcoords\"}],\"pie\":[{\"automargin\":true,\"type\":\"pie\"}],\"scatter\":[{\"marker\":{\"colorbar\":{\"outlinewidth\":0,\"ticks\":\"\"}},\"type\":\"scatter\"}],\"scatter3d\":[{\"line\":{\"colorbar\":{\"outlinewidth\":0,\"ticks\":\"\"}},\"marker\":{\"colorbar\":{\"outlinewidth\":0,\"ticks\":\"\"}},\"type\":\"scatter3d\"}],\"scattercarpet\":[{\"marker\":{\"colorbar\":{\"outlinewidth\":0,\"ticks\":\"\"}},\"type\":\"scattercarpet\"}],\"scattergeo\":[{\"marker\":{\"colorbar\":{\"outlinewidth\":0,\"ticks\":\"\"}},\"type\":\"scattergeo\"}],\"scattergl\":[{\"marker\":{\"colorbar\":{\"outlinewidth\":0,\"ticks\":\"\"}},\"type\":\"scattergl\"}],\"scattermapbox\":[{\"marker\":{\"colorbar\":{\"outlinewidth\":0,\"ticks\":\"\"}},\"type\":\"scattermapbox\"}],\"scatterpolar\":[{\"marker\":{\"colorbar\":{\"outlinewidth\":0,\"ticks\":\"\"}},\"type\":\"scatterpolar\"}],\"scatterpolargl\":[{\"marker\":{\"colorbar\":{\"outlinewidth\":0,\"ticks\":\"\"}},\"type\":\"scatterpolargl\"}],\"scatterternary\":[{\"marker\":{\"colorbar\":{\"outlinewidth\":0,\"ticks\":\"\"}},\"type\":\"scatterternary\"}],\"surface\":[{\"colorbar\":{\"outlinewidth\":0,\"ticks\":\"\"},\"colorscale\":[[0.0,\"#0d0887\"],[0.1111111111111111,\"#46039f\"],[0.2222222222222222,\"#7201a8\"],[0.3333333333333333,\"#9c179e\"],[0.4444444444444444,\"#bd3786\"],[0.5555555555555556,\"#d8576b\"],[0.6666666666666666,\"#ed7953\"],[0.7777777777777778,\"#fb9f3a\"],[0.8888888888888888,\"#fdca26\"],[1.0,\"#f0f921\"]],\"type\":\"surface\"}],\"table\":[{\"cells\":{\"fill\":{\"color\":\"#EBF0F8\"},\"line\":{\"color\":\"white\"}},\"header\":{\"fill\":{\"color\":\"#C8D4E3\"},\"line\":{\"color\":\"white\"}},\"type\":\"table\"}]},\"layout\":{\"annotationdefaults\":{\"arrowcolor\":\"#2a3f5f\",\"arrowhead\":0,\"arrowwidth\":1},\"autotypenumbers\":\"strict\",\"coloraxis\":{\"colorbar\":{\"outlinewidth\":0,\"ticks\":\"\"}},\"colorscale\":{\"diverging\":[[0,\"#8e0152\"],[0.1,\"#c51b7d\"],[0.2,\"#de77ae\"],[0.3,\"#f1b6da\"],[0.4,\"#fde0ef\"],[0.5,\"#f7f7f7\"],[0.6,\"#e6f5d0\"],[0.7,\"#b8e186\"],[0.8,\"#7fbc41\"],[0.9,\"#4d9221\"],[1,\"#276419\"]],\"sequential\":[[0.0,\"#0d0887\"],[0.1111111111111111,\"#46039f\"],[0.2222222222222222,\"#7201a8\"],[0.3333333333333333,\"#9c179e\"],[0.4444444444444444,\"#bd3786\"],[0.5555555555555556,\"#d8576b\"],[0.6666666666666666,\"#ed7953\"],[0.7777777777777778,\"#fb9f3a\"],[0.8888888888888888,\"#fdca26\"],[1.0,\"#f0f921\"]],\"sequentialminus\":[[0.0,\"#0d0887\"],[0.1111111111111111,\"#46039f\"],[0.2222222222222222,\"#7201a8\"],[0.3333333333333333,\"#9c179e\"],[0.4444444444444444,\"#bd3786\"],[0.5555555555555556,\"#d8576b\"],[0.6666666666666666,\"#ed7953\"],[0.7777777777777778,\"#fb9f3a\"],[0.8888888888888888,\"#fdca26\"],[1.0,\"#f0f921\"]]},\"colorway\":[\"#636efa\",\"#EF553B\",\"#00cc96\",\"#ab63fa\",\"#FFA15A\",\"#19d3f3\",\"#FF6692\",\"#B6E880\",\"#FF97FF\",\"#FECB52\"],\"font\":{\"color\":\"#2a3f5f\"},\"geo\":{\"bgcolor\":\"white\",\"lakecolor\":\"white\",\"landcolor\":\"#E5ECF6\",\"showlakes\":true,\"showland\":true,\"subunitcolor\":\"white\"},\"hoverlabel\":{\"align\":\"left\"},\"hovermode\":\"closest\",\"mapbox\":{\"style\":\"light\"},\"paper_bgcolor\":\"white\",\"plot_bgcolor\":\"#E5ECF6\",\"polar\":{\"angularaxis\":{\"gridcolor\":\"white\",\"linecolor\":\"white\",\"ticks\":\"\"},\"bgcolor\":\"#E5ECF6\",\"radialaxis\":{\"gridcolor\":\"white\",\"linecolor\":\"white\",\"ticks\":\"\"}},\"scene\":{\"xaxis\":{\"backgroundcolor\":\"#E5ECF6\",\"gridcolor\":\"white\",\"gridwidth\":2,\"linecolor\":\"white\",\"showbackground\":true,\"ticks\":\"\",\"zerolinecolor\":\"white\"},\"yaxis\":{\"backgroundcolor\":\"#E5ECF6\",\"gridcolor\":\"white\",\"gridwidth\":2,\"linecolor\":\"white\",\"showbackground\":true,\"ticks\":\"\",\"zerolinecolor\":\"white\"},\"zaxis\":{\"backgroundcolor\":\"#E5ECF6\",\"gridcolor\":\"white\",\"gridwidth\":2,\"linecolor\":\"white\",\"showbackground\":true,\"ticks\":\"\",\"zerolinecolor\":\"white\"}},\"shapedefaults\":{\"line\":{\"color\":\"#2a3f5f\"}},\"ternary\":{\"aaxis\":{\"gridcolor\":\"white\",\"linecolor\":\"white\",\"ticks\":\"\"},\"baxis\":{\"gridcolor\":\"white\",\"linecolor\":\"white\",\"ticks\":\"\"},\"bgcolor\":\"#E5ECF6\",\"caxis\":{\"gridcolor\":\"white\",\"linecolor\":\"white\",\"ticks\":\"\"}},\"title\":{\"x\":0.05},\"xaxis\":{\"automargin\":true,\"gridcolor\":\"white\",\"linecolor\":\"white\",\"ticks\":\"\",\"title\":{\"standoff\":15},\"zerolinecolor\":\"white\",\"zerolinewidth\":2},\"yaxis\":{\"automargin\":true,\"gridcolor\":\"white\",\"linecolor\":\"white\",\"ticks\":\"\",\"title\":{\"standoff\":15},\"zerolinecolor\":\"white\",\"zerolinewidth\":2}}},\"xaxis\":{\"anchor\":\"y\",\"domain\":[0.0,1.0],\"title\":{\"text\":\"favorite_count\"}},\"yaxis\":{\"anchor\":\"x\",\"domain\":[0.0,1.0],\"title\":{\"text\":\"p1\"}},\"legend\":{\"tracegroupgap\":0},\"title\":{\"text\":\"Top 5 Dog breeds with Most Favorite Count\"},\"barmode\":\"relative\"},                        {\"responsive\": true}                    ).then(function(){\n",
       "                            \n",
       "var gd = document.getElementById('898525b0-e99e-4c46-be51-9633ed893e62');\n",
       "var x = new MutationObserver(function (mutations, observer) {{\n",
       "        var display = window.getComputedStyle(gd).display;\n",
       "        if (!display || display === 'none') {{\n",
       "            console.log([gd, 'removed!']);\n",
       "            Plotly.purge(gd);\n",
       "            observer.disconnect();\n",
       "        }}\n",
       "}});\n",
       "\n",
       "// Listen for the removal of the full notebook cells\n",
       "var notebookContainer = gd.closest('#notebook-container');\n",
       "if (notebookContainer) {{\n",
       "    x.observe(notebookContainer, {childList: true});\n",
       "}}\n",
       "\n",
       "// Listen for the clearing of the current output cell\n",
       "var outputEl = gd.closest('.output');\n",
       "if (outputEl) {{\n",
       "    x.observe(outputEl, {childList: true});\n",
       "}}\n",
       "\n",
       "                        })                };                });            </script>        </div>"
      ]
     },
     "metadata": {},
     "output_type": "display_data"
    }
   ],
   "source": [
    "# Top 5 Dog breeds with highest favorite_count according to the first prediction (p1)\n",
    "fig = px.bar(df_top_favorite, x='favorite_count', title='Top 5 Dog breeds with Most Favorite Count')\n",
    "fig.show()"
   ]
  },
  {
   "cell_type": "code",
   "execution_count": 146,
   "metadata": {},
   "outputs": [
    {
     "data": {
      "application/vnd.plotly.v1+json": {
       "config": {
        "plotlyServerURL": "https://plot.ly"
       },
       "data": [
        {
         "hovertemplate": "p1=chihuahua<br>favorite_count=%{x}<br>retweet_count=%{y}<extra></extra>",
         "legendgroup": "chihuahua",
         "marker": {
          "color": "#636efa",
          "symbol": "circle"
         },
         "mode": "markers",
         "name": "chihuahua",
         "showlegend": true,
         "type": "scattergl",
         "x": [
          29356,
          22067,
          30414,
          23687,
          14231,
          25283,
          26630,
          27961,
          24083,
          17096,
          8475,
          9316,
          9256,
          9236,
          10349,
          7994,
          13353,
          2585,
          8149,
          2868,
          1765,
          2224,
          4765,
          3244,
          11454,
          2864,
          3228,
          2122,
          3527,
          2781,
          2669,
          1931,
          3040,
          2413,
          2929,
          1799,
          1830,
          3575,
          1765,
          2275,
          3894,
          3076,
          1452,
          1713,
          1308,
          2616,
          2058,
          1532,
          991,
          611,
          754,
          861,
          1262,
          909,
          1011,
          606,
          1051,
          641,
          1353,
          1149,
          622,
          202,
          2394,
          572,
          511,
          1249,
          843,
          424,
          458,
          287,
          352,
          106,
          147
         ],
         "xaxis": "x",
         "y": [
          5303,
          3486,
          6325,
          3472,
          2642,
          5589,
          6040,
          6840,
          7175,
          3496,
          2167,
          2356,
          2059,
          2611,
          2671,
          2077,
          3991,
          440,
          2932,
          700,
          448,
          591,
          1691,
          1093,
          5207,
          733,
          1152,
          546,
          1527,
          679,
          908,
          416,
          1207,
          1094,
          942,
          461,
          642,
          1073,
          458,
          747,
          1736,
          1149,
          327,
          728,
          380,
          856,
          921,
          458,
          412,
          117,
          236,
          236,
          557,
          304,
          287,
          132,
          435,
          176,
          662,
          552,
          250,
          45,
          1095,
          266,
          209,
          655,
          408,
          161,
          232,
          106,
          104,
          40,
          69
         ],
         "yaxis": "y"
        },
        {
         "hovertemplate": "p1=paper_towel<br>favorite_count=%{x}<br>retweet_count=%{y}<extra></extra>",
         "legendgroup": "paper_towel",
         "marker": {
          "color": "#EF553B",
          "symbol": "circle"
         },
         "mode": "markers",
         "name": "paper_towel",
         "showlegend": true,
         "type": "scattergl",
         "x": [
          36969
         ],
         "xaxis": "x",
         "y": [
          7232
         ],
         "yaxis": "y"
        },
        {
         "hovertemplate": "p1=basset<br>favorite_count=%{x}<br>retweet_count=%{y}<extra></extra>",
         "legendgroup": "basset",
         "marker": {
          "color": "#00cc96",
          "symbol": "circle"
         },
         "mode": "markers",
         "name": "basset",
         "showlegend": true,
         "type": "scattergl",
         "x": [
          35343,
          26652,
          19728,
          19919,
          15353,
          18965,
          7577,
          1191,
          959,
          984,
          407,
          1158
         ],
         "xaxis": "x",
         "y": [
          7771,
          4540,
          2933,
          3173,
          3093,
          7820,
          2214,
          413,
          208,
          231,
          131,
          497
         ],
         "yaxis": "y"
        },
        {
         "hovertemplate": "p1=chesapeake_bay_retriever<br>favorite_count=%{x}<br>retweet_count=%{y}<extra></extra>",
         "legendgroup": "chesapeake_bay_retriever",
         "marker": {
          "color": "#ab63fa",
          "symbol": "circle"
         },
         "mode": "markers",
         "name": "chesapeake_bay_retriever",
         "showlegend": true,
         "type": "scattergl",
         "x": [
          17828,
          69384,
          23635,
          17945,
          6393,
          7742,
          6813,
          10498,
          5387,
          4888,
          2446,
          2174,
          3426,
          6196,
          2599,
          2980,
          1903,
          1548,
          873,
          630,
          192,
          139
         ],
         "xaxis": "x",
         "y": [
          2603,
          15835,
          4297,
          5236,
          1798,
          2023,
          1868,
          3564,
          1500,
          1768,
          493,
          523,
          749,
          1791,
          678,
          1336,
          629,
          572,
          272,
          325,
          45,
          42
         ],
         "yaxis": "y"
        },
        {
         "hovertemplate": "p1=appenzeller<br>favorite_count=%{x}<br>retweet_count=%{y}<extra></extra>",
         "legendgroup": "appenzeller",
         "marker": {
          "color": "#FFA15A",
          "symbol": "circle"
         },
         "mode": "markers",
         "name": "appenzeller",
         "showlegend": true,
         "type": "scattergl",
         "x": [
          10379,
          2178
         ],
         "xaxis": "x",
         "y": [
          1668,
          621
         ],
         "yaxis": "y"
        },
        {
         "hovertemplate": "p1=pomeranian<br>favorite_count=%{x}<br>retweet_count=%{y}<extra></extra>",
         "legendgroup": "pomeranian",
         "marker": {
          "color": "#19d3f3",
          "symbol": "circle"
         },
         "mode": "markers",
         "name": "pomeranian",
         "showlegend": true,
         "type": "scattergl",
         "x": [
          56907,
          22511,
          26343,
          9082,
          8489,
          6066,
          13424,
          7975,
          3301,
          4125,
          4249,
          7763,
          2550,
          2660,
          3173,
          2772,
          2264,
          2527,
          2067,
          1929,
          2429,
          3424,
          2219,
          1382,
          580,
          1520,
          683,
          1585,
          1223,
          1742,
          1056,
          339,
          339,
          1651,
          763
         ],
         "xaxis": "x",
         "y": [
          15771,
          5672,
          13169,
          1977,
          1992,
          1630,
          6007,
          3161,
          801,
          1090,
          1650,
          1461,
          744,
          875,
          894,
          1058,
          624,
          1014,
          664,
          398,
          820,
          1342,
          564,
          476,
          80,
          514,
          144,
          1087,
          454,
          822,
          420,
          81,
          94,
          909,
          459
         ],
         "yaxis": "y"
        },
        {
         "hovertemplate": "p1=irish_terrier<br>favorite_count=%{x}<br>retweet_count=%{y}<extra></extra>",
         "legendgroup": "irish_terrier",
         "marker": {
          "color": "#FF6692",
          "symbol": "circle"
         },
         "mode": "markers",
         "name": "irish_terrier",
         "showlegend": true,
         "type": "scattergl",
         "x": [
          24550,
          1483,
          1318,
          1533
         ],
         "xaxis": "x",
         "y": [
          3627,
          417,
          539,
          524
         ],
         "yaxis": "y"
        },
        {
         "hovertemplate": "p1=pembroke<br>favorite_count=%{x}<br>retweet_count=%{y}<extra></extra>",
         "legendgroup": "pembroke",
         "marker": {
          "color": "#B6E880",
          "symbol": "circle"
         },
         "mode": "markers",
         "name": "pembroke",
         "showlegend": true,
         "type": "scattergl",
         "x": [
          27984,
          42088,
          23883,
          24619,
          18723,
          23871,
          36130,
          10900,
          38066,
          25087,
          18155,
          25067,
          19512,
          20720,
          17224,
          20013,
          16957,
          10672,
          9816,
          7068,
          11196,
          19893,
          7491,
          9569,
          7829,
          12513,
          13900,
          7429,
          8996,
          9892,
          12885,
          5687,
          3778,
          25153,
          3568,
          3164,
          4713,
          3663,
          4423,
          2633,
          4510,
          5587,
          4641,
          3739,
          3225,
          4308,
          5888,
          4817,
          3335,
          2477,
          4187,
          3239,
          19601,
          7368,
          3556,
          6837,
          5529,
          3024,
          3150,
          1744,
          3141,
          2502,
          2156,
          1718,
          7505,
          5984,
          2674,
          3196,
          2575,
          1457,
          2265,
          1070,
          2493,
          1396,
          2710,
          1389,
          1158,
          661,
          710,
          485,
          587,
          719,
          286,
          139
         ],
         "xaxis": "x",
         "y": [
          6107,
          8357,
          4794,
          5069,
          3204,
          4636,
          7725,
          2212,
          8706,
          5390,
          3202,
          6682,
          4270,
          5366,
          4166,
          5431,
          3191,
          2151,
          1691,
          866,
          9900,
          5992,
          1629,
          2303,
          1955,
          2834,
          4625,
          1771,
          2926,
          2529,
          4013,
          1291,
          866,
          3119,
          918,
          968,
          1193,
          879,
          1460,
          677,
          1061,
          1953,
          1203,
          1017,
          904,
          1548,
          2271,
          1589,
          1021,
          477,
          1702,
          997,
          7165,
          3241,
          1386,
          2811,
          2403,
          1175,
          927,
          406,
          1301,
          775,
          661,
          467,
          2956,
          3015,
          825,
          1185,
          821,
          375,
          756,
          333,
          1135,
          406,
          750,
          561,
          504,
          203,
          341,
          206,
          208,
          446,
          107,
          67
         ],
         "yaxis": "y"
        },
        {
         "hovertemplate": "p1=samoyed<br>favorite_count=%{x}<br>retweet_count=%{y}<extra></extra>",
         "legendgroup": "samoyed",
         "marker": {
          "color": "#FF97FF",
          "symbol": "circle"
         },
         "mode": "markers",
         "name": "samoyed",
         "showlegend": true,
         "type": "scattergl",
         "x": [
          27065,
          27006,
          43488,
          28737,
          18274,
          27091,
          17941,
          17711,
          9150,
          6910,
          28136,
          10530,
          7090,
          6184,
          6348,
          9475,
          3600,
          2352,
          4590,
          2408,
          4751,
          3158,
          1935,
          2278,
          1198,
          2926,
          2665,
          6298,
          3393,
          2416,
          930,
          700,
          1228,
          680,
          823
         ],
         "xaxis": "x",
         "y": [
          6157,
          4998,
          13412,
          6794,
          3991,
          7891,
          3904,
          6855,
          2543,
          1982,
          14754,
          5929,
          3352,
          2363,
          1939,
          4076,
          1131,
          552,
          1822,
          619,
          1460,
          983,
          574,
          621,
          315,
          709,
          799,
          3317,
          1544,
          672,
          275,
          200,
          418,
          196,
          344
         ],
         "yaxis": "y"
        },
        {
         "hovertemplate": "p1=french_bulldog<br>favorite_count=%{x}<br>retweet_count=%{y}<extra></extra>",
         "legendgroup": "french_bulldog",
         "marker": {
          "color": "#FECB52",
          "symbol": "circle"
         },
         "mode": "markers",
         "name": "french_bulldog",
         "showlegend": true,
         "type": "scattergl",
         "x": [
          24587,
          23707,
          19164,
          18563,
          17657,
          14510,
          9464,
          12543,
          34669,
          2886,
          2754,
          3107,
          3256,
          2152,
          2415,
          1915,
          1092,
          845,
          281
         ],
         "xaxis": "x",
         "y": [
          4173,
          3720,
          2901,
          2634,
          3590,
          2271,
          2183,
          2424,
          13046,
          855,
          560,
          786,
          1261,
          561,
          629,
          719,
          251,
          255,
          97
         ],
         "yaxis": "y"
        },
        {
         "hovertemplate": "p1=golden_retriever<br>favorite_count=%{x}<br>retweet_count=%{y}<extra></extra>",
         "legendgroup": "golden_retriever",
         "marker": {
          "color": "#636efa",
          "symbol": "circle"
         },
         "mode": "markers",
         "name": "golden_retriever",
         "showlegend": true,
         "type": "scattergl",
         "x": [
          13359,
          25658,
          22494,
          40241,
          32544,
          39228,
          25046,
          16581,
          74007,
          22956,
          26665,
          16858,
          14145,
          14256,
          17074,
          13665,
          41290,
          14844,
          19299,
          14047,
          22949,
          8974,
          14972,
          10690,
          7917,
          11625,
          8316,
          10703,
          27297,
          18854,
          19943,
          12955,
          5062,
          8399,
          13875,
          12494,
          8530,
          10634,
          10288,
          46862,
          9531,
          10143,
          10007,
          8914,
          14748,
          10295,
          7081,
          5960,
          3599,
          5088,
          6816,
          6687,
          6190,
          5594,
          4410,
          5885,
          6231,
          3710,
          6459,
          3018,
          2853,
          5644,
          3562,
          3053,
          7272,
          11593,
          3452,
          4885,
          2796,
          4497,
          4118,
          3218,
          5339,
          5821,
          6271,
          3984,
          2628,
          3030,
          15268,
          3022,
          2883,
          2931,
          2754,
          4717,
          3234,
          2994,
          4407,
          2783,
          2036,
          2053,
          4044,
          3323,
          3511,
          8579,
          2002,
          3307,
          1576,
          10611,
          1267,
          1062,
          841,
          1285,
          953,
          1496,
          1150,
          553,
          558,
          498,
          1059,
          706,
          410,
          436,
          412,
          425,
          219,
          163,
          246,
          400
         ],
         "xaxis": "x",
         "y": [
          1885,
          3768,
          3542,
          8278,
          5542,
          9646,
          5220,
          2005,
          22768,
          4858,
          7599,
          1367,
          3031,
          2542,
          3498,
          1917,
          10414,
          2598,
          4344,
          1896,
          6789,
          1244,
          2813,
          2146,
          1557,
          2371,
          1873,
          2527,
          8118,
          4051,
          6867,
          3428,
          1335,
          2071,
          3394,
          3638,
          2361,
          2638,
          3509,
          22014,
          2689,
          2237,
          3084,
          2632,
          4939,
          3226,
          1320,
          1629,
          1055,
          1601,
          1997,
          2008,
          1753,
          1765,
          1106,
          1836,
          1843,
          1007,
          2314,
          925,
          777,
          1643,
          1239,
          798,
          2711,
          5770,
          1172,
          1517,
          816,
          1600,
          1123,
          986,
          1667,
          1746,
          1714,
          1450,
          665,
          976,
          6277,
          979,
          934,
          801,
          833,
          1373,
          1035,
          966,
          1229,
          852,
          467,
          452,
          1399,
          1120,
          1158,
          4094,
          590,
          1254,
          474,
          4189,
          302,
          297,
          200,
          467,
          256,
          476,
          423,
          146,
          202,
          102,
          348,
          293,
          139,
          118,
          207,
          210,
          50,
          43,
          125,
          180
         ],
         "yaxis": "y"
        },
        {
         "hovertemplate": "p1=whippet<br>favorite_count=%{x}<br>retweet_count=%{y}<extra></extra>",
         "legendgroup": "whippet",
         "marker": {
          "color": "#EF553B",
          "symbol": "circle"
         },
         "mode": "markers",
         "name": "whippet",
         "showlegend": true,
         "type": "scattergl",
         "x": [
          22146,
          16805,
          5366,
          6671,
          2295,
          3187,
          1044,
          494
         ],
         "xaxis": "x",
         "y": [
          4449,
          4310,
          1737,
          2603,
          558,
          1047,
          342,
          173
         ],
         "yaxis": "y"
        },
        {
         "hovertemplate": "p1=siberian_husky<br>favorite_count=%{x}<br>retweet_count=%{y}<extra></extra>",
         "legendgroup": "siberian_husky",
         "marker": {
          "color": "#00cc96",
          "symbol": "circle"
         },
         "mode": "markers",
         "name": "siberian_husky",
         "showlegend": true,
         "type": "scattergl",
         "x": [
          17334,
          19417,
          15093,
          8859,
          6247,
          12443,
          8263,
          5203,
          2328,
          2989,
          2205,
          3053,
          1882,
          1709,
          2344,
          1941,
          3818,
          3117,
          908,
          546
         ],
         "xaxis": "x",
         "y": [
          2880,
          4160,
          2185,
          1735,
          1718,
          4163,
          2253,
          1203,
          490,
          874,
          191,
          725,
          367,
          370,
          750,
          478,
          1078,
          1294,
          367,
          228
         ],
         "yaxis": "y"
        },
        {
         "hovertemplate": "p1=mexican_hairless<br>favorite_count=%{x}<br>retweet_count=%{y}<extra></extra>",
         "legendgroup": "mexican_hairless",
         "marker": {
          "color": "#ab63fa",
          "symbol": "circle"
         },
         "mode": "markers",
         "name": "mexican_hairless",
         "showlegend": true,
         "type": "scattergl",
         "x": [
          29611,
          7929,
          3570,
          2245
         ],
         "xaxis": "x",
         "y": [
          8816,
          1932,
          1023,
          791
         ],
         "yaxis": "y"
        },
        {
         "hovertemplate": "p1=kuvasz<br>favorite_count=%{x}<br>retweet_count=%{y}<extra></extra>",
         "legendgroup": "kuvasz",
         "marker": {
          "color": "#FFA15A",
          "symbol": "circle"
         },
         "mode": "markers",
         "name": "kuvasz",
         "showlegend": true,
         "type": "scattergl",
         "x": [
          10504,
          12655,
          7531,
          5710,
          2727,
          5744,
          4221,
          2409,
          4462,
          2008,
          2982,
          1576,
          846,
          324
         ],
         "xaxis": "x",
         "y": [
          2634,
          2217,
          1379,
          1804,
          882,
          1745,
          1388,
          562,
          1634,
          469,
          765,
          440,
          286,
          128
         ],
         "yaxis": "y"
        },
        {
         "hovertemplate": "p1=pug<br>favorite_count=%{x}<br>retweet_count=%{y}<extra></extra>",
         "legendgroup": "pug",
         "marker": {
          "color": "#19d3f3",
          "symbol": "circle"
         },
         "mode": "markers",
         "name": "pug",
         "showlegend": true,
         "type": "scattergl",
         "x": [
          24550,
          31626,
          21344,
          13081,
          28203,
          11139,
          8166,
          6051,
          2920,
          2028,
          4509,
          2294,
          5683,
          3510,
          2941,
          2122,
          2205,
          3312,
          2022,
          2077,
          1253,
          1710,
          8018,
          2267,
          2912,
          1979,
          2459,
          2624,
          1807,
          4984,
          2001,
          2847,
          2217,
          2193,
          2500,
          1377,
          2048,
          824,
          1752,
          1498,
          5738,
          1277,
          805,
          767,
          879,
          1141,
          1036,
          298,
          378,
          890,
          596,
          93
         ],
         "xaxis": "x",
         "y": [
          5297,
          5334,
          3917,
          3169,
          8107,
          2734,
          2845,
          1564,
          877,
          493,
          1409,
          587,
          2149,
          960,
          796,
          802,
          1019,
          1202,
          720,
          477,
          290,
          398,
          3262,
          723,
          1240,
          724,
          798,
          702,
          473,
          2060,
          602,
          1079,
          586,
          743,
          830,
          471,
          780,
          203,
          840,
          785,
          2943,
          652,
          277,
          304,
          328,
          440,
          344,
          62,
          130,
          409,
          288,
          37
         ],
         "yaxis": "y"
        },
        {
         "hovertemplate": "p1=blenheim_spaniel<br>favorite_count=%{x}<br>retweet_count=%{y}<extra></extra>",
         "legendgroup": "blenheim_spaniel",
         "marker": {
          "color": "#FF6692",
          "symbol": "circle"
         },
         "mode": "markers",
         "name": "blenheim_spaniel",
         "showlegend": true,
         "type": "scattergl",
         "x": [
          28639,
          27135,
          9408,
          3580,
          5003,
          2589,
          1502,
          575,
          577,
          273
         ],
         "xaxis": "x",
         "y": [
          5620,
          7319,
          3810,
          890,
          1497,
          713,
          472,
          152,
          170,
          92
         ],
         "yaxis": "y"
        },
        {
         "hovertemplate": "p1=malamute<br>favorite_count=%{x}<br>retweet_count=%{y}<extra></extra>",
         "legendgroup": "malamute",
         "marker": {
          "color": "#B6E880",
          "symbol": "circle"
         },
         "mode": "markers",
         "name": "malamute",
         "showlegend": true,
         "type": "scattergl",
         "x": [
          19274,
          5317,
          22868,
          11885,
          9491,
          7889,
          10440,
          33358,
          9401,
          8676,
          8503,
          7391,
          3935,
          5843,
          9291,
          4664,
          3580,
          4228,
          1420,
          2313,
          2590,
          6497,
          2530,
          1450,
          1387,
          730,
          221,
          179
         ],
         "xaxis": "x",
         "y": [
          3672,
          1444,
          4171,
          2730,
          1898,
          1650,
          2471,
          10508,
          2569,
          2450,
          2370,
          1769,
          1125,
          2478,
          3179,
          1718,
          916,
          1269,
          339,
          664,
          973,
          2937,
          953,
          570,
          681,
          400,
          69,
          58
         ],
         "yaxis": "y"
        },
        {
         "hovertemplate": "p1=italian_greyhound<br>favorite_count=%{x}<br>retweet_count=%{y}<extra></extra>",
         "legendgroup": "italian_greyhound",
         "marker": {
          "color": "#FF97FF",
          "symbol": "circle"
         },
         "mode": "markers",
         "name": "italian_greyhound",
         "showlegend": true,
         "type": "scattergl",
         "x": [
          67354,
          17148,
          5860,
          5859,
          4220,
          2494,
          4419,
          3005,
          2245,
          2557,
          1926,
          351,
          668,
          332,
          327,
          152
         ],
         "xaxis": "x",
         "y": [
          15044,
          3438,
          1598,
          1357,
          1302,
          833,
          1802,
          852,
          620,
          927,
          765,
          133,
          290,
          166,
          169,
          68
         ],
         "yaxis": "y"
        },
        {
         "hovertemplate": "p1=chow<br>favorite_count=%{x}<br>retweet_count=%{y}<extra></extra>",
         "legendgroup": "chow",
         "marker": {
          "color": "#FECB52",
          "symbol": "circle"
         },
         "mode": "markers",
         "name": "chow",
         "showlegend": true,
         "type": "scattergl",
         "x": [
          24402,
          19965,
          66391,
          23488,
          13064,
          16509,
          6143,
          8587,
          8032,
          7088,
          5807,
          9888,
          8230,
          11049,
          4897,
          3940,
          7067,
          7407,
          3131,
          5447,
          6409,
          4712,
          3877,
          3858,
          3264,
          3203,
          3037,
          1869,
          1703,
          1665,
          3356,
          5575,
          1756,
          1234,
          5456,
          452,
          367
         ],
         "xaxis": "x",
         "y": [
          4677,
          3086,
          20030,
          4394,
          2764,
          2854,
          1134,
          1878,
          2172,
          1653,
          1203,
          2995,
          2345,
          2468,
          1328,
          827,
          2154,
          2164,
          961,
          1791,
          2007,
          1402,
          1142,
          1251,
          1079,
          1300,
          947,
          595,
          490,
          364,
          1503,
          1788,
          631,
          524,
          2430,
          169,
          196
         ],
         "yaxis": "y"
        },
        {
         "hovertemplate": "p1=german_shepherd<br>favorite_count=%{x}<br>retweet_count=%{y}<extra></extra>",
         "legendgroup": "german_shepherd",
         "marker": {
          "color": "#636efa",
          "symbol": "circle"
         },
         "mode": "markers",
         "name": "german_shepherd",
         "showlegend": true,
         "type": "scattergl",
         "x": [
          17960,
          15009,
          31604,
          18884,
          17399,
          8112,
          7829,
          9719,
          5428,
          7997,
          5654,
          6517,
          5618,
          5778,
          5337,
          2054,
          1397,
          512,
          161,
          99
         ],
         "xaxis": "x",
         "y": [
          2508,
          3344,
          8896,
          4848,
          3896,
          1826,
          1556,
          2589,
          1394,
          2468,
          1395,
          1445,
          1463,
          1491,
          2101,
          516,
          645,
          173,
          42,
          36
         ],
         "yaxis": "y"
        },
        {
         "hovertemplate": "p1=doberman<br>favorite_count=%{x}<br>retweet_count=%{y}<extra></extra>",
         "legendgroup": "doberman",
         "marker": {
          "color": "#EF553B",
          "symbol": "circle"
         },
         "mode": "markers",
         "name": "doberman",
         "showlegend": true,
         "type": "scattergl",
         "x": [
          19194,
          11117,
          7581,
          5301,
          9429,
          3801,
          991,
          741
         ],
         "xaxis": "x",
         "y": [
          2865,
          2274,
          1633,
          890,
          2599,
          730,
          373,
          217
         ],
         "yaxis": "y"
        },
        {
         "hovertemplate": "p1=eskimo_dog<br>favorite_count=%{x}<br>retweet_count=%{y}<extra></extra>",
         "legendgroup": "eskimo_dog",
         "marker": {
          "color": "#00cc96",
          "symbol": "circle"
         },
         "mode": "markers",
         "name": "eskimo_dog",
         "showlegend": true,
         "type": "scattergl",
         "x": [
          21001,
          14359,
          13693,
          14941,
          8661,
          3210,
          1556,
          1905,
          1603,
          2075,
          1220,
          1305,
          981,
          447
         ],
         "xaxis": "x",
         "y": [
          3249,
          2119,
          3640,
          2572,
          2463,
          943,
          453,
          406,
          325,
          1019,
          364,
          467,
          369,
          133
         ],
         "yaxis": "y"
        },
        {
         "hovertemplate": "p1=labrador_retriever<br>favorite_count=%{x}<br>retweet_count=%{y}<extra></extra>",
         "legendgroup": "labrador_retriever",
         "marker": {
          "color": "#ab63fa",
          "symbol": "circle"
         },
         "mode": "markers",
         "name": "labrador_retriever",
         "showlegend": true,
         "type": "scattergl",
         "x": [
          24824,
          22130,
          24629,
          24103,
          17905,
          23665,
          21625,
          13992,
          30861,
          13962,
          12724,
          20008,
          15745,
          14249,
          9900,
          4603,
          21252,
          8174,
          11865,
          10396,
          14472,
          12046,
          8260,
          3560,
          7780,
          5876,
          12787,
          5053,
          6086,
          4483,
          5458,
          19777,
          5558,
          4732,
          5916,
          4736,
          2971,
          8908,
          7961,
          145016,
          7562,
          3053,
          7506,
          4601,
          2264,
          4015,
          3841,
          3477,
          2217,
          1713,
          2913,
          3180,
          3097,
          2084,
          1756,
          3225,
          1821,
          3804,
          2599,
          1925,
          1499,
          2357,
          1882,
          2029,
          1448,
          2432,
          1363,
          943,
          1919,
          869,
          987,
          1130,
          1176,
          999,
          625,
          677,
          704,
          332,
          404,
          489,
          264,
          485,
          279,
          371
         ],
         "xaxis": "x",
         "y": [
          4103,
          3585,
          3924,
          4567,
          2973,
          4481,
          3577,
          3073,
          9366,
          2864,
          1994,
          4179,
          2486,
          3320,
          1865,
          857,
          7065,
          1805,
          3318,
          3889,
          5285,
          3695,
          2566,
          688,
          2426,
          1337,
          3164,
          1832,
          1851,
          2032,
          1580,
          10204,
          1674,
          1149,
          1668,
          1188,
          568,
          3635,
          2208,
          70826,
          2507,
          724,
          2553,
          1496,
          431,
          1285,
          1103,
          941,
          523,
          406,
          784,
          1277,
          1127,
          552,
          493,
          417,
          503,
          1300,
          922,
          394,
          409,
          821,
          360,
          720,
          506,
          1137,
          503,
          196,
          785,
          213,
          219,
          328,
          484,
          421,
          186,
          162,
          250,
          103,
          189,
          172,
          95,
          195,
          74,
          182
         ],
         "yaxis": "y"
        },
        {
         "hovertemplate": "p1=web_site<br>favorite_count=%{x}<br>retweet_count=%{y}<extra></extra>",
         "legendgroup": "web_site",
         "marker": {
          "color": "#FFA15A",
          "symbol": "circle"
         },
         "mode": "markers",
         "name": "web_site",
         "showlegend": true,
         "type": "scattergl",
         "x": [
          25751,
          1718,
          545,
          659
         ],
         "xaxis": "x",
         "y": [
          4084,
          141,
          83,
          97
         ],
         "yaxis": "y"
        },
        {
         "hovertemplate": "p1=weimaraner<br>favorite_count=%{x}<br>retweet_count=%{y}<extra></extra>",
         "legendgroup": "weimaraner",
         "marker": {
          "color": "#19d3f3",
          "symbol": "circle"
         },
         "mode": "markers",
         "name": "weimaraner",
         "showlegend": true,
         "type": "scattergl",
         "x": [
          21461,
          7269,
          4168,
          8192
         ],
         "xaxis": "x",
         "y": [
          2857,
          1189,
          1270,
          3179
         ],
         "yaxis": "y"
        },
        {
         "hovertemplate": "p1=saluki<br>favorite_count=%{x}<br>retweet_count=%{y}<extra></extra>",
         "legendgroup": "saluki",
         "marker": {
          "color": "#FF6692",
          "symbol": "circle"
         },
         "mode": "markers",
         "name": "saluki",
         "showlegend": true,
         "type": "scattergl",
         "x": [
          44593,
          24172,
          11559,
          2961
         ],
         "xaxis": "x",
         "y": [
          8969,
          4351,
          2415,
          822
         ],
         "yaxis": "y"
        },
        {
         "hovertemplate": "p1=miniature_pinscher<br>favorite_count=%{x}<br>retweet_count=%{y}<extra></extra>",
         "legendgroup": "miniature_pinscher",
         "marker": {
          "color": "#B6E880",
          "symbol": "circle"
         },
         "mode": "markers",
         "name": "miniature_pinscher",
         "showlegend": true,
         "type": "scattergl",
         "x": [
          24360,
          26127,
          9574,
          7695,
          7592,
          8332,
          8602,
          5466,
          3314,
          2900,
          3015,
          2247,
          3078,
          1715,
          12397,
          783,
          272,
          256,
          2382,
          89
         ],
         "xaxis": "x",
         "y": [
          3656,
          5121,
          2591,
          1802,
          1521,
          2370,
          1843,
          2000,
          921,
          761,
          875,
          767,
          1222,
          383,
          5646,
          216,
          43,
          55,
          973,
          37
         ],
         "yaxis": "y"
        },
        {
         "hovertemplate": "p1=german_short-haired_pointer<br>favorite_count=%{x}<br>retweet_count=%{y}<extra></extra>",
         "legendgroup": "german_short-haired_pointer",
         "marker": {
          "color": "#FF97FF",
          "symbol": "circle"
         },
         "mode": "markers",
         "name": "german_short-haired_pointer",
         "showlegend": true,
         "type": "scattergl",
         "x": [
          20724,
          10048,
          2163,
          2343,
          2091,
          991,
          624
         ],
         "xaxis": "x",
         "y": [
          2630,
          3139,
          569,
          556,
          720,
          346,
          218
         ],
         "yaxis": "y"
        },
        {
         "hovertemplate": "p1=english_springer<br>favorite_count=%{x}<br>retweet_count=%{y}<extra></extra>",
         "legendgroup": "english_springer",
         "marker": {
          "color": "#FECB52",
          "symbol": "circle"
         },
         "mode": "markers",
         "name": "english_springer",
         "showlegend": true,
         "type": "scattergl",
         "x": [
          92956,
          14853,
          1870,
          1478,
          1913,
          583,
          766,
          669
         ],
         "xaxis": "x",
         "y": [
          37482,
          2800,
          458,
          222,
          535,
          86,
          319,
          238
         ],
         "yaxis": "y"
        },
        {
         "hovertemplate": "p1=tricycle<br>favorite_count=%{x}<br>retweet_count=%{y}<extra></extra>",
         "legendgroup": "tricycle",
         "marker": {
          "color": "#636efa",
          "symbol": "circle"
         },
         "mode": "markers",
         "name": "tricycle",
         "showlegend": true,
         "type": "scattergl",
         "x": [
          14874
         ],
         "xaxis": "x",
         "y": [
          2652
         ],
         "yaxis": "y"
        },
        {
         "hovertemplate": "p1=vizsla<br>favorite_count=%{x}<br>retweet_count=%{y}<extra></extra>",
         "legendgroup": "vizsla",
         "marker": {
          "color": "#EF553B",
          "symbol": "circle"
         },
         "mode": "markers",
         "name": "vizsla",
         "showlegend": true,
         "type": "scattergl",
         "x": [
          16802,
          12587,
          9750,
          8225,
          4843,
          2666,
          2079,
          2827,
          1313,
          445,
          166
         ],
         "xaxis": "x",
         "y": [
          2245,
          3309,
          2220,
          2092,
          1613,
          673,
          598,
          1137,
          402,
          133,
          48
         ],
         "yaxis": "y"
        },
        {
         "hovertemplate": "p1=bloodhound<br>favorite_count=%{x}<br>retweet_count=%{y}<extra></extra>",
         "legendgroup": "bloodhound",
         "marker": {
          "color": "#00cc96",
          "symbol": "circle"
         },
         "mode": "markers",
         "name": "bloodhound",
         "showlegend": true,
         "type": "scattergl",
         "x": [
          18236,
          14922,
          25901,
          2024,
          2207,
          2861,
          143
         ],
         "xaxis": "x",
         "y": [
          2807,
          3128,
          5995,
          509,
          503,
          998,
          63
         ],
         "yaxis": "y"
        },
        {
         "hovertemplate": "p1=bernese_mountain_dog<br>favorite_count=%{x}<br>retweet_count=%{y}<extra></extra>",
         "legendgroup": "bernese_mountain_dog",
         "marker": {
          "color": "#ab63fa",
          "symbol": "circle"
         },
         "mode": "markers",
         "name": "bernese_mountain_dog",
         "showlegend": true,
         "type": "scattergl",
         "x": [
          24709,
          5023,
          7811,
          4625,
          6090,
          2290,
          2441,
          3788,
          1261,
          115
         ],
         "xaxis": "x",
         "y": [
          3909,
          1193,
          1810,
          1107,
          1652,
          580,
          755,
          1284,
          469,
          50
         ],
         "yaxis": "y"
        },
        {
         "hovertemplate": "p1=west_highland_white_terrier<br>favorite_count=%{x}<br>retweet_count=%{y}<extra></extra>",
         "legendgroup": "west_highland_white_terrier",
         "marker": {
          "color": "#FFA15A",
          "symbol": "circle"
         },
         "mode": "markers",
         "name": "west_highland_white_terrier",
         "showlegend": true,
         "type": "scattergl",
         "x": [
          22571,
          19734,
          11598,
          7167,
          2799,
          3038,
          1922,
          2121,
          1156,
          685,
          992,
          388,
          204
         ],
         "xaxis": "x",
         "y": [
          3977,
          3006,
          3006,
          1363,
          627,
          956,
          532,
          841,
          528,
          185,
          520,
          120,
          44
         ],
         "yaxis": "y"
        },
        {
         "hovertemplate": "p1=cocker_spaniel<br>favorite_count=%{x}<br>retweet_count=%{y}<extra></extra>",
         "legendgroup": "cocker_spaniel",
         "marker": {
          "color": "#19d3f3",
          "symbol": "circle"
         },
         "mode": "markers",
         "name": "cocker_spaniel",
         "showlegend": true,
         "type": "scattergl",
         "x": [
          22986,
          18340,
          11192,
          13990,
          8778,
          10102,
          7199,
          12743,
          9318,
          18779,
          3019,
          3304,
          3799,
          1390,
          3744,
          1570,
          2867,
          3151,
          942,
          1194,
          907,
          312,
          241
         ],
         "xaxis": "x",
         "y": [
          3486,
          3070,
          1896,
          2736,
          1706,
          2639,
          1655,
          4021,
          1992,
          6664,
          744,
          1038,
          993,
          219,
          1227,
          552,
          900,
          820,
          248,
          448,
          320,
          62,
          63
         ],
         "yaxis": "y"
        },
        {
         "hovertemplate": "p1=flat-coated_retriever<br>favorite_count=%{x}<br>retweet_count=%{y}<extra></extra>",
         "legendgroup": "flat-coated_retriever",
         "marker": {
          "color": "#FF6692",
          "symbol": "circle"
         },
         "mode": "markers",
         "name": "flat-coated_retriever",
         "showlegend": true,
         "type": "scattergl",
         "x": [
          20137,
          17150,
          41937,
          23309,
          8555,
          3606,
          1283,
          284
         ],
         "xaxis": "x",
         "y": [
          3382,
          2975,
          16151,
          3935,
          1647,
          1248,
          430,
          82
         ],
         "yaxis": "y"
        },
        {
         "hovertemplate": "p1=cardigan<br>favorite_count=%{x}<br>retweet_count=%{y}<extra></extra>",
         "legendgroup": "cardigan",
         "marker": {
          "color": "#B6E880",
          "symbol": "circle"
         },
         "mode": "markers",
         "name": "cardigan",
         "showlegend": true,
         "type": "scattergl",
         "x": [
          30153,
          32326,
          14985,
          17382,
          15886,
          9167,
          7325,
          8656,
          5143,
          6302,
          3997,
          1279,
          2954
         ],
         "xaxis": "x",
         "y": [
          8603,
          9281,
          3133,
          3099,
          3332,
          1871,
          1831,
          2256,
          1479,
          1780,
          1415,
          326,
          1132
         ],
         "yaxis": "y"
        },
        {
         "hovertemplate": "p1=newfoundland<br>favorite_count=%{x}<br>retweet_count=%{y}<extra></extra>",
         "legendgroup": "newfoundland",
         "marker": {
          "color": "#FF97FF",
          "symbol": "circle"
         },
         "mode": "markers",
         "name": "newfoundland",
         "showlegend": true,
         "type": "scattergl",
         "x": [
          21402,
          6120,
          3952,
          2263,
          1426
         ],
         "xaxis": "x",
         "y": [
          3345,
          1588,
          1086,
          572,
          632
         ],
         "yaxis": "y"
        },
        {
         "hovertemplate": "p1=basketball<br>favorite_count=%{x}<br>retweet_count=%{y}<extra></extra>",
         "legendgroup": "basketball",
         "marker": {
          "color": "#FECB52",
          "symbol": "circle"
         },
         "mode": "markers",
         "name": "basketball",
         "showlegend": true,
         "type": "scattergl",
         "x": [
          30260
         ],
         "xaxis": "x",
         "y": [
          6836
         ],
         "yaxis": "y"
        },
        {
         "hovertemplate": "p1=shetland_sheepdog<br>favorite_count=%{x}<br>retweet_count=%{y}<extra></extra>",
         "legendgroup": "shetland_sheepdog",
         "marker": {
          "color": "#636efa",
          "symbol": "circle"
         },
         "mode": "markers",
         "name": "shetland_sheepdog",
         "showlegend": true,
         "type": "scattergl",
         "x": [
          33139,
          18816,
          18656,
          9291,
          13652,
          3462,
          4901,
          3330,
          6770,
          5234,
          2432,
          2792,
          3744,
          1615,
          1799,
          966,
          521,
          383
         ],
         "xaxis": "x",
         "y": [
          9259,
          4387,
          3559,
          2584,
          3830,
          696,
          1444,
          743,
          2058,
          1443,
          619,
          1138,
          1028,
          326,
          637,
          487,
          209,
          107
         ],
         "yaxis": "y"
        },
        {
         "hovertemplate": "p1=komondor<br>favorite_count=%{x}<br>retweet_count=%{y}<extra></extra>",
         "legendgroup": "komondor",
         "marker": {
          "color": "#EF553B",
          "symbol": "circle"
         },
         "mode": "markers",
         "name": "komondor",
         "showlegend": true,
         "type": "scattergl",
         "x": [
          17910,
          6788,
          921
         ],
         "xaxis": "x",
         "y": [
          2945,
          1674,
          435
         ],
         "yaxis": "y"
        },
        {
         "hovertemplate": "p1=kelpie<br>favorite_count=%{x}<br>retweet_count=%{y}<extra></extra>",
         "legendgroup": "kelpie",
         "marker": {
          "color": "#00cc96",
          "symbol": "circle"
         },
         "mode": "markers",
         "name": "kelpie",
         "showlegend": true,
         "type": "scattergl",
         "x": [
          20180,
          10272,
          8148,
          5396,
          3666,
          11360,
          3231,
          5442,
          354
         ],
         "xaxis": "x",
         "y": [
          3230,
          1234,
          1520,
          1962,
          1129,
          3146,
          1056,
          2316,
          126
         ],
         "yaxis": "y"
        },
        {
         "hovertemplate": "p1=greater_swiss_mountain_dog<br>favorite_count=%{x}<br>retweet_count=%{y}<extra></extra>",
         "legendgroup": "greater_swiss_mountain_dog",
         "marker": {
          "color": "#ab63fa",
          "symbol": "circle"
         },
         "mode": "markers",
         "name": "greater_swiss_mountain_dog",
         "showlegend": true,
         "type": "scattergl",
         "x": [
          19502,
          6616,
          1181
         ],
         "xaxis": "x",
         "y": [
          3553,
          1371,
          385
         ],
         "yaxis": "y"
        },
        {
         "hovertemplate": "p1=border_collie<br>favorite_count=%{x}<br>retweet_count=%{y}<extra></extra>",
         "legendgroup": "border_collie",
         "marker": {
          "color": "#FFA15A",
          "symbol": "circle"
         },
         "mode": "markers",
         "name": "border_collie",
         "showlegend": true,
         "type": "scattergl",
         "x": [
          30276,
          24626,
          9319,
          7987,
          4275,
          2738,
          3991,
          1772,
          2459,
          2967,
          640,
          994
         ],
         "xaxis": "x",
         "y": [
          6261,
          5314,
          2124,
          2006,
          1042,
          577,
          1626,
          347,
          552,
          948,
          110,
          526
         ],
         "yaxis": "y"
        },
        {
         "hovertemplate": "p1=bull_mastiff<br>favorite_count=%{x}<br>retweet_count=%{y}<extra></extra>",
         "legendgroup": "bull_mastiff",
         "marker": {
          "color": "#19d3f3",
          "symbol": "circle"
         },
         "mode": "markers",
         "name": "bull_mastiff",
         "showlegend": true,
         "type": "scattergl",
         "x": [
          13086,
          7162,
          3906,
          1185,
          650
         ],
         "xaxis": "x",
         "y": [
          2588,
          1787,
          1006,
          393,
          200
         ],
         "yaxis": "y"
        },
        {
         "hovertemplate": "p1=staffordshire_bullterrier<br>favorite_count=%{x}<br>retweet_count=%{y}<extra></extra>",
         "legendgroup": "staffordshire_bullterrier",
         "marker": {
          "color": "#FF6692",
          "symbol": "circle"
         },
         "mode": "markers",
         "name": "staffordshire_bullterrier",
         "showlegend": true,
         "type": "scattergl",
         "x": [
          21335,
          18406,
          12565,
          16697,
          6922,
          7374,
          6471,
          3075,
          3369,
          3623,
          1808,
          2870,
          1419,
          2205,
          3658,
          969,
          360
         ],
         "xaxis": "x",
         "y": [
          4563,
          5264,
          2076,
          3308,
          1312,
          1599,
          1209,
          804,
          713,
          1171,
          503,
          667,
          307,
          660,
          1374,
          204,
          115
         ],
         "yaxis": "y"
        },
        {
         "hovertemplate": "p1=australian_terrier<br>favorite_count=%{x}<br>retweet_count=%{y}<extra></extra>",
         "legendgroup": "australian_terrier",
         "marker": {
          "color": "#B6E880",
          "symbol": "circle"
         },
         "mode": "markers",
         "name": "australian_terrier",
         "showlegend": true,
         "type": "scattergl",
         "x": [
          17232,
          1887
         ],
         "xaxis": "x",
         "y": [
          4464,
          546
         ],
         "yaxis": "y"
        },
        {
         "hovertemplate": "p1=syringe<br>favorite_count=%{x}<br>retweet_count=%{y}<extra></extra>",
         "legendgroup": "syringe",
         "marker": {
          "color": "#FF97FF",
          "symbol": "circle"
         },
         "mode": "markers",
         "name": "syringe",
         "showlegend": true,
         "type": "scattergl",
         "x": [
          15364
         ],
         "xaxis": "x",
         "y": [
          3595
         ],
         "yaxis": "y"
        },
        {
         "hovertemplate": "p1=bedlington_terrier<br>favorite_count=%{x}<br>retweet_count=%{y}<extra></extra>",
         "legendgroup": "bedlington_terrier",
         "marker": {
          "color": "#FECB52",
          "symbol": "circle"
         },
         "mode": "markers",
         "name": "bedlington_terrier",
         "showlegend": true,
         "type": "scattergl",
         "x": [
          21288,
          15058,
          11894,
          3600,
          3987
         ],
         "xaxis": "x",
         "y": [
          4609,
          2722,
          2065,
          1010,
          1110
         ],
         "yaxis": "y"
        },
        {
         "hovertemplate": "p1=boston_bull<br>favorite_count=%{x}<br>retweet_count=%{y}<extra></extra>",
         "legendgroup": "boston_bull",
         "marker": {
          "color": "#636efa",
          "symbol": "circle"
         },
         "mode": "markers",
         "name": "boston_bull",
         "showlegend": true,
         "type": "scattergl",
         "x": [
          14852,
          9751,
          7158,
          4529,
          2289,
          2444,
          1913,
          2451,
          2088
         ],
         "xaxis": "x",
         "y": [
          2553,
          3065,
          2128,
          1468,
          696,
          719,
          492,
          582,
          701
         ],
         "yaxis": "y"
        },
        {
         "hovertemplate": "p1=black-and-tan_coonhound<br>favorite_count=%{x}<br>retweet_count=%{y}<extra></extra>",
         "legendgroup": "black-and-tan_coonhound",
         "marker": {
          "color": "#EF553B",
          "symbol": "circle"
         },
         "mode": "markers",
         "name": "black-and-tan_coonhound",
         "showlegend": true,
         "type": "scattergl",
         "x": [
          29274,
          93
         ],
         "xaxis": "x",
         "y": [
          6603,
          30
         ],
         "yaxis": "y"
        },
        {
         "hovertemplate": "p1=great_dane<br>favorite_count=%{x}<br>retweet_count=%{y}<extra></extra>",
         "legendgroup": "great_dane",
         "marker": {
          "color": "#00cc96",
          "symbol": "circle"
         },
         "mode": "markers",
         "name": "great_dane",
         "showlegend": true,
         "type": "scattergl",
         "x": [
          8267,
          10018,
          10048,
          5004,
          3779,
          2210,
          3049,
          2855,
          2856
         ],
         "xaxis": "x",
         "y": [
          1602,
          2065,
          3394,
          1005,
          1444,
          618,
          909,
          1059,
          1041
         ],
         "yaxis": "y"
        },
        {
         "hovertemplate": "p1=barrow<br>favorite_count=%{x}<br>retweet_count=%{y}<extra></extra>",
         "legendgroup": "barrow",
         "marker": {
          "color": "#ab63fa",
          "symbol": "circle"
         },
         "mode": "markers",
         "name": "barrow",
         "showlegend": true,
         "type": "scattergl",
         "x": [
          10585,
          3332,
          6555
         ],
         "xaxis": "x",
         "y": [
          1421,
          843,
          2316
         ],
         "yaxis": "y"
        },
        {
         "hovertemplate": "p1=car_mirror<br>favorite_count=%{x}<br>retweet_count=%{y}<extra></extra>",
         "legendgroup": "car_mirror",
         "marker": {
          "color": "#FFA15A",
          "symbol": "circle"
         },
         "mode": "markers",
         "name": "car_mirror",
         "showlegend": true,
         "type": "scattergl",
         "x": [
          19078,
          2184,
          2024,
          1630
         ],
         "xaxis": "x",
         "y": [
          5183,
          588,
          462,
          893
         ],
         "yaxis": "y"
        },
        {
         "hovertemplate": "p1=yorkshire_terrier<br>favorite_count=%{x}<br>retweet_count=%{y}<extra></extra>",
         "legendgroup": "yorkshire_terrier",
         "marker": {
          "color": "#19d3f3",
          "symbol": "circle"
         },
         "mode": "markers",
         "name": "yorkshire_terrier",
         "showlegend": true,
         "type": "scattergl",
         "x": [
          12099,
          7005,
          2565,
          2586,
          3019,
          6916,
          586,
          176
         ],
         "xaxis": "x",
         "y": [
          2336,
          1575,
          969,
          841,
          792,
          2599,
          192,
          58
         ],
         "yaxis": "y"
        },
        {
         "hovertemplate": "p1=tennis_ball<br>favorite_count=%{x}<br>retweet_count=%{y}<extra></extra>",
         "legendgroup": "tennis_ball",
         "marker": {
          "color": "#FF6692",
          "symbol": "circle"
         },
         "mode": "markers",
         "name": "tennis_ball",
         "showlegend": true,
         "type": "scattergl",
         "x": [
          15077,
          14758,
          7444,
          4878,
          2346,
          2062,
          2120
         ],
         "xaxis": "x",
         "y": [
          3404,
          2877,
          2290,
          1696,
          643,
          611,
          994
         ],
         "yaxis": "y"
        },
        {
         "hovertemplate": "p1=schipperke<br>favorite_count=%{x}<br>retweet_count=%{y}<extra></extra>",
         "legendgroup": "schipperke",
         "marker": {
          "color": "#B6E880",
          "symbol": "circle"
         },
         "mode": "markers",
         "name": "schipperke",
         "showlegend": true,
         "type": "scattergl",
         "x": [
          14696,
          10072,
          3895,
          2750,
          2264,
          6075,
          3829,
          1979
         ],
         "xaxis": "x",
         "y": [
          2838,
          2542,
          1545,
          807,
          577,
          1801,
          1611,
          725
         ],
         "yaxis": "y"
        },
        {
         "hovertemplate": "p1=airedale<br>favorite_count=%{x}<br>retweet_count=%{y}<extra></extra>",
         "legendgroup": "airedale",
         "marker": {
          "color": "#FF97FF",
          "symbol": "circle"
         },
         "mode": "markers",
         "name": "airedale",
         "showlegend": true,
         "type": "scattergl",
         "x": [
          19014,
          10771,
          4347,
          5990,
          2021,
          2936,
          2188,
          3169,
          891,
          1279,
          1180,
          185
         ],
         "xaxis": "x",
         "y": [
          3927,
          2456,
          943,
          1409,
          556,
          874,
          687,
          1031,
          246,
          619,
          634,
          66
         ],
         "yaxis": "y"
        },
        {
         "hovertemplate": "p1=white_wolf<br>favorite_count=%{x}<br>retweet_count=%{y}<extra></extra>",
         "legendgroup": "white_wolf",
         "marker": {
          "color": "#FECB52",
          "symbol": "circle"
         },
         "mode": "markers",
         "name": "white_wolf",
         "showlegend": true,
         "type": "scattergl",
         "x": [
          19906,
          2049,
          2814
         ],
         "xaxis": "x",
         "y": [
          2886,
          511,
          1048
         ],
         "yaxis": "y"
        },
        {
         "hovertemplate": "p1=giant_schnauzer<br>favorite_count=%{x}<br>retweet_count=%{y}<extra></extra>",
         "legendgroup": "giant_schnauzer",
         "marker": {
          "color": "#636efa",
          "symbol": "circle"
         },
         "mode": "markers",
         "name": "giant_schnauzer",
         "showlegend": true,
         "type": "scattergl",
         "x": [
          29163,
          186
         ],
         "xaxis": "x",
         "y": [
          8195,
          72
         ],
         "yaxis": "y"
        },
        {
         "hovertemplate": "p1=dandie_dinmont<br>favorite_count=%{x}<br>retweet_count=%{y}<extra></extra>",
         "legendgroup": "dandie_dinmont",
         "marker": {
          "color": "#EF553B",
          "symbol": "circle"
         },
         "mode": "markers",
         "name": "dandie_dinmont",
         "showlegend": true,
         "type": "scattergl",
         "x": [
          7100,
          3187,
          4304,
          1814,
          968,
          215
         ],
         "xaxis": "x",
         "y": [
          1624,
          861,
          1536,
          543,
          328,
          35
         ],
         "yaxis": "y"
        },
        {
         "hovertemplate": "p1=irish_water_spaniel<br>favorite_count=%{x}<br>retweet_count=%{y}<extra></extra>",
         "legendgroup": "irish_water_spaniel",
         "marker": {
          "color": "#00cc96",
          "symbol": "circle"
         },
         "mode": "markers",
         "name": "irish_water_spaniel",
         "showlegend": true,
         "type": "scattergl",
         "x": [
          21669,
          1755
         ],
         "xaxis": "x",
         "y": [
          4875,
          593
         ],
         "yaxis": "y"
        },
        {
         "hovertemplate": "p1=tub<br>favorite_count=%{x}<br>retweet_count=%{y}<extra></extra>",
         "legendgroup": "tub",
         "marker": {
          "color": "#ab63fa",
          "symbol": "circle"
         },
         "mode": "markers",
         "name": "tub",
         "showlegend": true,
         "type": "scattergl",
         "x": [
          6309
         ],
         "xaxis": "x",
         "y": [
          1178
         ],
         "yaxis": "y"
        },
        {
         "hovertemplate": "p1=military_uniform<br>favorite_count=%{x}<br>retweet_count=%{y}<extra></extra>",
         "legendgroup": "military_uniform",
         "marker": {
          "color": "#FFA15A",
          "symbol": "circle"
         },
         "mode": "markers",
         "name": "military_uniform",
         "showlegend": true,
         "type": "scattergl",
         "x": [
          11769
         ],
         "xaxis": "x",
         "y": [
          3341
         ],
         "yaxis": "y"
        },
        {
         "hovertemplate": "p1=afghan_hound<br>favorite_count=%{x}<br>retweet_count=%{y}<extra></extra>",
         "legendgroup": "afghan_hound",
         "marker": {
          "color": "#19d3f3",
          "symbol": "circle"
         },
         "mode": "markers",
         "name": "afghan_hound",
         "showlegend": true,
         "type": "scattergl",
         "x": [
          14782,
          6000
         ],
         "xaxis": "x",
         "y": [
          4247,
          1517
         ],
         "yaxis": "y"
        },
        {
         "hovertemplate": "p1=leonberg<br>favorite_count=%{x}<br>retweet_count=%{y}<extra></extra>",
         "legendgroup": "leonberg",
         "marker": {
          "color": "#FF6692",
          "symbol": "circle"
         },
         "mode": "markers",
         "name": "leonberg",
         "showlegend": true,
         "type": "scattergl",
         "x": [
          25289,
          10061,
          2650
         ],
         "xaxis": "x",
         "y": [
          5958,
          2368,
          940
         ],
         "yaxis": "y"
        },
        {
         "hovertemplate": "p1=border_terrier<br>favorite_count=%{x}<br>retweet_count=%{y}<extra></extra>",
         "legendgroup": "border_terrier",
         "marker": {
          "color": "#B6E880",
          "symbol": "circle"
         },
         "mode": "markers",
         "name": "border_terrier",
         "showlegend": true,
         "type": "scattergl",
         "x": [
          10446,
          20264,
          11548,
          14081,
          1574,
          2070
         ],
         "xaxis": "x",
         "y": [
          1859,
          5121,
          1798,
          3279,
          439,
          471
         ],
         "yaxis": "y"
        },
        {
         "hovertemplate": "p1=great_pyrenees<br>favorite_count=%{x}<br>retweet_count=%{y}<extra></extra>",
         "legendgroup": "great_pyrenees",
         "marker": {
          "color": "#FF97FF",
          "symbol": "circle"
         },
         "mode": "markers",
         "name": "great_pyrenees",
         "showlegend": true,
         "type": "scattergl",
         "x": [
          21030,
          34088,
          12034,
          6355,
          4739,
          5407,
          3827,
          4105,
          11359,
          4082,
          2701,
          20766,
          1180
         ],
         "xaxis": "x",
         "y": [
          4357,
          9361,
          2338,
          1675,
          1190,
          1594,
          1286,
          1191,
          4524,
          1465,
          845,
          13821,
          532
         ],
         "yaxis": "y"
        },
        {
         "hovertemplate": "p1=norwegian_elkhound<br>favorite_count=%{x}<br>retweet_count=%{y}<extra></extra>",
         "legendgroup": "norwegian_elkhound",
         "marker": {
          "color": "#FECB52",
          "symbol": "circle"
         },
         "mode": "markers",
         "name": "norwegian_elkhound",
         "showlegend": true,
         "type": "scattergl",
         "x": [
          12014,
          11227,
          7895,
          16014,
          4841,
          761
         ],
         "xaxis": "x",
         "y": [
          2066,
          2924,
          1804,
          5100,
          1342,
          334
         ],
         "yaxis": "y"
        },
        {
         "hovertemplate": "p1=shopping_cart<br>favorite_count=%{x}<br>retweet_count=%{y}<extra></extra>",
         "legendgroup": "shopping_cart",
         "marker": {
          "color": "#636efa",
          "symbol": "circle"
         },
         "mode": "markers",
         "name": "shopping_cart",
         "showlegend": true,
         "type": "scattergl",
         "x": [
          11982,
          3229,
          248
         ],
         "xaxis": "x",
         "y": [
          2123,
          1327,
          112
         ],
         "yaxis": "y"
        },
        {
         "hovertemplate": "p1=mortarboard<br>favorite_count=%{x}<br>retweet_count=%{y}<extra></extra>",
         "legendgroup": "mortarboard",
         "marker": {
          "color": "#EF553B",
          "symbol": "circle"
         },
         "mode": "markers",
         "name": "mortarboard",
         "showlegend": true,
         "type": "scattergl",
         "x": [
          18174
         ],
         "xaxis": "x",
         "y": [
          4276
         ],
         "yaxis": "y"
        },
        {
         "hovertemplate": "p1=borzoi<br>favorite_count=%{x}<br>retweet_count=%{y}<extra></extra>",
         "legendgroup": "borzoi",
         "marker": {
          "color": "#00cc96",
          "symbol": "circle"
         },
         "mode": "markers",
         "name": "borzoi",
         "showlegend": true,
         "type": "scattergl",
         "x": [
          20007,
          5421,
          4866,
          2275,
          2940,
          2770,
          5374,
          459
         ],
         "xaxis": "x",
         "y": [
          3990,
          2064,
          1126,
          591,
          1056,
          797,
          2246,
          190
         ],
         "yaxis": "y"
        },
        {
         "hovertemplate": "p1=rottweiler<br>favorite_count=%{x}<br>retweet_count=%{y}<extra></extra>",
         "legendgroup": "rottweiler",
         "marker": {
          "color": "#ab63fa",
          "symbol": "circle"
         },
         "mode": "markers",
         "name": "rottweiler",
         "showlegend": true,
         "type": "scattergl",
         "x": [
          15472,
          54024,
          6853,
          9653,
          9036,
          3812,
          2393,
          1765,
          3416,
          3261,
          1347,
          1551,
          979,
          589,
          266,
          331
         ],
         "xaxis": "x",
         "y": [
          2749,
          16373,
          1118,
          2869,
          2337,
          1369,
          602,
          530,
          1240,
          1180,
          495,
          597,
          284,
          128,
          76,
          86
         ],
         "yaxis": "y"
        },
        {
         "hovertemplate": "p1=swing<br>favorite_count=%{x}<br>retweet_count=%{y}<extra></extra>",
         "legendgroup": "swing",
         "marker": {
          "color": "#FFA15A",
          "symbol": "circle"
         },
         "mode": "markers",
         "name": "swing",
         "showlegend": true,
         "type": "scattergl",
         "x": [
          21001,
          10285,
          6873,
          2609,
          73580
         ],
         "xaxis": "x",
         "y": [
          2767,
          2277,
          3161,
          692,
          28631
         ],
         "yaxis": "y"
        },
        {
         "hovertemplate": "p1=ice_bear<br>favorite_count=%{x}<br>retweet_count=%{y}<extra></extra>",
         "legendgroup": "ice_bear",
         "marker": {
          "color": "#19d3f3",
          "symbol": "circle"
         },
         "mode": "markers",
         "name": "ice_bear",
         "showlegend": true,
         "type": "scattergl",
         "x": [
          10130,
          4923
         ],
         "xaxis": "x",
         "y": [
          1497,
          1423
         ],
         "yaxis": "y"
        },
        {
         "hovertemplate": "p1=toilet_tissue<br>favorite_count=%{x}<br>retweet_count=%{y}<extra></extra>",
         "legendgroup": "toilet_tissue",
         "marker": {
          "color": "#FF6692",
          "symbol": "circle"
         },
         "mode": "markers",
         "name": "toilet_tissue",
         "showlegend": true,
         "type": "scattergl",
         "x": [
          12842,
          1336
         ],
         "xaxis": "x",
         "y": [
          2321,
          490
         ],
         "yaxis": "y"
        },
        {
         "hovertemplate": "p1=rhodesian_ridgeback<br>favorite_count=%{x}<br>retweet_count=%{y}<extra></extra>",
         "legendgroup": "rhodesian_ridgeback",
         "marker": {
          "color": "#B6E880",
          "symbol": "circle"
         },
         "mode": "markers",
         "name": "rhodesian_ridgeback",
         "showlegend": true,
         "type": "scattergl",
         "x": [
          9051,
          2285,
          2285,
          246
         ],
         "xaxis": "x",
         "y": [
          1554,
          453,
          367,
          115
         ],
         "yaxis": "y"
        },
        {
         "hovertemplate": "p1=bath_towel<br>favorite_count=%{x}<br>retweet_count=%{y}<extra></extra>",
         "legendgroup": "bath_towel",
         "marker": {
          "color": "#FF97FF",
          "symbol": "circle"
         },
         "mode": "markers",
         "name": "bath_towel",
         "showlegend": true,
         "type": "scattergl",
         "x": [
          12273,
          7581,
          3504,
          2118,
          2157
         ],
         "xaxis": "x",
         "y": [
          2045,
          1802,
          1047,
          524,
          752
         ],
         "yaxis": "y"
        },
        {
         "hovertemplate": "p1=boxer<br>favorite_count=%{x}<br>retweet_count=%{y}<extra></extra>",
         "legendgroup": "boxer",
         "marker": {
          "color": "#FECB52",
          "symbol": "circle"
         },
         "mode": "markers",
         "name": "boxer",
         "showlegend": true,
         "type": "scattergl",
         "x": [
          12464,
          50347,
          4809,
          2463,
          3023,
          2083,
          1830,
          2000,
          1540,
          876
         ],
         "xaxis": "x",
         "y": [
          2026,
          15147,
          1613,
          513,
          1025,
          873,
          451,
          672,
          426,
          202
         ],
         "yaxis": "y"
        },
        {
         "hovertemplate": "p1=pekinese<br>favorite_count=%{x}<br>retweet_count=%{y}<extra></extra>",
         "legendgroup": "pekinese",
         "marker": {
          "color": "#636efa",
          "symbol": "circle"
         },
         "mode": "markers",
         "name": "pekinese",
         "showlegend": true,
         "type": "scattergl",
         "x": [
          11266,
          17288,
          7166,
          9935,
          10473,
          6838,
          4359,
          3682,
          2527,
          1578,
          1275,
          382,
          2471
         ],
         "xaxis": "x",
         "y": [
          2041,
          4191,
          1480,
          2425,
          3897,
          2637,
          1214,
          967,
          807,
          327,
          377,
          109,
          1385
         ],
         "yaxis": "y"
        },
        {
         "hovertemplate": "p1=old_english_sheepdog<br>favorite_count=%{x}<br>retweet_count=%{y}<extra></extra>",
         "legendgroup": "old_english_sheepdog",
         "marker": {
          "color": "#EF553B",
          "symbol": "circle"
         },
         "mode": "markers",
         "name": "old_english_sheepdog",
         "showlegend": true,
         "type": "scattergl",
         "x": [
          8777,
          11971,
          8783,
          5061,
          25125,
          2840,
          2751,
          4157,
          4216,
          2807,
          1050
         ],
         "xaxis": "x",
         "y": [
          1447,
          2128,
          1751,
          1226,
          10583,
          758,
          570,
          1146,
          1900,
          1047,
          428
         ],
         "yaxis": "y"
        },
        {
         "hovertemplate": "p1=briard<br>favorite_count=%{x}<br>retweet_count=%{y}<extra></extra>",
         "legendgroup": "briard",
         "marker": {
          "color": "#00cc96",
          "symbol": "circle"
         },
         "mode": "markers",
         "name": "briard",
         "showlegend": true,
         "type": "scattergl",
         "x": [
          6184,
          2319
         ],
         "xaxis": "x",
         "y": [
          1040,
          930
         ],
         "yaxis": "y"
        },
        {
         "hovertemplate": "p1=toy_poodle<br>favorite_count=%{x}<br>retweet_count=%{y}<extra></extra>",
         "legendgroup": "toy_poodle",
         "marker": {
          "color": "#ab63fa",
          "symbol": "circle"
         },
         "mode": "markers",
         "name": "toy_poodle",
         "showlegend": true,
         "type": "scattergl",
         "x": [
          9190,
          4611,
          8143,
          9569,
          6356,
          7425,
          4473,
          3381,
          4347,
          7318,
          3154,
          3537,
          3074,
          5042,
          2495,
          3034,
          3551,
          4361,
          2048,
          1795,
          1735,
          636,
          760,
          1185,
          973,
          676,
          6250,
          912,
          337,
          302,
          225,
          218
         ],
         "xaxis": "x",
         "y": [
          2708,
          1114,
          1656,
          2653,
          1737,
          2836,
          1253,
          1185,
          991,
          2452,
          866,
          792,
          673,
          1787,
          870,
          896,
          934,
          1723,
          581,
          317,
          419,
          111,
          181,
          472,
          337,
          202,
          3134,
          278,
          104,
          107,
          85,
          70
         ],
         "yaxis": "y"
        },
        {
         "hovertemplate": "p1=seat_belt<br>favorite_count=%{x}<br>retweet_count=%{y}<extra></extra>",
         "legendgroup": "seat_belt",
         "marker": {
          "color": "#FFA15A",
          "symbol": "circle"
         },
         "mode": "markers",
         "name": "seat_belt",
         "showlegend": true,
         "type": "scattergl",
         "x": [
          24149,
          7516,
          7410,
          11395,
          8892,
          6946,
          4260,
          14162,
          6519,
          4022,
          2829,
          8566,
          3407,
          2226,
          1083,
          465,
          3133,
          349,
          305
         ],
         "xaxis": "x",
         "y": [
          5410,
          2035,
          1628,
          4506,
          3009,
          2125,
          1114,
          6332,
          2135,
          1741,
          889,
          3709,
          1492,
          1019,
          252,
          142,
          1574,
          101,
          150
         ],
         "yaxis": "y"
        },
        {
         "hovertemplate": "p1=hippopotamus<br>favorite_count=%{x}<br>retweet_count=%{y}<extra></extra>",
         "legendgroup": "hippopotamus",
         "marker": {
          "color": "#19d3f3",
          "symbol": "circle"
         },
         "mode": "markers",
         "name": "hippopotamus",
         "showlegend": true,
         "type": "scattergl",
         "x": [
          34323
         ],
         "xaxis": "x",
         "y": [
          10355
         ],
         "yaxis": "y"
        },
        {
         "hovertemplate": "p1=teddy<br>favorite_count=%{x}<br>retweet_count=%{y}<extra></extra>",
         "legendgroup": "teddy",
         "marker": {
          "color": "#FF6692",
          "symbol": "circle"
         },
         "mode": "markers",
         "name": "teddy",
         "showlegend": true,
         "type": "scattergl",
         "x": [
          6053,
          9698,
          10827,
          6911,
          6326,
          7062,
          1450,
          2719,
          2790,
          1896,
          477
         ],
         "xaxis": "x",
         "y": [
          1083,
          2165,
          2994,
          1521,
          2215,
          2652,
          314,
          844,
          879,
          484,
          268
         ],
         "yaxis": "y"
        },
        {
         "hovertemplate": "p1=american_staffordshire_terrier<br>favorite_count=%{x}<br>retweet_count=%{y}<extra></extra>",
         "legendgroup": "american_staffordshire_terrier",
         "marker": {
          "color": "#B6E880",
          "symbol": "circle"
         },
         "mode": "markers",
         "name": "american_staffordshire_terrier",
         "showlegend": true,
         "type": "scattergl",
         "x": [
          6995,
          9792,
          10971,
          11220,
          4482,
          2404,
          1058,
          2063,
          6333,
          2792,
          403
         ],
         "xaxis": "x",
         "y": [
          996,
          2000,
          2894,
          2840,
          1920,
          723,
          225,
          605,
          3301,
          1324,
          182
         ],
         "yaxis": "y"
        },
        {
         "hovertemplate": "p1=collie<br>favorite_count=%{x}<br>retweet_count=%{y}<extra></extra>",
         "legendgroup": "collie",
         "marker": {
          "color": "#FF97FF",
          "symbol": "circle"
         },
         "mode": "markers",
         "name": "collie",
         "showlegend": true,
         "type": "scattergl",
         "x": [
          14612,
          18958,
          5512,
          3432,
          2831,
          2196,
          1969,
          2023,
          1017
         ],
         "xaxis": "x",
         "y": [
          2800,
          6172,
          1019,
          880,
          672,
          498,
          476,
          689,
          265
         ],
         "yaxis": "y"
        },
        {
         "hovertemplate": "p1=english_setter<br>favorite_count=%{x}<br>retweet_count=%{y}<extra></extra>",
         "legendgroup": "english_setter",
         "marker": {
          "color": "#FECB52",
          "symbol": "circle"
         },
         "mode": "markers",
         "name": "english_setter",
         "showlegend": true,
         "type": "scattergl",
         "x": [
          9947,
          1409,
          2486,
          1288,
          206,
          66
         ],
         "xaxis": "x",
         "y": [
          1649,
          398,
          815,
          594,
          79,
          11
         ],
         "yaxis": "y"
        },
        {
         "hovertemplate": "p1=cairn<br>favorite_count=%{x}<br>retweet_count=%{y}<extra></extra>",
         "legendgroup": "cairn",
         "marker": {
          "color": "#636efa",
          "symbol": "circle"
         },
         "mode": "markers",
         "name": "cairn",
         "showlegend": true,
         "type": "scattergl",
         "x": [
          13224,
          1757,
          374
         ],
         "xaxis": "x",
         "y": [
          2336,
          395,
          96
         ],
         "yaxis": "y"
        },
        {
         "hovertemplate": "p1=dingo<br>favorite_count=%{x}<br>retweet_count=%{y}<extra></extra>",
         "legendgroup": "dingo",
         "marker": {
          "color": "#EF553B",
          "symbol": "circle"
         },
         "mode": "markers",
         "name": "dingo",
         "showlegend": true,
         "type": "scattergl",
         "x": [
          12287,
          9806,
          3832,
          8117,
          2358,
          33868,
          1057,
          531
         ],
         "xaxis": "x",
         "y": [
          2448,
          2572,
          1107,
          3706,
          615,
          14924,
          257,
          171
         ],
         "yaxis": "y"
        },
        {
         "hovertemplate": "p1=cowboy_boot<br>favorite_count=%{x}<br>retweet_count=%{y}<extra></extra>",
         "legendgroup": "cowboy_boot",
         "marker": {
          "color": "#00cc96",
          "symbol": "circle"
         },
         "mode": "markers",
         "name": "cowboy_boot",
         "showlegend": true,
         "type": "scattergl",
         "x": [
          14848
         ],
         "xaxis": "x",
         "y": [
          3723
         ],
         "yaxis": "y"
        },
        {
         "hovertemplate": "p1=bathtub<br>favorite_count=%{x}<br>retweet_count=%{y}<extra></extra>",
         "legendgroup": "bathtub",
         "marker": {
          "color": "#ab63fa",
          "symbol": "circle"
         },
         "mode": "markers",
         "name": "bathtub",
         "showlegend": true,
         "type": "scattergl",
         "x": [
          16390,
          8621
         ],
         "xaxis": "x",
         "y": [
          3201,
          2714
         ],
         "yaxis": "y"
        },
        {
         "hovertemplate": "p1=lakeland_terrier<br>favorite_count=%{x}<br>retweet_count=%{y}<extra></extra>",
         "legendgroup": "lakeland_terrier",
         "marker": {
          "color": "#FFA15A",
          "symbol": "circle"
         },
         "mode": "markers",
         "name": "lakeland_terrier",
         "showlegend": true,
         "type": "scattergl",
         "x": [
          124208,
          6572,
          6996,
          4845,
          2628,
          2121,
          2283,
          2697,
          3583,
          2348,
          1229,
          877,
          833,
          225
         ],
         "xaxis": "x",
         "y": [
          39970,
          1869,
          1831,
          1202,
          912,
          547,
          867,
          700,
          1461,
          674,
          253,
          254,
          253,
          60
         ],
         "yaxis": "y"
        },
        {
         "hovertemplate": "p1=malinois<br>favorite_count=%{x}<br>retweet_count=%{y}<extra></extra>",
         "legendgroup": "malinois",
         "marker": {
          "color": "#19d3f3",
          "symbol": "circle"
         },
         "mode": "markers",
         "name": "malinois",
         "showlegend": true,
         "type": "scattergl",
         "x": [
          12469,
          5490,
          3976,
          4076,
          2513,
          890,
          1216,
          647,
          383
         ],
         "xaxis": "x",
         "y": [
          2111,
          1553,
          1053,
          1755,
          1112,
          170,
          675,
          184,
          112
         ],
         "yaxis": "y"
        },
        {
         "hovertemplate": "p1=irish_setter<br>favorite_count=%{x}<br>retweet_count=%{y}<extra></extra>",
         "legendgroup": "irish_setter",
         "marker": {
          "color": "#FF6692",
          "symbol": "circle"
         },
         "mode": "markers",
         "name": "irish_setter",
         "showlegend": true,
         "type": "scattergl",
         "x": [
          11101,
          6298,
          2244
         ],
         "xaxis": "x",
         "y": [
          3998,
          1354,
          441
         ],
         "yaxis": "y"
        },
        {
         "hovertemplate": "p1=acorn_squash<br>favorite_count=%{x}<br>retweet_count=%{y}<extra></extra>",
         "legendgroup": "acorn_squash",
         "marker": {
          "color": "#B6E880",
          "symbol": "circle"
         },
         "mode": "markers",
         "name": "acorn_squash",
         "showlegend": true,
         "type": "scattergl",
         "x": [
          12641,
          986
         ],
         "xaxis": "x",
         "y": [
          2880,
          345
         ],
         "yaxis": "y"
        },
        {
         "hovertemplate": "p1=miniature_schnauzer<br>favorite_count=%{x}<br>retweet_count=%{y}<extra></extra>",
         "legendgroup": "miniature_schnauzer",
         "marker": {
          "color": "#FF97FF",
          "symbol": "circle"
         },
         "mode": "markers",
         "name": "miniature_schnauzer",
         "showlegend": true,
         "type": "scattergl",
         "x": [
          10430,
          2516,
          619,
          444
         ],
         "xaxis": "x",
         "y": [
          2091,
          906,
          281,
          212
         ],
         "yaxis": "y"
        },
        {
         "hovertemplate": "p1=curly-coated_retriever<br>favorite_count=%{x}<br>retweet_count=%{y}<extra></extra>",
         "legendgroup": "curly-coated_retriever",
         "marker": {
          "color": "#FECB52",
          "symbol": "circle"
         },
         "mode": "markers",
         "name": "curly-coated_retriever",
         "showlegend": true,
         "type": "scattergl",
         "x": [
          10233,
          1543,
          90
         ],
         "xaxis": "x",
         "y": [
          2523,
          425,
          19
         ],
         "yaxis": "y"
        },
        {
         "hovertemplate": "p1=dalmatian<br>favorite_count=%{x}<br>retweet_count=%{y}<extra></extra>",
         "legendgroup": "dalmatian",
         "marker": {
          "color": "#636efa",
          "symbol": "circle"
         },
         "mode": "markers",
         "name": "dalmatian",
         "showlegend": true,
         "type": "scattergl",
         "x": [
          7261,
          7683,
          4112,
          3412,
          4377,
          4399,
          2523,
          6331,
          589,
          610,
          448
         ],
         "xaxis": "x",
         "y": [
          1188,
          1986,
          1006,
          881,
          1889,
          1846,
          1000,
          3007,
          245,
          285,
          181
         ],
         "yaxis": "y"
        },
        {
         "hovertemplate": "p1=miniature_poodle<br>favorite_count=%{x}<br>retweet_count=%{y}<extra></extra>",
         "legendgroup": "miniature_poodle",
         "marker": {
          "color": "#EF553B",
          "symbol": "circle"
         },
         "mode": "markers",
         "name": "miniature_poodle",
         "showlegend": true,
         "type": "scattergl",
         "x": [
          8223,
          5449,
          5067,
          3314,
          719,
          421,
          209,
          99
         ],
         "xaxis": "x",
         "y": [
          1742,
          1184,
          1362,
          1564,
          181,
          105,
          60,
          47
         ],
         "yaxis": "y"
        },
        {
         "hovertemplate": "p1=doormat<br>favorite_count=%{x}<br>retweet_count=%{y}<extra></extra>",
         "legendgroup": "doormat",
         "marker": {
          "color": "#00cc96",
          "symbol": "circle"
         },
         "mode": "markers",
         "name": "doormat",
         "showlegend": true,
         "type": "scattergl",
         "x": [
          8816,
          8486,
          479
         ],
         "xaxis": "x",
         "y": [
          1809,
          2614,
          140
         ],
         "yaxis": "y"
        },
        {
         "hovertemplate": "p1=siamese_cat<br>favorite_count=%{x}<br>retweet_count=%{y}<extra></extra>",
         "legendgroup": "siamese_cat",
         "marker": {
          "color": "#ab63fa",
          "symbol": "circle"
         },
         "mode": "markers",
         "name": "siamese_cat",
         "showlegend": true,
         "type": "scattergl",
         "x": [
          7387,
          4727,
          4511,
          3842,
          1896,
          903
         ],
         "xaxis": "x",
         "y": [
          2066,
          1404,
          1829,
          1396,
          456,
          319
         ],
         "yaxis": "y"
        },
        {
         "hovertemplate": "p1=beagle<br>favorite_count=%{x}<br>retweet_count=%{y}<extra></extra>",
         "legendgroup": "beagle",
         "marker": {
          "color": "#FFA15A",
          "symbol": "circle"
         },
         "mode": "markers",
         "name": "beagle",
         "showlegend": true,
         "type": "scattergl",
         "x": [
          8092,
          12090,
          6956,
          4760,
          4863,
          3510,
          3313,
          2440,
          2823,
          988,
          9331,
          739,
          703,
          585,
          296,
          473
         ],
         "xaxis": "x",
         "y": [
          2245,
          2856,
          2719,
          1260,
          1133,
          673,
          718,
          658,
          987,
          209,
          3054,
          239,
          176,
          210,
          77,
          190
         ],
         "yaxis": "y"
        },
        {
         "hovertemplate": "p1=toy_terrier<br>favorite_count=%{x}<br>retweet_count=%{y}<extra></extra>",
         "legendgroup": "toy_terrier",
         "marker": {
          "color": "#19d3f3",
          "symbol": "circle"
         },
         "mode": "markers",
         "name": "toy_terrier",
         "showlegend": true,
         "type": "scattergl",
         "x": [
          7549,
          108
         ],
         "xaxis": "x",
         "y": [
          1831,
          39
         ],
         "yaxis": "y"
        },
        {
         "hovertemplate": "p1=tibetan_mastiff<br>favorite_count=%{x}<br>retweet_count=%{y}<extra></extra>",
         "legendgroup": "tibetan_mastiff",
         "marker": {
          "color": "#FF6692",
          "symbol": "circle"
         },
         "mode": "markers",
         "name": "tibetan_mastiff",
         "showlegend": true,
         "type": "scattergl",
         "x": [
          13004,
          3184,
          3815
         ],
         "xaxis": "x",
         "y": [
          3604,
          845,
          1095
         ],
         "yaxis": "y"
        },
        {
         "hovertemplate": "p1=norfolk_terrier<br>favorite_count=%{x}<br>retweet_count=%{y}<extra></extra>",
         "legendgroup": "norfolk_terrier",
         "marker": {
          "color": "#B6E880",
          "symbol": "circle"
         },
         "mode": "markers",
         "name": "norfolk_terrier",
         "showlegend": true,
         "type": "scattergl",
         "x": [
          7704,
          3358,
          3090,
          1183,
          960
         ],
         "xaxis": "x",
         "y": [
          2345,
          834,
          880,
          225,
          371
         ],
         "yaxis": "y"
        },
        {
         "hovertemplate": "p1=wire-haired_fox_terrier<br>favorite_count=%{x}<br>retweet_count=%{y}<extra></extra>",
         "legendgroup": "wire-haired_fox_terrier",
         "marker": {
          "color": "#FF97FF",
          "symbol": "circle"
         },
         "mode": "markers",
         "name": "wire-haired_fox_terrier",
         "showlegend": true,
         "type": "scattergl",
         "x": [
          9295,
          5108
         ],
         "xaxis": "x",
         "y": [
          2724,
          2053
         ],
         "yaxis": "y"
        },
        {
         "hovertemplate": "p1=jack-o'-lantern<br>favorite_count=%{x}<br>retweet_count=%{y}<extra></extra>",
         "legendgroup": "jack-o'-lantern",
         "marker": {
          "color": "#FECB52",
          "symbol": "circle"
         },
         "mode": "markers",
         "name": "jack-o'-lantern",
         "showlegend": true,
         "type": "scattergl",
         "x": [
          10728,
          1058,
          1258
         ],
         "xaxis": "x",
         "y": [
          4011,
          328,
          562
         ],
         "yaxis": "y"
        },
        {
         "hovertemplate": "p1=refrigerator<br>favorite_count=%{x}<br>retweet_count=%{y}<extra></extra>",
         "legendgroup": "refrigerator",
         "marker": {
          "color": "#636efa",
          "symbol": "circle"
         },
         "mode": "markers",
         "name": "refrigerator",
         "showlegend": true,
         "type": "scattergl",
         "x": [
          19601
         ],
         "xaxis": "x",
         "y": [
          6662
         ],
         "yaxis": "y"
        },
        {
         "hovertemplate": "p1=remote_control<br>favorite_count=%{x}<br>retweet_count=%{y}<extra></extra>",
         "legendgroup": "remote_control",
         "marker": {
          "color": "#EF553B",
          "symbol": "circle"
         },
         "mode": "markers",
         "name": "remote_control",
         "showlegend": true,
         "type": "scattergl",
         "x": [
          26108
         ],
         "xaxis": "x",
         "y": [
          11730
         ],
         "yaxis": "y"
        },
        {
         "hovertemplate": "p1=clumber<br>favorite_count=%{x}<br>retweet_count=%{y}<extra></extra>",
         "legendgroup": "clumber",
         "marker": {
          "color": "#00cc96",
          "symbol": "circle"
         },
         "mode": "markers",
         "name": "clumber",
         "showlegend": true,
         "type": "scattergl",
         "x": [
          6203
         ],
         "xaxis": "x",
         "y": [
          1494
         ],
         "yaxis": "y"
        },
        {
         "hovertemplate": "p1=walker_hound<br>favorite_count=%{x}<br>retweet_count=%{y}<extra></extra>",
         "legendgroup": "walker_hound",
         "marker": {
          "color": "#ab63fa",
          "symbol": "circle"
         },
         "mode": "markers",
         "name": "walker_hound",
         "showlegend": true,
         "type": "scattergl",
         "x": [
          6369,
          11752,
          6612,
          2884,
          274
         ],
         "xaxis": "x",
         "y": [
          1616,
          5398,
          2647,
          886,
          132
         ],
         "yaxis": "y"
        },
        {
         "hovertemplate": "p1=giant_panda<br>favorite_count=%{x}<br>retweet_count=%{y}<extra></extra>",
         "legendgroup": "giant_panda",
         "marker": {
          "color": "#FFA15A",
          "symbol": "circle"
         },
         "mode": "markers",
         "name": "giant_panda",
         "showlegend": true,
         "type": "scattergl",
         "x": [
          10175
         ],
         "xaxis": "x",
         "y": [
          3590
         ],
         "yaxis": "y"
        },
        {
         "hovertemplate": "p1=silky_terrier<br>favorite_count=%{x}<br>retweet_count=%{y}<extra></extra>",
         "legendgroup": "silky_terrier",
         "marker": {
          "color": "#19d3f3",
          "symbol": "circle"
         },
         "mode": "markers",
         "name": "silky_terrier",
         "showlegend": true,
         "type": "scattergl",
         "x": [
          6247
         ],
         "xaxis": "x",
         "y": [
          1498
         ],
         "yaxis": "y"
        },
        {
         "hovertemplate": "p1=tabby<br>favorite_count=%{x}<br>retweet_count=%{y}<extra></extra>",
         "legendgroup": "tabby",
         "marker": {
          "color": "#FF6692",
          "symbol": "circle"
         },
         "mode": "markers",
         "name": "tabby",
         "showlegend": true,
         "type": "scattergl",
         "x": [
          8061
         ],
         "xaxis": "x",
         "y": [
          3581
         ],
         "yaxis": "y"
        },
        {
         "hovertemplate": "p1=maillot<br>favorite_count=%{x}<br>retweet_count=%{y}<extra></extra>",
         "legendgroup": "maillot",
         "marker": {
          "color": "#B6E880",
          "symbol": "circle"
         },
         "mode": "markers",
         "name": "maillot",
         "showlegend": true,
         "type": "scattergl",
         "x": [
          5955
         ],
         "xaxis": "x",
         "y": [
          1929
         ],
         "yaxis": "y"
        },
        {
         "hovertemplate": "p1=basenji<br>favorite_count=%{x}<br>retweet_count=%{y}<extra></extra>",
         "legendgroup": "basenji",
         "marker": {
          "color": "#FF97FF",
          "symbol": "circle"
         },
         "mode": "markers",
         "name": "basenji",
         "showlegend": true,
         "type": "scattergl",
         "x": [
          3865,
          3431,
          2926,
          4104,
          1007,
          302,
          279
         ],
         "xaxis": "x",
         "y": [
          1100,
          952,
          1036,
          1660,
          378,
          78,
          87
         ],
         "yaxis": "y"
        },
        {
         "hovertemplate": "p1=keeshond<br>favorite_count=%{x}<br>retweet_count=%{y}<extra></extra>",
         "legendgroup": "keeshond",
         "marker": {
          "color": "#FECB52",
          "symbol": "circle"
         },
         "mode": "markers",
         "name": "keeshond",
         "showlegend": true,
         "type": "scattergl",
         "x": [
          5648,
          8096,
          2452,
          392
         ],
         "xaxis": "x",
         "y": [
          1459,
          3045,
          906,
          89
         ],
         "yaxis": "y"
        },
        {
         "hovertemplate": "p1=redbone<br>favorite_count=%{x}<br>retweet_count=%{y}<extra></extra>",
         "legendgroup": "redbone",
         "marker": {
          "color": "#636efa",
          "symbol": "circle"
         },
         "mode": "markers",
         "name": "redbone",
         "showlegend": true,
         "type": "scattergl",
         "x": [
          3954,
          7269,
          3764,
          968,
          493,
          112
         ],
         "xaxis": "x",
         "y": [
          779,
          3038,
          988,
          245,
          227,
          39
         ],
         "yaxis": "y"
        },
        {
         "hovertemplate": "p1=welsh_springer_spaniel<br>favorite_count=%{x}<br>retweet_count=%{y}<extra></extra>",
         "legendgroup": "welsh_springer_spaniel",
         "marker": {
          "color": "#EF553B",
          "symbol": "circle"
         },
         "mode": "markers",
         "name": "welsh_springer_spaniel",
         "showlegend": true,
         "type": "scattergl",
         "x": [
          3546,
          1188,
          2293
         ],
         "xaxis": "x",
         "y": [
          461,
          349,
          423
         ],
         "yaxis": "y"
        },
        {
         "hovertemplate": "p1=gordon_setter<br>favorite_count=%{x}<br>retweet_count=%{y}<extra></extra>",
         "legendgroup": "gordon_setter",
         "marker": {
          "color": "#00cc96",
          "symbol": "circle"
         },
         "mode": "markers",
         "name": "gordon_setter",
         "showlegend": true,
         "type": "scattergl",
         "x": [
          3891,
          11407,
          127
         ],
         "xaxis": "x",
         "y": [
          1102,
          6330,
          51
         ],
         "yaxis": "y"
        },
        {
         "hovertemplate": "p1=standard_poodle<br>favorite_count=%{x}<br>retweet_count=%{y}<extra></extra>",
         "legendgroup": "standard_poodle",
         "marker": {
          "color": "#ab63fa",
          "symbol": "circle"
         },
         "mode": "markers",
         "name": "standard_poodle",
         "showlegend": true,
         "type": "scattergl",
         "x": [
          4200,
          2536,
          4091,
          1309,
          227,
          372
         ],
         "xaxis": "x",
         "y": [
          1002,
          721,
          1044,
          330,
          50,
          208
         ],
         "yaxis": "y"
        },
        {
         "hovertemplate": "p1=cougar<br>favorite_count=%{x}<br>retweet_count=%{y}<extra></extra>",
         "legendgroup": "cougar",
         "marker": {
          "color": "#FFA15A",
          "symbol": "circle"
         },
         "mode": "markers",
         "name": "cougar",
         "showlegend": true,
         "type": "scattergl",
         "x": [
          5014
         ],
         "xaxis": "x",
         "y": [
          1450
         ],
         "yaxis": "y"
        },
        {
         "hovertemplate": "p1=sussex_spaniel<br>favorite_count=%{x}<br>retweet_count=%{y}<extra></extra>",
         "legendgroup": "sussex_spaniel",
         "marker": {
          "color": "#19d3f3",
          "symbol": "circle"
         },
         "mode": "markers",
         "name": "sussex_spaniel",
         "showlegend": true,
         "type": "scattergl",
         "x": [
          6300,
          581
         ],
         "xaxis": "x",
         "y": [
          1801,
          176
         ],
         "yaxis": "y"
        },
        {
         "hovertemplate": "p1=bookshop<br>favorite_count=%{x}<br>retweet_count=%{y}<extra></extra>",
         "legendgroup": "bookshop",
         "marker": {
          "color": "#FF6692",
          "symbol": "circle"
         },
         "mode": "markers",
         "name": "bookshop",
         "showlegend": true,
         "type": "scattergl",
         "x": [
          2536
         ],
         "xaxis": "x",
         "y": [
          340
         ],
         "yaxis": "y"
        },
        {
         "hovertemplate": "p1=skunk<br>favorite_count=%{x}<br>retweet_count=%{y}<extra></extra>",
         "legendgroup": "skunk",
         "marker": {
          "color": "#B6E880",
          "symbol": "circle"
         },
         "mode": "markers",
         "name": "skunk",
         "showlegend": true,
         "type": "scattergl",
         "x": [
          6435
         ],
         "xaxis": "x",
         "y": [
          3033
         ],
         "yaxis": "y"
        },
        {
         "hovertemplate": "p1=bluetick<br>favorite_count=%{x}<br>retweet_count=%{y}<extra></extra>",
         "legendgroup": "bluetick",
         "marker": {
          "color": "#FF97FF",
          "symbol": "circle"
         },
         "mode": "markers",
         "name": "bluetick",
         "showlegend": true,
         "type": "scattergl",
         "x": [
          4300,
          3525,
          2144
         ],
         "xaxis": "x",
         "y": [
          1011,
          1022,
          673
         ],
         "yaxis": "y"
        },
        {
         "hovertemplate": "p1=goose<br>favorite_count=%{x}<br>retweet_count=%{y}<extra></extra>",
         "legendgroup": "goose",
         "marker": {
          "color": "#FECB52",
          "symbol": "circle"
         },
         "mode": "markers",
         "name": "goose",
         "showlegend": true,
         "type": "scattergl",
         "x": [
          4086,
          3092
         ],
         "xaxis": "x",
         "y": [
          1425,
          2191
         ],
         "yaxis": "y"
        },
        {
         "hovertemplate": "p1=shih-tzu<br>favorite_count=%{x}<br>retweet_count=%{y}<extra></extra>",
         "legendgroup": "shih-tzu",
         "marker": {
          "color": "#636efa",
          "symbol": "circle"
         },
         "mode": "markers",
         "name": "shih-tzu",
         "showlegend": true,
         "type": "scattergl",
         "x": [
          4064,
          3026,
          2002,
          2348,
          2725,
          2623,
          3830,
          7279,
          1118,
          2586,
          1294,
          1125,
          959,
          654,
          524,
          206
         ],
         "xaxis": "x",
         "y": [
          1215,
          439,
          482,
          620,
          1083,
          999,
          1862,
          2911,
          287,
          1052,
          432,
          359,
          313,
          163,
          166,
          46
         ],
         "yaxis": "y"
        },
        {
         "hovertemplate": "p1=muzzle<br>favorite_count=%{x}<br>retweet_count=%{y}<extra></extra>",
         "legendgroup": "muzzle",
         "marker": {
          "color": "#EF553B",
          "symbol": "circle"
         },
         "mode": "markers",
         "name": "muzzle",
         "showlegend": true,
         "type": "scattergl",
         "x": [
          3019,
          5647,
          2195
         ],
         "xaxis": "x",
         "y": [
          821,
          1815,
          678
         ],
         "yaxis": "y"
        },
        {
         "hovertemplate": "p1=papillon<br>favorite_count=%{x}<br>retweet_count=%{y}<extra></extra>",
         "legendgroup": "papillon",
         "marker": {
          "color": "#00cc96",
          "symbol": "circle"
         },
         "mode": "markers",
         "name": "papillon",
         "showlegend": true,
         "type": "scattergl",
         "x": [
          5702,
          2525,
          2469,
          2409,
          1499,
          168
         ],
         "xaxis": "x",
         "y": [
          1518,
          852,
          552,
          627,
          536,
          50
         ],
         "yaxis": "y"
        },
        {
         "hovertemplate": "p1=sulphur-crested_cockatoo<br>favorite_count=%{x}<br>retweet_count=%{y}<extra></extra>",
         "legendgroup": "sulphur-crested_cockatoo",
         "marker": {
          "color": "#ab63fa",
          "symbol": "circle"
         },
         "mode": "markers",
         "name": "sulphur-crested_cockatoo",
         "showlegend": true,
         "type": "scattergl",
         "x": [
          2887
         ],
         "xaxis": "x",
         "y": [
          732
         ],
         "yaxis": "y"
        },
        {
         "hovertemplate": "p1=tibetan_terrier<br>favorite_count=%{x}<br>retweet_count=%{y}<extra></extra>",
         "legendgroup": "tibetan_terrier",
         "marker": {
          "color": "#FFA15A",
          "symbol": "circle"
         },
         "mode": "markers",
         "name": "tibetan_terrier",
         "showlegend": true,
         "type": "scattergl",
         "x": [
          2053,
          2681,
          1335,
          171
         ],
         "xaxis": "x",
         "y": [
          611,
          873,
          237,
          53
         ],
         "yaxis": "y"
        },
        {
         "hovertemplate": "p1=rapeseed<br>favorite_count=%{x}<br>retweet_count=%{y}<extra></extra>",
         "legendgroup": "rapeseed",
         "marker": {
          "color": "#19d3f3",
          "symbol": "circle"
         },
         "mode": "markers",
         "name": "rapeseed",
         "showlegend": true,
         "type": "scattergl",
         "x": [
          3288
         ],
         "xaxis": "x",
         "y": [
          863
         ],
         "yaxis": "y"
        },
        {
         "hovertemplate": "p1=cup<br>favorite_count=%{x}<br>retweet_count=%{y}<extra></extra>",
         "legendgroup": "cup",
         "marker": {
          "color": "#FF6692",
          "symbol": "circle"
         },
         "mode": "markers",
         "name": "cup",
         "showlegend": true,
         "type": "scattergl",
         "x": [
          3685
         ],
         "xaxis": "x",
         "y": [
          1119
         ],
         "yaxis": "y"
        },
        {
         "hovertemplate": "p1=maltese_dog<br>favorite_count=%{x}<br>retweet_count=%{y}<extra></extra>",
         "legendgroup": "maltese_dog",
         "marker": {
          "color": "#B6E880",
          "symbol": "circle"
         },
         "mode": "markers",
         "name": "maltese_dog",
         "showlegend": true,
         "type": "scattergl",
         "x": [
          2550,
          2900,
          2246,
          2029,
          3353,
          2421,
          2119,
          1929,
          5002,
          10427,
          3038,
          1567,
          1458,
          941,
          1797,
          848,
          221,
          123
         ],
         "xaxis": "x",
         "y": [
          472,
          742,
          927,
          520,
          1306,
          1025,
          858,
          585,
          2284,
          5498,
          1352,
          590,
          420,
          265,
          772,
          316,
          79,
          57
         ],
         "yaxis": "y"
        },
        {
         "hovertemplate": "p1=lhasa<br>favorite_count=%{x}<br>retweet_count=%{y}<extra></extra>",
         "legendgroup": "lhasa",
         "marker": {
          "color": "#FF97FF",
          "symbol": "circle"
         },
         "mode": "markers",
         "name": "lhasa",
         "showlegend": true,
         "type": "scattergl",
         "x": [
          3394,
          2901,
          1790,
          2965,
          134
         ],
         "xaxis": "x",
         "y": [
          932,
          926,
          550,
          858,
          53
         ],
         "yaxis": "y"
        },
        {
         "hovertemplate": "p1=koala<br>favorite_count=%{x}<br>retweet_count=%{y}<extra></extra>",
         "legendgroup": "koala",
         "marker": {
          "color": "#FECB52",
          "symbol": "circle"
         },
         "mode": "markers",
         "name": "koala",
         "showlegend": true,
         "type": "scattergl",
         "x": [
          2235,
          1861
         ],
         "xaxis": "x",
         "y": [
          484,
          520
         ],
         "yaxis": "y"
        },
        {
         "hovertemplate": "p1=polecat<br>favorite_count=%{x}<br>retweet_count=%{y}<extra></extra>",
         "legendgroup": "polecat",
         "marker": {
          "color": "#636efa",
          "symbol": "circle"
         },
         "mode": "markers",
         "name": "polecat",
         "showlegend": true,
         "type": "scattergl",
         "x": [
          5659
         ],
         "xaxis": "x",
         "y": [
          1794
         ],
         "yaxis": "y"
        },
        {
         "hovertemplate": "p1=saint_bernard<br>favorite_count=%{x}<br>retweet_count=%{y}<extra></extra>",
         "legendgroup": "saint_bernard",
         "marker": {
          "color": "#EF553B",
          "symbol": "circle"
         },
         "mode": "markers",
         "name": "saint_bernard",
         "showlegend": true,
         "type": "scattergl",
         "x": [
          2555,
          2509,
          2608,
          2970,
          412
         ],
         "xaxis": "x",
         "y": [
          619,
          700,
          890,
          998,
          197
         ],
         "yaxis": "y"
        },
        {
         "hovertemplate": "p1=handkerchief<br>favorite_count=%{x}<br>retweet_count=%{y}<extra></extra>",
         "legendgroup": "handkerchief",
         "marker": {
          "color": "#00cc96",
          "symbol": "circle"
         },
         "mode": "markers",
         "name": "handkerchief",
         "showlegend": true,
         "type": "scattergl",
         "x": [
          4174
         ],
         "xaxis": "x",
         "y": [
          1516
         ],
         "yaxis": "y"
        },
        {
         "hovertemplate": "p1=bonnet<br>favorite_count=%{x}<br>retweet_count=%{y}<extra></extra>",
         "legendgroup": "bonnet",
         "marker": {
          "color": "#ab63fa",
          "symbol": "circle"
         },
         "mode": "markers",
         "name": "bonnet",
         "showlegend": true,
         "type": "scattergl",
         "x": [
          2837
         ],
         "xaxis": "x",
         "y": [
          748
         ],
         "yaxis": "y"
        },
        {
         "hovertemplate": "p1=soft-coated_wheaten_terrier<br>favorite_count=%{x}<br>retweet_count=%{y}<extra></extra>",
         "legendgroup": "soft-coated_wheaten_terrier",
         "marker": {
          "color": "#FFA15A",
          "symbol": "circle"
         },
         "mode": "markers",
         "name": "soft-coated_wheaten_terrier",
         "showlegend": true,
         "type": "scattergl",
         "x": [
          3538,
          3035,
          2147,
          1623,
          3526,
          2929,
          1127,
          722,
          527,
          163
         ],
         "xaxis": "x",
         "y": [
          1373,
          764,
          515,
          541,
          1241,
          938,
          440,
          198,
          389,
          73
         ],
         "yaxis": "y"
        },
        {
         "hovertemplate": "p1=badger<br>favorite_count=%{x}<br>retweet_count=%{y}<extra></extra>",
         "legendgroup": "badger",
         "marker": {
          "color": "#19d3f3",
          "symbol": "circle"
         },
         "mode": "markers",
         "name": "badger",
         "showlegend": true,
         "type": "scattergl",
         "x": [
          2514,
          2587
         ],
         "xaxis": "x",
         "y": [
          480,
          926
         ],
         "yaxis": "y"
        },
        {
         "hovertemplate": "p1=brittany_spaniel<br>favorite_count=%{x}<br>retweet_count=%{y}<extra></extra>",
         "legendgroup": "brittany_spaniel",
         "marker": {
          "color": "#FF6692",
          "symbol": "circle"
         },
         "mode": "markers",
         "name": "brittany_spaniel",
         "showlegend": true,
         "type": "scattergl",
         "x": [
          2280,
          3444,
          4478,
          1333,
          1983,
          274
         ],
         "xaxis": "x",
         "y": [
          545,
          937,
          1244,
          338,
          443,
          87
         ],
         "yaxis": "y"
        },
        {
         "hovertemplate": "p1=timber_wolf<br>favorite_count=%{x}<br>retweet_count=%{y}<extra></extra>",
         "legendgroup": "timber_wolf",
         "marker": {
          "color": "#B6E880",
          "symbol": "circle"
         },
         "mode": "markers",
         "name": "timber_wolf",
         "showlegend": true,
         "type": "scattergl",
         "x": [
          4100
         ],
         "xaxis": "x",
         "y": [
          1338
         ],
         "yaxis": "y"
        },
        {
         "hovertemplate": "p1=leatherback_turtle<br>favorite_count=%{x}<br>retweet_count=%{y}<extra></extra>",
         "legendgroup": "leatherback_turtle",
         "marker": {
          "color": "#FF97FF",
          "symbol": "circle"
         },
         "mode": "markers",
         "name": "leatherback_turtle",
         "showlegend": true,
         "type": "scattergl",
         "x": [
          3063,
          184
         ],
         "xaxis": "x",
         "y": [
          681,
          45
         ],
         "yaxis": "y"
        },
        {
         "hovertemplate": "p1=cowboy_hat<br>favorite_count=%{x}<br>retweet_count=%{y}<extra></extra>",
         "legendgroup": "cowboy_hat",
         "marker": {
          "color": "#FECB52",
          "symbol": "circle"
         },
         "mode": "markers",
         "name": "cowboy_hat",
         "showlegend": true,
         "type": "scattergl",
         "x": [
          2693,
          1272
         ],
         "xaxis": "x",
         "y": [
          816,
          410
         ],
         "yaxis": "y"
        },
        {
         "hovertemplate": "p1=hotdog<br>favorite_count=%{x}<br>retweet_count=%{y}<extra></extra>",
         "legendgroup": "hotdog",
         "marker": {
          "color": "#636efa",
          "symbol": "circle"
         },
         "mode": "markers",
         "name": "hotdog",
         "showlegend": true,
         "type": "scattergl",
         "x": [
          4353
         ],
         "xaxis": "x",
         "y": [
          1486
         ],
         "yaxis": "y"
        },
        {
         "hovertemplate": "p1=norwich_terrier<br>favorite_count=%{x}<br>retweet_count=%{y}<extra></extra>",
         "legendgroup": "norwich_terrier",
         "marker": {
          "color": "#EF553B",
          "symbol": "circle"
         },
         "mode": "markers",
         "name": "norwich_terrier",
         "showlegend": true,
         "type": "scattergl",
         "x": [
          2489,
          2615,
          687
         ],
         "xaxis": "x",
         "y": [
          899,
          735,
          320
         ],
         "yaxis": "y"
        },
        {
         "hovertemplate": "p1=ram<br>favorite_count=%{x}<br>retweet_count=%{y}<extra></extra>",
         "legendgroup": "ram",
         "marker": {
          "color": "#00cc96",
          "symbol": "circle"
         },
         "mode": "markers",
         "name": "ram",
         "showlegend": true,
         "type": "scattergl",
         "x": [
          2077
         ],
         "xaxis": "x",
         "y": [
          637
         ],
         "yaxis": "y"
        },
        {
         "hovertemplate": "p1=space_heater<br>favorite_count=%{x}<br>retweet_count=%{y}<extra></extra>",
         "legendgroup": "space_heater",
         "marker": {
          "color": "#ab63fa",
          "symbol": "circle"
         },
         "mode": "markers",
         "name": "space_heater",
         "showlegend": true,
         "type": "scattergl",
         "x": [
          2357
         ],
         "xaxis": "x",
         "y": [
          990
         ],
         "yaxis": "y"
        },
        {
         "hovertemplate": "p1=egyptian_cat<br>favorite_count=%{x}<br>retweet_count=%{y}<extra></extra>",
         "legendgroup": "egyptian_cat",
         "marker": {
          "color": "#FFA15A",
          "symbol": "circle"
         },
         "mode": "markers",
         "name": "egyptian_cat",
         "showlegend": true,
         "type": "scattergl",
         "x": [
          2385
         ],
         "xaxis": "x",
         "y": [
          717
         ],
         "yaxis": "y"
        },
        {
         "hovertemplate": "p1=wool<br>favorite_count=%{x}<br>retweet_count=%{y}<extra></extra>",
         "legendgroup": "wool",
         "marker": {
          "color": "#19d3f3",
          "symbol": "circle"
         },
         "mode": "markers",
         "name": "wool",
         "showlegend": true,
         "type": "scattergl",
         "x": [
          1832
         ],
         "xaxis": "x",
         "y": [
          495
         ],
         "yaxis": "y"
        },
        {
         "hovertemplate": "p1=hamster<br>favorite_count=%{x}<br>retweet_count=%{y}<extra></extra>",
         "legendgroup": "hamster",
         "marker": {
          "color": "#FF6692",
          "symbol": "circle"
         },
         "mode": "markers",
         "name": "hamster",
         "showlegend": true,
         "type": "scattergl",
         "x": [
          3793,
          2232,
          840
         ],
         "xaxis": "x",
         "y": [
          1630,
          1106,
          319
         ],
         "yaxis": "y"
        },
        {
         "hovertemplate": "p1=grey_fox<br>favorite_count=%{x}<br>retweet_count=%{y}<extra></extra>",
         "legendgroup": "grey_fox",
         "marker": {
          "color": "#B6E880",
          "symbol": "circle"
         },
         "mode": "markers",
         "name": "grey_fox",
         "showlegend": true,
         "type": "scattergl",
         "x": [
          2336
         ],
         "xaxis": "x",
         "y": [
          618
         ],
         "yaxis": "y"
        },
        {
         "hovertemplate": "p1=weasel<br>favorite_count=%{x}<br>retweet_count=%{y}<extra></extra>",
         "legendgroup": "weasel",
         "marker": {
          "color": "#FF97FF",
          "symbol": "circle"
         },
         "mode": "markers",
         "name": "weasel",
         "showlegend": true,
         "type": "scattergl",
         "x": [
          1374
         ],
         "xaxis": "x",
         "y": [
          329
         ],
         "yaxis": "y"
        },
        {
         "hovertemplate": "p1=groenendael<br>favorite_count=%{x}<br>retweet_count=%{y}<extra></extra>",
         "legendgroup": "groenendael",
         "marker": {
          "color": "#FECB52",
          "symbol": "circle"
         },
         "mode": "markers",
         "name": "groenendael",
         "showlegend": true,
         "type": "scattergl",
         "x": [
          1630
         ],
         "xaxis": "x",
         "y": [
          331
         ],
         "yaxis": "y"
        },
        {
         "hovertemplate": "p1=scottish_deerhound<br>favorite_count=%{x}<br>retweet_count=%{y}<extra></extra>",
         "legendgroup": "scottish_deerhound",
         "marker": {
          "color": "#636efa",
          "symbol": "circle"
         },
         "mode": "markers",
         "name": "scottish_deerhound",
         "showlegend": true,
         "type": "scattergl",
         "x": [
          2363,
          2712,
          1151
         ],
         "xaxis": "x",
         "y": [
          379,
          1037,
          409
         ],
         "yaxis": "y"
        },
        {
         "hovertemplate": "p1=ice_lolly<br>favorite_count=%{x}<br>retweet_count=%{y}<extra></extra>",
         "legendgroup": "ice_lolly",
         "marker": {
          "color": "#EF553B",
          "symbol": "circle"
         },
         "mode": "markers",
         "name": "ice_lolly",
         "showlegend": true,
         "type": "scattergl",
         "x": [
          1708
         ],
         "xaxis": "x",
         "y": [
          406
         ],
         "yaxis": "y"
        },
        {
         "hovertemplate": "p1=bighorn<br>favorite_count=%{x}<br>retweet_count=%{y}<extra></extra>",
         "legendgroup": "bighorn",
         "marker": {
          "color": "#00cc96",
          "symbol": "circle"
         },
         "mode": "markers",
         "name": "bighorn",
         "showlegend": true,
         "type": "scattergl",
         "x": [
          1202
         ],
         "xaxis": "x",
         "y": [
          250
         ],
         "yaxis": "y"
        },
        {
         "hovertemplate": "p1=dogsled<br>favorite_count=%{x}<br>retweet_count=%{y}<extra></extra>",
         "legendgroup": "dogsled",
         "marker": {
          "color": "#ab63fa",
          "symbol": "circle"
         },
         "mode": "markers",
         "name": "dogsled",
         "showlegend": true,
         "type": "scattergl",
         "x": [
          10803,
          2246
         ],
         "xaxis": "x",
         "y": [
          5036,
          822
         ],
         "yaxis": "y"
        },
        {
         "hovertemplate": "p1=scotch_terrier<br>favorite_count=%{x}<br>retweet_count=%{y}<extra></extra>",
         "legendgroup": "scotch_terrier",
         "marker": {
          "color": "#FFA15A",
          "symbol": "circle"
         },
         "mode": "markers",
         "name": "scotch_terrier",
         "showlegend": true,
         "type": "scattergl",
         "x": [
          3025
         ],
         "xaxis": "x",
         "y": [
          1005
         ],
         "yaxis": "y"
        },
        {
         "hovertemplate": "p1=ibizan_hound<br>favorite_count=%{x}<br>retweet_count=%{y}<extra></extra>",
         "legendgroup": "ibizan_hound",
         "marker": {
          "color": "#19d3f3",
          "symbol": "circle"
         },
         "mode": "markers",
         "name": "ibizan_hound",
         "showlegend": true,
         "type": "scattergl",
         "x": [
          1931,
          667,
          208
         ],
         "xaxis": "x",
         "y": [
          711,
          243,
          70
         ],
         "yaxis": "y"
        },
        {
         "hovertemplate": "p1=dishwasher<br>favorite_count=%{x}<br>retweet_count=%{y}<extra></extra>",
         "legendgroup": "dishwasher",
         "marker": {
          "color": "#FF6692",
          "symbol": "circle"
         },
         "mode": "markers",
         "name": "dishwasher",
         "showlegend": true,
         "type": "scattergl",
         "x": [
          2144
         ],
         "xaxis": "x",
         "y": [
          589
         ],
         "yaxis": "y"
        },
        {
         "hovertemplate": "p1=hog<br>favorite_count=%{x}<br>retweet_count=%{y}<extra></extra>",
         "legendgroup": "hog",
         "marker": {
          "color": "#B6E880",
          "symbol": "circle"
         },
         "mode": "markers",
         "name": "hog",
         "showlegend": true,
         "type": "scattergl",
         "x": [
          2418,
          391
         ],
         "xaxis": "x",
         "y": [
          858,
          191
         ],
         "yaxis": "y"
        },
        {
         "hovertemplate": "p1=carousel<br>favorite_count=%{x}<br>retweet_count=%{y}<extra></extra>",
         "legendgroup": "carousel",
         "marker": {
          "color": "#FF97FF",
          "symbol": "circle"
         },
         "mode": "markers",
         "name": "carousel",
         "showlegend": true,
         "type": "scattergl",
         "x": [
          4230
         ],
         "xaxis": "x",
         "y": [
          1825
         ],
         "yaxis": "y"
        },
        {
         "hovertemplate": "p1=earthstar<br>favorite_count=%{x}<br>retweet_count=%{y}<extra></extra>",
         "legendgroup": "earthstar",
         "marker": {
          "color": "#FECB52",
          "symbol": "circle"
         },
         "mode": "markers",
         "name": "earthstar",
         "showlegend": true,
         "type": "scattergl",
         "x": [
          2390
         ],
         "xaxis": "x",
         "y": [
          776
         ],
         "yaxis": "y"
        },
        {
         "hovertemplate": "p1=entlebucher<br>favorite_count=%{x}<br>retweet_count=%{y}<extra></extra>",
         "legendgroup": "entlebucher",
         "marker": {
          "color": "#636efa",
          "symbol": "circle"
         },
         "mode": "markers",
         "name": "entlebucher",
         "showlegend": true,
         "type": "scattergl",
         "x": [
          2256
         ],
         "xaxis": "x",
         "y": [
          557
         ],
         "yaxis": "y"
        },
        {
         "hovertemplate": "p1=llama<br>favorite_count=%{x}<br>retweet_count=%{y}<extra></extra>",
         "legendgroup": "llama",
         "marker": {
          "color": "#EF553B",
          "symbol": "circle"
         },
         "mode": "markers",
         "name": "llama",
         "showlegend": true,
         "type": "scattergl",
         "x": [
          2615,
          3178,
          278
         ],
         "xaxis": "x",
         "y": [
          1105,
          1389,
          160
         ],
         "yaxis": "y"
        },
        {
         "hovertemplate": "p1=wallaby<br>favorite_count=%{x}<br>retweet_count=%{y}<extra></extra>",
         "legendgroup": "wallaby",
         "marker": {
          "color": "#00cc96",
          "symbol": "circle"
         },
         "mode": "markers",
         "name": "wallaby",
         "showlegend": true,
         "type": "scattergl",
         "x": [
          1995
         ],
         "xaxis": "x",
         "y": [
          750
         ],
         "yaxis": "y"
        },
        {
         "hovertemplate": "p1=panpipe<br>favorite_count=%{x}<br>retweet_count=%{y}<extra></extra>",
         "legendgroup": "panpipe",
         "marker": {
          "color": "#ab63fa",
          "symbol": "circle"
         },
         "mode": "markers",
         "name": "panpipe",
         "showlegend": true,
         "type": "scattergl",
         "x": [
          2058
         ],
         "xaxis": "x",
         "y": [
          588
         ],
         "yaxis": "y"
        },
        {
         "hovertemplate": "p1=water_buffalo<br>favorite_count=%{x}<br>retweet_count=%{y}<extra></extra>",
         "legendgroup": "water_buffalo",
         "marker": {
          "color": "#FFA15A",
          "symbol": "circle"
         },
         "mode": "markers",
         "name": "water_buffalo",
         "showlegend": true,
         "type": "scattergl",
         "x": [
          3341
         ],
         "xaxis": "x",
         "y": [
          1349
         ],
         "yaxis": "y"
        },
        {
         "hovertemplate": "p1=japanese_spaniel<br>favorite_count=%{x}<br>retweet_count=%{y}<extra></extra>",
         "legendgroup": "japanese_spaniel",
         "marker": {
          "color": "#19d3f3",
          "symbol": "circle"
         },
         "mode": "markers",
         "name": "japanese_spaniel",
         "showlegend": true,
         "type": "scattergl",
         "x": [
          1115
         ],
         "xaxis": "x",
         "y": [
          355
         ],
         "yaxis": "y"
        },
        {
         "hovertemplate": "p1=rain_barrel<br>favorite_count=%{x}<br>retweet_count=%{y}<extra></extra>",
         "legendgroup": "rain_barrel",
         "marker": {
          "color": "#FF6692",
          "symbol": "circle"
         },
         "mode": "markers",
         "name": "rain_barrel",
         "showlegend": true,
         "type": "scattergl",
         "x": [
          1657
         ],
         "xaxis": "x",
         "y": [
          602
         ],
         "yaxis": "y"
        },
        {
         "hovertemplate": "p1=book_jacket<br>favorite_count=%{x}<br>retweet_count=%{y}<extra></extra>",
         "legendgroup": "book_jacket",
         "marker": {
          "color": "#B6E880",
          "symbol": "circle"
         },
         "mode": "markers",
         "name": "book_jacket",
         "showlegend": true,
         "type": "scattergl",
         "x": [
          988
         ],
         "xaxis": "x",
         "y": [
          177
         ],
         "yaxis": "y"
        },
        {
         "hovertemplate": "p1=loafer<br>favorite_count=%{x}<br>retweet_count=%{y}<extra></extra>",
         "legendgroup": "loafer",
         "marker": {
          "color": "#FF97FF",
          "symbol": "circle"
         },
         "mode": "markers",
         "name": "loafer",
         "showlegend": true,
         "type": "scattergl",
         "x": [
          1723
         ],
         "xaxis": "x",
         "y": [
          388
         ],
         "yaxis": "y"
        },
        {
         "hovertemplate": "p1=feather_boa<br>favorite_count=%{x}<br>retweet_count=%{y}<extra></extra>",
         "legendgroup": "feather_boa",
         "marker": {
          "color": "#FECB52",
          "symbol": "circle"
         },
         "mode": "markers",
         "name": "feather_boa",
         "showlegend": true,
         "type": "scattergl",
         "x": [
          2337
         ],
         "xaxis": "x",
         "y": [
          993
         ],
         "yaxis": "y"
        },
        {
         "hovertemplate": "p1=bubble<br>favorite_count=%{x}<br>retweet_count=%{y}<extra></extra>",
         "legendgroup": "bubble",
         "marker": {
          "color": "#636efa",
          "symbol": "circle"
         },
         "mode": "markers",
         "name": "bubble",
         "showlegend": true,
         "type": "scattergl",
         "x": [
          71039
         ],
         "xaxis": "x",
         "y": [
          27829
         ],
         "yaxis": "y"
        },
        {
         "hovertemplate": "p1=wood_rabbit<br>favorite_count=%{x}<br>retweet_count=%{y}<extra></extra>",
         "legendgroup": "wood_rabbit",
         "marker": {
          "color": "#EF553B",
          "symbol": "circle"
         },
         "mode": "markers",
         "name": "wood_rabbit",
         "showlegend": true,
         "type": "scattergl",
         "x": [
          3783
         ],
         "xaxis": "x",
         "y": [
          1242
         ],
         "yaxis": "y"
        },
        {
         "hovertemplate": "p1=standard_schnauzer<br>favorite_count=%{x}<br>retweet_count=%{y}<extra></extra>",
         "legendgroup": "standard_schnauzer",
         "marker": {
          "color": "#00cc96",
          "symbol": "circle"
         },
         "mode": "markers",
         "name": "standard_schnauzer",
         "showlegend": true,
         "type": "scattergl",
         "x": [
          1694
         ],
         "xaxis": "x",
         "y": [
          722
         ],
         "yaxis": "y"
        },
        {
         "hovertemplate": "p1=street_sign<br>favorite_count=%{x}<br>retweet_count=%{y}<extra></extra>",
         "legendgroup": "street_sign",
         "marker": {
          "color": "#ab63fa",
          "symbol": "circle"
         },
         "mode": "markers",
         "name": "street_sign",
         "showlegend": true,
         "type": "scattergl",
         "x": [
          2426
         ],
         "xaxis": "x",
         "y": [
          1048
         ],
         "yaxis": "y"
        },
        {
         "hovertemplate": "p1=soccer_ball<br>favorite_count=%{x}<br>retweet_count=%{y}<extra></extra>",
         "legendgroup": "soccer_ball",
         "marker": {
          "color": "#FFA15A",
          "symbol": "circle"
         },
         "mode": "markers",
         "name": "soccer_ball",
         "showlegend": true,
         "type": "scattergl",
         "x": [
          933
         ],
         "xaxis": "x",
         "y": [
          243
         ],
         "yaxis": "y"
        },
        {
         "hovertemplate": "p1=brabancon_griffon<br>favorite_count=%{x}<br>retweet_count=%{y}<extra></extra>",
         "legendgroup": "brabancon_griffon",
         "marker": {
          "color": "#19d3f3",
          "symbol": "circle"
         },
         "mode": "markers",
         "name": "brabancon_griffon",
         "showlegend": true,
         "type": "scattergl",
         "x": [
          958,
          844,
          436
         ],
         "xaxis": "x",
         "y": [
          315,
          221,
          148
         ],
         "yaxis": "y"
        },
        {
         "hovertemplate": "p1=brown_bear<br>favorite_count=%{x}<br>retweet_count=%{y}<extra></extra>",
         "legendgroup": "brown_bear",
         "marker": {
          "color": "#FF6692",
          "symbol": "circle"
         },
         "mode": "markers",
         "name": "brown_bear",
         "showlegend": true,
         "type": "scattergl",
         "x": [
          1071,
          735
         ],
         "xaxis": "x",
         "y": [
          402,
          238
         ],
         "yaxis": "y"
        },
        {
         "hovertemplate": "p1=toilet_seat<br>favorite_count=%{x}<br>retweet_count=%{y}<extra></extra>",
         "legendgroup": "toilet_seat",
         "marker": {
          "color": "#B6E880",
          "symbol": "circle"
         },
         "mode": "markers",
         "name": "toilet_seat",
         "showlegend": true,
         "type": "scattergl",
         "x": [
          2852
         ],
         "xaxis": "x",
         "y": [
          1438
         ],
         "yaxis": "y"
        },
        {
         "hovertemplate": "p1=wombat<br>favorite_count=%{x}<br>retweet_count=%{y}<extra></extra>",
         "legendgroup": "wombat",
         "marker": {
          "color": "#FF97FF",
          "symbol": "circle"
         },
         "mode": "markers",
         "name": "wombat",
         "showlegend": true,
         "type": "scattergl",
         "x": [
          994
         ],
         "xaxis": "x",
         "y": [
          311
         ],
         "yaxis": "y"
        },
        {
         "hovertemplate": "p1=arctic_fox<br>favorite_count=%{x}<br>retweet_count=%{y}<extra></extra>",
         "legendgroup": "arctic_fox",
         "marker": {
          "color": "#FECB52",
          "symbol": "circle"
         },
         "mode": "markers",
         "name": "arctic_fox",
         "showlegend": true,
         "type": "scattergl",
         "x": [
          1069,
          489,
          397
         ],
         "xaxis": "x",
         "y": [
          316,
          174,
          128
         ],
         "yaxis": "y"
        },
        {
         "hovertemplate": "p1=ski_mask<br>favorite_count=%{x}<br>retweet_count=%{y}<extra></extra>",
         "legendgroup": "ski_mask",
         "marker": {
          "color": "#636efa",
          "symbol": "circle"
         },
         "mode": "markers",
         "name": "ski_mask",
         "showlegend": true,
         "type": "scattergl",
         "x": [
          1141
         ],
         "xaxis": "x",
         "y": [
          493
         ],
         "yaxis": "y"
        },
        {
         "hovertemplate": "p1=carton<br>favorite_count=%{x}<br>retweet_count=%{y}<extra></extra>",
         "legendgroup": "carton",
         "marker": {
          "color": "#EF553B",
          "symbol": "circle"
         },
         "mode": "markers",
         "name": "carton",
         "showlegend": true,
         "type": "scattergl",
         "x": [
          1996
         ],
         "xaxis": "x",
         "y": [
          1010
         ],
         "yaxis": "y"
        },
        {
         "hovertemplate": "p1=stone_wall<br>favorite_count=%{x}<br>retweet_count=%{y}<extra></extra>",
         "legendgroup": "stone_wall",
         "marker": {
          "color": "#00cc96",
          "symbol": "circle"
         },
         "mode": "markers",
         "name": "stone_wall",
         "showlegend": true,
         "type": "scattergl",
         "x": [
          1291
         ],
         "xaxis": "x",
         "y": [
          658
         ],
         "yaxis": "y"
        },
        {
         "hovertemplate": "p1=african_hunting_dog<br>favorite_count=%{x}<br>retweet_count=%{y}<extra></extra>",
         "legendgroup": "african_hunting_dog",
         "marker": {
          "color": "#ab63fa",
          "symbol": "circle"
         },
         "mode": "markers",
         "name": "african_hunting_dog",
         "showlegend": true,
         "type": "scattergl",
         "x": [
          1462
         ],
         "xaxis": "x",
         "y": [
          970
         ],
         "yaxis": "y"
        },
        {
         "hovertemplate": "p1=guinea_pig<br>favorite_count=%{x}<br>retweet_count=%{y}<extra></extra>",
         "legendgroup": "guinea_pig",
         "marker": {
          "color": "#FFA15A",
          "symbol": "circle"
         },
         "mode": "markers",
         "name": "guinea_pig",
         "showlegend": true,
         "type": "scattergl",
         "x": [
          1024
         ],
         "xaxis": "x",
         "y": [
          572
         ],
         "yaxis": "y"
        },
        {
         "hovertemplate": "p1=sorrel<br>favorite_count=%{x}<br>retweet_count=%{y}<extra></extra>",
         "legendgroup": "sorrel",
         "marker": {
          "color": "#19d3f3",
          "symbol": "circle"
         },
         "mode": "markers",
         "name": "sorrel",
         "showlegend": true,
         "type": "scattergl",
         "x": [
          941
         ],
         "xaxis": "x",
         "y": [
          438
         ],
         "yaxis": "y"
        },
        {
         "hovertemplate": "p1=window_shade<br>favorite_count=%{x}<br>retweet_count=%{y}<extra></extra>",
         "legendgroup": "window_shade",
         "marker": {
          "color": "#FF6692",
          "symbol": "circle"
         },
         "mode": "markers",
         "name": "window_shade",
         "showlegend": true,
         "type": "scattergl",
         "x": [
          296
         ],
         "xaxis": "x",
         "y": [
          100
         ],
         "yaxis": "y"
        },
        {
         "hovertemplate": "p1=piggy_bank<br>favorite_count=%{x}<br>retweet_count=%{y}<extra></extra>",
         "legendgroup": "piggy_bank",
         "marker": {
          "color": "#B6E880",
          "symbol": "circle"
         },
         "mode": "markers",
         "name": "piggy_bank",
         "showlegend": true,
         "type": "scattergl",
         "x": [
          288
         ],
         "xaxis": "x",
         "y": [
          70
         ],
         "yaxis": "y"
        },
        {
         "hovertemplate": "p1=seashore<br>favorite_count=%{x}<br>retweet_count=%{y}<extra></extra>",
         "legendgroup": "seashore",
         "marker": {
          "color": "#FF97FF",
          "symbol": "circle"
         },
         "mode": "markers",
         "name": "seashore",
         "showlegend": true,
         "type": "scattergl",
         "x": [
          440
         ],
         "xaxis": "x",
         "y": [
          182
         ],
         "yaxis": "y"
        },
        {
         "hovertemplate": "p1=shower_curtain<br>favorite_count=%{x}<br>retweet_count=%{y}<extra></extra>",
         "legendgroup": "shower_curtain",
         "marker": {
          "color": "#FECB52",
          "symbol": "circle"
         },
         "mode": "markers",
         "name": "shower_curtain",
         "showlegend": true,
         "type": "scattergl",
         "x": [
          620
         ],
         "xaxis": "x",
         "y": [
          210
         ],
         "yaxis": "y"
        },
        {
         "hovertemplate": "p1=vacuum<br>favorite_count=%{x}<br>retweet_count=%{y}<extra></extra>",
         "legendgroup": "vacuum",
         "marker": {
          "color": "#636efa",
          "symbol": "circle"
         },
         "mode": "markers",
         "name": "vacuum",
         "showlegend": true,
         "type": "scattergl",
         "x": [
          944
         ],
         "xaxis": "x",
         "y": [
          467
         ],
         "yaxis": "y"
        },
        {
         "hovertemplate": "p1=ox<br>favorite_count=%{x}<br>retweet_count=%{y}<extra></extra>",
         "legendgroup": "ox",
         "marker": {
          "color": "#EF553B",
          "symbol": "circle"
         },
         "mode": "markers",
         "name": "ox",
         "showlegend": true,
         "type": "scattergl",
         "x": [
          330,
          168
         ],
         "xaxis": "x",
         "y": [
          111,
          79
         ],
         "yaxis": "y"
        },
        {
         "hovertemplate": "p1=king_penguin<br>favorite_count=%{x}<br>retweet_count=%{y}<extra></extra>",
         "legendgroup": "king_penguin",
         "marker": {
          "color": "#00cc96",
          "symbol": "circle"
         },
         "mode": "markers",
         "name": "king_penguin",
         "showlegend": true,
         "type": "scattergl",
         "x": [
          557
         ],
         "xaxis": "x",
         "y": [
          255
         ],
         "yaxis": "y"
        },
        {
         "hovertemplate": "p1=canoe<br>favorite_count=%{x}<br>retweet_count=%{y}<extra></extra>",
         "legendgroup": "canoe",
         "marker": {
          "color": "#ab63fa",
          "symbol": "circle"
         },
         "mode": "markers",
         "name": "canoe",
         "showlegend": true,
         "type": "scattergl",
         "x": [
          1153
         ],
         "xaxis": "x",
         "y": [
          518
         ],
         "yaxis": "y"
        },
        {
         "hovertemplate": "p1=toyshop<br>favorite_count=%{x}<br>retweet_count=%{y}<extra></extra>",
         "legendgroup": "toyshop",
         "marker": {
          "color": "#FFA15A",
          "symbol": "circle"
         },
         "mode": "markers",
         "name": "toyshop",
         "showlegend": true,
         "type": "scattergl",
         "x": [
          930
         ],
         "xaxis": "x",
         "y": [
          418
         ],
         "yaxis": "y"
        },
        {
         "hovertemplate": "p1=hare<br>favorite_count=%{x}<br>retweet_count=%{y}<extra></extra>",
         "legendgroup": "hare",
         "marker": {
          "color": "#19d3f3",
          "symbol": "circle"
         },
         "mode": "markers",
         "name": "hare",
         "showlegend": true,
         "type": "scattergl",
         "x": [
          1508
         ],
         "xaxis": "x",
         "y": [
          970
         ],
         "yaxis": "y"
        },
        {
         "hovertemplate": "p1=hay<br>favorite_count=%{x}<br>retweet_count=%{y}<extra></extra>",
         "legendgroup": "hay",
         "marker": {
          "color": "#FF6692",
          "symbol": "circle"
         },
         "mode": "markers",
         "name": "hay",
         "showlegend": true,
         "type": "scattergl",
         "x": [
          214
         ],
         "xaxis": "x",
         "y": [
          79
         ],
         "yaxis": "y"
        }
       ],
       "layout": {
        "legend": {
         "title": {
          "text": "p1"
         },
         "tracegroupgap": 0
        },
        "template": {
         "data": {
          "bar": [
           {
            "error_x": {
             "color": "#2a3f5f"
            },
            "error_y": {
             "color": "#2a3f5f"
            },
            "marker": {
             "line": {
              "color": "#E5ECF6",
              "width": 0.5
             },
             "pattern": {
              "fillmode": "overlay",
              "size": 10,
              "solidity": 0.2
             }
            },
            "type": "bar"
           }
          ],
          "barpolar": [
           {
            "marker": {
             "line": {
              "color": "#E5ECF6",
              "width": 0.5
             },
             "pattern": {
              "fillmode": "overlay",
              "size": 10,
              "solidity": 0.2
             }
            },
            "type": "barpolar"
           }
          ],
          "carpet": [
           {
            "aaxis": {
             "endlinecolor": "#2a3f5f",
             "gridcolor": "white",
             "linecolor": "white",
             "minorgridcolor": "white",
             "startlinecolor": "#2a3f5f"
            },
            "baxis": {
             "endlinecolor": "#2a3f5f",
             "gridcolor": "white",
             "linecolor": "white",
             "minorgridcolor": "white",
             "startlinecolor": "#2a3f5f"
            },
            "type": "carpet"
           }
          ],
          "choropleth": [
           {
            "colorbar": {
             "outlinewidth": 0,
             "ticks": ""
            },
            "type": "choropleth"
           }
          ],
          "contour": [
           {
            "colorbar": {
             "outlinewidth": 0,
             "ticks": ""
            },
            "colorscale": [
             [
              0,
              "#0d0887"
             ],
             [
              0.1111111111111111,
              "#46039f"
             ],
             [
              0.2222222222222222,
              "#7201a8"
             ],
             [
              0.3333333333333333,
              "#9c179e"
             ],
             [
              0.4444444444444444,
              "#bd3786"
             ],
             [
              0.5555555555555556,
              "#d8576b"
             ],
             [
              0.6666666666666666,
              "#ed7953"
             ],
             [
              0.7777777777777778,
              "#fb9f3a"
             ],
             [
              0.8888888888888888,
              "#fdca26"
             ],
             [
              1,
              "#f0f921"
             ]
            ],
            "type": "contour"
           }
          ],
          "contourcarpet": [
           {
            "colorbar": {
             "outlinewidth": 0,
             "ticks": ""
            },
            "type": "contourcarpet"
           }
          ],
          "heatmap": [
           {
            "colorbar": {
             "outlinewidth": 0,
             "ticks": ""
            },
            "colorscale": [
             [
              0,
              "#0d0887"
             ],
             [
              0.1111111111111111,
              "#46039f"
             ],
             [
              0.2222222222222222,
              "#7201a8"
             ],
             [
              0.3333333333333333,
              "#9c179e"
             ],
             [
              0.4444444444444444,
              "#bd3786"
             ],
             [
              0.5555555555555556,
              "#d8576b"
             ],
             [
              0.6666666666666666,
              "#ed7953"
             ],
             [
              0.7777777777777778,
              "#fb9f3a"
             ],
             [
              0.8888888888888888,
              "#fdca26"
             ],
             [
              1,
              "#f0f921"
             ]
            ],
            "type": "heatmap"
           }
          ],
          "heatmapgl": [
           {
            "colorbar": {
             "outlinewidth": 0,
             "ticks": ""
            },
            "colorscale": [
             [
              0,
              "#0d0887"
             ],
             [
              0.1111111111111111,
              "#46039f"
             ],
             [
              0.2222222222222222,
              "#7201a8"
             ],
             [
              0.3333333333333333,
              "#9c179e"
             ],
             [
              0.4444444444444444,
              "#bd3786"
             ],
             [
              0.5555555555555556,
              "#d8576b"
             ],
             [
              0.6666666666666666,
              "#ed7953"
             ],
             [
              0.7777777777777778,
              "#fb9f3a"
             ],
             [
              0.8888888888888888,
              "#fdca26"
             ],
             [
              1,
              "#f0f921"
             ]
            ],
            "type": "heatmapgl"
           }
          ],
          "histogram": [
           {
            "marker": {
             "pattern": {
              "fillmode": "overlay",
              "size": 10,
              "solidity": 0.2
             }
            },
            "type": "histogram"
           }
          ],
          "histogram2d": [
           {
            "colorbar": {
             "outlinewidth": 0,
             "ticks": ""
            },
            "colorscale": [
             [
              0,
              "#0d0887"
             ],
             [
              0.1111111111111111,
              "#46039f"
             ],
             [
              0.2222222222222222,
              "#7201a8"
             ],
             [
              0.3333333333333333,
              "#9c179e"
             ],
             [
              0.4444444444444444,
              "#bd3786"
             ],
             [
              0.5555555555555556,
              "#d8576b"
             ],
             [
              0.6666666666666666,
              "#ed7953"
             ],
             [
              0.7777777777777778,
              "#fb9f3a"
             ],
             [
              0.8888888888888888,
              "#fdca26"
             ],
             [
              1,
              "#f0f921"
             ]
            ],
            "type": "histogram2d"
           }
          ],
          "histogram2dcontour": [
           {
            "colorbar": {
             "outlinewidth": 0,
             "ticks": ""
            },
            "colorscale": [
             [
              0,
              "#0d0887"
             ],
             [
              0.1111111111111111,
              "#46039f"
             ],
             [
              0.2222222222222222,
              "#7201a8"
             ],
             [
              0.3333333333333333,
              "#9c179e"
             ],
             [
              0.4444444444444444,
              "#bd3786"
             ],
             [
              0.5555555555555556,
              "#d8576b"
             ],
             [
              0.6666666666666666,
              "#ed7953"
             ],
             [
              0.7777777777777778,
              "#fb9f3a"
             ],
             [
              0.8888888888888888,
              "#fdca26"
             ],
             [
              1,
              "#f0f921"
             ]
            ],
            "type": "histogram2dcontour"
           }
          ],
          "mesh3d": [
           {
            "colorbar": {
             "outlinewidth": 0,
             "ticks": ""
            },
            "type": "mesh3d"
           }
          ],
          "parcoords": [
           {
            "line": {
             "colorbar": {
              "outlinewidth": 0,
              "ticks": ""
             }
            },
            "type": "parcoords"
           }
          ],
          "pie": [
           {
            "automargin": true,
            "type": "pie"
           }
          ],
          "scatter": [
           {
            "marker": {
             "colorbar": {
              "outlinewidth": 0,
              "ticks": ""
             }
            },
            "type": "scatter"
           }
          ],
          "scatter3d": [
           {
            "line": {
             "colorbar": {
              "outlinewidth": 0,
              "ticks": ""
             }
            },
            "marker": {
             "colorbar": {
              "outlinewidth": 0,
              "ticks": ""
             }
            },
            "type": "scatter3d"
           }
          ],
          "scattercarpet": [
           {
            "marker": {
             "colorbar": {
              "outlinewidth": 0,
              "ticks": ""
             }
            },
            "type": "scattercarpet"
           }
          ],
          "scattergeo": [
           {
            "marker": {
             "colorbar": {
              "outlinewidth": 0,
              "ticks": ""
             }
            },
            "type": "scattergeo"
           }
          ],
          "scattergl": [
           {
            "marker": {
             "colorbar": {
              "outlinewidth": 0,
              "ticks": ""
             }
            },
            "type": "scattergl"
           }
          ],
          "scattermapbox": [
           {
            "marker": {
             "colorbar": {
              "outlinewidth": 0,
              "ticks": ""
             }
            },
            "type": "scattermapbox"
           }
          ],
          "scatterpolar": [
           {
            "marker": {
             "colorbar": {
              "outlinewidth": 0,
              "ticks": ""
             }
            },
            "type": "scatterpolar"
           }
          ],
          "scatterpolargl": [
           {
            "marker": {
             "colorbar": {
              "outlinewidth": 0,
              "ticks": ""
             }
            },
            "type": "scatterpolargl"
           }
          ],
          "scatterternary": [
           {
            "marker": {
             "colorbar": {
              "outlinewidth": 0,
              "ticks": ""
             }
            },
            "type": "scatterternary"
           }
          ],
          "surface": [
           {
            "colorbar": {
             "outlinewidth": 0,
             "ticks": ""
            },
            "colorscale": [
             [
              0,
              "#0d0887"
             ],
             [
              0.1111111111111111,
              "#46039f"
             ],
             [
              0.2222222222222222,
              "#7201a8"
             ],
             [
              0.3333333333333333,
              "#9c179e"
             ],
             [
              0.4444444444444444,
              "#bd3786"
             ],
             [
              0.5555555555555556,
              "#d8576b"
             ],
             [
              0.6666666666666666,
              "#ed7953"
             ],
             [
              0.7777777777777778,
              "#fb9f3a"
             ],
             [
              0.8888888888888888,
              "#fdca26"
             ],
             [
              1,
              "#f0f921"
             ]
            ],
            "type": "surface"
           }
          ],
          "table": [
           {
            "cells": {
             "fill": {
              "color": "#EBF0F8"
             },
             "line": {
              "color": "white"
             }
            },
            "header": {
             "fill": {
              "color": "#C8D4E3"
             },
             "line": {
              "color": "white"
             }
            },
            "type": "table"
           }
          ]
         },
         "layout": {
          "annotationdefaults": {
           "arrowcolor": "#2a3f5f",
           "arrowhead": 0,
           "arrowwidth": 1
          },
          "autotypenumbers": "strict",
          "coloraxis": {
           "colorbar": {
            "outlinewidth": 0,
            "ticks": ""
           }
          },
          "colorscale": {
           "diverging": [
            [
             0,
             "#8e0152"
            ],
            [
             0.1,
             "#c51b7d"
            ],
            [
             0.2,
             "#de77ae"
            ],
            [
             0.3,
             "#f1b6da"
            ],
            [
             0.4,
             "#fde0ef"
            ],
            [
             0.5,
             "#f7f7f7"
            ],
            [
             0.6,
             "#e6f5d0"
            ],
            [
             0.7,
             "#b8e186"
            ],
            [
             0.8,
             "#7fbc41"
            ],
            [
             0.9,
             "#4d9221"
            ],
            [
             1,
             "#276419"
            ]
           ],
           "sequential": [
            [
             0,
             "#0d0887"
            ],
            [
             0.1111111111111111,
             "#46039f"
            ],
            [
             0.2222222222222222,
             "#7201a8"
            ],
            [
             0.3333333333333333,
             "#9c179e"
            ],
            [
             0.4444444444444444,
             "#bd3786"
            ],
            [
             0.5555555555555556,
             "#d8576b"
            ],
            [
             0.6666666666666666,
             "#ed7953"
            ],
            [
             0.7777777777777778,
             "#fb9f3a"
            ],
            [
             0.8888888888888888,
             "#fdca26"
            ],
            [
             1,
             "#f0f921"
            ]
           ],
           "sequentialminus": [
            [
             0,
             "#0d0887"
            ],
            [
             0.1111111111111111,
             "#46039f"
            ],
            [
             0.2222222222222222,
             "#7201a8"
            ],
            [
             0.3333333333333333,
             "#9c179e"
            ],
            [
             0.4444444444444444,
             "#bd3786"
            ],
            [
             0.5555555555555556,
             "#d8576b"
            ],
            [
             0.6666666666666666,
             "#ed7953"
            ],
            [
             0.7777777777777778,
             "#fb9f3a"
            ],
            [
             0.8888888888888888,
             "#fdca26"
            ],
            [
             1,
             "#f0f921"
            ]
           ]
          },
          "colorway": [
           "#636efa",
           "#EF553B",
           "#00cc96",
           "#ab63fa",
           "#FFA15A",
           "#19d3f3",
           "#FF6692",
           "#B6E880",
           "#FF97FF",
           "#FECB52"
          ],
          "font": {
           "color": "#2a3f5f"
          },
          "geo": {
           "bgcolor": "white",
           "lakecolor": "white",
           "landcolor": "#E5ECF6",
           "showlakes": true,
           "showland": true,
           "subunitcolor": "white"
          },
          "hoverlabel": {
           "align": "left"
          },
          "hovermode": "closest",
          "mapbox": {
           "style": "light"
          },
          "paper_bgcolor": "white",
          "plot_bgcolor": "#E5ECF6",
          "polar": {
           "angularaxis": {
            "gridcolor": "white",
            "linecolor": "white",
            "ticks": ""
           },
           "bgcolor": "#E5ECF6",
           "radialaxis": {
            "gridcolor": "white",
            "linecolor": "white",
            "ticks": ""
           }
          },
          "scene": {
           "xaxis": {
            "backgroundcolor": "#E5ECF6",
            "gridcolor": "white",
            "gridwidth": 2,
            "linecolor": "white",
            "showbackground": true,
            "ticks": "",
            "zerolinecolor": "white"
           },
           "yaxis": {
            "backgroundcolor": "#E5ECF6",
            "gridcolor": "white",
            "gridwidth": 2,
            "linecolor": "white",
            "showbackground": true,
            "ticks": "",
            "zerolinecolor": "white"
           },
           "zaxis": {
            "backgroundcolor": "#E5ECF6",
            "gridcolor": "white",
            "gridwidth": 2,
            "linecolor": "white",
            "showbackground": true,
            "ticks": "",
            "zerolinecolor": "white"
           }
          },
          "shapedefaults": {
           "line": {
            "color": "#2a3f5f"
           }
          },
          "ternary": {
           "aaxis": {
            "gridcolor": "white",
            "linecolor": "white",
            "ticks": ""
           },
           "baxis": {
            "gridcolor": "white",
            "linecolor": "white",
            "ticks": ""
           },
           "bgcolor": "#E5ECF6",
           "caxis": {
            "gridcolor": "white",
            "linecolor": "white",
            "ticks": ""
           }
          },
          "title": {
           "x": 0.05
          },
          "xaxis": {
           "automargin": true,
           "gridcolor": "white",
           "linecolor": "white",
           "ticks": "",
           "title": {
            "standoff": 15
           },
           "zerolinecolor": "white",
           "zerolinewidth": 2
          },
          "yaxis": {
           "automargin": true,
           "gridcolor": "white",
           "linecolor": "white",
           "ticks": "",
           "title": {
            "standoff": 15
           },
           "zerolinecolor": "white",
           "zerolinewidth": 2
          }
         }
        },
        "title": {
         "text": "The Relationship of Retweet counts to Favorite counts"
        },
        "xaxis": {
         "anchor": "y",
         "domain": [
          0,
          1
         ],
         "title": {
          "text": "favorite_count"
         }
        },
        "yaxis": {
         "anchor": "x",
         "domain": [
          0,
          1
         ],
         "title": {
          "text": "retweet_count"
         }
        }
       }
      },
      "text/html": [
       "<div>                            <div id=\"ca9d3f7a-1464-4c08-bbc7-5d16b1f66ad4\" class=\"plotly-graph-div\" style=\"height:525px; width:100%;\"></div>            <script type=\"text/javascript\">                require([\"plotly\"], function(Plotly) {                    window.PLOTLYENV=window.PLOTLYENV || {};                                    if (document.getElementById(\"ca9d3f7a-1464-4c08-bbc7-5d16b1f66ad4\")) {                    Plotly.newPlot(                        \"ca9d3f7a-1464-4c08-bbc7-5d16b1f66ad4\",                        [{\"hovertemplate\":\"p1=chihuahua<br>favorite_count=%{x}<br>retweet_count=%{y}<extra></extra>\",\"legendgroup\":\"chihuahua\",\"marker\":{\"color\":\"#636efa\",\"symbol\":\"circle\"},\"mode\":\"markers\",\"name\":\"chihuahua\",\"showlegend\":true,\"x\":[29356.0,22067.0,30414.0,23687.0,14231.0,25283.0,26630.0,27961.0,24083.0,17096.0,8475.0,9316.0,9256.0,9236.0,10349.0,7994.0,13353.0,2585.0,8149.0,2868.0,1765.0,2224.0,4765.0,3244.0,11454.0,2864.0,3228.0,2122.0,3527.0,2781.0,2669.0,1931.0,3040.0,2413.0,2929.0,1799.0,1830.0,3575.0,1765.0,2275.0,3894.0,3076.0,1452.0,1713.0,1308.0,2616.0,2058.0,1532.0,991.0,611.0,754.0,861.0,1262.0,909.0,1011.0,606.0,1051.0,641.0,1353.0,1149.0,622.0,202.0,2394.0,572.0,511.0,1249.0,843.0,424.0,458.0,287.0,352.0,106.0,147.0],\"xaxis\":\"x\",\"y\":[5303.0,3486.0,6325.0,3472.0,2642.0,5589.0,6040.0,6840.0,7175.0,3496.0,2167.0,2356.0,2059.0,2611.0,2671.0,2077.0,3991.0,440.0,2932.0,700.0,448.0,591.0,1691.0,1093.0,5207.0,733.0,1152.0,546.0,1527.0,679.0,908.0,416.0,1207.0,1094.0,942.0,461.0,642.0,1073.0,458.0,747.0,1736.0,1149.0,327.0,728.0,380.0,856.0,921.0,458.0,412.0,117.0,236.0,236.0,557.0,304.0,287.0,132.0,435.0,176.0,662.0,552.0,250.0,45.0,1095.0,266.0,209.0,655.0,408.0,161.0,232.0,106.0,104.0,40.0,69.0],\"yaxis\":\"y\",\"type\":\"scattergl\"},{\"hovertemplate\":\"p1=paper_towel<br>favorite_count=%{x}<br>retweet_count=%{y}<extra></extra>\",\"legendgroup\":\"paper_towel\",\"marker\":{\"color\":\"#EF553B\",\"symbol\":\"circle\"},\"mode\":\"markers\",\"name\":\"paper_towel\",\"showlegend\":true,\"x\":[36969.0],\"xaxis\":\"x\",\"y\":[7232.0],\"yaxis\":\"y\",\"type\":\"scattergl\"},{\"hovertemplate\":\"p1=basset<br>favorite_count=%{x}<br>retweet_count=%{y}<extra></extra>\",\"legendgroup\":\"basset\",\"marker\":{\"color\":\"#00cc96\",\"symbol\":\"circle\"},\"mode\":\"markers\",\"name\":\"basset\",\"showlegend\":true,\"x\":[35343.0,26652.0,19728.0,19919.0,15353.0,18965.0,7577.0,1191.0,959.0,984.0,407.0,1158.0],\"xaxis\":\"x\",\"y\":[7771.0,4540.0,2933.0,3173.0,3093.0,7820.0,2214.0,413.0,208.0,231.0,131.0,497.0],\"yaxis\":\"y\",\"type\":\"scattergl\"},{\"hovertemplate\":\"p1=chesapeake_bay_retriever<br>favorite_count=%{x}<br>retweet_count=%{y}<extra></extra>\",\"legendgroup\":\"chesapeake_bay_retriever\",\"marker\":{\"color\":\"#ab63fa\",\"symbol\":\"circle\"},\"mode\":\"markers\",\"name\":\"chesapeake_bay_retriever\",\"showlegend\":true,\"x\":[17828.0,69384.0,23635.0,17945.0,6393.0,7742.0,6813.0,10498.0,5387.0,4888.0,2446.0,2174.0,3426.0,6196.0,2599.0,2980.0,1903.0,1548.0,873.0,630.0,192.0,139.0],\"xaxis\":\"x\",\"y\":[2603.0,15835.0,4297.0,5236.0,1798.0,2023.0,1868.0,3564.0,1500.0,1768.0,493.0,523.0,749.0,1791.0,678.0,1336.0,629.0,572.0,272.0,325.0,45.0,42.0],\"yaxis\":\"y\",\"type\":\"scattergl\"},{\"hovertemplate\":\"p1=appenzeller<br>favorite_count=%{x}<br>retweet_count=%{y}<extra></extra>\",\"legendgroup\":\"appenzeller\",\"marker\":{\"color\":\"#FFA15A\",\"symbol\":\"circle\"},\"mode\":\"markers\",\"name\":\"appenzeller\",\"showlegend\":true,\"x\":[10379.0,2178.0],\"xaxis\":\"x\",\"y\":[1668.0,621.0],\"yaxis\":\"y\",\"type\":\"scattergl\"},{\"hovertemplate\":\"p1=pomeranian<br>favorite_count=%{x}<br>retweet_count=%{y}<extra></extra>\",\"legendgroup\":\"pomeranian\",\"marker\":{\"color\":\"#19d3f3\",\"symbol\":\"circle\"},\"mode\":\"markers\",\"name\":\"pomeranian\",\"showlegend\":true,\"x\":[56907.0,22511.0,26343.0,9082.0,8489.0,6066.0,13424.0,7975.0,3301.0,4125.0,4249.0,7763.0,2550.0,2660.0,3173.0,2772.0,2264.0,2527.0,2067.0,1929.0,2429.0,3424.0,2219.0,1382.0,580.0,1520.0,683.0,1585.0,1223.0,1742.0,1056.0,339.0,339.0,1651.0,763.0],\"xaxis\":\"x\",\"y\":[15771.0,5672.0,13169.0,1977.0,1992.0,1630.0,6007.0,3161.0,801.0,1090.0,1650.0,1461.0,744.0,875.0,894.0,1058.0,624.0,1014.0,664.0,398.0,820.0,1342.0,564.0,476.0,80.0,514.0,144.0,1087.0,454.0,822.0,420.0,81.0,94.0,909.0,459.0],\"yaxis\":\"y\",\"type\":\"scattergl\"},{\"hovertemplate\":\"p1=irish_terrier<br>favorite_count=%{x}<br>retweet_count=%{y}<extra></extra>\",\"legendgroup\":\"irish_terrier\",\"marker\":{\"color\":\"#FF6692\",\"symbol\":\"circle\"},\"mode\":\"markers\",\"name\":\"irish_terrier\",\"showlegend\":true,\"x\":[24550.0,1483.0,1318.0,1533.0],\"xaxis\":\"x\",\"y\":[3627.0,417.0,539.0,524.0],\"yaxis\":\"y\",\"type\":\"scattergl\"},{\"hovertemplate\":\"p1=pembroke<br>favorite_count=%{x}<br>retweet_count=%{y}<extra></extra>\",\"legendgroup\":\"pembroke\",\"marker\":{\"color\":\"#B6E880\",\"symbol\":\"circle\"},\"mode\":\"markers\",\"name\":\"pembroke\",\"showlegend\":true,\"x\":[27984.0,42088.0,23883.0,24619.0,18723.0,23871.0,36130.0,10900.0,38066.0,25087.0,18155.0,25067.0,19512.0,20720.0,17224.0,20013.0,16957.0,10672.0,9816.0,7068.0,11196.0,19893.0,7491.0,9569.0,7829.0,12513.0,13900.0,7429.0,8996.0,9892.0,12885.0,5687.0,3778.0,25153.0,3568.0,3164.0,4713.0,3663.0,4423.0,2633.0,4510.0,5587.0,4641.0,3739.0,3225.0,4308.0,5888.0,4817.0,3335.0,2477.0,4187.0,3239.0,19601.0,7368.0,3556.0,6837.0,5529.0,3024.0,3150.0,1744.0,3141.0,2502.0,2156.0,1718.0,7505.0,5984.0,2674.0,3196.0,2575.0,1457.0,2265.0,1070.0,2493.0,1396.0,2710.0,1389.0,1158.0,661.0,710.0,485.0,587.0,719.0,286.0,139.0],\"xaxis\":\"x\",\"y\":[6107.0,8357.0,4794.0,5069.0,3204.0,4636.0,7725.0,2212.0,8706.0,5390.0,3202.0,6682.0,4270.0,5366.0,4166.0,5431.0,3191.0,2151.0,1691.0,866.0,9900.0,5992.0,1629.0,2303.0,1955.0,2834.0,4625.0,1771.0,2926.0,2529.0,4013.0,1291.0,866.0,3119.0,918.0,968.0,1193.0,879.0,1460.0,677.0,1061.0,1953.0,1203.0,1017.0,904.0,1548.0,2271.0,1589.0,1021.0,477.0,1702.0,997.0,7165.0,3241.0,1386.0,2811.0,2403.0,1175.0,927.0,406.0,1301.0,775.0,661.0,467.0,2956.0,3015.0,825.0,1185.0,821.0,375.0,756.0,333.0,1135.0,406.0,750.0,561.0,504.0,203.0,341.0,206.0,208.0,446.0,107.0,67.0],\"yaxis\":\"y\",\"type\":\"scattergl\"},{\"hovertemplate\":\"p1=samoyed<br>favorite_count=%{x}<br>retweet_count=%{y}<extra></extra>\",\"legendgroup\":\"samoyed\",\"marker\":{\"color\":\"#FF97FF\",\"symbol\":\"circle\"},\"mode\":\"markers\",\"name\":\"samoyed\",\"showlegend\":true,\"x\":[27065.0,27006.0,43488.0,28737.0,18274.0,27091.0,17941.0,17711.0,9150.0,6910.0,28136.0,10530.0,7090.0,6184.0,6348.0,9475.0,3600.0,2352.0,4590.0,2408.0,4751.0,3158.0,1935.0,2278.0,1198.0,2926.0,2665.0,6298.0,3393.0,2416.0,930.0,700.0,1228.0,680.0,823.0],\"xaxis\":\"x\",\"y\":[6157.0,4998.0,13412.0,6794.0,3991.0,7891.0,3904.0,6855.0,2543.0,1982.0,14754.0,5929.0,3352.0,2363.0,1939.0,4076.0,1131.0,552.0,1822.0,619.0,1460.0,983.0,574.0,621.0,315.0,709.0,799.0,3317.0,1544.0,672.0,275.0,200.0,418.0,196.0,344.0],\"yaxis\":\"y\",\"type\":\"scattergl\"},{\"hovertemplate\":\"p1=french_bulldog<br>favorite_count=%{x}<br>retweet_count=%{y}<extra></extra>\",\"legendgroup\":\"french_bulldog\",\"marker\":{\"color\":\"#FECB52\",\"symbol\":\"circle\"},\"mode\":\"markers\",\"name\":\"french_bulldog\",\"showlegend\":true,\"x\":[24587.0,23707.0,19164.0,18563.0,17657.0,14510.0,9464.0,12543.0,34669.0,2886.0,2754.0,3107.0,3256.0,2152.0,2415.0,1915.0,1092.0,845.0,281.0],\"xaxis\":\"x\",\"y\":[4173.0,3720.0,2901.0,2634.0,3590.0,2271.0,2183.0,2424.0,13046.0,855.0,560.0,786.0,1261.0,561.0,629.0,719.0,251.0,255.0,97.0],\"yaxis\":\"y\",\"type\":\"scattergl\"},{\"hovertemplate\":\"p1=golden_retriever<br>favorite_count=%{x}<br>retweet_count=%{y}<extra></extra>\",\"legendgroup\":\"golden_retriever\",\"marker\":{\"color\":\"#636efa\",\"symbol\":\"circle\"},\"mode\":\"markers\",\"name\":\"golden_retriever\",\"showlegend\":true,\"x\":[13359.0,25658.0,22494.0,40241.0,32544.0,39228.0,25046.0,16581.0,74007.0,22956.0,26665.0,16858.0,14145.0,14256.0,17074.0,13665.0,41290.0,14844.0,19299.0,14047.0,22949.0,8974.0,14972.0,10690.0,7917.0,11625.0,8316.0,10703.0,27297.0,18854.0,19943.0,12955.0,5062.0,8399.0,13875.0,12494.0,8530.0,10634.0,10288.0,46862.0,9531.0,10143.0,10007.0,8914.0,14748.0,10295.0,7081.0,5960.0,3599.0,5088.0,6816.0,6687.0,6190.0,5594.0,4410.0,5885.0,6231.0,3710.0,6459.0,3018.0,2853.0,5644.0,3562.0,3053.0,7272.0,11593.0,3452.0,4885.0,2796.0,4497.0,4118.0,3218.0,5339.0,5821.0,6271.0,3984.0,2628.0,3030.0,15268.0,3022.0,2883.0,2931.0,2754.0,4717.0,3234.0,2994.0,4407.0,2783.0,2036.0,2053.0,4044.0,3323.0,3511.0,8579.0,2002.0,3307.0,1576.0,10611.0,1267.0,1062.0,841.0,1285.0,953.0,1496.0,1150.0,553.0,558.0,498.0,1059.0,706.0,410.0,436.0,412.0,425.0,219.0,163.0,246.0,400.0],\"xaxis\":\"x\",\"y\":[1885.0,3768.0,3542.0,8278.0,5542.0,9646.0,5220.0,2005.0,22768.0,4858.0,7599.0,1367.0,3031.0,2542.0,3498.0,1917.0,10414.0,2598.0,4344.0,1896.0,6789.0,1244.0,2813.0,2146.0,1557.0,2371.0,1873.0,2527.0,8118.0,4051.0,6867.0,3428.0,1335.0,2071.0,3394.0,3638.0,2361.0,2638.0,3509.0,22014.0,2689.0,2237.0,3084.0,2632.0,4939.0,3226.0,1320.0,1629.0,1055.0,1601.0,1997.0,2008.0,1753.0,1765.0,1106.0,1836.0,1843.0,1007.0,2314.0,925.0,777.0,1643.0,1239.0,798.0,2711.0,5770.0,1172.0,1517.0,816.0,1600.0,1123.0,986.0,1667.0,1746.0,1714.0,1450.0,665.0,976.0,6277.0,979.0,934.0,801.0,833.0,1373.0,1035.0,966.0,1229.0,852.0,467.0,452.0,1399.0,1120.0,1158.0,4094.0,590.0,1254.0,474.0,4189.0,302.0,297.0,200.0,467.0,256.0,476.0,423.0,146.0,202.0,102.0,348.0,293.0,139.0,118.0,207.0,210.0,50.0,43.0,125.0,180.0],\"yaxis\":\"y\",\"type\":\"scattergl\"},{\"hovertemplate\":\"p1=whippet<br>favorite_count=%{x}<br>retweet_count=%{y}<extra></extra>\",\"legendgroup\":\"whippet\",\"marker\":{\"color\":\"#EF553B\",\"symbol\":\"circle\"},\"mode\":\"markers\",\"name\":\"whippet\",\"showlegend\":true,\"x\":[22146.0,16805.0,5366.0,6671.0,2295.0,3187.0,1044.0,494.0],\"xaxis\":\"x\",\"y\":[4449.0,4310.0,1737.0,2603.0,558.0,1047.0,342.0,173.0],\"yaxis\":\"y\",\"type\":\"scattergl\"},{\"hovertemplate\":\"p1=siberian_husky<br>favorite_count=%{x}<br>retweet_count=%{y}<extra></extra>\",\"legendgroup\":\"siberian_husky\",\"marker\":{\"color\":\"#00cc96\",\"symbol\":\"circle\"},\"mode\":\"markers\",\"name\":\"siberian_husky\",\"showlegend\":true,\"x\":[17334.0,19417.0,15093.0,8859.0,6247.0,12443.0,8263.0,5203.0,2328.0,2989.0,2205.0,3053.0,1882.0,1709.0,2344.0,1941.0,3818.0,3117.0,908.0,546.0],\"xaxis\":\"x\",\"y\":[2880.0,4160.0,2185.0,1735.0,1718.0,4163.0,2253.0,1203.0,490.0,874.0,191.0,725.0,367.0,370.0,750.0,478.0,1078.0,1294.0,367.0,228.0],\"yaxis\":\"y\",\"type\":\"scattergl\"},{\"hovertemplate\":\"p1=mexican_hairless<br>favorite_count=%{x}<br>retweet_count=%{y}<extra></extra>\",\"legendgroup\":\"mexican_hairless\",\"marker\":{\"color\":\"#ab63fa\",\"symbol\":\"circle\"},\"mode\":\"markers\",\"name\":\"mexican_hairless\",\"showlegend\":true,\"x\":[29611.0,7929.0,3570.0,2245.0],\"xaxis\":\"x\",\"y\":[8816.0,1932.0,1023.0,791.0],\"yaxis\":\"y\",\"type\":\"scattergl\"},{\"hovertemplate\":\"p1=kuvasz<br>favorite_count=%{x}<br>retweet_count=%{y}<extra></extra>\",\"legendgroup\":\"kuvasz\",\"marker\":{\"color\":\"#FFA15A\",\"symbol\":\"circle\"},\"mode\":\"markers\",\"name\":\"kuvasz\",\"showlegend\":true,\"x\":[10504.0,12655.0,7531.0,5710.0,2727.0,5744.0,4221.0,2409.0,4462.0,2008.0,2982.0,1576.0,846.0,324.0],\"xaxis\":\"x\",\"y\":[2634.0,2217.0,1379.0,1804.0,882.0,1745.0,1388.0,562.0,1634.0,469.0,765.0,440.0,286.0,128.0],\"yaxis\":\"y\",\"type\":\"scattergl\"},{\"hovertemplate\":\"p1=pug<br>favorite_count=%{x}<br>retweet_count=%{y}<extra></extra>\",\"legendgroup\":\"pug\",\"marker\":{\"color\":\"#19d3f3\",\"symbol\":\"circle\"},\"mode\":\"markers\",\"name\":\"pug\",\"showlegend\":true,\"x\":[24550.0,31626.0,21344.0,13081.0,28203.0,11139.0,8166.0,6051.0,2920.0,2028.0,4509.0,2294.0,5683.0,3510.0,2941.0,2122.0,2205.0,3312.0,2022.0,2077.0,1253.0,1710.0,8018.0,2267.0,2912.0,1979.0,2459.0,2624.0,1807.0,4984.0,2001.0,2847.0,2217.0,2193.0,2500.0,1377.0,2048.0,824.0,1752.0,1498.0,5738.0,1277.0,805.0,767.0,879.0,1141.0,1036.0,298.0,378.0,890.0,596.0,93.0],\"xaxis\":\"x\",\"y\":[5297.0,5334.0,3917.0,3169.0,8107.0,2734.0,2845.0,1564.0,877.0,493.0,1409.0,587.0,2149.0,960.0,796.0,802.0,1019.0,1202.0,720.0,477.0,290.0,398.0,3262.0,723.0,1240.0,724.0,798.0,702.0,473.0,2060.0,602.0,1079.0,586.0,743.0,830.0,471.0,780.0,203.0,840.0,785.0,2943.0,652.0,277.0,304.0,328.0,440.0,344.0,62.0,130.0,409.0,288.0,37.0],\"yaxis\":\"y\",\"type\":\"scattergl\"},{\"hovertemplate\":\"p1=blenheim_spaniel<br>favorite_count=%{x}<br>retweet_count=%{y}<extra></extra>\",\"legendgroup\":\"blenheim_spaniel\",\"marker\":{\"color\":\"#FF6692\",\"symbol\":\"circle\"},\"mode\":\"markers\",\"name\":\"blenheim_spaniel\",\"showlegend\":true,\"x\":[28639.0,27135.0,9408.0,3580.0,5003.0,2589.0,1502.0,575.0,577.0,273.0],\"xaxis\":\"x\",\"y\":[5620.0,7319.0,3810.0,890.0,1497.0,713.0,472.0,152.0,170.0,92.0],\"yaxis\":\"y\",\"type\":\"scattergl\"},{\"hovertemplate\":\"p1=malamute<br>favorite_count=%{x}<br>retweet_count=%{y}<extra></extra>\",\"legendgroup\":\"malamute\",\"marker\":{\"color\":\"#B6E880\",\"symbol\":\"circle\"},\"mode\":\"markers\",\"name\":\"malamute\",\"showlegend\":true,\"x\":[19274.0,5317.0,22868.0,11885.0,9491.0,7889.0,10440.0,33358.0,9401.0,8676.0,8503.0,7391.0,3935.0,5843.0,9291.0,4664.0,3580.0,4228.0,1420.0,2313.0,2590.0,6497.0,2530.0,1450.0,1387.0,730.0,221.0,179.0],\"xaxis\":\"x\",\"y\":[3672.0,1444.0,4171.0,2730.0,1898.0,1650.0,2471.0,10508.0,2569.0,2450.0,2370.0,1769.0,1125.0,2478.0,3179.0,1718.0,916.0,1269.0,339.0,664.0,973.0,2937.0,953.0,570.0,681.0,400.0,69.0,58.0],\"yaxis\":\"y\",\"type\":\"scattergl\"},{\"hovertemplate\":\"p1=italian_greyhound<br>favorite_count=%{x}<br>retweet_count=%{y}<extra></extra>\",\"legendgroup\":\"italian_greyhound\",\"marker\":{\"color\":\"#FF97FF\",\"symbol\":\"circle\"},\"mode\":\"markers\",\"name\":\"italian_greyhound\",\"showlegend\":true,\"x\":[67354.0,17148.0,5860.0,5859.0,4220.0,2494.0,4419.0,3005.0,2245.0,2557.0,1926.0,351.0,668.0,332.0,327.0,152.0],\"xaxis\":\"x\",\"y\":[15044.0,3438.0,1598.0,1357.0,1302.0,833.0,1802.0,852.0,620.0,927.0,765.0,133.0,290.0,166.0,169.0,68.0],\"yaxis\":\"y\",\"type\":\"scattergl\"},{\"hovertemplate\":\"p1=chow<br>favorite_count=%{x}<br>retweet_count=%{y}<extra></extra>\",\"legendgroup\":\"chow\",\"marker\":{\"color\":\"#FECB52\",\"symbol\":\"circle\"},\"mode\":\"markers\",\"name\":\"chow\",\"showlegend\":true,\"x\":[24402.0,19965.0,66391.0,23488.0,13064.0,16509.0,6143.0,8587.0,8032.0,7088.0,5807.0,9888.0,8230.0,11049.0,4897.0,3940.0,7067.0,7407.0,3131.0,5447.0,6409.0,4712.0,3877.0,3858.0,3264.0,3203.0,3037.0,1869.0,1703.0,1665.0,3356.0,5575.0,1756.0,1234.0,5456.0,452.0,367.0],\"xaxis\":\"x\",\"y\":[4677.0,3086.0,20030.0,4394.0,2764.0,2854.0,1134.0,1878.0,2172.0,1653.0,1203.0,2995.0,2345.0,2468.0,1328.0,827.0,2154.0,2164.0,961.0,1791.0,2007.0,1402.0,1142.0,1251.0,1079.0,1300.0,947.0,595.0,490.0,364.0,1503.0,1788.0,631.0,524.0,2430.0,169.0,196.0],\"yaxis\":\"y\",\"type\":\"scattergl\"},{\"hovertemplate\":\"p1=german_shepherd<br>favorite_count=%{x}<br>retweet_count=%{y}<extra></extra>\",\"legendgroup\":\"german_shepherd\",\"marker\":{\"color\":\"#636efa\",\"symbol\":\"circle\"},\"mode\":\"markers\",\"name\":\"german_shepherd\",\"showlegend\":true,\"x\":[17960.0,15009.0,31604.0,18884.0,17399.0,8112.0,7829.0,9719.0,5428.0,7997.0,5654.0,6517.0,5618.0,5778.0,5337.0,2054.0,1397.0,512.0,161.0,99.0],\"xaxis\":\"x\",\"y\":[2508.0,3344.0,8896.0,4848.0,3896.0,1826.0,1556.0,2589.0,1394.0,2468.0,1395.0,1445.0,1463.0,1491.0,2101.0,516.0,645.0,173.0,42.0,36.0],\"yaxis\":\"y\",\"type\":\"scattergl\"},{\"hovertemplate\":\"p1=doberman<br>favorite_count=%{x}<br>retweet_count=%{y}<extra></extra>\",\"legendgroup\":\"doberman\",\"marker\":{\"color\":\"#EF553B\",\"symbol\":\"circle\"},\"mode\":\"markers\",\"name\":\"doberman\",\"showlegend\":true,\"x\":[19194.0,11117.0,7581.0,5301.0,9429.0,3801.0,991.0,741.0],\"xaxis\":\"x\",\"y\":[2865.0,2274.0,1633.0,890.0,2599.0,730.0,373.0,217.0],\"yaxis\":\"y\",\"type\":\"scattergl\"},{\"hovertemplate\":\"p1=eskimo_dog<br>favorite_count=%{x}<br>retweet_count=%{y}<extra></extra>\",\"legendgroup\":\"eskimo_dog\",\"marker\":{\"color\":\"#00cc96\",\"symbol\":\"circle\"},\"mode\":\"markers\",\"name\":\"eskimo_dog\",\"showlegend\":true,\"x\":[21001.0,14359.0,13693.0,14941.0,8661.0,3210.0,1556.0,1905.0,1603.0,2075.0,1220.0,1305.0,981.0,447.0],\"xaxis\":\"x\",\"y\":[3249.0,2119.0,3640.0,2572.0,2463.0,943.0,453.0,406.0,325.0,1019.0,364.0,467.0,369.0,133.0],\"yaxis\":\"y\",\"type\":\"scattergl\"},{\"hovertemplate\":\"p1=labrador_retriever<br>favorite_count=%{x}<br>retweet_count=%{y}<extra></extra>\",\"legendgroup\":\"labrador_retriever\",\"marker\":{\"color\":\"#ab63fa\",\"symbol\":\"circle\"},\"mode\":\"markers\",\"name\":\"labrador_retriever\",\"showlegend\":true,\"x\":[24824.0,22130.0,24629.0,24103.0,17905.0,23665.0,21625.0,13992.0,30861.0,13962.0,12724.0,20008.0,15745.0,14249.0,9900.0,4603.0,21252.0,8174.0,11865.0,10396.0,14472.0,12046.0,8260.0,3560.0,7780.0,5876.0,12787.0,5053.0,6086.0,4483.0,5458.0,19777.0,5558.0,4732.0,5916.0,4736.0,2971.0,8908.0,7961.0,145016.0,7562.0,3053.0,7506.0,4601.0,2264.0,4015.0,3841.0,3477.0,2217.0,1713.0,2913.0,3180.0,3097.0,2084.0,1756.0,3225.0,1821.0,3804.0,2599.0,1925.0,1499.0,2357.0,1882.0,2029.0,1448.0,2432.0,1363.0,943.0,1919.0,869.0,987.0,1130.0,1176.0,999.0,625.0,677.0,704.0,332.0,404.0,489.0,264.0,485.0,279.0,371.0],\"xaxis\":\"x\",\"y\":[4103.0,3585.0,3924.0,4567.0,2973.0,4481.0,3577.0,3073.0,9366.0,2864.0,1994.0,4179.0,2486.0,3320.0,1865.0,857.0,7065.0,1805.0,3318.0,3889.0,5285.0,3695.0,2566.0,688.0,2426.0,1337.0,3164.0,1832.0,1851.0,2032.0,1580.0,10204.0,1674.0,1149.0,1668.0,1188.0,568.0,3635.0,2208.0,70826.0,2507.0,724.0,2553.0,1496.0,431.0,1285.0,1103.0,941.0,523.0,406.0,784.0,1277.0,1127.0,552.0,493.0,417.0,503.0,1300.0,922.0,394.0,409.0,821.0,360.0,720.0,506.0,1137.0,503.0,196.0,785.0,213.0,219.0,328.0,484.0,421.0,186.0,162.0,250.0,103.0,189.0,172.0,95.0,195.0,74.0,182.0],\"yaxis\":\"y\",\"type\":\"scattergl\"},{\"hovertemplate\":\"p1=web_site<br>favorite_count=%{x}<br>retweet_count=%{y}<extra></extra>\",\"legendgroup\":\"web_site\",\"marker\":{\"color\":\"#FFA15A\",\"symbol\":\"circle\"},\"mode\":\"markers\",\"name\":\"web_site\",\"showlegend\":true,\"x\":[25751.0,1718.0,545.0,659.0],\"xaxis\":\"x\",\"y\":[4084.0,141.0,83.0,97.0],\"yaxis\":\"y\",\"type\":\"scattergl\"},{\"hovertemplate\":\"p1=weimaraner<br>favorite_count=%{x}<br>retweet_count=%{y}<extra></extra>\",\"legendgroup\":\"weimaraner\",\"marker\":{\"color\":\"#19d3f3\",\"symbol\":\"circle\"},\"mode\":\"markers\",\"name\":\"weimaraner\",\"showlegend\":true,\"x\":[21461.0,7269.0,4168.0,8192.0],\"xaxis\":\"x\",\"y\":[2857.0,1189.0,1270.0,3179.0],\"yaxis\":\"y\",\"type\":\"scattergl\"},{\"hovertemplate\":\"p1=saluki<br>favorite_count=%{x}<br>retweet_count=%{y}<extra></extra>\",\"legendgroup\":\"saluki\",\"marker\":{\"color\":\"#FF6692\",\"symbol\":\"circle\"},\"mode\":\"markers\",\"name\":\"saluki\",\"showlegend\":true,\"x\":[44593.0,24172.0,11559.0,2961.0],\"xaxis\":\"x\",\"y\":[8969.0,4351.0,2415.0,822.0],\"yaxis\":\"y\",\"type\":\"scattergl\"},{\"hovertemplate\":\"p1=miniature_pinscher<br>favorite_count=%{x}<br>retweet_count=%{y}<extra></extra>\",\"legendgroup\":\"miniature_pinscher\",\"marker\":{\"color\":\"#B6E880\",\"symbol\":\"circle\"},\"mode\":\"markers\",\"name\":\"miniature_pinscher\",\"showlegend\":true,\"x\":[24360.0,26127.0,9574.0,7695.0,7592.0,8332.0,8602.0,5466.0,3314.0,2900.0,3015.0,2247.0,3078.0,1715.0,12397.0,783.0,272.0,256.0,2382.0,89.0],\"xaxis\":\"x\",\"y\":[3656.0,5121.0,2591.0,1802.0,1521.0,2370.0,1843.0,2000.0,921.0,761.0,875.0,767.0,1222.0,383.0,5646.0,216.0,43.0,55.0,973.0,37.0],\"yaxis\":\"y\",\"type\":\"scattergl\"},{\"hovertemplate\":\"p1=german_short-haired_pointer<br>favorite_count=%{x}<br>retweet_count=%{y}<extra></extra>\",\"legendgroup\":\"german_short-haired_pointer\",\"marker\":{\"color\":\"#FF97FF\",\"symbol\":\"circle\"},\"mode\":\"markers\",\"name\":\"german_short-haired_pointer\",\"showlegend\":true,\"x\":[20724.0,10048.0,2163.0,2343.0,2091.0,991.0,624.0],\"xaxis\":\"x\",\"y\":[2630.0,3139.0,569.0,556.0,720.0,346.0,218.0],\"yaxis\":\"y\",\"type\":\"scattergl\"},{\"hovertemplate\":\"p1=english_springer<br>favorite_count=%{x}<br>retweet_count=%{y}<extra></extra>\",\"legendgroup\":\"english_springer\",\"marker\":{\"color\":\"#FECB52\",\"symbol\":\"circle\"},\"mode\":\"markers\",\"name\":\"english_springer\",\"showlegend\":true,\"x\":[92956.0,14853.0,1870.0,1478.0,1913.0,583.0,766.0,669.0],\"xaxis\":\"x\",\"y\":[37482.0,2800.0,458.0,222.0,535.0,86.0,319.0,238.0],\"yaxis\":\"y\",\"type\":\"scattergl\"},{\"hovertemplate\":\"p1=tricycle<br>favorite_count=%{x}<br>retweet_count=%{y}<extra></extra>\",\"legendgroup\":\"tricycle\",\"marker\":{\"color\":\"#636efa\",\"symbol\":\"circle\"},\"mode\":\"markers\",\"name\":\"tricycle\",\"showlegend\":true,\"x\":[14874.0],\"xaxis\":\"x\",\"y\":[2652.0],\"yaxis\":\"y\",\"type\":\"scattergl\"},{\"hovertemplate\":\"p1=vizsla<br>favorite_count=%{x}<br>retweet_count=%{y}<extra></extra>\",\"legendgroup\":\"vizsla\",\"marker\":{\"color\":\"#EF553B\",\"symbol\":\"circle\"},\"mode\":\"markers\",\"name\":\"vizsla\",\"showlegend\":true,\"x\":[16802.0,12587.0,9750.0,8225.0,4843.0,2666.0,2079.0,2827.0,1313.0,445.0,166.0],\"xaxis\":\"x\",\"y\":[2245.0,3309.0,2220.0,2092.0,1613.0,673.0,598.0,1137.0,402.0,133.0,48.0],\"yaxis\":\"y\",\"type\":\"scattergl\"},{\"hovertemplate\":\"p1=bloodhound<br>favorite_count=%{x}<br>retweet_count=%{y}<extra></extra>\",\"legendgroup\":\"bloodhound\",\"marker\":{\"color\":\"#00cc96\",\"symbol\":\"circle\"},\"mode\":\"markers\",\"name\":\"bloodhound\",\"showlegend\":true,\"x\":[18236.0,14922.0,25901.0,2024.0,2207.0,2861.0,143.0],\"xaxis\":\"x\",\"y\":[2807.0,3128.0,5995.0,509.0,503.0,998.0,63.0],\"yaxis\":\"y\",\"type\":\"scattergl\"},{\"hovertemplate\":\"p1=bernese_mountain_dog<br>favorite_count=%{x}<br>retweet_count=%{y}<extra></extra>\",\"legendgroup\":\"bernese_mountain_dog\",\"marker\":{\"color\":\"#ab63fa\",\"symbol\":\"circle\"},\"mode\":\"markers\",\"name\":\"bernese_mountain_dog\",\"showlegend\":true,\"x\":[24709.0,5023.0,7811.0,4625.0,6090.0,2290.0,2441.0,3788.0,1261.0,115.0],\"xaxis\":\"x\",\"y\":[3909.0,1193.0,1810.0,1107.0,1652.0,580.0,755.0,1284.0,469.0,50.0],\"yaxis\":\"y\",\"type\":\"scattergl\"},{\"hovertemplate\":\"p1=west_highland_white_terrier<br>favorite_count=%{x}<br>retweet_count=%{y}<extra></extra>\",\"legendgroup\":\"west_highland_white_terrier\",\"marker\":{\"color\":\"#FFA15A\",\"symbol\":\"circle\"},\"mode\":\"markers\",\"name\":\"west_highland_white_terrier\",\"showlegend\":true,\"x\":[22571.0,19734.0,11598.0,7167.0,2799.0,3038.0,1922.0,2121.0,1156.0,685.0,992.0,388.0,204.0],\"xaxis\":\"x\",\"y\":[3977.0,3006.0,3006.0,1363.0,627.0,956.0,532.0,841.0,528.0,185.0,520.0,120.0,44.0],\"yaxis\":\"y\",\"type\":\"scattergl\"},{\"hovertemplate\":\"p1=cocker_spaniel<br>favorite_count=%{x}<br>retweet_count=%{y}<extra></extra>\",\"legendgroup\":\"cocker_spaniel\",\"marker\":{\"color\":\"#19d3f3\",\"symbol\":\"circle\"},\"mode\":\"markers\",\"name\":\"cocker_spaniel\",\"showlegend\":true,\"x\":[22986.0,18340.0,11192.0,13990.0,8778.0,10102.0,7199.0,12743.0,9318.0,18779.0,3019.0,3304.0,3799.0,1390.0,3744.0,1570.0,2867.0,3151.0,942.0,1194.0,907.0,312.0,241.0],\"xaxis\":\"x\",\"y\":[3486.0,3070.0,1896.0,2736.0,1706.0,2639.0,1655.0,4021.0,1992.0,6664.0,744.0,1038.0,993.0,219.0,1227.0,552.0,900.0,820.0,248.0,448.0,320.0,62.0,63.0],\"yaxis\":\"y\",\"type\":\"scattergl\"},{\"hovertemplate\":\"p1=flat-coated_retriever<br>favorite_count=%{x}<br>retweet_count=%{y}<extra></extra>\",\"legendgroup\":\"flat-coated_retriever\",\"marker\":{\"color\":\"#FF6692\",\"symbol\":\"circle\"},\"mode\":\"markers\",\"name\":\"flat-coated_retriever\",\"showlegend\":true,\"x\":[20137.0,17150.0,41937.0,23309.0,8555.0,3606.0,1283.0,284.0],\"xaxis\":\"x\",\"y\":[3382.0,2975.0,16151.0,3935.0,1647.0,1248.0,430.0,82.0],\"yaxis\":\"y\",\"type\":\"scattergl\"},{\"hovertemplate\":\"p1=cardigan<br>favorite_count=%{x}<br>retweet_count=%{y}<extra></extra>\",\"legendgroup\":\"cardigan\",\"marker\":{\"color\":\"#B6E880\",\"symbol\":\"circle\"},\"mode\":\"markers\",\"name\":\"cardigan\",\"showlegend\":true,\"x\":[30153.0,32326.0,14985.0,17382.0,15886.0,9167.0,7325.0,8656.0,5143.0,6302.0,3997.0,1279.0,2954.0],\"xaxis\":\"x\",\"y\":[8603.0,9281.0,3133.0,3099.0,3332.0,1871.0,1831.0,2256.0,1479.0,1780.0,1415.0,326.0,1132.0],\"yaxis\":\"y\",\"type\":\"scattergl\"},{\"hovertemplate\":\"p1=newfoundland<br>favorite_count=%{x}<br>retweet_count=%{y}<extra></extra>\",\"legendgroup\":\"newfoundland\",\"marker\":{\"color\":\"#FF97FF\",\"symbol\":\"circle\"},\"mode\":\"markers\",\"name\":\"newfoundland\",\"showlegend\":true,\"x\":[21402.0,6120.0,3952.0,2263.0,1426.0],\"xaxis\":\"x\",\"y\":[3345.0,1588.0,1086.0,572.0,632.0],\"yaxis\":\"y\",\"type\":\"scattergl\"},{\"hovertemplate\":\"p1=basketball<br>favorite_count=%{x}<br>retweet_count=%{y}<extra></extra>\",\"legendgroup\":\"basketball\",\"marker\":{\"color\":\"#FECB52\",\"symbol\":\"circle\"},\"mode\":\"markers\",\"name\":\"basketball\",\"showlegend\":true,\"x\":[30260.0],\"xaxis\":\"x\",\"y\":[6836.0],\"yaxis\":\"y\",\"type\":\"scattergl\"},{\"hovertemplate\":\"p1=shetland_sheepdog<br>favorite_count=%{x}<br>retweet_count=%{y}<extra></extra>\",\"legendgroup\":\"shetland_sheepdog\",\"marker\":{\"color\":\"#636efa\",\"symbol\":\"circle\"},\"mode\":\"markers\",\"name\":\"shetland_sheepdog\",\"showlegend\":true,\"x\":[33139.0,18816.0,18656.0,9291.0,13652.0,3462.0,4901.0,3330.0,6770.0,5234.0,2432.0,2792.0,3744.0,1615.0,1799.0,966.0,521.0,383.0],\"xaxis\":\"x\",\"y\":[9259.0,4387.0,3559.0,2584.0,3830.0,696.0,1444.0,743.0,2058.0,1443.0,619.0,1138.0,1028.0,326.0,637.0,487.0,209.0,107.0],\"yaxis\":\"y\",\"type\":\"scattergl\"},{\"hovertemplate\":\"p1=komondor<br>favorite_count=%{x}<br>retweet_count=%{y}<extra></extra>\",\"legendgroup\":\"komondor\",\"marker\":{\"color\":\"#EF553B\",\"symbol\":\"circle\"},\"mode\":\"markers\",\"name\":\"komondor\",\"showlegend\":true,\"x\":[17910.0,6788.0,921.0],\"xaxis\":\"x\",\"y\":[2945.0,1674.0,435.0],\"yaxis\":\"y\",\"type\":\"scattergl\"},{\"hovertemplate\":\"p1=kelpie<br>favorite_count=%{x}<br>retweet_count=%{y}<extra></extra>\",\"legendgroup\":\"kelpie\",\"marker\":{\"color\":\"#00cc96\",\"symbol\":\"circle\"},\"mode\":\"markers\",\"name\":\"kelpie\",\"showlegend\":true,\"x\":[20180.0,10272.0,8148.0,5396.0,3666.0,11360.0,3231.0,5442.0,354.0],\"xaxis\":\"x\",\"y\":[3230.0,1234.0,1520.0,1962.0,1129.0,3146.0,1056.0,2316.0,126.0],\"yaxis\":\"y\",\"type\":\"scattergl\"},{\"hovertemplate\":\"p1=greater_swiss_mountain_dog<br>favorite_count=%{x}<br>retweet_count=%{y}<extra></extra>\",\"legendgroup\":\"greater_swiss_mountain_dog\",\"marker\":{\"color\":\"#ab63fa\",\"symbol\":\"circle\"},\"mode\":\"markers\",\"name\":\"greater_swiss_mountain_dog\",\"showlegend\":true,\"x\":[19502.0,6616.0,1181.0],\"xaxis\":\"x\",\"y\":[3553.0,1371.0,385.0],\"yaxis\":\"y\",\"type\":\"scattergl\"},{\"hovertemplate\":\"p1=border_collie<br>favorite_count=%{x}<br>retweet_count=%{y}<extra></extra>\",\"legendgroup\":\"border_collie\",\"marker\":{\"color\":\"#FFA15A\",\"symbol\":\"circle\"},\"mode\":\"markers\",\"name\":\"border_collie\",\"showlegend\":true,\"x\":[30276.0,24626.0,9319.0,7987.0,4275.0,2738.0,3991.0,1772.0,2459.0,2967.0,640.0,994.0],\"xaxis\":\"x\",\"y\":[6261.0,5314.0,2124.0,2006.0,1042.0,577.0,1626.0,347.0,552.0,948.0,110.0,526.0],\"yaxis\":\"y\",\"type\":\"scattergl\"},{\"hovertemplate\":\"p1=bull_mastiff<br>favorite_count=%{x}<br>retweet_count=%{y}<extra></extra>\",\"legendgroup\":\"bull_mastiff\",\"marker\":{\"color\":\"#19d3f3\",\"symbol\":\"circle\"},\"mode\":\"markers\",\"name\":\"bull_mastiff\",\"showlegend\":true,\"x\":[13086.0,7162.0,3906.0,1185.0,650.0],\"xaxis\":\"x\",\"y\":[2588.0,1787.0,1006.0,393.0,200.0],\"yaxis\":\"y\",\"type\":\"scattergl\"},{\"hovertemplate\":\"p1=staffordshire_bullterrier<br>favorite_count=%{x}<br>retweet_count=%{y}<extra></extra>\",\"legendgroup\":\"staffordshire_bullterrier\",\"marker\":{\"color\":\"#FF6692\",\"symbol\":\"circle\"},\"mode\":\"markers\",\"name\":\"staffordshire_bullterrier\",\"showlegend\":true,\"x\":[21335.0,18406.0,12565.0,16697.0,6922.0,7374.0,6471.0,3075.0,3369.0,3623.0,1808.0,2870.0,1419.0,2205.0,3658.0,969.0,360.0],\"xaxis\":\"x\",\"y\":[4563.0,5264.0,2076.0,3308.0,1312.0,1599.0,1209.0,804.0,713.0,1171.0,503.0,667.0,307.0,660.0,1374.0,204.0,115.0],\"yaxis\":\"y\",\"type\":\"scattergl\"},{\"hovertemplate\":\"p1=australian_terrier<br>favorite_count=%{x}<br>retweet_count=%{y}<extra></extra>\",\"legendgroup\":\"australian_terrier\",\"marker\":{\"color\":\"#B6E880\",\"symbol\":\"circle\"},\"mode\":\"markers\",\"name\":\"australian_terrier\",\"showlegend\":true,\"x\":[17232.0,1887.0],\"xaxis\":\"x\",\"y\":[4464.0,546.0],\"yaxis\":\"y\",\"type\":\"scattergl\"},{\"hovertemplate\":\"p1=syringe<br>favorite_count=%{x}<br>retweet_count=%{y}<extra></extra>\",\"legendgroup\":\"syringe\",\"marker\":{\"color\":\"#FF97FF\",\"symbol\":\"circle\"},\"mode\":\"markers\",\"name\":\"syringe\",\"showlegend\":true,\"x\":[15364.0],\"xaxis\":\"x\",\"y\":[3595.0],\"yaxis\":\"y\",\"type\":\"scattergl\"},{\"hovertemplate\":\"p1=bedlington_terrier<br>favorite_count=%{x}<br>retweet_count=%{y}<extra></extra>\",\"legendgroup\":\"bedlington_terrier\",\"marker\":{\"color\":\"#FECB52\",\"symbol\":\"circle\"},\"mode\":\"markers\",\"name\":\"bedlington_terrier\",\"showlegend\":true,\"x\":[21288.0,15058.0,11894.0,3600.0,3987.0],\"xaxis\":\"x\",\"y\":[4609.0,2722.0,2065.0,1010.0,1110.0],\"yaxis\":\"y\",\"type\":\"scattergl\"},{\"hovertemplate\":\"p1=boston_bull<br>favorite_count=%{x}<br>retweet_count=%{y}<extra></extra>\",\"legendgroup\":\"boston_bull\",\"marker\":{\"color\":\"#636efa\",\"symbol\":\"circle\"},\"mode\":\"markers\",\"name\":\"boston_bull\",\"showlegend\":true,\"x\":[14852.0,9751.0,7158.0,4529.0,2289.0,2444.0,1913.0,2451.0,2088.0],\"xaxis\":\"x\",\"y\":[2553.0,3065.0,2128.0,1468.0,696.0,719.0,492.0,582.0,701.0],\"yaxis\":\"y\",\"type\":\"scattergl\"},{\"hovertemplate\":\"p1=black-and-tan_coonhound<br>favorite_count=%{x}<br>retweet_count=%{y}<extra></extra>\",\"legendgroup\":\"black-and-tan_coonhound\",\"marker\":{\"color\":\"#EF553B\",\"symbol\":\"circle\"},\"mode\":\"markers\",\"name\":\"black-and-tan_coonhound\",\"showlegend\":true,\"x\":[29274.0,93.0],\"xaxis\":\"x\",\"y\":[6603.0,30.0],\"yaxis\":\"y\",\"type\":\"scattergl\"},{\"hovertemplate\":\"p1=great_dane<br>favorite_count=%{x}<br>retweet_count=%{y}<extra></extra>\",\"legendgroup\":\"great_dane\",\"marker\":{\"color\":\"#00cc96\",\"symbol\":\"circle\"},\"mode\":\"markers\",\"name\":\"great_dane\",\"showlegend\":true,\"x\":[8267.0,10018.0,10048.0,5004.0,3779.0,2210.0,3049.0,2855.0,2856.0],\"xaxis\":\"x\",\"y\":[1602.0,2065.0,3394.0,1005.0,1444.0,618.0,909.0,1059.0,1041.0],\"yaxis\":\"y\",\"type\":\"scattergl\"},{\"hovertemplate\":\"p1=barrow<br>favorite_count=%{x}<br>retweet_count=%{y}<extra></extra>\",\"legendgroup\":\"barrow\",\"marker\":{\"color\":\"#ab63fa\",\"symbol\":\"circle\"},\"mode\":\"markers\",\"name\":\"barrow\",\"showlegend\":true,\"x\":[10585.0,3332.0,6555.0],\"xaxis\":\"x\",\"y\":[1421.0,843.0,2316.0],\"yaxis\":\"y\",\"type\":\"scattergl\"},{\"hovertemplate\":\"p1=car_mirror<br>favorite_count=%{x}<br>retweet_count=%{y}<extra></extra>\",\"legendgroup\":\"car_mirror\",\"marker\":{\"color\":\"#FFA15A\",\"symbol\":\"circle\"},\"mode\":\"markers\",\"name\":\"car_mirror\",\"showlegend\":true,\"x\":[19078.0,2184.0,2024.0,1630.0],\"xaxis\":\"x\",\"y\":[5183.0,588.0,462.0,893.0],\"yaxis\":\"y\",\"type\":\"scattergl\"},{\"hovertemplate\":\"p1=yorkshire_terrier<br>favorite_count=%{x}<br>retweet_count=%{y}<extra></extra>\",\"legendgroup\":\"yorkshire_terrier\",\"marker\":{\"color\":\"#19d3f3\",\"symbol\":\"circle\"},\"mode\":\"markers\",\"name\":\"yorkshire_terrier\",\"showlegend\":true,\"x\":[12099.0,7005.0,2565.0,2586.0,3019.0,6916.0,586.0,176.0],\"xaxis\":\"x\",\"y\":[2336.0,1575.0,969.0,841.0,792.0,2599.0,192.0,58.0],\"yaxis\":\"y\",\"type\":\"scattergl\"},{\"hovertemplate\":\"p1=tennis_ball<br>favorite_count=%{x}<br>retweet_count=%{y}<extra></extra>\",\"legendgroup\":\"tennis_ball\",\"marker\":{\"color\":\"#FF6692\",\"symbol\":\"circle\"},\"mode\":\"markers\",\"name\":\"tennis_ball\",\"showlegend\":true,\"x\":[15077.0,14758.0,7444.0,4878.0,2346.0,2062.0,2120.0],\"xaxis\":\"x\",\"y\":[3404.0,2877.0,2290.0,1696.0,643.0,611.0,994.0],\"yaxis\":\"y\",\"type\":\"scattergl\"},{\"hovertemplate\":\"p1=schipperke<br>favorite_count=%{x}<br>retweet_count=%{y}<extra></extra>\",\"legendgroup\":\"schipperke\",\"marker\":{\"color\":\"#B6E880\",\"symbol\":\"circle\"},\"mode\":\"markers\",\"name\":\"schipperke\",\"showlegend\":true,\"x\":[14696.0,10072.0,3895.0,2750.0,2264.0,6075.0,3829.0,1979.0],\"xaxis\":\"x\",\"y\":[2838.0,2542.0,1545.0,807.0,577.0,1801.0,1611.0,725.0],\"yaxis\":\"y\",\"type\":\"scattergl\"},{\"hovertemplate\":\"p1=airedale<br>favorite_count=%{x}<br>retweet_count=%{y}<extra></extra>\",\"legendgroup\":\"airedale\",\"marker\":{\"color\":\"#FF97FF\",\"symbol\":\"circle\"},\"mode\":\"markers\",\"name\":\"airedale\",\"showlegend\":true,\"x\":[19014.0,10771.0,4347.0,5990.0,2021.0,2936.0,2188.0,3169.0,891.0,1279.0,1180.0,185.0],\"xaxis\":\"x\",\"y\":[3927.0,2456.0,943.0,1409.0,556.0,874.0,687.0,1031.0,246.0,619.0,634.0,66.0],\"yaxis\":\"y\",\"type\":\"scattergl\"},{\"hovertemplate\":\"p1=white_wolf<br>favorite_count=%{x}<br>retweet_count=%{y}<extra></extra>\",\"legendgroup\":\"white_wolf\",\"marker\":{\"color\":\"#FECB52\",\"symbol\":\"circle\"},\"mode\":\"markers\",\"name\":\"white_wolf\",\"showlegend\":true,\"x\":[19906.0,2049.0,2814.0],\"xaxis\":\"x\",\"y\":[2886.0,511.0,1048.0],\"yaxis\":\"y\",\"type\":\"scattergl\"},{\"hovertemplate\":\"p1=giant_schnauzer<br>favorite_count=%{x}<br>retweet_count=%{y}<extra></extra>\",\"legendgroup\":\"giant_schnauzer\",\"marker\":{\"color\":\"#636efa\",\"symbol\":\"circle\"},\"mode\":\"markers\",\"name\":\"giant_schnauzer\",\"showlegend\":true,\"x\":[29163.0,186.0],\"xaxis\":\"x\",\"y\":[8195.0,72.0],\"yaxis\":\"y\",\"type\":\"scattergl\"},{\"hovertemplate\":\"p1=dandie_dinmont<br>favorite_count=%{x}<br>retweet_count=%{y}<extra></extra>\",\"legendgroup\":\"dandie_dinmont\",\"marker\":{\"color\":\"#EF553B\",\"symbol\":\"circle\"},\"mode\":\"markers\",\"name\":\"dandie_dinmont\",\"showlegend\":true,\"x\":[7100.0,3187.0,4304.0,1814.0,968.0,215.0],\"xaxis\":\"x\",\"y\":[1624.0,861.0,1536.0,543.0,328.0,35.0],\"yaxis\":\"y\",\"type\":\"scattergl\"},{\"hovertemplate\":\"p1=irish_water_spaniel<br>favorite_count=%{x}<br>retweet_count=%{y}<extra></extra>\",\"legendgroup\":\"irish_water_spaniel\",\"marker\":{\"color\":\"#00cc96\",\"symbol\":\"circle\"},\"mode\":\"markers\",\"name\":\"irish_water_spaniel\",\"showlegend\":true,\"x\":[21669.0,1755.0],\"xaxis\":\"x\",\"y\":[4875.0,593.0],\"yaxis\":\"y\",\"type\":\"scattergl\"},{\"hovertemplate\":\"p1=tub<br>favorite_count=%{x}<br>retweet_count=%{y}<extra></extra>\",\"legendgroup\":\"tub\",\"marker\":{\"color\":\"#ab63fa\",\"symbol\":\"circle\"},\"mode\":\"markers\",\"name\":\"tub\",\"showlegend\":true,\"x\":[6309.0],\"xaxis\":\"x\",\"y\":[1178.0],\"yaxis\":\"y\",\"type\":\"scattergl\"},{\"hovertemplate\":\"p1=military_uniform<br>favorite_count=%{x}<br>retweet_count=%{y}<extra></extra>\",\"legendgroup\":\"military_uniform\",\"marker\":{\"color\":\"#FFA15A\",\"symbol\":\"circle\"},\"mode\":\"markers\",\"name\":\"military_uniform\",\"showlegend\":true,\"x\":[11769.0],\"xaxis\":\"x\",\"y\":[3341.0],\"yaxis\":\"y\",\"type\":\"scattergl\"},{\"hovertemplate\":\"p1=afghan_hound<br>favorite_count=%{x}<br>retweet_count=%{y}<extra></extra>\",\"legendgroup\":\"afghan_hound\",\"marker\":{\"color\":\"#19d3f3\",\"symbol\":\"circle\"},\"mode\":\"markers\",\"name\":\"afghan_hound\",\"showlegend\":true,\"x\":[14782.0,6000.0],\"xaxis\":\"x\",\"y\":[4247.0,1517.0],\"yaxis\":\"y\",\"type\":\"scattergl\"},{\"hovertemplate\":\"p1=leonberg<br>favorite_count=%{x}<br>retweet_count=%{y}<extra></extra>\",\"legendgroup\":\"leonberg\",\"marker\":{\"color\":\"#FF6692\",\"symbol\":\"circle\"},\"mode\":\"markers\",\"name\":\"leonberg\",\"showlegend\":true,\"x\":[25289.0,10061.0,2650.0],\"xaxis\":\"x\",\"y\":[5958.0,2368.0,940.0],\"yaxis\":\"y\",\"type\":\"scattergl\"},{\"hovertemplate\":\"p1=border_terrier<br>favorite_count=%{x}<br>retweet_count=%{y}<extra></extra>\",\"legendgroup\":\"border_terrier\",\"marker\":{\"color\":\"#B6E880\",\"symbol\":\"circle\"},\"mode\":\"markers\",\"name\":\"border_terrier\",\"showlegend\":true,\"x\":[10446.0,20264.0,11548.0,14081.0,1574.0,2070.0],\"xaxis\":\"x\",\"y\":[1859.0,5121.0,1798.0,3279.0,439.0,471.0],\"yaxis\":\"y\",\"type\":\"scattergl\"},{\"hovertemplate\":\"p1=great_pyrenees<br>favorite_count=%{x}<br>retweet_count=%{y}<extra></extra>\",\"legendgroup\":\"great_pyrenees\",\"marker\":{\"color\":\"#FF97FF\",\"symbol\":\"circle\"},\"mode\":\"markers\",\"name\":\"great_pyrenees\",\"showlegend\":true,\"x\":[21030.0,34088.0,12034.0,6355.0,4739.0,5407.0,3827.0,4105.0,11359.0,4082.0,2701.0,20766.0,1180.0],\"xaxis\":\"x\",\"y\":[4357.0,9361.0,2338.0,1675.0,1190.0,1594.0,1286.0,1191.0,4524.0,1465.0,845.0,13821.0,532.0],\"yaxis\":\"y\",\"type\":\"scattergl\"},{\"hovertemplate\":\"p1=norwegian_elkhound<br>favorite_count=%{x}<br>retweet_count=%{y}<extra></extra>\",\"legendgroup\":\"norwegian_elkhound\",\"marker\":{\"color\":\"#FECB52\",\"symbol\":\"circle\"},\"mode\":\"markers\",\"name\":\"norwegian_elkhound\",\"showlegend\":true,\"x\":[12014.0,11227.0,7895.0,16014.0,4841.0,761.0],\"xaxis\":\"x\",\"y\":[2066.0,2924.0,1804.0,5100.0,1342.0,334.0],\"yaxis\":\"y\",\"type\":\"scattergl\"},{\"hovertemplate\":\"p1=shopping_cart<br>favorite_count=%{x}<br>retweet_count=%{y}<extra></extra>\",\"legendgroup\":\"shopping_cart\",\"marker\":{\"color\":\"#636efa\",\"symbol\":\"circle\"},\"mode\":\"markers\",\"name\":\"shopping_cart\",\"showlegend\":true,\"x\":[11982.0,3229.0,248.0],\"xaxis\":\"x\",\"y\":[2123.0,1327.0,112.0],\"yaxis\":\"y\",\"type\":\"scattergl\"},{\"hovertemplate\":\"p1=mortarboard<br>favorite_count=%{x}<br>retweet_count=%{y}<extra></extra>\",\"legendgroup\":\"mortarboard\",\"marker\":{\"color\":\"#EF553B\",\"symbol\":\"circle\"},\"mode\":\"markers\",\"name\":\"mortarboard\",\"showlegend\":true,\"x\":[18174.0],\"xaxis\":\"x\",\"y\":[4276.0],\"yaxis\":\"y\",\"type\":\"scattergl\"},{\"hovertemplate\":\"p1=borzoi<br>favorite_count=%{x}<br>retweet_count=%{y}<extra></extra>\",\"legendgroup\":\"borzoi\",\"marker\":{\"color\":\"#00cc96\",\"symbol\":\"circle\"},\"mode\":\"markers\",\"name\":\"borzoi\",\"showlegend\":true,\"x\":[20007.0,5421.0,4866.0,2275.0,2940.0,2770.0,5374.0,459.0],\"xaxis\":\"x\",\"y\":[3990.0,2064.0,1126.0,591.0,1056.0,797.0,2246.0,190.0],\"yaxis\":\"y\",\"type\":\"scattergl\"},{\"hovertemplate\":\"p1=rottweiler<br>favorite_count=%{x}<br>retweet_count=%{y}<extra></extra>\",\"legendgroup\":\"rottweiler\",\"marker\":{\"color\":\"#ab63fa\",\"symbol\":\"circle\"},\"mode\":\"markers\",\"name\":\"rottweiler\",\"showlegend\":true,\"x\":[15472.0,54024.0,6853.0,9653.0,9036.0,3812.0,2393.0,1765.0,3416.0,3261.0,1347.0,1551.0,979.0,589.0,266.0,331.0],\"xaxis\":\"x\",\"y\":[2749.0,16373.0,1118.0,2869.0,2337.0,1369.0,602.0,530.0,1240.0,1180.0,495.0,597.0,284.0,128.0,76.0,86.0],\"yaxis\":\"y\",\"type\":\"scattergl\"},{\"hovertemplate\":\"p1=swing<br>favorite_count=%{x}<br>retweet_count=%{y}<extra></extra>\",\"legendgroup\":\"swing\",\"marker\":{\"color\":\"#FFA15A\",\"symbol\":\"circle\"},\"mode\":\"markers\",\"name\":\"swing\",\"showlegend\":true,\"x\":[21001.0,10285.0,6873.0,2609.0,73580.0],\"xaxis\":\"x\",\"y\":[2767.0,2277.0,3161.0,692.0,28631.0],\"yaxis\":\"y\",\"type\":\"scattergl\"},{\"hovertemplate\":\"p1=ice_bear<br>favorite_count=%{x}<br>retweet_count=%{y}<extra></extra>\",\"legendgroup\":\"ice_bear\",\"marker\":{\"color\":\"#19d3f3\",\"symbol\":\"circle\"},\"mode\":\"markers\",\"name\":\"ice_bear\",\"showlegend\":true,\"x\":[10130.0,4923.0],\"xaxis\":\"x\",\"y\":[1497.0,1423.0],\"yaxis\":\"y\",\"type\":\"scattergl\"},{\"hovertemplate\":\"p1=toilet_tissue<br>favorite_count=%{x}<br>retweet_count=%{y}<extra></extra>\",\"legendgroup\":\"toilet_tissue\",\"marker\":{\"color\":\"#FF6692\",\"symbol\":\"circle\"},\"mode\":\"markers\",\"name\":\"toilet_tissue\",\"showlegend\":true,\"x\":[12842.0,1336.0],\"xaxis\":\"x\",\"y\":[2321.0,490.0],\"yaxis\":\"y\",\"type\":\"scattergl\"},{\"hovertemplate\":\"p1=rhodesian_ridgeback<br>favorite_count=%{x}<br>retweet_count=%{y}<extra></extra>\",\"legendgroup\":\"rhodesian_ridgeback\",\"marker\":{\"color\":\"#B6E880\",\"symbol\":\"circle\"},\"mode\":\"markers\",\"name\":\"rhodesian_ridgeback\",\"showlegend\":true,\"x\":[9051.0,2285.0,2285.0,246.0],\"xaxis\":\"x\",\"y\":[1554.0,453.0,367.0,115.0],\"yaxis\":\"y\",\"type\":\"scattergl\"},{\"hovertemplate\":\"p1=bath_towel<br>favorite_count=%{x}<br>retweet_count=%{y}<extra></extra>\",\"legendgroup\":\"bath_towel\",\"marker\":{\"color\":\"#FF97FF\",\"symbol\":\"circle\"},\"mode\":\"markers\",\"name\":\"bath_towel\",\"showlegend\":true,\"x\":[12273.0,7581.0,3504.0,2118.0,2157.0],\"xaxis\":\"x\",\"y\":[2045.0,1802.0,1047.0,524.0,752.0],\"yaxis\":\"y\",\"type\":\"scattergl\"},{\"hovertemplate\":\"p1=boxer<br>favorite_count=%{x}<br>retweet_count=%{y}<extra></extra>\",\"legendgroup\":\"boxer\",\"marker\":{\"color\":\"#FECB52\",\"symbol\":\"circle\"},\"mode\":\"markers\",\"name\":\"boxer\",\"showlegend\":true,\"x\":[12464.0,50347.0,4809.0,2463.0,3023.0,2083.0,1830.0,2000.0,1540.0,876.0],\"xaxis\":\"x\",\"y\":[2026.0,15147.0,1613.0,513.0,1025.0,873.0,451.0,672.0,426.0,202.0],\"yaxis\":\"y\",\"type\":\"scattergl\"},{\"hovertemplate\":\"p1=pekinese<br>favorite_count=%{x}<br>retweet_count=%{y}<extra></extra>\",\"legendgroup\":\"pekinese\",\"marker\":{\"color\":\"#636efa\",\"symbol\":\"circle\"},\"mode\":\"markers\",\"name\":\"pekinese\",\"showlegend\":true,\"x\":[11266.0,17288.0,7166.0,9935.0,10473.0,6838.0,4359.0,3682.0,2527.0,1578.0,1275.0,382.0,2471.0],\"xaxis\":\"x\",\"y\":[2041.0,4191.0,1480.0,2425.0,3897.0,2637.0,1214.0,967.0,807.0,327.0,377.0,109.0,1385.0],\"yaxis\":\"y\",\"type\":\"scattergl\"},{\"hovertemplate\":\"p1=old_english_sheepdog<br>favorite_count=%{x}<br>retweet_count=%{y}<extra></extra>\",\"legendgroup\":\"old_english_sheepdog\",\"marker\":{\"color\":\"#EF553B\",\"symbol\":\"circle\"},\"mode\":\"markers\",\"name\":\"old_english_sheepdog\",\"showlegend\":true,\"x\":[8777.0,11971.0,8783.0,5061.0,25125.0,2840.0,2751.0,4157.0,4216.0,2807.0,1050.0],\"xaxis\":\"x\",\"y\":[1447.0,2128.0,1751.0,1226.0,10583.0,758.0,570.0,1146.0,1900.0,1047.0,428.0],\"yaxis\":\"y\",\"type\":\"scattergl\"},{\"hovertemplate\":\"p1=briard<br>favorite_count=%{x}<br>retweet_count=%{y}<extra></extra>\",\"legendgroup\":\"briard\",\"marker\":{\"color\":\"#00cc96\",\"symbol\":\"circle\"},\"mode\":\"markers\",\"name\":\"briard\",\"showlegend\":true,\"x\":[6184.0,2319.0],\"xaxis\":\"x\",\"y\":[1040.0,930.0],\"yaxis\":\"y\",\"type\":\"scattergl\"},{\"hovertemplate\":\"p1=toy_poodle<br>favorite_count=%{x}<br>retweet_count=%{y}<extra></extra>\",\"legendgroup\":\"toy_poodle\",\"marker\":{\"color\":\"#ab63fa\",\"symbol\":\"circle\"},\"mode\":\"markers\",\"name\":\"toy_poodle\",\"showlegend\":true,\"x\":[9190.0,4611.0,8143.0,9569.0,6356.0,7425.0,4473.0,3381.0,4347.0,7318.0,3154.0,3537.0,3074.0,5042.0,2495.0,3034.0,3551.0,4361.0,2048.0,1795.0,1735.0,636.0,760.0,1185.0,973.0,676.0,6250.0,912.0,337.0,302.0,225.0,218.0],\"xaxis\":\"x\",\"y\":[2708.0,1114.0,1656.0,2653.0,1737.0,2836.0,1253.0,1185.0,991.0,2452.0,866.0,792.0,673.0,1787.0,870.0,896.0,934.0,1723.0,581.0,317.0,419.0,111.0,181.0,472.0,337.0,202.0,3134.0,278.0,104.0,107.0,85.0,70.0],\"yaxis\":\"y\",\"type\":\"scattergl\"},{\"hovertemplate\":\"p1=seat_belt<br>favorite_count=%{x}<br>retweet_count=%{y}<extra></extra>\",\"legendgroup\":\"seat_belt\",\"marker\":{\"color\":\"#FFA15A\",\"symbol\":\"circle\"},\"mode\":\"markers\",\"name\":\"seat_belt\",\"showlegend\":true,\"x\":[24149.0,7516.0,7410.0,11395.0,8892.0,6946.0,4260.0,14162.0,6519.0,4022.0,2829.0,8566.0,3407.0,2226.0,1083.0,465.0,3133.0,349.0,305.0],\"xaxis\":\"x\",\"y\":[5410.0,2035.0,1628.0,4506.0,3009.0,2125.0,1114.0,6332.0,2135.0,1741.0,889.0,3709.0,1492.0,1019.0,252.0,142.0,1574.0,101.0,150.0],\"yaxis\":\"y\",\"type\":\"scattergl\"},{\"hovertemplate\":\"p1=hippopotamus<br>favorite_count=%{x}<br>retweet_count=%{y}<extra></extra>\",\"legendgroup\":\"hippopotamus\",\"marker\":{\"color\":\"#19d3f3\",\"symbol\":\"circle\"},\"mode\":\"markers\",\"name\":\"hippopotamus\",\"showlegend\":true,\"x\":[34323.0],\"xaxis\":\"x\",\"y\":[10355.0],\"yaxis\":\"y\",\"type\":\"scattergl\"},{\"hovertemplate\":\"p1=teddy<br>favorite_count=%{x}<br>retweet_count=%{y}<extra></extra>\",\"legendgroup\":\"teddy\",\"marker\":{\"color\":\"#FF6692\",\"symbol\":\"circle\"},\"mode\":\"markers\",\"name\":\"teddy\",\"showlegend\":true,\"x\":[6053.0,9698.0,10827.0,6911.0,6326.0,7062.0,1450.0,2719.0,2790.0,1896.0,477.0],\"xaxis\":\"x\",\"y\":[1083.0,2165.0,2994.0,1521.0,2215.0,2652.0,314.0,844.0,879.0,484.0,268.0],\"yaxis\":\"y\",\"type\":\"scattergl\"},{\"hovertemplate\":\"p1=american_staffordshire_terrier<br>favorite_count=%{x}<br>retweet_count=%{y}<extra></extra>\",\"legendgroup\":\"american_staffordshire_terrier\",\"marker\":{\"color\":\"#B6E880\",\"symbol\":\"circle\"},\"mode\":\"markers\",\"name\":\"american_staffordshire_terrier\",\"showlegend\":true,\"x\":[6995.0,9792.0,10971.0,11220.0,4482.0,2404.0,1058.0,2063.0,6333.0,2792.0,403.0],\"xaxis\":\"x\",\"y\":[996.0,2000.0,2894.0,2840.0,1920.0,723.0,225.0,605.0,3301.0,1324.0,182.0],\"yaxis\":\"y\",\"type\":\"scattergl\"},{\"hovertemplate\":\"p1=collie<br>favorite_count=%{x}<br>retweet_count=%{y}<extra></extra>\",\"legendgroup\":\"collie\",\"marker\":{\"color\":\"#FF97FF\",\"symbol\":\"circle\"},\"mode\":\"markers\",\"name\":\"collie\",\"showlegend\":true,\"x\":[14612.0,18958.0,5512.0,3432.0,2831.0,2196.0,1969.0,2023.0,1017.0],\"xaxis\":\"x\",\"y\":[2800.0,6172.0,1019.0,880.0,672.0,498.0,476.0,689.0,265.0],\"yaxis\":\"y\",\"type\":\"scattergl\"},{\"hovertemplate\":\"p1=english_setter<br>favorite_count=%{x}<br>retweet_count=%{y}<extra></extra>\",\"legendgroup\":\"english_setter\",\"marker\":{\"color\":\"#FECB52\",\"symbol\":\"circle\"},\"mode\":\"markers\",\"name\":\"english_setter\",\"showlegend\":true,\"x\":[9947.0,1409.0,2486.0,1288.0,206.0,66.0],\"xaxis\":\"x\",\"y\":[1649.0,398.0,815.0,594.0,79.0,11.0],\"yaxis\":\"y\",\"type\":\"scattergl\"},{\"hovertemplate\":\"p1=cairn<br>favorite_count=%{x}<br>retweet_count=%{y}<extra></extra>\",\"legendgroup\":\"cairn\",\"marker\":{\"color\":\"#636efa\",\"symbol\":\"circle\"},\"mode\":\"markers\",\"name\":\"cairn\",\"showlegend\":true,\"x\":[13224.0,1757.0,374.0],\"xaxis\":\"x\",\"y\":[2336.0,395.0,96.0],\"yaxis\":\"y\",\"type\":\"scattergl\"},{\"hovertemplate\":\"p1=dingo<br>favorite_count=%{x}<br>retweet_count=%{y}<extra></extra>\",\"legendgroup\":\"dingo\",\"marker\":{\"color\":\"#EF553B\",\"symbol\":\"circle\"},\"mode\":\"markers\",\"name\":\"dingo\",\"showlegend\":true,\"x\":[12287.0,9806.0,3832.0,8117.0,2358.0,33868.0,1057.0,531.0],\"xaxis\":\"x\",\"y\":[2448.0,2572.0,1107.0,3706.0,615.0,14924.0,257.0,171.0],\"yaxis\":\"y\",\"type\":\"scattergl\"},{\"hovertemplate\":\"p1=cowboy_boot<br>favorite_count=%{x}<br>retweet_count=%{y}<extra></extra>\",\"legendgroup\":\"cowboy_boot\",\"marker\":{\"color\":\"#00cc96\",\"symbol\":\"circle\"},\"mode\":\"markers\",\"name\":\"cowboy_boot\",\"showlegend\":true,\"x\":[14848.0],\"xaxis\":\"x\",\"y\":[3723.0],\"yaxis\":\"y\",\"type\":\"scattergl\"},{\"hovertemplate\":\"p1=bathtub<br>favorite_count=%{x}<br>retweet_count=%{y}<extra></extra>\",\"legendgroup\":\"bathtub\",\"marker\":{\"color\":\"#ab63fa\",\"symbol\":\"circle\"},\"mode\":\"markers\",\"name\":\"bathtub\",\"showlegend\":true,\"x\":[16390.0,8621.0],\"xaxis\":\"x\",\"y\":[3201.0,2714.0],\"yaxis\":\"y\",\"type\":\"scattergl\"},{\"hovertemplate\":\"p1=lakeland_terrier<br>favorite_count=%{x}<br>retweet_count=%{y}<extra></extra>\",\"legendgroup\":\"lakeland_terrier\",\"marker\":{\"color\":\"#FFA15A\",\"symbol\":\"circle\"},\"mode\":\"markers\",\"name\":\"lakeland_terrier\",\"showlegend\":true,\"x\":[124208.0,6572.0,6996.0,4845.0,2628.0,2121.0,2283.0,2697.0,3583.0,2348.0,1229.0,877.0,833.0,225.0],\"xaxis\":\"x\",\"y\":[39970.0,1869.0,1831.0,1202.0,912.0,547.0,867.0,700.0,1461.0,674.0,253.0,254.0,253.0,60.0],\"yaxis\":\"y\",\"type\":\"scattergl\"},{\"hovertemplate\":\"p1=malinois<br>favorite_count=%{x}<br>retweet_count=%{y}<extra></extra>\",\"legendgroup\":\"malinois\",\"marker\":{\"color\":\"#19d3f3\",\"symbol\":\"circle\"},\"mode\":\"markers\",\"name\":\"malinois\",\"showlegend\":true,\"x\":[12469.0,5490.0,3976.0,4076.0,2513.0,890.0,1216.0,647.0,383.0],\"xaxis\":\"x\",\"y\":[2111.0,1553.0,1053.0,1755.0,1112.0,170.0,675.0,184.0,112.0],\"yaxis\":\"y\",\"type\":\"scattergl\"},{\"hovertemplate\":\"p1=irish_setter<br>favorite_count=%{x}<br>retweet_count=%{y}<extra></extra>\",\"legendgroup\":\"irish_setter\",\"marker\":{\"color\":\"#FF6692\",\"symbol\":\"circle\"},\"mode\":\"markers\",\"name\":\"irish_setter\",\"showlegend\":true,\"x\":[11101.0,6298.0,2244.0],\"xaxis\":\"x\",\"y\":[3998.0,1354.0,441.0],\"yaxis\":\"y\",\"type\":\"scattergl\"},{\"hovertemplate\":\"p1=acorn_squash<br>favorite_count=%{x}<br>retweet_count=%{y}<extra></extra>\",\"legendgroup\":\"acorn_squash\",\"marker\":{\"color\":\"#B6E880\",\"symbol\":\"circle\"},\"mode\":\"markers\",\"name\":\"acorn_squash\",\"showlegend\":true,\"x\":[12641.0,986.0],\"xaxis\":\"x\",\"y\":[2880.0,345.0],\"yaxis\":\"y\",\"type\":\"scattergl\"},{\"hovertemplate\":\"p1=miniature_schnauzer<br>favorite_count=%{x}<br>retweet_count=%{y}<extra></extra>\",\"legendgroup\":\"miniature_schnauzer\",\"marker\":{\"color\":\"#FF97FF\",\"symbol\":\"circle\"},\"mode\":\"markers\",\"name\":\"miniature_schnauzer\",\"showlegend\":true,\"x\":[10430.0,2516.0,619.0,444.0],\"xaxis\":\"x\",\"y\":[2091.0,906.0,281.0,212.0],\"yaxis\":\"y\",\"type\":\"scattergl\"},{\"hovertemplate\":\"p1=curly-coated_retriever<br>favorite_count=%{x}<br>retweet_count=%{y}<extra></extra>\",\"legendgroup\":\"curly-coated_retriever\",\"marker\":{\"color\":\"#FECB52\",\"symbol\":\"circle\"},\"mode\":\"markers\",\"name\":\"curly-coated_retriever\",\"showlegend\":true,\"x\":[10233.0,1543.0,90.0],\"xaxis\":\"x\",\"y\":[2523.0,425.0,19.0],\"yaxis\":\"y\",\"type\":\"scattergl\"},{\"hovertemplate\":\"p1=dalmatian<br>favorite_count=%{x}<br>retweet_count=%{y}<extra></extra>\",\"legendgroup\":\"dalmatian\",\"marker\":{\"color\":\"#636efa\",\"symbol\":\"circle\"},\"mode\":\"markers\",\"name\":\"dalmatian\",\"showlegend\":true,\"x\":[7261.0,7683.0,4112.0,3412.0,4377.0,4399.0,2523.0,6331.0,589.0,610.0,448.0],\"xaxis\":\"x\",\"y\":[1188.0,1986.0,1006.0,881.0,1889.0,1846.0,1000.0,3007.0,245.0,285.0,181.0],\"yaxis\":\"y\",\"type\":\"scattergl\"},{\"hovertemplate\":\"p1=miniature_poodle<br>favorite_count=%{x}<br>retweet_count=%{y}<extra></extra>\",\"legendgroup\":\"miniature_poodle\",\"marker\":{\"color\":\"#EF553B\",\"symbol\":\"circle\"},\"mode\":\"markers\",\"name\":\"miniature_poodle\",\"showlegend\":true,\"x\":[8223.0,5449.0,5067.0,3314.0,719.0,421.0,209.0,99.0],\"xaxis\":\"x\",\"y\":[1742.0,1184.0,1362.0,1564.0,181.0,105.0,60.0,47.0],\"yaxis\":\"y\",\"type\":\"scattergl\"},{\"hovertemplate\":\"p1=doormat<br>favorite_count=%{x}<br>retweet_count=%{y}<extra></extra>\",\"legendgroup\":\"doormat\",\"marker\":{\"color\":\"#00cc96\",\"symbol\":\"circle\"},\"mode\":\"markers\",\"name\":\"doormat\",\"showlegend\":true,\"x\":[8816.0,8486.0,479.0],\"xaxis\":\"x\",\"y\":[1809.0,2614.0,140.0],\"yaxis\":\"y\",\"type\":\"scattergl\"},{\"hovertemplate\":\"p1=siamese_cat<br>favorite_count=%{x}<br>retweet_count=%{y}<extra></extra>\",\"legendgroup\":\"siamese_cat\",\"marker\":{\"color\":\"#ab63fa\",\"symbol\":\"circle\"},\"mode\":\"markers\",\"name\":\"siamese_cat\",\"showlegend\":true,\"x\":[7387.0,4727.0,4511.0,3842.0,1896.0,903.0],\"xaxis\":\"x\",\"y\":[2066.0,1404.0,1829.0,1396.0,456.0,319.0],\"yaxis\":\"y\",\"type\":\"scattergl\"},{\"hovertemplate\":\"p1=beagle<br>favorite_count=%{x}<br>retweet_count=%{y}<extra></extra>\",\"legendgroup\":\"beagle\",\"marker\":{\"color\":\"#FFA15A\",\"symbol\":\"circle\"},\"mode\":\"markers\",\"name\":\"beagle\",\"showlegend\":true,\"x\":[8092.0,12090.0,6956.0,4760.0,4863.0,3510.0,3313.0,2440.0,2823.0,988.0,9331.0,739.0,703.0,585.0,296.0,473.0],\"xaxis\":\"x\",\"y\":[2245.0,2856.0,2719.0,1260.0,1133.0,673.0,718.0,658.0,987.0,209.0,3054.0,239.0,176.0,210.0,77.0,190.0],\"yaxis\":\"y\",\"type\":\"scattergl\"},{\"hovertemplate\":\"p1=toy_terrier<br>favorite_count=%{x}<br>retweet_count=%{y}<extra></extra>\",\"legendgroup\":\"toy_terrier\",\"marker\":{\"color\":\"#19d3f3\",\"symbol\":\"circle\"},\"mode\":\"markers\",\"name\":\"toy_terrier\",\"showlegend\":true,\"x\":[7549.0,108.0],\"xaxis\":\"x\",\"y\":[1831.0,39.0],\"yaxis\":\"y\",\"type\":\"scattergl\"},{\"hovertemplate\":\"p1=tibetan_mastiff<br>favorite_count=%{x}<br>retweet_count=%{y}<extra></extra>\",\"legendgroup\":\"tibetan_mastiff\",\"marker\":{\"color\":\"#FF6692\",\"symbol\":\"circle\"},\"mode\":\"markers\",\"name\":\"tibetan_mastiff\",\"showlegend\":true,\"x\":[13004.0,3184.0,3815.0],\"xaxis\":\"x\",\"y\":[3604.0,845.0,1095.0],\"yaxis\":\"y\",\"type\":\"scattergl\"},{\"hovertemplate\":\"p1=norfolk_terrier<br>favorite_count=%{x}<br>retweet_count=%{y}<extra></extra>\",\"legendgroup\":\"norfolk_terrier\",\"marker\":{\"color\":\"#B6E880\",\"symbol\":\"circle\"},\"mode\":\"markers\",\"name\":\"norfolk_terrier\",\"showlegend\":true,\"x\":[7704.0,3358.0,3090.0,1183.0,960.0],\"xaxis\":\"x\",\"y\":[2345.0,834.0,880.0,225.0,371.0],\"yaxis\":\"y\",\"type\":\"scattergl\"},{\"hovertemplate\":\"p1=wire-haired_fox_terrier<br>favorite_count=%{x}<br>retweet_count=%{y}<extra></extra>\",\"legendgroup\":\"wire-haired_fox_terrier\",\"marker\":{\"color\":\"#FF97FF\",\"symbol\":\"circle\"},\"mode\":\"markers\",\"name\":\"wire-haired_fox_terrier\",\"showlegend\":true,\"x\":[9295.0,5108.0],\"xaxis\":\"x\",\"y\":[2724.0,2053.0],\"yaxis\":\"y\",\"type\":\"scattergl\"},{\"hovertemplate\":\"p1=jack-o'-lantern<br>favorite_count=%{x}<br>retweet_count=%{y}<extra></extra>\",\"legendgroup\":\"jack-o'-lantern\",\"marker\":{\"color\":\"#FECB52\",\"symbol\":\"circle\"},\"mode\":\"markers\",\"name\":\"jack-o'-lantern\",\"showlegend\":true,\"x\":[10728.0,1058.0,1258.0],\"xaxis\":\"x\",\"y\":[4011.0,328.0,562.0],\"yaxis\":\"y\",\"type\":\"scattergl\"},{\"hovertemplate\":\"p1=refrigerator<br>favorite_count=%{x}<br>retweet_count=%{y}<extra></extra>\",\"legendgroup\":\"refrigerator\",\"marker\":{\"color\":\"#636efa\",\"symbol\":\"circle\"},\"mode\":\"markers\",\"name\":\"refrigerator\",\"showlegend\":true,\"x\":[19601.0],\"xaxis\":\"x\",\"y\":[6662.0],\"yaxis\":\"y\",\"type\":\"scattergl\"},{\"hovertemplate\":\"p1=remote_control<br>favorite_count=%{x}<br>retweet_count=%{y}<extra></extra>\",\"legendgroup\":\"remote_control\",\"marker\":{\"color\":\"#EF553B\",\"symbol\":\"circle\"},\"mode\":\"markers\",\"name\":\"remote_control\",\"showlegend\":true,\"x\":[26108.0],\"xaxis\":\"x\",\"y\":[11730.0],\"yaxis\":\"y\",\"type\":\"scattergl\"},{\"hovertemplate\":\"p1=clumber<br>favorite_count=%{x}<br>retweet_count=%{y}<extra></extra>\",\"legendgroup\":\"clumber\",\"marker\":{\"color\":\"#00cc96\",\"symbol\":\"circle\"},\"mode\":\"markers\",\"name\":\"clumber\",\"showlegend\":true,\"x\":[6203.0],\"xaxis\":\"x\",\"y\":[1494.0],\"yaxis\":\"y\",\"type\":\"scattergl\"},{\"hovertemplate\":\"p1=walker_hound<br>favorite_count=%{x}<br>retweet_count=%{y}<extra></extra>\",\"legendgroup\":\"walker_hound\",\"marker\":{\"color\":\"#ab63fa\",\"symbol\":\"circle\"},\"mode\":\"markers\",\"name\":\"walker_hound\",\"showlegend\":true,\"x\":[6369.0,11752.0,6612.0,2884.0,274.0],\"xaxis\":\"x\",\"y\":[1616.0,5398.0,2647.0,886.0,132.0],\"yaxis\":\"y\",\"type\":\"scattergl\"},{\"hovertemplate\":\"p1=giant_panda<br>favorite_count=%{x}<br>retweet_count=%{y}<extra></extra>\",\"legendgroup\":\"giant_panda\",\"marker\":{\"color\":\"#FFA15A\",\"symbol\":\"circle\"},\"mode\":\"markers\",\"name\":\"giant_panda\",\"showlegend\":true,\"x\":[10175.0],\"xaxis\":\"x\",\"y\":[3590.0],\"yaxis\":\"y\",\"type\":\"scattergl\"},{\"hovertemplate\":\"p1=silky_terrier<br>favorite_count=%{x}<br>retweet_count=%{y}<extra></extra>\",\"legendgroup\":\"silky_terrier\",\"marker\":{\"color\":\"#19d3f3\",\"symbol\":\"circle\"},\"mode\":\"markers\",\"name\":\"silky_terrier\",\"showlegend\":true,\"x\":[6247.0],\"xaxis\":\"x\",\"y\":[1498.0],\"yaxis\":\"y\",\"type\":\"scattergl\"},{\"hovertemplate\":\"p1=tabby<br>favorite_count=%{x}<br>retweet_count=%{y}<extra></extra>\",\"legendgroup\":\"tabby\",\"marker\":{\"color\":\"#FF6692\",\"symbol\":\"circle\"},\"mode\":\"markers\",\"name\":\"tabby\",\"showlegend\":true,\"x\":[8061.0],\"xaxis\":\"x\",\"y\":[3581.0],\"yaxis\":\"y\",\"type\":\"scattergl\"},{\"hovertemplate\":\"p1=maillot<br>favorite_count=%{x}<br>retweet_count=%{y}<extra></extra>\",\"legendgroup\":\"maillot\",\"marker\":{\"color\":\"#B6E880\",\"symbol\":\"circle\"},\"mode\":\"markers\",\"name\":\"maillot\",\"showlegend\":true,\"x\":[5955.0],\"xaxis\":\"x\",\"y\":[1929.0],\"yaxis\":\"y\",\"type\":\"scattergl\"},{\"hovertemplate\":\"p1=basenji<br>favorite_count=%{x}<br>retweet_count=%{y}<extra></extra>\",\"legendgroup\":\"basenji\",\"marker\":{\"color\":\"#FF97FF\",\"symbol\":\"circle\"},\"mode\":\"markers\",\"name\":\"basenji\",\"showlegend\":true,\"x\":[3865.0,3431.0,2926.0,4104.0,1007.0,302.0,279.0],\"xaxis\":\"x\",\"y\":[1100.0,952.0,1036.0,1660.0,378.0,78.0,87.0],\"yaxis\":\"y\",\"type\":\"scattergl\"},{\"hovertemplate\":\"p1=keeshond<br>favorite_count=%{x}<br>retweet_count=%{y}<extra></extra>\",\"legendgroup\":\"keeshond\",\"marker\":{\"color\":\"#FECB52\",\"symbol\":\"circle\"},\"mode\":\"markers\",\"name\":\"keeshond\",\"showlegend\":true,\"x\":[5648.0,8096.0,2452.0,392.0],\"xaxis\":\"x\",\"y\":[1459.0,3045.0,906.0,89.0],\"yaxis\":\"y\",\"type\":\"scattergl\"},{\"hovertemplate\":\"p1=redbone<br>favorite_count=%{x}<br>retweet_count=%{y}<extra></extra>\",\"legendgroup\":\"redbone\",\"marker\":{\"color\":\"#636efa\",\"symbol\":\"circle\"},\"mode\":\"markers\",\"name\":\"redbone\",\"showlegend\":true,\"x\":[3954.0,7269.0,3764.0,968.0,493.0,112.0],\"xaxis\":\"x\",\"y\":[779.0,3038.0,988.0,245.0,227.0,39.0],\"yaxis\":\"y\",\"type\":\"scattergl\"},{\"hovertemplate\":\"p1=welsh_springer_spaniel<br>favorite_count=%{x}<br>retweet_count=%{y}<extra></extra>\",\"legendgroup\":\"welsh_springer_spaniel\",\"marker\":{\"color\":\"#EF553B\",\"symbol\":\"circle\"},\"mode\":\"markers\",\"name\":\"welsh_springer_spaniel\",\"showlegend\":true,\"x\":[3546.0,1188.0,2293.0],\"xaxis\":\"x\",\"y\":[461.0,349.0,423.0],\"yaxis\":\"y\",\"type\":\"scattergl\"},{\"hovertemplate\":\"p1=gordon_setter<br>favorite_count=%{x}<br>retweet_count=%{y}<extra></extra>\",\"legendgroup\":\"gordon_setter\",\"marker\":{\"color\":\"#00cc96\",\"symbol\":\"circle\"},\"mode\":\"markers\",\"name\":\"gordon_setter\",\"showlegend\":true,\"x\":[3891.0,11407.0,127.0],\"xaxis\":\"x\",\"y\":[1102.0,6330.0,51.0],\"yaxis\":\"y\",\"type\":\"scattergl\"},{\"hovertemplate\":\"p1=standard_poodle<br>favorite_count=%{x}<br>retweet_count=%{y}<extra></extra>\",\"legendgroup\":\"standard_poodle\",\"marker\":{\"color\":\"#ab63fa\",\"symbol\":\"circle\"},\"mode\":\"markers\",\"name\":\"standard_poodle\",\"showlegend\":true,\"x\":[4200.0,2536.0,4091.0,1309.0,227.0,372.0],\"xaxis\":\"x\",\"y\":[1002.0,721.0,1044.0,330.0,50.0,208.0],\"yaxis\":\"y\",\"type\":\"scattergl\"},{\"hovertemplate\":\"p1=cougar<br>favorite_count=%{x}<br>retweet_count=%{y}<extra></extra>\",\"legendgroup\":\"cougar\",\"marker\":{\"color\":\"#FFA15A\",\"symbol\":\"circle\"},\"mode\":\"markers\",\"name\":\"cougar\",\"showlegend\":true,\"x\":[5014.0],\"xaxis\":\"x\",\"y\":[1450.0],\"yaxis\":\"y\",\"type\":\"scattergl\"},{\"hovertemplate\":\"p1=sussex_spaniel<br>favorite_count=%{x}<br>retweet_count=%{y}<extra></extra>\",\"legendgroup\":\"sussex_spaniel\",\"marker\":{\"color\":\"#19d3f3\",\"symbol\":\"circle\"},\"mode\":\"markers\",\"name\":\"sussex_spaniel\",\"showlegend\":true,\"x\":[6300.0,581.0],\"xaxis\":\"x\",\"y\":[1801.0,176.0],\"yaxis\":\"y\",\"type\":\"scattergl\"},{\"hovertemplate\":\"p1=bookshop<br>favorite_count=%{x}<br>retweet_count=%{y}<extra></extra>\",\"legendgroup\":\"bookshop\",\"marker\":{\"color\":\"#FF6692\",\"symbol\":\"circle\"},\"mode\":\"markers\",\"name\":\"bookshop\",\"showlegend\":true,\"x\":[2536.0],\"xaxis\":\"x\",\"y\":[340.0],\"yaxis\":\"y\",\"type\":\"scattergl\"},{\"hovertemplate\":\"p1=skunk<br>favorite_count=%{x}<br>retweet_count=%{y}<extra></extra>\",\"legendgroup\":\"skunk\",\"marker\":{\"color\":\"#B6E880\",\"symbol\":\"circle\"},\"mode\":\"markers\",\"name\":\"skunk\",\"showlegend\":true,\"x\":[6435.0],\"xaxis\":\"x\",\"y\":[3033.0],\"yaxis\":\"y\",\"type\":\"scattergl\"},{\"hovertemplate\":\"p1=bluetick<br>favorite_count=%{x}<br>retweet_count=%{y}<extra></extra>\",\"legendgroup\":\"bluetick\",\"marker\":{\"color\":\"#FF97FF\",\"symbol\":\"circle\"},\"mode\":\"markers\",\"name\":\"bluetick\",\"showlegend\":true,\"x\":[4300.0,3525.0,2144.0],\"xaxis\":\"x\",\"y\":[1011.0,1022.0,673.0],\"yaxis\":\"y\",\"type\":\"scattergl\"},{\"hovertemplate\":\"p1=goose<br>favorite_count=%{x}<br>retweet_count=%{y}<extra></extra>\",\"legendgroup\":\"goose\",\"marker\":{\"color\":\"#FECB52\",\"symbol\":\"circle\"},\"mode\":\"markers\",\"name\":\"goose\",\"showlegend\":true,\"x\":[4086.0,3092.0],\"xaxis\":\"x\",\"y\":[1425.0,2191.0],\"yaxis\":\"y\",\"type\":\"scattergl\"},{\"hovertemplate\":\"p1=shih-tzu<br>favorite_count=%{x}<br>retweet_count=%{y}<extra></extra>\",\"legendgroup\":\"shih-tzu\",\"marker\":{\"color\":\"#636efa\",\"symbol\":\"circle\"},\"mode\":\"markers\",\"name\":\"shih-tzu\",\"showlegend\":true,\"x\":[4064.0,3026.0,2002.0,2348.0,2725.0,2623.0,3830.0,7279.0,1118.0,2586.0,1294.0,1125.0,959.0,654.0,524.0,206.0],\"xaxis\":\"x\",\"y\":[1215.0,439.0,482.0,620.0,1083.0,999.0,1862.0,2911.0,287.0,1052.0,432.0,359.0,313.0,163.0,166.0,46.0],\"yaxis\":\"y\",\"type\":\"scattergl\"},{\"hovertemplate\":\"p1=muzzle<br>favorite_count=%{x}<br>retweet_count=%{y}<extra></extra>\",\"legendgroup\":\"muzzle\",\"marker\":{\"color\":\"#EF553B\",\"symbol\":\"circle\"},\"mode\":\"markers\",\"name\":\"muzzle\",\"showlegend\":true,\"x\":[3019.0,5647.0,2195.0],\"xaxis\":\"x\",\"y\":[821.0,1815.0,678.0],\"yaxis\":\"y\",\"type\":\"scattergl\"},{\"hovertemplate\":\"p1=papillon<br>favorite_count=%{x}<br>retweet_count=%{y}<extra></extra>\",\"legendgroup\":\"papillon\",\"marker\":{\"color\":\"#00cc96\",\"symbol\":\"circle\"},\"mode\":\"markers\",\"name\":\"papillon\",\"showlegend\":true,\"x\":[5702.0,2525.0,2469.0,2409.0,1499.0,168.0],\"xaxis\":\"x\",\"y\":[1518.0,852.0,552.0,627.0,536.0,50.0],\"yaxis\":\"y\",\"type\":\"scattergl\"},{\"hovertemplate\":\"p1=sulphur-crested_cockatoo<br>favorite_count=%{x}<br>retweet_count=%{y}<extra></extra>\",\"legendgroup\":\"sulphur-crested_cockatoo\",\"marker\":{\"color\":\"#ab63fa\",\"symbol\":\"circle\"},\"mode\":\"markers\",\"name\":\"sulphur-crested_cockatoo\",\"showlegend\":true,\"x\":[2887.0],\"xaxis\":\"x\",\"y\":[732.0],\"yaxis\":\"y\",\"type\":\"scattergl\"},{\"hovertemplate\":\"p1=tibetan_terrier<br>favorite_count=%{x}<br>retweet_count=%{y}<extra></extra>\",\"legendgroup\":\"tibetan_terrier\",\"marker\":{\"color\":\"#FFA15A\",\"symbol\":\"circle\"},\"mode\":\"markers\",\"name\":\"tibetan_terrier\",\"showlegend\":true,\"x\":[2053.0,2681.0,1335.0,171.0],\"xaxis\":\"x\",\"y\":[611.0,873.0,237.0,53.0],\"yaxis\":\"y\",\"type\":\"scattergl\"},{\"hovertemplate\":\"p1=rapeseed<br>favorite_count=%{x}<br>retweet_count=%{y}<extra></extra>\",\"legendgroup\":\"rapeseed\",\"marker\":{\"color\":\"#19d3f3\",\"symbol\":\"circle\"},\"mode\":\"markers\",\"name\":\"rapeseed\",\"showlegend\":true,\"x\":[3288.0],\"xaxis\":\"x\",\"y\":[863.0],\"yaxis\":\"y\",\"type\":\"scattergl\"},{\"hovertemplate\":\"p1=cup<br>favorite_count=%{x}<br>retweet_count=%{y}<extra></extra>\",\"legendgroup\":\"cup\",\"marker\":{\"color\":\"#FF6692\",\"symbol\":\"circle\"},\"mode\":\"markers\",\"name\":\"cup\",\"showlegend\":true,\"x\":[3685.0],\"xaxis\":\"x\",\"y\":[1119.0],\"yaxis\":\"y\",\"type\":\"scattergl\"},{\"hovertemplate\":\"p1=maltese_dog<br>favorite_count=%{x}<br>retweet_count=%{y}<extra></extra>\",\"legendgroup\":\"maltese_dog\",\"marker\":{\"color\":\"#B6E880\",\"symbol\":\"circle\"},\"mode\":\"markers\",\"name\":\"maltese_dog\",\"showlegend\":true,\"x\":[2550.0,2900.0,2246.0,2029.0,3353.0,2421.0,2119.0,1929.0,5002.0,10427.0,3038.0,1567.0,1458.0,941.0,1797.0,848.0,221.0,123.0],\"xaxis\":\"x\",\"y\":[472.0,742.0,927.0,520.0,1306.0,1025.0,858.0,585.0,2284.0,5498.0,1352.0,590.0,420.0,265.0,772.0,316.0,79.0,57.0],\"yaxis\":\"y\",\"type\":\"scattergl\"},{\"hovertemplate\":\"p1=lhasa<br>favorite_count=%{x}<br>retweet_count=%{y}<extra></extra>\",\"legendgroup\":\"lhasa\",\"marker\":{\"color\":\"#FF97FF\",\"symbol\":\"circle\"},\"mode\":\"markers\",\"name\":\"lhasa\",\"showlegend\":true,\"x\":[3394.0,2901.0,1790.0,2965.0,134.0],\"xaxis\":\"x\",\"y\":[932.0,926.0,550.0,858.0,53.0],\"yaxis\":\"y\",\"type\":\"scattergl\"},{\"hovertemplate\":\"p1=koala<br>favorite_count=%{x}<br>retweet_count=%{y}<extra></extra>\",\"legendgroup\":\"koala\",\"marker\":{\"color\":\"#FECB52\",\"symbol\":\"circle\"},\"mode\":\"markers\",\"name\":\"koala\",\"showlegend\":true,\"x\":[2235.0,1861.0],\"xaxis\":\"x\",\"y\":[484.0,520.0],\"yaxis\":\"y\",\"type\":\"scattergl\"},{\"hovertemplate\":\"p1=polecat<br>favorite_count=%{x}<br>retweet_count=%{y}<extra></extra>\",\"legendgroup\":\"polecat\",\"marker\":{\"color\":\"#636efa\",\"symbol\":\"circle\"},\"mode\":\"markers\",\"name\":\"polecat\",\"showlegend\":true,\"x\":[5659.0],\"xaxis\":\"x\",\"y\":[1794.0],\"yaxis\":\"y\",\"type\":\"scattergl\"},{\"hovertemplate\":\"p1=saint_bernard<br>favorite_count=%{x}<br>retweet_count=%{y}<extra></extra>\",\"legendgroup\":\"saint_bernard\",\"marker\":{\"color\":\"#EF553B\",\"symbol\":\"circle\"},\"mode\":\"markers\",\"name\":\"saint_bernard\",\"showlegend\":true,\"x\":[2555.0,2509.0,2608.0,2970.0,412.0],\"xaxis\":\"x\",\"y\":[619.0,700.0,890.0,998.0,197.0],\"yaxis\":\"y\",\"type\":\"scattergl\"},{\"hovertemplate\":\"p1=handkerchief<br>favorite_count=%{x}<br>retweet_count=%{y}<extra></extra>\",\"legendgroup\":\"handkerchief\",\"marker\":{\"color\":\"#00cc96\",\"symbol\":\"circle\"},\"mode\":\"markers\",\"name\":\"handkerchief\",\"showlegend\":true,\"x\":[4174.0],\"xaxis\":\"x\",\"y\":[1516.0],\"yaxis\":\"y\",\"type\":\"scattergl\"},{\"hovertemplate\":\"p1=bonnet<br>favorite_count=%{x}<br>retweet_count=%{y}<extra></extra>\",\"legendgroup\":\"bonnet\",\"marker\":{\"color\":\"#ab63fa\",\"symbol\":\"circle\"},\"mode\":\"markers\",\"name\":\"bonnet\",\"showlegend\":true,\"x\":[2837.0],\"xaxis\":\"x\",\"y\":[748.0],\"yaxis\":\"y\",\"type\":\"scattergl\"},{\"hovertemplate\":\"p1=soft-coated_wheaten_terrier<br>favorite_count=%{x}<br>retweet_count=%{y}<extra></extra>\",\"legendgroup\":\"soft-coated_wheaten_terrier\",\"marker\":{\"color\":\"#FFA15A\",\"symbol\":\"circle\"},\"mode\":\"markers\",\"name\":\"soft-coated_wheaten_terrier\",\"showlegend\":true,\"x\":[3538.0,3035.0,2147.0,1623.0,3526.0,2929.0,1127.0,722.0,527.0,163.0],\"xaxis\":\"x\",\"y\":[1373.0,764.0,515.0,541.0,1241.0,938.0,440.0,198.0,389.0,73.0],\"yaxis\":\"y\",\"type\":\"scattergl\"},{\"hovertemplate\":\"p1=badger<br>favorite_count=%{x}<br>retweet_count=%{y}<extra></extra>\",\"legendgroup\":\"badger\",\"marker\":{\"color\":\"#19d3f3\",\"symbol\":\"circle\"},\"mode\":\"markers\",\"name\":\"badger\",\"showlegend\":true,\"x\":[2514.0,2587.0],\"xaxis\":\"x\",\"y\":[480.0,926.0],\"yaxis\":\"y\",\"type\":\"scattergl\"},{\"hovertemplate\":\"p1=brittany_spaniel<br>favorite_count=%{x}<br>retweet_count=%{y}<extra></extra>\",\"legendgroup\":\"brittany_spaniel\",\"marker\":{\"color\":\"#FF6692\",\"symbol\":\"circle\"},\"mode\":\"markers\",\"name\":\"brittany_spaniel\",\"showlegend\":true,\"x\":[2280.0,3444.0,4478.0,1333.0,1983.0,274.0],\"xaxis\":\"x\",\"y\":[545.0,937.0,1244.0,338.0,443.0,87.0],\"yaxis\":\"y\",\"type\":\"scattergl\"},{\"hovertemplate\":\"p1=timber_wolf<br>favorite_count=%{x}<br>retweet_count=%{y}<extra></extra>\",\"legendgroup\":\"timber_wolf\",\"marker\":{\"color\":\"#B6E880\",\"symbol\":\"circle\"},\"mode\":\"markers\",\"name\":\"timber_wolf\",\"showlegend\":true,\"x\":[4100.0],\"xaxis\":\"x\",\"y\":[1338.0],\"yaxis\":\"y\",\"type\":\"scattergl\"},{\"hovertemplate\":\"p1=leatherback_turtle<br>favorite_count=%{x}<br>retweet_count=%{y}<extra></extra>\",\"legendgroup\":\"leatherback_turtle\",\"marker\":{\"color\":\"#FF97FF\",\"symbol\":\"circle\"},\"mode\":\"markers\",\"name\":\"leatherback_turtle\",\"showlegend\":true,\"x\":[3063.0,184.0],\"xaxis\":\"x\",\"y\":[681.0,45.0],\"yaxis\":\"y\",\"type\":\"scattergl\"},{\"hovertemplate\":\"p1=cowboy_hat<br>favorite_count=%{x}<br>retweet_count=%{y}<extra></extra>\",\"legendgroup\":\"cowboy_hat\",\"marker\":{\"color\":\"#FECB52\",\"symbol\":\"circle\"},\"mode\":\"markers\",\"name\":\"cowboy_hat\",\"showlegend\":true,\"x\":[2693.0,1272.0],\"xaxis\":\"x\",\"y\":[816.0,410.0],\"yaxis\":\"y\",\"type\":\"scattergl\"},{\"hovertemplate\":\"p1=hotdog<br>favorite_count=%{x}<br>retweet_count=%{y}<extra></extra>\",\"legendgroup\":\"hotdog\",\"marker\":{\"color\":\"#636efa\",\"symbol\":\"circle\"},\"mode\":\"markers\",\"name\":\"hotdog\",\"showlegend\":true,\"x\":[4353.0],\"xaxis\":\"x\",\"y\":[1486.0],\"yaxis\":\"y\",\"type\":\"scattergl\"},{\"hovertemplate\":\"p1=norwich_terrier<br>favorite_count=%{x}<br>retweet_count=%{y}<extra></extra>\",\"legendgroup\":\"norwich_terrier\",\"marker\":{\"color\":\"#EF553B\",\"symbol\":\"circle\"},\"mode\":\"markers\",\"name\":\"norwich_terrier\",\"showlegend\":true,\"x\":[2489.0,2615.0,687.0],\"xaxis\":\"x\",\"y\":[899.0,735.0,320.0],\"yaxis\":\"y\",\"type\":\"scattergl\"},{\"hovertemplate\":\"p1=ram<br>favorite_count=%{x}<br>retweet_count=%{y}<extra></extra>\",\"legendgroup\":\"ram\",\"marker\":{\"color\":\"#00cc96\",\"symbol\":\"circle\"},\"mode\":\"markers\",\"name\":\"ram\",\"showlegend\":true,\"x\":[2077.0],\"xaxis\":\"x\",\"y\":[637.0],\"yaxis\":\"y\",\"type\":\"scattergl\"},{\"hovertemplate\":\"p1=space_heater<br>favorite_count=%{x}<br>retweet_count=%{y}<extra></extra>\",\"legendgroup\":\"space_heater\",\"marker\":{\"color\":\"#ab63fa\",\"symbol\":\"circle\"},\"mode\":\"markers\",\"name\":\"space_heater\",\"showlegend\":true,\"x\":[2357.0],\"xaxis\":\"x\",\"y\":[990.0],\"yaxis\":\"y\",\"type\":\"scattergl\"},{\"hovertemplate\":\"p1=egyptian_cat<br>favorite_count=%{x}<br>retweet_count=%{y}<extra></extra>\",\"legendgroup\":\"egyptian_cat\",\"marker\":{\"color\":\"#FFA15A\",\"symbol\":\"circle\"},\"mode\":\"markers\",\"name\":\"egyptian_cat\",\"showlegend\":true,\"x\":[2385.0],\"xaxis\":\"x\",\"y\":[717.0],\"yaxis\":\"y\",\"type\":\"scattergl\"},{\"hovertemplate\":\"p1=wool<br>favorite_count=%{x}<br>retweet_count=%{y}<extra></extra>\",\"legendgroup\":\"wool\",\"marker\":{\"color\":\"#19d3f3\",\"symbol\":\"circle\"},\"mode\":\"markers\",\"name\":\"wool\",\"showlegend\":true,\"x\":[1832.0],\"xaxis\":\"x\",\"y\":[495.0],\"yaxis\":\"y\",\"type\":\"scattergl\"},{\"hovertemplate\":\"p1=hamster<br>favorite_count=%{x}<br>retweet_count=%{y}<extra></extra>\",\"legendgroup\":\"hamster\",\"marker\":{\"color\":\"#FF6692\",\"symbol\":\"circle\"},\"mode\":\"markers\",\"name\":\"hamster\",\"showlegend\":true,\"x\":[3793.0,2232.0,840.0],\"xaxis\":\"x\",\"y\":[1630.0,1106.0,319.0],\"yaxis\":\"y\",\"type\":\"scattergl\"},{\"hovertemplate\":\"p1=grey_fox<br>favorite_count=%{x}<br>retweet_count=%{y}<extra></extra>\",\"legendgroup\":\"grey_fox\",\"marker\":{\"color\":\"#B6E880\",\"symbol\":\"circle\"},\"mode\":\"markers\",\"name\":\"grey_fox\",\"showlegend\":true,\"x\":[2336.0],\"xaxis\":\"x\",\"y\":[618.0],\"yaxis\":\"y\",\"type\":\"scattergl\"},{\"hovertemplate\":\"p1=weasel<br>favorite_count=%{x}<br>retweet_count=%{y}<extra></extra>\",\"legendgroup\":\"weasel\",\"marker\":{\"color\":\"#FF97FF\",\"symbol\":\"circle\"},\"mode\":\"markers\",\"name\":\"weasel\",\"showlegend\":true,\"x\":[1374.0],\"xaxis\":\"x\",\"y\":[329.0],\"yaxis\":\"y\",\"type\":\"scattergl\"},{\"hovertemplate\":\"p1=groenendael<br>favorite_count=%{x}<br>retweet_count=%{y}<extra></extra>\",\"legendgroup\":\"groenendael\",\"marker\":{\"color\":\"#FECB52\",\"symbol\":\"circle\"},\"mode\":\"markers\",\"name\":\"groenendael\",\"showlegend\":true,\"x\":[1630.0],\"xaxis\":\"x\",\"y\":[331.0],\"yaxis\":\"y\",\"type\":\"scattergl\"},{\"hovertemplate\":\"p1=scottish_deerhound<br>favorite_count=%{x}<br>retweet_count=%{y}<extra></extra>\",\"legendgroup\":\"scottish_deerhound\",\"marker\":{\"color\":\"#636efa\",\"symbol\":\"circle\"},\"mode\":\"markers\",\"name\":\"scottish_deerhound\",\"showlegend\":true,\"x\":[2363.0,2712.0,1151.0],\"xaxis\":\"x\",\"y\":[379.0,1037.0,409.0],\"yaxis\":\"y\",\"type\":\"scattergl\"},{\"hovertemplate\":\"p1=ice_lolly<br>favorite_count=%{x}<br>retweet_count=%{y}<extra></extra>\",\"legendgroup\":\"ice_lolly\",\"marker\":{\"color\":\"#EF553B\",\"symbol\":\"circle\"},\"mode\":\"markers\",\"name\":\"ice_lolly\",\"showlegend\":true,\"x\":[1708.0],\"xaxis\":\"x\",\"y\":[406.0],\"yaxis\":\"y\",\"type\":\"scattergl\"},{\"hovertemplate\":\"p1=bighorn<br>favorite_count=%{x}<br>retweet_count=%{y}<extra></extra>\",\"legendgroup\":\"bighorn\",\"marker\":{\"color\":\"#00cc96\",\"symbol\":\"circle\"},\"mode\":\"markers\",\"name\":\"bighorn\",\"showlegend\":true,\"x\":[1202.0],\"xaxis\":\"x\",\"y\":[250.0],\"yaxis\":\"y\",\"type\":\"scattergl\"},{\"hovertemplate\":\"p1=dogsled<br>favorite_count=%{x}<br>retweet_count=%{y}<extra></extra>\",\"legendgroup\":\"dogsled\",\"marker\":{\"color\":\"#ab63fa\",\"symbol\":\"circle\"},\"mode\":\"markers\",\"name\":\"dogsled\",\"showlegend\":true,\"x\":[10803.0,2246.0],\"xaxis\":\"x\",\"y\":[5036.0,822.0],\"yaxis\":\"y\",\"type\":\"scattergl\"},{\"hovertemplate\":\"p1=scotch_terrier<br>favorite_count=%{x}<br>retweet_count=%{y}<extra></extra>\",\"legendgroup\":\"scotch_terrier\",\"marker\":{\"color\":\"#FFA15A\",\"symbol\":\"circle\"},\"mode\":\"markers\",\"name\":\"scotch_terrier\",\"showlegend\":true,\"x\":[3025.0],\"xaxis\":\"x\",\"y\":[1005.0],\"yaxis\":\"y\",\"type\":\"scattergl\"},{\"hovertemplate\":\"p1=ibizan_hound<br>favorite_count=%{x}<br>retweet_count=%{y}<extra></extra>\",\"legendgroup\":\"ibizan_hound\",\"marker\":{\"color\":\"#19d3f3\",\"symbol\":\"circle\"},\"mode\":\"markers\",\"name\":\"ibizan_hound\",\"showlegend\":true,\"x\":[1931.0,667.0,208.0],\"xaxis\":\"x\",\"y\":[711.0,243.0,70.0],\"yaxis\":\"y\",\"type\":\"scattergl\"},{\"hovertemplate\":\"p1=dishwasher<br>favorite_count=%{x}<br>retweet_count=%{y}<extra></extra>\",\"legendgroup\":\"dishwasher\",\"marker\":{\"color\":\"#FF6692\",\"symbol\":\"circle\"},\"mode\":\"markers\",\"name\":\"dishwasher\",\"showlegend\":true,\"x\":[2144.0],\"xaxis\":\"x\",\"y\":[589.0],\"yaxis\":\"y\",\"type\":\"scattergl\"},{\"hovertemplate\":\"p1=hog<br>favorite_count=%{x}<br>retweet_count=%{y}<extra></extra>\",\"legendgroup\":\"hog\",\"marker\":{\"color\":\"#B6E880\",\"symbol\":\"circle\"},\"mode\":\"markers\",\"name\":\"hog\",\"showlegend\":true,\"x\":[2418.0,391.0],\"xaxis\":\"x\",\"y\":[858.0,191.0],\"yaxis\":\"y\",\"type\":\"scattergl\"},{\"hovertemplate\":\"p1=carousel<br>favorite_count=%{x}<br>retweet_count=%{y}<extra></extra>\",\"legendgroup\":\"carousel\",\"marker\":{\"color\":\"#FF97FF\",\"symbol\":\"circle\"},\"mode\":\"markers\",\"name\":\"carousel\",\"showlegend\":true,\"x\":[4230.0],\"xaxis\":\"x\",\"y\":[1825.0],\"yaxis\":\"y\",\"type\":\"scattergl\"},{\"hovertemplate\":\"p1=earthstar<br>favorite_count=%{x}<br>retweet_count=%{y}<extra></extra>\",\"legendgroup\":\"earthstar\",\"marker\":{\"color\":\"#FECB52\",\"symbol\":\"circle\"},\"mode\":\"markers\",\"name\":\"earthstar\",\"showlegend\":true,\"x\":[2390.0],\"xaxis\":\"x\",\"y\":[776.0],\"yaxis\":\"y\",\"type\":\"scattergl\"},{\"hovertemplate\":\"p1=entlebucher<br>favorite_count=%{x}<br>retweet_count=%{y}<extra></extra>\",\"legendgroup\":\"entlebucher\",\"marker\":{\"color\":\"#636efa\",\"symbol\":\"circle\"},\"mode\":\"markers\",\"name\":\"entlebucher\",\"showlegend\":true,\"x\":[2256.0],\"xaxis\":\"x\",\"y\":[557.0],\"yaxis\":\"y\",\"type\":\"scattergl\"},{\"hovertemplate\":\"p1=llama<br>favorite_count=%{x}<br>retweet_count=%{y}<extra></extra>\",\"legendgroup\":\"llama\",\"marker\":{\"color\":\"#EF553B\",\"symbol\":\"circle\"},\"mode\":\"markers\",\"name\":\"llama\",\"showlegend\":true,\"x\":[2615.0,3178.0,278.0],\"xaxis\":\"x\",\"y\":[1105.0,1389.0,160.0],\"yaxis\":\"y\",\"type\":\"scattergl\"},{\"hovertemplate\":\"p1=wallaby<br>favorite_count=%{x}<br>retweet_count=%{y}<extra></extra>\",\"legendgroup\":\"wallaby\",\"marker\":{\"color\":\"#00cc96\",\"symbol\":\"circle\"},\"mode\":\"markers\",\"name\":\"wallaby\",\"showlegend\":true,\"x\":[1995.0],\"xaxis\":\"x\",\"y\":[750.0],\"yaxis\":\"y\",\"type\":\"scattergl\"},{\"hovertemplate\":\"p1=panpipe<br>favorite_count=%{x}<br>retweet_count=%{y}<extra></extra>\",\"legendgroup\":\"panpipe\",\"marker\":{\"color\":\"#ab63fa\",\"symbol\":\"circle\"},\"mode\":\"markers\",\"name\":\"panpipe\",\"showlegend\":true,\"x\":[2058.0],\"xaxis\":\"x\",\"y\":[588.0],\"yaxis\":\"y\",\"type\":\"scattergl\"},{\"hovertemplate\":\"p1=water_buffalo<br>favorite_count=%{x}<br>retweet_count=%{y}<extra></extra>\",\"legendgroup\":\"water_buffalo\",\"marker\":{\"color\":\"#FFA15A\",\"symbol\":\"circle\"},\"mode\":\"markers\",\"name\":\"water_buffalo\",\"showlegend\":true,\"x\":[3341.0],\"xaxis\":\"x\",\"y\":[1349.0],\"yaxis\":\"y\",\"type\":\"scattergl\"},{\"hovertemplate\":\"p1=japanese_spaniel<br>favorite_count=%{x}<br>retweet_count=%{y}<extra></extra>\",\"legendgroup\":\"japanese_spaniel\",\"marker\":{\"color\":\"#19d3f3\",\"symbol\":\"circle\"},\"mode\":\"markers\",\"name\":\"japanese_spaniel\",\"showlegend\":true,\"x\":[1115.0],\"xaxis\":\"x\",\"y\":[355.0],\"yaxis\":\"y\",\"type\":\"scattergl\"},{\"hovertemplate\":\"p1=rain_barrel<br>favorite_count=%{x}<br>retweet_count=%{y}<extra></extra>\",\"legendgroup\":\"rain_barrel\",\"marker\":{\"color\":\"#FF6692\",\"symbol\":\"circle\"},\"mode\":\"markers\",\"name\":\"rain_barrel\",\"showlegend\":true,\"x\":[1657.0],\"xaxis\":\"x\",\"y\":[602.0],\"yaxis\":\"y\",\"type\":\"scattergl\"},{\"hovertemplate\":\"p1=book_jacket<br>favorite_count=%{x}<br>retweet_count=%{y}<extra></extra>\",\"legendgroup\":\"book_jacket\",\"marker\":{\"color\":\"#B6E880\",\"symbol\":\"circle\"},\"mode\":\"markers\",\"name\":\"book_jacket\",\"showlegend\":true,\"x\":[988.0],\"xaxis\":\"x\",\"y\":[177.0],\"yaxis\":\"y\",\"type\":\"scattergl\"},{\"hovertemplate\":\"p1=loafer<br>favorite_count=%{x}<br>retweet_count=%{y}<extra></extra>\",\"legendgroup\":\"loafer\",\"marker\":{\"color\":\"#FF97FF\",\"symbol\":\"circle\"},\"mode\":\"markers\",\"name\":\"loafer\",\"showlegend\":true,\"x\":[1723.0],\"xaxis\":\"x\",\"y\":[388.0],\"yaxis\":\"y\",\"type\":\"scattergl\"},{\"hovertemplate\":\"p1=feather_boa<br>favorite_count=%{x}<br>retweet_count=%{y}<extra></extra>\",\"legendgroup\":\"feather_boa\",\"marker\":{\"color\":\"#FECB52\",\"symbol\":\"circle\"},\"mode\":\"markers\",\"name\":\"feather_boa\",\"showlegend\":true,\"x\":[2337.0],\"xaxis\":\"x\",\"y\":[993.0],\"yaxis\":\"y\",\"type\":\"scattergl\"},{\"hovertemplate\":\"p1=bubble<br>favorite_count=%{x}<br>retweet_count=%{y}<extra></extra>\",\"legendgroup\":\"bubble\",\"marker\":{\"color\":\"#636efa\",\"symbol\":\"circle\"},\"mode\":\"markers\",\"name\":\"bubble\",\"showlegend\":true,\"x\":[71039.0],\"xaxis\":\"x\",\"y\":[27829.0],\"yaxis\":\"y\",\"type\":\"scattergl\"},{\"hovertemplate\":\"p1=wood_rabbit<br>favorite_count=%{x}<br>retweet_count=%{y}<extra></extra>\",\"legendgroup\":\"wood_rabbit\",\"marker\":{\"color\":\"#EF553B\",\"symbol\":\"circle\"},\"mode\":\"markers\",\"name\":\"wood_rabbit\",\"showlegend\":true,\"x\":[3783.0],\"xaxis\":\"x\",\"y\":[1242.0],\"yaxis\":\"y\",\"type\":\"scattergl\"},{\"hovertemplate\":\"p1=standard_schnauzer<br>favorite_count=%{x}<br>retweet_count=%{y}<extra></extra>\",\"legendgroup\":\"standard_schnauzer\",\"marker\":{\"color\":\"#00cc96\",\"symbol\":\"circle\"},\"mode\":\"markers\",\"name\":\"standard_schnauzer\",\"showlegend\":true,\"x\":[1694.0],\"xaxis\":\"x\",\"y\":[722.0],\"yaxis\":\"y\",\"type\":\"scattergl\"},{\"hovertemplate\":\"p1=street_sign<br>favorite_count=%{x}<br>retweet_count=%{y}<extra></extra>\",\"legendgroup\":\"street_sign\",\"marker\":{\"color\":\"#ab63fa\",\"symbol\":\"circle\"},\"mode\":\"markers\",\"name\":\"street_sign\",\"showlegend\":true,\"x\":[2426.0],\"xaxis\":\"x\",\"y\":[1048.0],\"yaxis\":\"y\",\"type\":\"scattergl\"},{\"hovertemplate\":\"p1=soccer_ball<br>favorite_count=%{x}<br>retweet_count=%{y}<extra></extra>\",\"legendgroup\":\"soccer_ball\",\"marker\":{\"color\":\"#FFA15A\",\"symbol\":\"circle\"},\"mode\":\"markers\",\"name\":\"soccer_ball\",\"showlegend\":true,\"x\":[933.0],\"xaxis\":\"x\",\"y\":[243.0],\"yaxis\":\"y\",\"type\":\"scattergl\"},{\"hovertemplate\":\"p1=brabancon_griffon<br>favorite_count=%{x}<br>retweet_count=%{y}<extra></extra>\",\"legendgroup\":\"brabancon_griffon\",\"marker\":{\"color\":\"#19d3f3\",\"symbol\":\"circle\"},\"mode\":\"markers\",\"name\":\"brabancon_griffon\",\"showlegend\":true,\"x\":[958.0,844.0,436.0],\"xaxis\":\"x\",\"y\":[315.0,221.0,148.0],\"yaxis\":\"y\",\"type\":\"scattergl\"},{\"hovertemplate\":\"p1=brown_bear<br>favorite_count=%{x}<br>retweet_count=%{y}<extra></extra>\",\"legendgroup\":\"brown_bear\",\"marker\":{\"color\":\"#FF6692\",\"symbol\":\"circle\"},\"mode\":\"markers\",\"name\":\"brown_bear\",\"showlegend\":true,\"x\":[1071.0,735.0],\"xaxis\":\"x\",\"y\":[402.0,238.0],\"yaxis\":\"y\",\"type\":\"scattergl\"},{\"hovertemplate\":\"p1=toilet_seat<br>favorite_count=%{x}<br>retweet_count=%{y}<extra></extra>\",\"legendgroup\":\"toilet_seat\",\"marker\":{\"color\":\"#B6E880\",\"symbol\":\"circle\"},\"mode\":\"markers\",\"name\":\"toilet_seat\",\"showlegend\":true,\"x\":[2852.0],\"xaxis\":\"x\",\"y\":[1438.0],\"yaxis\":\"y\",\"type\":\"scattergl\"},{\"hovertemplate\":\"p1=wombat<br>favorite_count=%{x}<br>retweet_count=%{y}<extra></extra>\",\"legendgroup\":\"wombat\",\"marker\":{\"color\":\"#FF97FF\",\"symbol\":\"circle\"},\"mode\":\"markers\",\"name\":\"wombat\",\"showlegend\":true,\"x\":[994.0],\"xaxis\":\"x\",\"y\":[311.0],\"yaxis\":\"y\",\"type\":\"scattergl\"},{\"hovertemplate\":\"p1=arctic_fox<br>favorite_count=%{x}<br>retweet_count=%{y}<extra></extra>\",\"legendgroup\":\"arctic_fox\",\"marker\":{\"color\":\"#FECB52\",\"symbol\":\"circle\"},\"mode\":\"markers\",\"name\":\"arctic_fox\",\"showlegend\":true,\"x\":[1069.0,489.0,397.0],\"xaxis\":\"x\",\"y\":[316.0,174.0,128.0],\"yaxis\":\"y\",\"type\":\"scattergl\"},{\"hovertemplate\":\"p1=ski_mask<br>favorite_count=%{x}<br>retweet_count=%{y}<extra></extra>\",\"legendgroup\":\"ski_mask\",\"marker\":{\"color\":\"#636efa\",\"symbol\":\"circle\"},\"mode\":\"markers\",\"name\":\"ski_mask\",\"showlegend\":true,\"x\":[1141.0],\"xaxis\":\"x\",\"y\":[493.0],\"yaxis\":\"y\",\"type\":\"scattergl\"},{\"hovertemplate\":\"p1=carton<br>favorite_count=%{x}<br>retweet_count=%{y}<extra></extra>\",\"legendgroup\":\"carton\",\"marker\":{\"color\":\"#EF553B\",\"symbol\":\"circle\"},\"mode\":\"markers\",\"name\":\"carton\",\"showlegend\":true,\"x\":[1996.0],\"xaxis\":\"x\",\"y\":[1010.0],\"yaxis\":\"y\",\"type\":\"scattergl\"},{\"hovertemplate\":\"p1=stone_wall<br>favorite_count=%{x}<br>retweet_count=%{y}<extra></extra>\",\"legendgroup\":\"stone_wall\",\"marker\":{\"color\":\"#00cc96\",\"symbol\":\"circle\"},\"mode\":\"markers\",\"name\":\"stone_wall\",\"showlegend\":true,\"x\":[1291.0],\"xaxis\":\"x\",\"y\":[658.0],\"yaxis\":\"y\",\"type\":\"scattergl\"},{\"hovertemplate\":\"p1=african_hunting_dog<br>favorite_count=%{x}<br>retweet_count=%{y}<extra></extra>\",\"legendgroup\":\"african_hunting_dog\",\"marker\":{\"color\":\"#ab63fa\",\"symbol\":\"circle\"},\"mode\":\"markers\",\"name\":\"african_hunting_dog\",\"showlegend\":true,\"x\":[1462.0],\"xaxis\":\"x\",\"y\":[970.0],\"yaxis\":\"y\",\"type\":\"scattergl\"},{\"hovertemplate\":\"p1=guinea_pig<br>favorite_count=%{x}<br>retweet_count=%{y}<extra></extra>\",\"legendgroup\":\"guinea_pig\",\"marker\":{\"color\":\"#FFA15A\",\"symbol\":\"circle\"},\"mode\":\"markers\",\"name\":\"guinea_pig\",\"showlegend\":true,\"x\":[1024.0],\"xaxis\":\"x\",\"y\":[572.0],\"yaxis\":\"y\",\"type\":\"scattergl\"},{\"hovertemplate\":\"p1=sorrel<br>favorite_count=%{x}<br>retweet_count=%{y}<extra></extra>\",\"legendgroup\":\"sorrel\",\"marker\":{\"color\":\"#19d3f3\",\"symbol\":\"circle\"},\"mode\":\"markers\",\"name\":\"sorrel\",\"showlegend\":true,\"x\":[941.0],\"xaxis\":\"x\",\"y\":[438.0],\"yaxis\":\"y\",\"type\":\"scattergl\"},{\"hovertemplate\":\"p1=window_shade<br>favorite_count=%{x}<br>retweet_count=%{y}<extra></extra>\",\"legendgroup\":\"window_shade\",\"marker\":{\"color\":\"#FF6692\",\"symbol\":\"circle\"},\"mode\":\"markers\",\"name\":\"window_shade\",\"showlegend\":true,\"x\":[296.0],\"xaxis\":\"x\",\"y\":[100.0],\"yaxis\":\"y\",\"type\":\"scattergl\"},{\"hovertemplate\":\"p1=piggy_bank<br>favorite_count=%{x}<br>retweet_count=%{y}<extra></extra>\",\"legendgroup\":\"piggy_bank\",\"marker\":{\"color\":\"#B6E880\",\"symbol\":\"circle\"},\"mode\":\"markers\",\"name\":\"piggy_bank\",\"showlegend\":true,\"x\":[288.0],\"xaxis\":\"x\",\"y\":[70.0],\"yaxis\":\"y\",\"type\":\"scattergl\"},{\"hovertemplate\":\"p1=seashore<br>favorite_count=%{x}<br>retweet_count=%{y}<extra></extra>\",\"legendgroup\":\"seashore\",\"marker\":{\"color\":\"#FF97FF\",\"symbol\":\"circle\"},\"mode\":\"markers\",\"name\":\"seashore\",\"showlegend\":true,\"x\":[440.0],\"xaxis\":\"x\",\"y\":[182.0],\"yaxis\":\"y\",\"type\":\"scattergl\"},{\"hovertemplate\":\"p1=shower_curtain<br>favorite_count=%{x}<br>retweet_count=%{y}<extra></extra>\",\"legendgroup\":\"shower_curtain\",\"marker\":{\"color\":\"#FECB52\",\"symbol\":\"circle\"},\"mode\":\"markers\",\"name\":\"shower_curtain\",\"showlegend\":true,\"x\":[620.0],\"xaxis\":\"x\",\"y\":[210.0],\"yaxis\":\"y\",\"type\":\"scattergl\"},{\"hovertemplate\":\"p1=vacuum<br>favorite_count=%{x}<br>retweet_count=%{y}<extra></extra>\",\"legendgroup\":\"vacuum\",\"marker\":{\"color\":\"#636efa\",\"symbol\":\"circle\"},\"mode\":\"markers\",\"name\":\"vacuum\",\"showlegend\":true,\"x\":[944.0],\"xaxis\":\"x\",\"y\":[467.0],\"yaxis\":\"y\",\"type\":\"scattergl\"},{\"hovertemplate\":\"p1=ox<br>favorite_count=%{x}<br>retweet_count=%{y}<extra></extra>\",\"legendgroup\":\"ox\",\"marker\":{\"color\":\"#EF553B\",\"symbol\":\"circle\"},\"mode\":\"markers\",\"name\":\"ox\",\"showlegend\":true,\"x\":[330.0,168.0],\"xaxis\":\"x\",\"y\":[111.0,79.0],\"yaxis\":\"y\",\"type\":\"scattergl\"},{\"hovertemplate\":\"p1=king_penguin<br>favorite_count=%{x}<br>retweet_count=%{y}<extra></extra>\",\"legendgroup\":\"king_penguin\",\"marker\":{\"color\":\"#00cc96\",\"symbol\":\"circle\"},\"mode\":\"markers\",\"name\":\"king_penguin\",\"showlegend\":true,\"x\":[557.0],\"xaxis\":\"x\",\"y\":[255.0],\"yaxis\":\"y\",\"type\":\"scattergl\"},{\"hovertemplate\":\"p1=canoe<br>favorite_count=%{x}<br>retweet_count=%{y}<extra></extra>\",\"legendgroup\":\"canoe\",\"marker\":{\"color\":\"#ab63fa\",\"symbol\":\"circle\"},\"mode\":\"markers\",\"name\":\"canoe\",\"showlegend\":true,\"x\":[1153.0],\"xaxis\":\"x\",\"y\":[518.0],\"yaxis\":\"y\",\"type\":\"scattergl\"},{\"hovertemplate\":\"p1=toyshop<br>favorite_count=%{x}<br>retweet_count=%{y}<extra></extra>\",\"legendgroup\":\"toyshop\",\"marker\":{\"color\":\"#FFA15A\",\"symbol\":\"circle\"},\"mode\":\"markers\",\"name\":\"toyshop\",\"showlegend\":true,\"x\":[930.0],\"xaxis\":\"x\",\"y\":[418.0],\"yaxis\":\"y\",\"type\":\"scattergl\"},{\"hovertemplate\":\"p1=hare<br>favorite_count=%{x}<br>retweet_count=%{y}<extra></extra>\",\"legendgroup\":\"hare\",\"marker\":{\"color\":\"#19d3f3\",\"symbol\":\"circle\"},\"mode\":\"markers\",\"name\":\"hare\",\"showlegend\":true,\"x\":[1508.0],\"xaxis\":\"x\",\"y\":[970.0],\"yaxis\":\"y\",\"type\":\"scattergl\"},{\"hovertemplate\":\"p1=hay<br>favorite_count=%{x}<br>retweet_count=%{y}<extra></extra>\",\"legendgroup\":\"hay\",\"marker\":{\"color\":\"#FF6692\",\"symbol\":\"circle\"},\"mode\":\"markers\",\"name\":\"hay\",\"showlegend\":true,\"x\":[214.0],\"xaxis\":\"x\",\"y\":[79.0],\"yaxis\":\"y\",\"type\":\"scattergl\"}],                        {\"template\":{\"data\":{\"bar\":[{\"error_x\":{\"color\":\"#2a3f5f\"},\"error_y\":{\"color\":\"#2a3f5f\"},\"marker\":{\"line\":{\"color\":\"#E5ECF6\",\"width\":0.5},\"pattern\":{\"fillmode\":\"overlay\",\"size\":10,\"solidity\":0.2}},\"type\":\"bar\"}],\"barpolar\":[{\"marker\":{\"line\":{\"color\":\"#E5ECF6\",\"width\":0.5},\"pattern\":{\"fillmode\":\"overlay\",\"size\":10,\"solidity\":0.2}},\"type\":\"barpolar\"}],\"carpet\":[{\"aaxis\":{\"endlinecolor\":\"#2a3f5f\",\"gridcolor\":\"white\",\"linecolor\":\"white\",\"minorgridcolor\":\"white\",\"startlinecolor\":\"#2a3f5f\"},\"baxis\":{\"endlinecolor\":\"#2a3f5f\",\"gridcolor\":\"white\",\"linecolor\":\"white\",\"minorgridcolor\":\"white\",\"startlinecolor\":\"#2a3f5f\"},\"type\":\"carpet\"}],\"choropleth\":[{\"colorbar\":{\"outlinewidth\":0,\"ticks\":\"\"},\"type\":\"choropleth\"}],\"contour\":[{\"colorbar\":{\"outlinewidth\":0,\"ticks\":\"\"},\"colorscale\":[[0.0,\"#0d0887\"],[0.1111111111111111,\"#46039f\"],[0.2222222222222222,\"#7201a8\"],[0.3333333333333333,\"#9c179e\"],[0.4444444444444444,\"#bd3786\"],[0.5555555555555556,\"#d8576b\"],[0.6666666666666666,\"#ed7953\"],[0.7777777777777778,\"#fb9f3a\"],[0.8888888888888888,\"#fdca26\"],[1.0,\"#f0f921\"]],\"type\":\"contour\"}],\"contourcarpet\":[{\"colorbar\":{\"outlinewidth\":0,\"ticks\":\"\"},\"type\":\"contourcarpet\"}],\"heatmap\":[{\"colorbar\":{\"outlinewidth\":0,\"ticks\":\"\"},\"colorscale\":[[0.0,\"#0d0887\"],[0.1111111111111111,\"#46039f\"],[0.2222222222222222,\"#7201a8\"],[0.3333333333333333,\"#9c179e\"],[0.4444444444444444,\"#bd3786\"],[0.5555555555555556,\"#d8576b\"],[0.6666666666666666,\"#ed7953\"],[0.7777777777777778,\"#fb9f3a\"],[0.8888888888888888,\"#fdca26\"],[1.0,\"#f0f921\"]],\"type\":\"heatmap\"}],\"heatmapgl\":[{\"colorbar\":{\"outlinewidth\":0,\"ticks\":\"\"},\"colorscale\":[[0.0,\"#0d0887\"],[0.1111111111111111,\"#46039f\"],[0.2222222222222222,\"#7201a8\"],[0.3333333333333333,\"#9c179e\"],[0.4444444444444444,\"#bd3786\"],[0.5555555555555556,\"#d8576b\"],[0.6666666666666666,\"#ed7953\"],[0.7777777777777778,\"#fb9f3a\"],[0.8888888888888888,\"#fdca26\"],[1.0,\"#f0f921\"]],\"type\":\"heatmapgl\"}],\"histogram\":[{\"marker\":{\"pattern\":{\"fillmode\":\"overlay\",\"size\":10,\"solidity\":0.2}},\"type\":\"histogram\"}],\"histogram2d\":[{\"colorbar\":{\"outlinewidth\":0,\"ticks\":\"\"},\"colorscale\":[[0.0,\"#0d0887\"],[0.1111111111111111,\"#46039f\"],[0.2222222222222222,\"#7201a8\"],[0.3333333333333333,\"#9c179e\"],[0.4444444444444444,\"#bd3786\"],[0.5555555555555556,\"#d8576b\"],[0.6666666666666666,\"#ed7953\"],[0.7777777777777778,\"#fb9f3a\"],[0.8888888888888888,\"#fdca26\"],[1.0,\"#f0f921\"]],\"type\":\"histogram2d\"}],\"histogram2dcontour\":[{\"colorbar\":{\"outlinewidth\":0,\"ticks\":\"\"},\"colorscale\":[[0.0,\"#0d0887\"],[0.1111111111111111,\"#46039f\"],[0.2222222222222222,\"#7201a8\"],[0.3333333333333333,\"#9c179e\"],[0.4444444444444444,\"#bd3786\"],[0.5555555555555556,\"#d8576b\"],[0.6666666666666666,\"#ed7953\"],[0.7777777777777778,\"#fb9f3a\"],[0.8888888888888888,\"#fdca26\"],[1.0,\"#f0f921\"]],\"type\":\"histogram2dcontour\"}],\"mesh3d\":[{\"colorbar\":{\"outlinewidth\":0,\"ticks\":\"\"},\"type\":\"mesh3d\"}],\"parcoords\":[{\"line\":{\"colorbar\":{\"outlinewidth\":0,\"ticks\":\"\"}},\"type\":\"parcoords\"}],\"pie\":[{\"automargin\":true,\"type\":\"pie\"}],\"scatter\":[{\"marker\":{\"colorbar\":{\"outlinewidth\":0,\"ticks\":\"\"}},\"type\":\"scatter\"}],\"scatter3d\":[{\"line\":{\"colorbar\":{\"outlinewidth\":0,\"ticks\":\"\"}},\"marker\":{\"colorbar\":{\"outlinewidth\":0,\"ticks\":\"\"}},\"type\":\"scatter3d\"}],\"scattercarpet\":[{\"marker\":{\"colorbar\":{\"outlinewidth\":0,\"ticks\":\"\"}},\"type\":\"scattercarpet\"}],\"scattergeo\":[{\"marker\":{\"colorbar\":{\"outlinewidth\":0,\"ticks\":\"\"}},\"type\":\"scattergeo\"}],\"scattergl\":[{\"marker\":{\"colorbar\":{\"outlinewidth\":0,\"ticks\":\"\"}},\"type\":\"scattergl\"}],\"scattermapbox\":[{\"marker\":{\"colorbar\":{\"outlinewidth\":0,\"ticks\":\"\"}},\"type\":\"scattermapbox\"}],\"scatterpolar\":[{\"marker\":{\"colorbar\":{\"outlinewidth\":0,\"ticks\":\"\"}},\"type\":\"scatterpolar\"}],\"scatterpolargl\":[{\"marker\":{\"colorbar\":{\"outlinewidth\":0,\"ticks\":\"\"}},\"type\":\"scatterpolargl\"}],\"scatterternary\":[{\"marker\":{\"colorbar\":{\"outlinewidth\":0,\"ticks\":\"\"}},\"type\":\"scatterternary\"}],\"surface\":[{\"colorbar\":{\"outlinewidth\":0,\"ticks\":\"\"},\"colorscale\":[[0.0,\"#0d0887\"],[0.1111111111111111,\"#46039f\"],[0.2222222222222222,\"#7201a8\"],[0.3333333333333333,\"#9c179e\"],[0.4444444444444444,\"#bd3786\"],[0.5555555555555556,\"#d8576b\"],[0.6666666666666666,\"#ed7953\"],[0.7777777777777778,\"#fb9f3a\"],[0.8888888888888888,\"#fdca26\"],[1.0,\"#f0f921\"]],\"type\":\"surface\"}],\"table\":[{\"cells\":{\"fill\":{\"color\":\"#EBF0F8\"},\"line\":{\"color\":\"white\"}},\"header\":{\"fill\":{\"color\":\"#C8D4E3\"},\"line\":{\"color\":\"white\"}},\"type\":\"table\"}]},\"layout\":{\"annotationdefaults\":{\"arrowcolor\":\"#2a3f5f\",\"arrowhead\":0,\"arrowwidth\":1},\"autotypenumbers\":\"strict\",\"coloraxis\":{\"colorbar\":{\"outlinewidth\":0,\"ticks\":\"\"}},\"colorscale\":{\"diverging\":[[0,\"#8e0152\"],[0.1,\"#c51b7d\"],[0.2,\"#de77ae\"],[0.3,\"#f1b6da\"],[0.4,\"#fde0ef\"],[0.5,\"#f7f7f7\"],[0.6,\"#e6f5d0\"],[0.7,\"#b8e186\"],[0.8,\"#7fbc41\"],[0.9,\"#4d9221\"],[1,\"#276419\"]],\"sequential\":[[0.0,\"#0d0887\"],[0.1111111111111111,\"#46039f\"],[0.2222222222222222,\"#7201a8\"],[0.3333333333333333,\"#9c179e\"],[0.4444444444444444,\"#bd3786\"],[0.5555555555555556,\"#d8576b\"],[0.6666666666666666,\"#ed7953\"],[0.7777777777777778,\"#fb9f3a\"],[0.8888888888888888,\"#fdca26\"],[1.0,\"#f0f921\"]],\"sequentialminus\":[[0.0,\"#0d0887\"],[0.1111111111111111,\"#46039f\"],[0.2222222222222222,\"#7201a8\"],[0.3333333333333333,\"#9c179e\"],[0.4444444444444444,\"#bd3786\"],[0.5555555555555556,\"#d8576b\"],[0.6666666666666666,\"#ed7953\"],[0.7777777777777778,\"#fb9f3a\"],[0.8888888888888888,\"#fdca26\"],[1.0,\"#f0f921\"]]},\"colorway\":[\"#636efa\",\"#EF553B\",\"#00cc96\",\"#ab63fa\",\"#FFA15A\",\"#19d3f3\",\"#FF6692\",\"#B6E880\",\"#FF97FF\",\"#FECB52\"],\"font\":{\"color\":\"#2a3f5f\"},\"geo\":{\"bgcolor\":\"white\",\"lakecolor\":\"white\",\"landcolor\":\"#E5ECF6\",\"showlakes\":true,\"showland\":true,\"subunitcolor\":\"white\"},\"hoverlabel\":{\"align\":\"left\"},\"hovermode\":\"closest\",\"mapbox\":{\"style\":\"light\"},\"paper_bgcolor\":\"white\",\"plot_bgcolor\":\"#E5ECF6\",\"polar\":{\"angularaxis\":{\"gridcolor\":\"white\",\"linecolor\":\"white\",\"ticks\":\"\"},\"bgcolor\":\"#E5ECF6\",\"radialaxis\":{\"gridcolor\":\"white\",\"linecolor\":\"white\",\"ticks\":\"\"}},\"scene\":{\"xaxis\":{\"backgroundcolor\":\"#E5ECF6\",\"gridcolor\":\"white\",\"gridwidth\":2,\"linecolor\":\"white\",\"showbackground\":true,\"ticks\":\"\",\"zerolinecolor\":\"white\"},\"yaxis\":{\"backgroundcolor\":\"#E5ECF6\",\"gridcolor\":\"white\",\"gridwidth\":2,\"linecolor\":\"white\",\"showbackground\":true,\"ticks\":\"\",\"zerolinecolor\":\"white\"},\"zaxis\":{\"backgroundcolor\":\"#E5ECF6\",\"gridcolor\":\"white\",\"gridwidth\":2,\"linecolor\":\"white\",\"showbackground\":true,\"ticks\":\"\",\"zerolinecolor\":\"white\"}},\"shapedefaults\":{\"line\":{\"color\":\"#2a3f5f\"}},\"ternary\":{\"aaxis\":{\"gridcolor\":\"white\",\"linecolor\":\"white\",\"ticks\":\"\"},\"baxis\":{\"gridcolor\":\"white\",\"linecolor\":\"white\",\"ticks\":\"\"},\"bgcolor\":\"#E5ECF6\",\"caxis\":{\"gridcolor\":\"white\",\"linecolor\":\"white\",\"ticks\":\"\"}},\"title\":{\"x\":0.05},\"xaxis\":{\"automargin\":true,\"gridcolor\":\"white\",\"linecolor\":\"white\",\"ticks\":\"\",\"title\":{\"standoff\":15},\"zerolinecolor\":\"white\",\"zerolinewidth\":2},\"yaxis\":{\"automargin\":true,\"gridcolor\":\"white\",\"linecolor\":\"white\",\"ticks\":\"\",\"title\":{\"standoff\":15},\"zerolinecolor\":\"white\",\"zerolinewidth\":2}}},\"xaxis\":{\"anchor\":\"y\",\"domain\":[0.0,1.0],\"title\":{\"text\":\"favorite_count\"}},\"yaxis\":{\"anchor\":\"x\",\"domain\":[0.0,1.0],\"title\":{\"text\":\"retweet_count\"}},\"legend\":{\"title\":{\"text\":\"p1\"},\"tracegroupgap\":0},\"title\":{\"text\":\"The Relationship of Retweet counts to Favorite counts\"}},                        {\"responsive\": true}                    ).then(function(){\n",
       "                            \n",
       "var gd = document.getElementById('ca9d3f7a-1464-4c08-bbc7-5d16b1f66ad4');\n",
       "var x = new MutationObserver(function (mutations, observer) {{\n",
       "        var display = window.getComputedStyle(gd).display;\n",
       "        if (!display || display === 'none') {{\n",
       "            console.log([gd, 'removed!']);\n",
       "            Plotly.purge(gd);\n",
       "            observer.disconnect();\n",
       "        }}\n",
       "}});\n",
       "\n",
       "// Listen for the removal of the full notebook cells\n",
       "var notebookContainer = gd.closest('#notebook-container');\n",
       "if (notebookContainer) {{\n",
       "    x.observe(notebookContainer, {childList: true});\n",
       "}}\n",
       "\n",
       "// Listen for the clearing of the current output cell\n",
       "var outputEl = gd.closest('.output');\n",
       "if (outputEl) {{\n",
       "    x.observe(outputEl, {childList: true});\n",
       "}}\n",
       "\n",
       "                        })                };                });            </script>        </div>"
      ]
     },
     "metadata": {},
     "output_type": "display_data"
    }
   ],
   "source": [
    "# Plotting a scatter plot for retweet_count against favorite_count\n",
    "fig = px.scatter(twitter_master, y='retweet_count', x='favorite_count', color=\"p1\",\n",
    "                 title='The Relationship of Retweet counts to Favorite counts')\n",
    "fig.show()"
   ]
  },
  {
   "cell_type": "markdown",
   "metadata": {},
   "source": [
    "#### Retweet counts and Favorite counts appears to have a positive correlation. That means the number of retweets increase as the number of favorites increases"
   ]
  }
 ],
 "metadata": {
  "extensions": {
   "jupyter_dashboards": {
    "activeView": "report_default",
    "version": 1,
    "views": {
     "grid_default": {
      "cellMargin": 10,
      "defaultCellHeight": 20,
      "maxColumns": 12,
      "name": "grid",
      "type": "grid"
     },
     "report_default": {
      "name": "report",
      "type": "report"
     }
    }
   }
  },
  "kernelspec": {
   "display_name": "Python 3",
   "language": "python",
   "name": "python3"
  },
  "language_info": {
   "codemirror_mode": {
    "name": "ipython",
    "version": 3
   },
   "file_extension": ".py",
   "mimetype": "text/x-python",
   "name": "python",
   "nbconvert_exporter": "python",
   "pygments_lexer": "ipython3",
   "version": "3.6.13"
  }
 },
 "nbformat": 4,
 "nbformat_minor": 2
}
